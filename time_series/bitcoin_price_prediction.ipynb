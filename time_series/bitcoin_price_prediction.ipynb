{
  "nbformat": 4,
  "nbformat_minor": 0,
  "metadata": {
    "colab": {
      "name": "bitcoin_price_prediction.ipynb",
      "provenance": [],
      "authorship_tag": "ABX9TyOugIsXmHhmcrQIUbXORN7l",
      "include_colab_link": true
    },
    "kernelspec": {
      "name": "python3",
      "display_name": "Python 3"
    },
    "language_info": {
      "name": "python"
    },
    "accelerator": "GPU"
  },
  "cells": [
    {
      "cell_type": "markdown",
      "metadata": {
        "id": "view-in-github",
        "colab_type": "text"
      },
      "source": [
        "<a href=\"https://colab.research.google.com/github/Dimisz/tensorflow_projects/blob/main/time_series/bitcoin_price_prediction.ipynb\" target=\"_parent\"><img src=\"https://colab.research.google.com/assets/colab-badge.svg\" alt=\"Open In Colab\"/></a>"
      ]
    },
    {
      "cell_type": "markdown",
      "metadata": {
        "id": "THwoZgzThzfb"
      },
      "source": [
        "## 1. Data\n",
        "\n",
        "Data downloaded from https://www.coindesk.com/price/bitcoin/ on September 14, 2021\n",
        "\n",
        "For the CSV file used in the project, [see the GitHub repo](https://raw.githubusercontent.com/Dimisz/tensorflow_projects/main/time_series/BTC_USD_2014-11-04_2021-09-14-CoinDesk.csv)."
      ]
    },
    {
      "cell_type": "code",
      "metadata": {
        "colab": {
          "base_uri": "https://localhost:8080/"
        },
        "id": "bV-FBnB7iHQp",
        "outputId": "ccae27da-9c9b-42d0-a321-60e862b95cfc"
      },
      "source": [
        "!wget https://raw.githubusercontent.com/Dimisz/tensorflow_projects/main/time_series/BTC_USD_2014-11-04_2021-09-14-CoinDesk.csv"
      ],
      "execution_count": 1,
      "outputs": [
        {
          "output_type": "stream",
          "name": "stdout",
          "text": [
            "--2021-10-14 23:59:47--  https://raw.githubusercontent.com/Dimisz/tensorflow_projects/main/time_series/BTC_USD_2014-11-04_2021-09-14-CoinDesk.csv\n",
            "Resolving raw.githubusercontent.com (raw.githubusercontent.com)... 185.199.108.133, 185.199.109.133, 185.199.110.133, ...\n",
            "Connecting to raw.githubusercontent.com (raw.githubusercontent.com)|185.199.108.133|:443... connected.\n",
            "HTTP request sent, awaiting response... 200 OK\n",
            "Length: 167143 (163K) [text/plain]\n",
            "Saving to: ‘BTC_USD_2014-11-04_2021-09-14-CoinDesk.csv’\n",
            "\n",
            "\r          BTC_USD_2   0%[                    ]       0  --.-KB/s               \rBTC_USD_2014-11-04_ 100%[===================>] 163.23K  --.-KB/s    in 0.008s  \n",
            "\n",
            "2021-10-14 23:59:48 (19.3 MB/s) - ‘BTC_USD_2014-11-04_2021-09-14-CoinDesk.csv’ saved [167143/167143]\n",
            "\n"
          ]
        }
      ]
    },
    {
      "cell_type": "markdown",
      "metadata": {
        "id": "duzYV9XJjCWa"
      },
      "source": [
        "### Read the data to a DataFrame using pandas"
      ]
    },
    {
      "cell_type": "code",
      "metadata": {
        "id": "3ZeuYQ0kjI1C"
      },
      "source": [
        "import pandas as pd\n",
        "\n",
        "#Read the data, parse the date column and assign it to be the index\n",
        "df = pd.read_csv(\"/content/BTC_USD_2014-11-04_2021-09-14-CoinDesk.csv\",\n",
        "                 parse_dates=['Date'],\n",
        "                 index_col=['Date'])"
      ],
      "execution_count": 2,
      "outputs": []
    },
    {
      "cell_type": "code",
      "metadata": {
        "colab": {
          "base_uri": "https://localhost:8080/"
        },
        "id": "giYk2djfjgRH",
        "outputId": "416a73a6-6567-465e-d3e0-70abd97c4f75"
      },
      "source": [
        "df.head(), len(df)"
      ],
      "execution_count": 3,
      "outputs": [
        {
          "output_type": "execute_result",
          "data": {
            "text/plain": [
              "(           Currency  Closing Price (USD)  ...  24h High (USD)  24h Low (USD)\n",
              " Date                                      ...                               \n",
              " 2014-11-04      BTC            324.71833  ...       332.75133      323.06333\n",
              " 2014-11-05      BTC            332.45666  ...       335.81166      320.93333\n",
              " 2014-11-06      BTC            336.58500  ...       341.49000      328.56166\n",
              " 2014-11-07      BTC            346.77500  ...       351.57500      336.02833\n",
              " 2014-11-08      BTC            344.81166  ...       351.29500      339.86000\n",
              " \n",
              " [5 rows x 5 columns], 2507)"
            ]
          },
          "metadata": {},
          "execution_count": 3
        }
      ]
    },
    {
      "cell_type": "code",
      "metadata": {
        "colab": {
          "base_uri": "https://localhost:8080/"
        },
        "id": "kdpvQI3Ejvao",
        "outputId": "dfea067e-e342-4352-aa6f-802931d99e7c"
      },
      "source": [
        "# Check if there are any missing values\n",
        "df.isna().sum()"
      ],
      "execution_count": 4,
      "outputs": [
        {
          "output_type": "execute_result",
          "data": {
            "text/plain": [
              "Currency               0\n",
              "Closing Price (USD)    0\n",
              "24h Open (USD)         0\n",
              "24h High (USD)         0\n",
              "24h Low (USD)          0\n",
              "dtype: int64"
            ]
          },
          "metadata": {},
          "execution_count": 4
        }
      ]
    },
    {
      "cell_type": "markdown",
      "metadata": {
        "id": "_-LNghkLp-_7"
      },
      "source": [
        "### Create a new dataframe we'll be working with.\n",
        "* We'll just keep the closing price (and data as an index column).\n",
        "* `Closing Price (USD)` column willl be renamed to `Price`"
      ]
    },
    {
      "cell_type": "code",
      "metadata": {
        "id": "qm60xL6pj6bW",
        "colab": {
          "base_uri": "https://localhost:8080/",
          "height": 235
        },
        "outputId": "f5ea33ea-f847-4f8e-ebb6-3bec67931ed4"
      },
      "source": [
        "btc_df = pd.DataFrame(df['Closing Price (USD)']).rename(columns={\"Closing Price (USD)\": \"Price\"})\n",
        "btc_df.head()"
      ],
      "execution_count": 5,
      "outputs": [
        {
          "output_type": "execute_result",
          "data": {
            "text/html": [
              "<div>\n",
              "<style scoped>\n",
              "    .dataframe tbody tr th:only-of-type {\n",
              "        vertical-align: middle;\n",
              "    }\n",
              "\n",
              "    .dataframe tbody tr th {\n",
              "        vertical-align: top;\n",
              "    }\n",
              "\n",
              "    .dataframe thead th {\n",
              "        text-align: right;\n",
              "    }\n",
              "</style>\n",
              "<table border=\"1\" class=\"dataframe\">\n",
              "  <thead>\n",
              "    <tr style=\"text-align: right;\">\n",
              "      <th></th>\n",
              "      <th>Price</th>\n",
              "    </tr>\n",
              "    <tr>\n",
              "      <th>Date</th>\n",
              "      <th></th>\n",
              "    </tr>\n",
              "  </thead>\n",
              "  <tbody>\n",
              "    <tr>\n",
              "      <th>2014-11-04</th>\n",
              "      <td>324.71833</td>\n",
              "    </tr>\n",
              "    <tr>\n",
              "      <th>2014-11-05</th>\n",
              "      <td>332.45666</td>\n",
              "    </tr>\n",
              "    <tr>\n",
              "      <th>2014-11-06</th>\n",
              "      <td>336.58500</td>\n",
              "    </tr>\n",
              "    <tr>\n",
              "      <th>2014-11-07</th>\n",
              "      <td>346.77500</td>\n",
              "    </tr>\n",
              "    <tr>\n",
              "      <th>2014-11-08</th>\n",
              "      <td>344.81166</td>\n",
              "    </tr>\n",
              "  </tbody>\n",
              "</table>\n",
              "</div>"
            ],
            "text/plain": [
              "                Price\n",
              "Date                 \n",
              "2014-11-04  324.71833\n",
              "2014-11-05  332.45666\n",
              "2014-11-06  336.58500\n",
              "2014-11-07  346.77500\n",
              "2014-11-08  344.81166"
            ]
          },
          "metadata": {},
          "execution_count": 5
        }
      ]
    },
    {
      "cell_type": "markdown",
      "metadata": {
        "id": "iJ5tu_Ycpp3G"
      },
      "source": [
        "### Visualize the bitcoin prices."
      ]
    },
    {
      "cell_type": "code",
      "metadata": {
        "id": "nkHQi9H9qpvI",
        "colab": {
          "base_uri": "https://localhost:8080/",
          "height": 406
        },
        "outputId": "56b84e13-5e57-4350-db2d-0c4875175b99"
      },
      "source": [
        "import matplotlib.pyplot as plt\n",
        "btc_df.plot(figsize=(9,6))\n",
        "plt.ylabel(\"Bitcoin Price\")\n",
        "plt.title(\"Price of Bitcoin from Nov 04, 2014 to Sept 14, 2021\", fontsize=16);"
      ],
      "execution_count": 6,
      "outputs": [
        {
          "output_type": "display_data",
          "data": {
            "image/png": "[encoded data removed]",
            "text/plain": [
              "<Figure size 648x432 with 1 Axes>"
            ]
          },
          "metadata": {
            "needs_background": "light"
          }
        }
      ]
    },
    {
      "cell_type": "markdown",
      "metadata": {
        "id": "kjoXmWX3qu8g"
      },
      "source": [
        "### Read in the data with python's CSV module"
      ]
    },
    {
      "cell_type": "code",
      "metadata": {
        "id": "K_6vbrgXr6X6"
      },
      "source": [
        "import csv\n",
        "from datetime import datetime\n",
        "\n",
        "timesteps = []\n",
        "btc_price= []\n",
        "\n",
        "with open(\"/content/BTC_USD_2014-11-04_2021-09-14-CoinDesk.csv\", \"r\") as f:\n",
        "  csv_reader = csv.reader(f, delimiter=\",\")\n",
        "  next(csv_reader) #skip the first line (column titles)\n",
        "  for line in csv_reader:\n",
        "    #get the dates in date format (convert from string to date)\n",
        "    timesteps.append(datetime.strptime(line[1], \"%Y-%m-%d\")) \n",
        "    #get the closing price as float\n",
        "    btc_price.append(float(line[2]))\n"
      ],
      "execution_count": 7,
      "outputs": []
    },
    {
      "cell_type": "code",
      "metadata": {
        "id": "eNYugd56Cnha",
        "colab": {
          "base_uri": "https://localhost:8080/"
        },
        "outputId": "57e279be-81ba-4537-eca6-710056473e69"
      },
      "source": [
        "timesteps[:10], btc_price[:10]"
      ],
      "execution_count": 8,
      "outputs": [
        {
          "output_type": "execute_result",
          "data": {
            "text/plain": [
              "([datetime.datetime(2014, 11, 4, 0, 0),\n",
              "  datetime.datetime(2014, 11, 5, 0, 0),\n",
              "  datetime.datetime(2014, 11, 6, 0, 0),\n",
              "  datetime.datetime(2014, 11, 7, 0, 0),\n",
              "  datetime.datetime(2014, 11, 8, 0, 0),\n",
              "  datetime.datetime(2014, 11, 9, 0, 0),\n",
              "  datetime.datetime(2014, 11, 10, 0, 0),\n",
              "  datetime.datetime(2014, 11, 11, 0, 0),\n",
              "  datetime.datetime(2014, 11, 12, 0, 0),\n",
              "  datetime.datetime(2014, 11, 13, 0, 0)],\n",
              " [324.71833,\n",
              "  332.45666,\n",
              "  336.585,\n",
              "  346.775,\n",
              "  344.81166,\n",
              "  343.065,\n",
              "  358.50166,\n",
              "  368.07666,\n",
              "  376.99666,\n",
              "  442.10666])"
            ]
          },
          "metadata": {},
          "execution_count": 8
        }
      ]
    },
    {
      "cell_type": "markdown",
      "metadata": {
        "id": "2NLbFPG5Cpjq"
      },
      "source": [
        "### Plot from CSV"
      ]
    },
    {
      "cell_type": "code",
      "metadata": {
        "id": "YyNBVqQ0Nx-D",
        "colab": {
          "base_uri": "https://localhost:8080/",
          "height": 460
        },
        "outputId": "fc884caa-72b1-4bfb-e9e8-3787907f59ed"
      },
      "source": [
        "import matplotlib.pyplot as plt\n",
        "import numpy as np\n",
        "plt.figure(figsize=(10,7))\n",
        "plt.plot(timesteps, btc_price)\n",
        "plt.ylabel(\"BTC Price\")\n",
        "plt.title(\"Price of Bitcoin from Nov 4, 2014 to Sept 14, 2021\", fontsize=16)\n",
        "plt.xlabel(\"Date\");"
      ],
      "execution_count": 9,
      "outputs": [
        {
          "output_type": "display_data",
          "data": {
            "image/png": "[encoded data removed]",
            "text/plain": [
              "<Figure size 720x504 with 1 Axes>"
            ]
          },
          "metadata": {
            "needs_background": "light"
          }
        }
      ]
    },
    {
      "cell_type": "markdown",
      "metadata": {
        "id": "tQGZpCx1ir1M"
      },
      "source": [
        "## Format Data, Part 1"
      ]
    },
    {
      "cell_type": "markdown",
      "metadata": {
        "id": "UtBHNgZEjPa3"
      },
      "source": [
        "### Create, Train and Test sets of our Time Series Data"
      ]
    },
    {
      "cell_type": "markdown",
      "metadata": {
        "id": "2Rr260DJqys6"
      },
      "source": [
        "#### Creating train and test sets with time series data (the wrong way)"
      ]
    },
    {
      "cell_type": "code",
      "metadata": {
        "id": "hD9g0hkIrL-w",
        "colab": {
          "base_uri": "https://localhost:8080/",
          "height": 0
        },
        "outputId": "f8922345-f0c6-4d64-9734-afb268ba3b8b"
      },
      "source": [
        "btc_df.head()"
      ],
      "execution_count": 10,
      "outputs": [
        {
          "output_type": "execute_result",
          "data": {
            "text/html": [
              "<div>\n",
              "<style scoped>\n",
              "    .dataframe tbody tr th:only-of-type {\n",
              "        vertical-align: middle;\n",
              "    }\n",
              "\n",
              "    .dataframe tbody tr th {\n",
              "        vertical-align: top;\n",
              "    }\n",
              "\n",
              "    .dataframe thead th {\n",
              "        text-align: right;\n",
              "    }\n",
              "</style>\n",
              "<table border=\"1\" class=\"dataframe\">\n",
              "  <thead>\n",
              "    <tr style=\"text-align: right;\">\n",
              "      <th></th>\n",
              "      <th>Price</th>\n",
              "    </tr>\n",
              "    <tr>\n",
              "      <th>Date</th>\n",
              "      <th></th>\n",
              "    </tr>\n",
              "  </thead>\n",
              "  <tbody>\n",
              "    <tr>\n",
              "      <th>2014-11-04</th>\n",
              "      <td>324.71833</td>\n",
              "    </tr>\n",
              "    <tr>\n",
              "      <th>2014-11-05</th>\n",
              "      <td>332.45666</td>\n",
              "    </tr>\n",
              "    <tr>\n",
              "      <th>2014-11-06</th>\n",
              "      <td>336.58500</td>\n",
              "    </tr>\n",
              "    <tr>\n",
              "      <th>2014-11-07</th>\n",
              "      <td>346.77500</td>\n",
              "    </tr>\n",
              "    <tr>\n",
              "      <th>2014-11-08</th>\n",
              "      <td>344.81166</td>\n",
              "    </tr>\n",
              "  </tbody>\n",
              "</table>\n",
              "</div>"
            ],
            "text/plain": [
              "                Price\n",
              "Date                 \n",
              "2014-11-04  324.71833\n",
              "2014-11-05  332.45666\n",
              "2014-11-06  336.58500\n",
              "2014-11-07  346.77500\n",
              "2014-11-08  344.81166"
            ]
          },
          "metadata": {},
          "execution_count": 10
        }
      ]
    },
    {
      "cell_type": "code",
      "metadata": {
        "id": "FOdT9oNcq9u-"
      },
      "source": [
        "# Get bitcoin date array\n",
        "timesteps = btc_df.index.to_numpy()\n",
        "prices = btc_df['Price'].to_numpy()"
      ],
      "execution_count": 11,
      "outputs": []
    },
    {
      "cell_type": "code",
      "metadata": {
        "id": "7uwgQZrXrj4H",
        "colab": {
          "base_uri": "https://localhost:8080/"
        },
        "outputId": "2c79789a-8e9d-4829-f0f5-137f9a0459fd"
      },
      "source": [
        "timesteps[:10], prices[:10]"
      ],
      "execution_count": 12,
      "outputs": [
        {
          "output_type": "execute_result",
          "data": {
            "text/plain": [
              "(array(['2014-11-04T00:00:00.000000000', '2014-11-05T00:00:00.000000000',\n",
              "        '2014-11-06T00:00:00.000000000', '2014-11-07T00:00:00.000000000',\n",
              "        '2014-11-08T00:00:00.000000000', '2014-11-09T00:00:00.000000000',\n",
              "        '2014-11-10T00:00:00.000000000', '2014-11-11T00:00:00.000000000',\n",
              "        '2014-11-12T00:00:00.000000000', '2014-11-13T00:00:00.000000000'],\n",
              "       dtype='datetime64[ns]'),\n",
              " array([324.71833, 332.45666, 336.585  , 346.775  , 344.81166, 343.065  ,\n",
              "        358.50166, 368.07666, 376.99666, 442.10666]))"
            ]
          },
          "metadata": {},
          "execution_count": 12
        }
      ]
    },
    {
      "cell_type": "code",
      "metadata": {
        "id": "3ug8kXf6rnxR",
        "colab": {
          "base_uri": "https://localhost:8080/"
        },
        "outputId": "ec4fca24-ab83-4fd3-bed2-f3bd9c47fefc"
      },
      "source": [
        "# The wrong way to make train/test sets for time series\n",
        "from sklearn.model_selection import train_test_split\n",
        "\n",
        "X_train, X_test, y_train, y_test = train_test_split(timesteps,\n",
        "                                                    prices,\n",
        "                                                    test_size=0.2,\n",
        "                                                    random_state=42)\n",
        "X_train.shape, X_test.shape, y_train.shape, y_test.shape"
      ],
      "execution_count": 13,
      "outputs": [
        {
          "output_type": "execute_result",
          "data": {
            "text/plain": [
              "((2005,), (502,), (2005,), (502,))"
            ]
          },
          "metadata": {},
          "execution_count": 13
        }
      ]
    },
    {
      "cell_type": "code",
      "metadata": {
        "id": "O-XLjIJIsVw0",
        "colab": {
          "base_uri": "https://localhost:8080/",
          "height": 0
        },
        "outputId": "af4c2bca-56c4-447e-a905-00a60256ffba"
      },
      "source": [
        "# Let's plot wrong train and test splits\n",
        "plt.figure(figsize=(10,7))\n",
        "plt.scatter(X_train, y_train, s=5, label=\"Train data\")\n",
        "plt.scatter(X_test, y_test, s=5, label=\"Test data\")\n",
        "plt.xlabel(\"Date\")\n",
        "plt.ylabel(\"BTC Price\")\n",
        "plt.legend(fontsize=14)\n",
        "plt.show();"
      ],
      "execution_count": 14,
      "outputs": [
        {
          "output_type": "display_data",
          "data": {
            "image/png": "[encoded data removed]",
            "text/plain": [
              "<Figure size 720x504 with 1 Axes>"
            ]
          },
          "metadata": {
            "needs_background": "light"
          }
        }
      ]
    },
    {
      "cell_type": "markdown",
      "metadata": {
        "id": "MQagcRd3tA__"
      },
      "source": [
        "#### Creating train and test sets with time series data (the right way)"
      ]
    },
    {
      "cell_type": "code",
      "metadata": {
        "id": "VX10dI-Ftg2d"
      },
      "source": [
        "split_size = int(0.8 * len(prices)) # 80% training / 20% test"
      ],
      "execution_count": 15,
      "outputs": []
    },
    {
      "cell_type": "code",
      "metadata": {
        "id": "pEynUiO0uX8U",
        "colab": {
          "base_uri": "https://localhost:8080/"
        },
        "outputId": "6b326339-0f77-4469-c4ab-ca38444e842b"
      },
      "source": [
        "# Create train dataset\n",
        "X_train, y_train = timesteps[:split_size], prices[:split_size]\n",
        "\n",
        "#Create test dataset\n",
        "X_test, y_test = timesteps[split_size:], prices[split_size:]\n",
        "\n",
        "len(X_train), len(X_test), len(y_train), len(y_test)\n"
      ],
      "execution_count": 16,
      "outputs": [
        {
          "output_type": "execute_result",
          "data": {
            "text/plain": [
              "(2005, 502, 2005, 502)"
            ]
          },
          "metadata": {},
          "execution_count": 16
        }
      ]
    },
    {
      "cell_type": "code",
      "metadata": {
        "id": "Rjh8CXo8u4bH",
        "colab": {
          "base_uri": "https://localhost:8080/",
          "height": 0
        },
        "outputId": "144e8dd5-82e6-43c9-bfc0-f8ee32d02eed"
      },
      "source": [
        "# Let's plot the train and test splits\n",
        "plt.figure(figsize=(10,7))\n",
        "plt.scatter(X_train, y_train, s=5, label=\"Train data\")\n",
        "plt.scatter(X_test, y_test, s=5, label=\"Test data\")\n",
        "plt.xlabel(\"Date\")\n",
        "plt.ylabel(\"BTC Price\")\n",
        "plt.legend(fontsize=14)\n",
        "plt.show();"
      ],
      "execution_count": 17,
      "outputs": [
        {
          "output_type": "display_data",
          "data": {
            "image/png": "[encoded data removed]",
            "text/plain": [
              "<Figure size 720x504 with 1 Axes>"
            ]
          },
          "metadata": {
            "needs_background": "light"
          }
        }
      ]
    },
    {
      "cell_type": "markdown",
      "metadata": {
        "id": "QX_sp4TovBmt"
      },
      "source": [
        "#### Create a plotting function"
      ]
    },
    {
      "cell_type": "code",
      "metadata": {
        "id": "sHb4TBnFvvkh"
      },
      "source": [
        "def plot_time_series(timesteps, values, format=\".\", start=0, end=None, label=None):\n",
        "  \"\"\"\n",
        "  Plots timesteps (a series of points in time) \n",
        "  against values (a series of values across time)\n",
        "\n",
        "  Parameters\n",
        "  ----------------\n",
        "  timesteps : array of timestep values\n",
        "  values : array of values across time\n",
        "  format : style of plot, default \".\"\n",
        "  start : where to start the plot (setting a value will index from start of timesteps & values)\n",
        "  end : where to end the plot (similar to start but for the end)\n",
        "  label : label to show on plot about values, default : None\n",
        "\n",
        "  \"\"\"\n",
        "  \n",
        "  plt.plot(timesteps[start:end], values[start:end], format, label=label)\n",
        "  plt.xlabel(\"Time\")\n",
        "  plt.ylabel(\"BTC Price\")\n",
        "  if label:\n",
        "    plt.legend(fontsize=14) # make label bigger\n",
        "  \n",
        "  plt.grid(True)"
      ],
      "execution_count": 18,
      "outputs": []
    },
    {
      "cell_type": "code",
      "metadata": {
        "id": "LKLUdzWKxiCs",
        "colab": {
          "base_uri": "https://localhost:8080/",
          "height": 0
        },
        "outputId": "a890af6e-edd2-495a-f8c3-21f9b5b12b11"
      },
      "source": [
        "plt.figure(figsize=(10,7))\n",
        "plot_time_series(timesteps=X_train, values=y_train, label=\"Train data\")\n",
        "plot_time_series(timesteps=X_test, values=y_test, label=\"Test data\")"
      ],
      "execution_count": 19,
      "outputs": [
        {
          "output_type": "display_data",
          "data": {
            "image/png": "[encoded data removed]",
            "text/plain": [
              "<Figure size 720x504 with 1 Axes>"
            ]
          },
          "metadata": {
            "needs_background": "light"
          }
        }
      ]
    },
    {
      "cell_type": "markdown",
      "metadata": {
        "id": "zbz73mHGx5hZ"
      },
      "source": [
        "## Modelling experiments"
      ]
    },
    {
      "cell_type": "markdown",
      "metadata": {
        "id": "G9EXSxKw1qfd"
      },
      "source": [
        "Terms to be familiar with:\n",
        "* **`Horizon`** - number of steps into the future we are going to predicct.\n",
        "\n",
        "* **`Window size`** - number of timesteps we're going to use to predict horizon"
      ]
    },
    {
      "cell_type": "markdown",
      "metadata": {
        "id": "fUPXf3Fs2xzy"
      },
      "source": [
        "### Model 0. Naive Forecast (Baseline)\n",
        "\n",
        "The formula:\n",
        "\n",
        "$$\\hat{y}_{t} = y_{t-1}$$\n",
        "\n",
        "In English:\n",
        "> The prediction at timestep t (y-hat) is equal to the value at timestep t-1 (previous timestep) - this is for a horizon of 1"
      ]
    },
    {
      "cell_type": "code",
      "metadata": {
        "id": "-EbnoUGz3X2v",
        "colab": {
          "base_uri": "https://localhost:8080/"
        },
        "outputId": "1019e2cb-27db-4980-cf0a-79bb7743ad6a"
      },
      "source": [
        "naive_forecast = y_test[:-1]\n",
        "\n",
        "naive_forecast[:10], naive_forecast[-10:]"
      ],
      "execution_count": 20,
      "outputs": [
        {
          "output_type": "execute_result",
          "data": {
            "text/plain": [
              "(array([8767.67262337, 8853.77448401, 8963.0575578 , 8904.71381654,\n",
              "        8887.50589259, 8978.28358712, 9371.68427279, 9900.67886662,\n",
              "        9917.24841434, 9617.51819493]),\n",
              " array([49709.61199434, 49999.55557859, 51693.80939808, 52506.68564748,\n",
              "        46897.60147675, 46769.31439122, 46404.36448102, 44720.75555014,\n",
              "        45253.13062479, 45510.56324938]))"
            ]
          },
          "metadata": {},
          "execution_count": 20
        }
      ]
    },
    {
      "cell_type": "code",
      "metadata": {
        "id": "j6GomxPw4ejc",
        "colab": {
          "base_uri": "https://localhost:8080/"
        },
        "outputId": "1b03af07-9f4d-4520-d788-7bccdd06262d"
      },
      "source": [
        "y_test[-10:]"
      ],
      "execution_count": 21,
      "outputs": [
        {
          "output_type": "execute_result",
          "data": {
            "text/plain": [
              "array([49999.55557859, 51693.80939808, 52506.68564748, 46897.60147675,\n",
              "       46769.31439122, 46404.36448102, 44720.75555014, 45253.13062479,\n",
              "       45510.56324938, 45097.79721752])"
            ]
          },
          "metadata": {},
          "execution_count": 21
        }
      ]
    },
    {
      "cell_type": "code",
      "metadata": {
        "id": "h9YjNlJQ4od8",
        "colab": {
          "base_uri": "https://localhost:8080/",
          "height": 0
        },
        "outputId": "b4194abf-c6f8-4d38-af30-66862f7aaf96"
      },
      "source": [
        "# Plot naive forecast\n",
        "plt.figure(figsize=(10,7))\n",
        "#plot_time_series(timesteps=X_train, values=y_train, label=\"Train data\", start=200)\n",
        "plot_time_series(timesteps=X_test, values=y_test, label=\"Test data\", format='-', start=350)\n",
        "plot_time_series(timesteps=X_test[1:], values=naive_forecast, format='-', label=\"Naive Forecast\", start=350)"
      ],
      "execution_count": 22,
      "outputs": [
        {
          "output_type": "display_data",
          "data": {
            "image/png": "[encoded data removed]",
            "text/plain": [
              "<Figure size 720x504 with 1 Axes>"
            ]
          },
          "metadata": {
            "needs_background": "light"
          }
        }
      ]
    },
    {
      "cell_type": "markdown",
      "metadata": {
        "id": "SrpKL65V9Rvc"
      },
      "source": [
        "#### Reference book: 'Forecasting: Principles in Practice'"
      ]
    },
    {
      "cell_type": "markdown",
      "metadata": {
        "id": "yeMp8btr-baP"
      },
      "source": [
        "### Evaluating a TimeSeries model"
      ]
    },
    {
      "cell_type": "markdown",
      "metadata": {
        "id": "-5LRJVc3-2uR"
      },
      "source": [
        "We're predicting a number, i.e. it's a form of regression problem.\n",
        "\n",
        "Because we're working on a regression problem, we need regression metrics:\n",
        "\n",
        "* MAE - mean absolute error\n",
        "* MSE - mean squared error\n",
        "* RMSE - root mean square error\n",
        "* MAPE/sMAPE - (symmetric) mean absolute percentage error\n",
        "\n",
        "We're evaluating **how does our model forecast compared to the actual values?**\n",
        "\n",
        "Reference: Forecasting: Principles and Practice, chapter 5.8"
      ]
    },
    {
      "cell_type": "code",
      "metadata": {
        "id": "zZYRuf4eB95k"
      },
      "source": [
        "import tensorflow as tf"
      ],
      "execution_count": 23,
      "outputs": []
    },
    {
      "cell_type": "code",
      "metadata": {
        "id": "vsQlDLFxCGV5"
      },
      "source": [
        "# MASE implementation (since there's no appropriate function in tensorflow)\n",
        "def mean_absolute_scaled_error(y_true, y_pred):\n",
        "  \"\"\"\n",
        "  Implementing MASE (assuming no seasonality of data, i.e. data is not influenced by season of the year).\n",
        "\n",
        "  \"\"\"\n",
        "  mae = tf.reduce_mean(tf.abs(y_true-y_pred))\n",
        "  # Find MAE of naive forecast / seasonality (data published daily) is 1 days, hence shift 1 \n",
        "  mae_naive_no_season = tf.reduce_mean(tf.abs(y_true[1:] - y_true[:-1]))\n",
        "\n",
        "  return mae / mae_naive_no_season\n",
        "\n"
      ],
      "execution_count": 24,
      "outputs": []
    },
    {
      "cell_type": "code",
      "metadata": {
        "id": "N6ZEgkkYDxFW",
        "colab": {
          "base_uri": "https://localhost:8080/"
        },
        "outputId": "aa12b3fb-284b-4673-bd3d-e0e254b074ed"
      },
      "source": [
        "mean_absolute_scaled_error(y_true=y_test[1:], y_pred=naive_forecast).numpy()"
      ],
      "execution_count": 25,
      "outputs": [
        {
          "output_type": "execute_result",
          "data": {
            "text/plain": [
              "0.9982082921428425"
            ]
          },
          "metadata": {},
          "execution_count": 25
        }
      ]
    },
    {
      "cell_type": "markdown",
      "metadata": {
        "id": "WmnuQ_0SD8Be"
      },
      "source": [
        "#### Custom Evaluation Function"
      ]
    },
    {
      "cell_type": "code",
      "metadata": {
        "id": "P5VBo_0rG0kO"
      },
      "source": [
        "def evaluate_preds(y_true, y_pred):\n",
        "  # Make sure float32 dtype (for metric calculations)\n",
        "  y_true = tf.cast(y_true, dtype=tf.float32)\n",
        "  y_pred = tf.cast(y_pred, dtype=tf.float32)\n",
        "\n",
        "  # Calculate various evaluation metrics\n",
        "  mae = tf.keras.metrics.mean_absolute_error(y_true, y_pred)\n",
        "  mse = tf.keras.metrics.mean_squared_error(y_true, y_pred)\n",
        "  rmse = tf.sqrt(mse)\n",
        "  mape = tf.keras.metrics.mean_absolute_percentage_error(y_true, y_pred)\n",
        "  mase = mean_absolute_scaled_error(y_true, y_pred)\n",
        "\n",
        "  return {\"mae\": mae.numpy(),\n",
        "          \"mse\": mse.numpy(),\n",
        "          \"rmse\": rmse.numpy(),\n",
        "          \"mape\": mape.numpy(),\n",
        "          \"mase\": mase.numpy()}"
      ],
      "execution_count": 26,
      "outputs": []
    },
    {
      "cell_type": "code",
      "metadata": {
        "id": "5F1FtYrjIdto",
        "colab": {
          "base_uri": "https://localhost:8080/"
        },
        "outputId": "8a799ad2-f3c0-4a4c-9c93-63b6fcbec1af"
      },
      "source": [
        "naive_results = evaluate_preds(y_true=y_test[1:], \n",
        "                               y_pred=naive_forecast)\n",
        "naive_results"
      ],
      "execution_count": 27,
      "outputs": [
        {
          "output_type": "execute_result",
          "data": {
            "text/plain": [
              "{'mae': 839.7061,\n",
              " 'mape': 2.6012962,\n",
              " 'mase': 0.9982083,\n",
              " 'mse': 1825811.2,\n",
              " 'rmse': 1351.2258}"
            ]
          },
          "metadata": {},
          "execution_count": 27
        }
      ]
    },
    {
      "cell_type": "code",
      "metadata": {
        "id": "SG6eVvahIrzh",
        "colab": {
          "base_uri": "https://localhost:8080/"
        },
        "outputId": "c5a1e3b6-f4f2-418e-995f-49f554a7505d"
      },
      "source": [
        "# average price\n",
        "tf.reduce_mean(y_test)"
      ],
      "execution_count": 28,
      "outputs": [
        {
          "output_type": "execute_result",
          "data": {
            "text/plain": [
              "<tf.Tensor: shape=(), dtype=float64, numpy=28914.90424048091>"
            ]
          },
          "metadata": {},
          "execution_count": 28
        }
      ]
    },
    {
      "cell_type": "code",
      "metadata": {
        "id": "An0tyGLlJH_S",
        "colab": {
          "base_uri": "https://localhost:8080/"
        },
        "outputId": "2e770528-bc5d-4b3a-9a41-2819063bf6b0"
      },
      "source": [
        "# max / min prices\n",
        "tf.reduce_min(y_test), tf.reduce_max(y_test)"
      ],
      "execution_count": 29,
      "outputs": [
        {
          "output_type": "execute_result",
          "data": {
            "text/plain": [
              "(<tf.Tensor: shape=(), dtype=float64, numpy=8608.125245038>,\n",
              " <tf.Tensor: shape=(), dtype=float64, numpy=63346.7890351052>)"
            ]
          },
          "metadata": {},
          "execution_count": 29
        }
      ]
    },
    {
      "cell_type": "markdown",
      "metadata": {
        "id": "WUL6_qOjnTn8"
      },
      "source": [
        "## Formatting Data Part 2 : Windowing the Dataset"
      ]
    },
    {
      "cell_type": "markdown",
      "metadata": {
        "id": "431__YBVofYd"
      },
      "source": [
        "```\n",
        "Windowing for one week\n",
        "[0,1,2,3,4,5,6] --> [7]\n",
        "[1,2,3,4,5,6,7] --> [8]\n",
        "[2,3,4,5,6,7,8] --> [9]\n",
        "window = 7 --> horizon = 1\n",
        "```"
      ]
    },
    {
      "cell_type": "code",
      "metadata": {
        "colab": {
          "base_uri": "https://localhost:8080/"
        },
        "id": "BJ4U2crYpIiB",
        "outputId": "5eb754a7-8477-442b-8ca6-20b7efc7f7ea"
      },
      "source": [
        "len(y_train)"
      ],
      "execution_count": 30,
      "outputs": [
        {
          "output_type": "execute_result",
          "data": {
            "text/plain": [
              "2005"
            ]
          },
          "metadata": {},
          "execution_count": 30
        }
      ]
    },
    {
      "cell_type": "code",
      "metadata": {
        "colab": {
          "base_uri": "https://localhost:8080/"
        },
        "id": "vZQciqTcpNZm",
        "outputId": "02734de2-91ae-4ec1-c2e0-c667e22ba5bf"
      },
      "source": [
        "print(f\"We want to use {btc_price[:7]} to predict {btc_price[7]}\")"
      ],
      "execution_count": 31,
      "outputs": [
        {
          "output_type": "stream",
          "name": "stdout",
          "text": [
            "We want to use [324.71833, 332.45666, 336.585, 346.775, 344.81166, 343.065, 358.50166] to predict 368.07666\n"
          ]
        }
      ]
    },
    {
      "cell_type": "code",
      "metadata": {
        "id": "-QWrlJOxpR7M"
      },
      "source": [
        "# Set global variables for window and horizon\n",
        "HORIZON = 1 #predict next 1 day\n",
        "WINDOW_SIZE = 7 # use the past week of data"
      ],
      "execution_count": 32,
      "outputs": []
    },
    {
      "cell_type": "markdown",
      "metadata": {
        "id": "Mb4U3ppop0vC"
      },
      "source": [
        "### Create function to label windowed data"
      ]
    },
    {
      "cell_type": "code",
      "metadata": {
        "id": "ArQBY5b7qDWV"
      },
      "source": [
        "def get_labelled_windows(x, horizon=HORIZON):\n",
        "  \"\"\"\n",
        "  Creates labels for windowed dataset.\n",
        "\n",
        "  E.g. if horizon = 1\n",
        "  Input: [0,1,2,3,4,5,6,7] -> Output: ([0,1,2,3,4,5,6], [7])\n",
        "  \"\"\"\n",
        "  return x[:, :-horizon], x[:, -horizon:]"
      ],
      "execution_count": 33,
      "outputs": []
    },
    {
      "cell_type": "code",
      "metadata": {
        "colab": {
          "base_uri": "https://localhost:8080/"
        },
        "id": "HIfRb7R4yXif",
        "outputId": "163b0597-5ec0-414b-a28f-e2d2d120c436"
      },
      "source": [
        "# Test the window labelling function\n",
        "test_window, test_label = get_labelled_windows(tf.expand_dims(tf.range(8)+1, axis=0))\n",
        "print(f\"Window: {tf.squeeze(test_window).numpy()} -> Label: {tf.squeeze(test_label).numpy()}\")"
      ],
      "execution_count": 34,
      "outputs": [
        {
          "output_type": "stream",
          "name": "stdout",
          "text": [
            "Window: [1 2 3 4 5 6 7] -> Label: 8\n"
          ]
        }
      ]
    },
    {
      "cell_type": "markdown",
      "metadata": {
        "id": "YfZwOJixynGO"
      },
      "source": [
        "### Apply the windowing function for the entire timeseries\n"
      ]
    },
    {
      "cell_type": "markdown",
      "metadata": {
        "id": "ABNFNtX81nxV"
      },
      "source": [
        "We'll use numpy array indexing since using python for loops is time costly."
      ]
    },
    {
      "cell_type": "markdown",
      "metadata": {
        "id": "aAX1kCcw4Iu2"
      },
      "source": [
        "The function will:\n",
        "* Create a window step of a specific window size (e.g. [0,1,2,3,4,5,6])\n",
        "* Use numpy indexing to create a 2D array of multiple window steps, e.g.:\n",
        "```\n",
        "[[0,1,2,3,4,5,6],\n",
        " [1,2,3,4,5,6,7],\n",
        " [2,3,4,5,6,7,8]]\n",
        "```\n",
        "* Use the 2D array of multiple window steps (from 2.) to index on a target series (e.g. historical price of bitcoin).\n",
        "* Use the `get_labelled_windows()` function to turn the window steps into windows with a specified horizon."
      ]
    },
    {
      "cell_type": "code",
      "metadata": {
        "id": "aMi8vVPA5nXh"
      },
      "source": [
        "# Create the function\n",
        "def make_windows(x, window_size=7, horizon=1):\n",
        "  \"\"\"\n",
        "  Turns a 1D array into a 2D array of sequential labelled windows of window_size with horizon size labels.\n",
        "  \"\"\"\n",
        "  # 1. Create a window of specific window_size (add the horizon on the end for labelling later)\n",
        "  window_step = np.expand_dims(np.arange(window_size+horizon), axis=0)\n",
        "  \n",
        "  # 2. Use numpy indexing to create a 2D array of multiple window steps (minus 1 to account for 0 indexing)\n",
        "  window_indeces = window_step + np.expand_dims(np.arange(len(x)-(window_size+horizon-1)), axis=0).T #create 2D array of windows of windows_size\n",
        "\n",
        "  #print(f\"Window indeces:\\n {window_indeces}{window_indeces.shape}\")\n",
        "\n",
        "  # 3. Index on the target array (a timeseries) with 2D array of multiple window steps\n",
        "  windowed_array = x[window_indeces]\n",
        "  #print(windowed_array)\n",
        "\n",
        "  # 4. Get the labelled windows\n",
        "  windows, labels = get_labelled_windows(windowed_array, horizon=horizon)\n",
        "  return windows, labels"
      ],
      "execution_count": 35,
      "outputs": []
    },
    {
      "cell_type": "code",
      "metadata": {
        "colab": {
          "base_uri": "https://localhost:8080/"
        },
        "id": "EH7KO-wP7x_m",
        "outputId": "d95d5e9a-30b2-491e-8bd5-a488c74bfeb6"
      },
      "source": [
        "full_windows, full_labels = make_windows(prices, window_size=WINDOW_SIZE, horizon=HORIZON)\n",
        "len(full_windows), len(full_labels)"
      ],
      "execution_count": 36,
      "outputs": [
        {
          "output_type": "execute_result",
          "data": {
            "text/plain": [
              "(2500, 2500)"
            ]
          },
          "metadata": {},
          "execution_count": 36
        }
      ]
    },
    {
      "cell_type": "code",
      "metadata": {
        "colab": {
          "base_uri": "https://localhost:8080/"
        },
        "id": "AjPaFamE8CDR",
        "outputId": "a1151a6c-8553-4d69-c251-ac726c915236"
      },
      "source": [
        "len(prices)"
      ],
      "execution_count": 37,
      "outputs": [
        {
          "output_type": "execute_result",
          "data": {
            "text/plain": [
              "2507"
            ]
          },
          "metadata": {},
          "execution_count": 37
        }
      ]
    },
    {
      "cell_type": "code",
      "metadata": {
        "colab": {
          "base_uri": "https://localhost:8080/"
        },
        "id": "a_olEHch9Xzb",
        "outputId": "44220e86-58af-47d7-9268-aa2673939b2e"
      },
      "source": [
        "# Check the first 3 windows and labels\n",
        "for i in range(3):\n",
        "  print(f\"Window: {full_windows[i-3]} -> Label: {full_labels[i-3]}\")"
      ],
      "execution_count": 38,
      "outputs": [
        {
          "output_type": "stream",
          "name": "stdout",
          "text": [
            "Window: [49999.55557859 51693.80939808 52506.68564748 46897.60147675\n",
            " 46769.31439122 46404.36448102 44720.75555014] -> Label: [45253.13062479]\n",
            "Window: [51693.80939808 52506.68564748 46897.60147675 46769.31439122\n",
            " 46404.36448102 44720.75555014 45253.13062479] -> Label: [45510.56324938]\n",
            "Window: [52506.68564748 46897.60147675 46769.31439122 46404.36448102\n",
            " 44720.75555014 45253.13062479 45510.56324938] -> Label: [45097.79721752]\n"
          ]
        }
      ]
    },
    {
      "cell_type": "code",
      "metadata": {
        "colab": {
          "base_uri": "https://localhost:8080/"
        },
        "id": "3yYG7Mqr9o72",
        "outputId": "b4415441-ab77-4cd0-b864-b559ca8fe843"
      },
      "source": [
        "prices[-1]"
      ],
      "execution_count": 39,
      "outputs": [
        {
          "output_type": "execute_result",
          "data": {
            "text/plain": [
              "45097.7972175205"
            ]
          },
          "metadata": {},
          "execution_count": 39
        }
      ]
    },
    {
      "cell_type": "markdown",
      "metadata": {
        "id": "PDishcs1-F9M"
      },
      "source": [
        "#### similar: tf.keras.preprocessing.timeseries_dataset_from_array"
      ]
    },
    {
      "cell_type": "markdown",
      "metadata": {
        "id": "DPZc67m7Bo5w"
      },
      "source": [
        "## Create train & train sets for windowed dataset"
      ]
    },
    {
      "cell_type": "code",
      "metadata": {
        "id": "Mu6lXfBTB3fz"
      },
      "source": [
        "# Make the train/test splits\n",
        "def make_train_test_splits(windows, labels, test_split=0.2):\n",
        "  \"\"\"\n",
        "  Splits matching pairs of windows and pairs into train and test split\n",
        "  \"\"\"\n",
        "  split_size = int(len(windows) * (1-test_split))\n",
        "  train_windows = windows[:split_size]\n",
        "  train_labels = labels[:split_size]\n",
        "  test_windows = windows[split_size:]\n",
        "  test_labels = labels[split_size:]\n",
        "  return train_windows, test_windows, train_labels, test_labels\n"
      ],
      "execution_count": 40,
      "outputs": []
    },
    {
      "cell_type": "code",
      "metadata": {
        "id": "kRus4DehDVzF"
      },
      "source": [
        "# Create train and test windows\n",
        "train_windows, test_windows, train_labels, test_labels = make_train_test_splits(windows=full_windows, labels=full_labels)"
      ],
      "execution_count": 41,
      "outputs": []
    },
    {
      "cell_type": "code",
      "metadata": {
        "id": "oXTlGODkDhp0",
        "colab": {
          "base_uri": "https://localhost:8080/"
        },
        "outputId": "c4a62d5b-6217-416d-88bd-278cdd22d885"
      },
      "source": [
        "len(train_windows), len(test_windows), len(train_labels), len(test_labels)"
      ],
      "execution_count": 42,
      "outputs": [
        {
          "output_type": "execute_result",
          "data": {
            "text/plain": [
              "(2000, 500, 2000, 500)"
            ]
          },
          "metadata": {},
          "execution_count": 42
        }
      ]
    },
    {
      "cell_type": "code",
      "metadata": {
        "id": "HwwY8FO1DxVi",
        "colab": {
          "base_uri": "https://localhost:8080/"
        },
        "outputId": "cebec485-9555-4c1c-fa0d-0dda9ac205f1"
      },
      "source": [
        "len(full_windows) * 0.8"
      ],
      "execution_count": 43,
      "outputs": [
        {
          "output_type": "execute_result",
          "data": {
            "text/plain": [
              "2000.0"
            ]
          },
          "metadata": {},
          "execution_count": 43
        }
      ]
    },
    {
      "cell_type": "code",
      "metadata": {
        "id": "6O7b8RzZD3m6",
        "colab": {
          "base_uri": "https://localhost:8080/"
        },
        "outputId": "edeff94e-1aee-41d6-f909-bda0199dbdfb"
      },
      "source": [
        "train_windows[:5], train_labels[:5]"
      ],
      "execution_count": 44,
      "outputs": [
        {
          "output_type": "execute_result",
          "data": {
            "text/plain": [
              "(array([[324.71833, 332.45666, 336.585  , 346.775  , 344.81166, 343.065  ,\n",
              "         358.50166],\n",
              "        [332.45666, 336.585  , 346.775  , 344.81166, 343.065  , 358.50166,\n",
              "         368.07666],\n",
              "        [336.585  , 346.775  , 344.81166, 343.065  , 358.50166, 368.07666,\n",
              "         376.99666],\n",
              "        [346.775  , 344.81166, 343.065  , 358.50166, 368.07666, 376.99666,\n",
              "         442.10666],\n",
              "        [344.81166, 343.065  , 358.50166, 368.07666, 376.99666, 442.10666,\n",
              "         389.00333]]), array([[368.07666],\n",
              "        [376.99666],\n",
              "        [442.10666],\n",
              "        [389.00333],\n",
              "        [394.92666]]))"
            ]
          },
          "metadata": {},
          "execution_count": 44
        }
      ]
    },
    {
      "cell_type": "code",
      "metadata": {
        "id": "mgWwslnzD_hk",
        "colab": {
          "base_uri": "https://localhost:8080/"
        },
        "outputId": "880a0927-80ec-4e31-94a4-3e97a12b6a30"
      },
      "source": [
        "test_windows[:5], test_labels[:5]"
      ],
      "execution_count": 45,
      "outputs": [
        {
          "output_type": "execute_result",
          "data": {
            "text/plain": [
              "(array([[7542.3034007 , 7624.85378592, 7776.50754257, 7761.75878408,\n",
              "         8773.10648796, 8767.67262337, 8853.77448401],\n",
              "        [7624.85378592, 7776.50754257, 7761.75878408, 8773.10648796,\n",
              "         8767.67262337, 8853.77448401, 8963.0575578 ],\n",
              "        [7776.50754257, 7761.75878408, 8773.10648796, 8767.67262337,\n",
              "         8853.77448401, 8963.0575578 , 8904.71381654],\n",
              "        [7761.75878408, 8773.10648796, 8767.67262337, 8853.77448401,\n",
              "         8963.0575578 , 8904.71381654, 8887.50589259],\n",
              "        [8773.10648796, 8767.67262337, 8853.77448401, 8963.0575578 ,\n",
              "         8904.71381654, 8887.50589259, 8978.28358712]]),\n",
              " array([[8963.0575578 ],\n",
              "        [8904.71381654],\n",
              "        [8887.50589259],\n",
              "        [8978.28358712],\n",
              "        [9371.68427279]]))"
            ]
          },
          "metadata": {},
          "execution_count": 45
        }
      ]
    },
    {
      "cell_type": "code",
      "metadata": {
        "id": "a7Gl1ymMEFmt",
        "colab": {
          "base_uri": "https://localhost:8080/"
        },
        "outputId": "6c05c541-0632-41b4-8c43-d987b9759206"
      },
      "source": [
        "# Check if train labels are the same before and after window split\n",
        "np.array_equal(np.squeeze(train_labels[:-HORIZON-1]), y_train[WINDOW_SIZE:])"
      ],
      "execution_count": 46,
      "outputs": [
        {
          "output_type": "execute_result",
          "data": {
            "text/plain": [
              "True"
            ]
          },
          "metadata": {},
          "execution_count": 46
        }
      ]
    },
    {
      "cell_type": "markdown",
      "metadata": {
        "id": "iWAKJR84GA6o"
      },
      "source": [
        "## Make a modelling checkpoint"
      ]
    },
    {
      "cell_type": "markdown",
      "metadata": {
        "id": "pxPzkwIRJqhk"
      },
      "source": [
        "Since our model's performance will fluctuate from experiment to experiment, we're going to make a checkpoint.\n",
        "\n",
        "So that we can compare each of our model's best performances to the other model's best performances."
      ]
    },
    {
      "cell_type": "code",
      "metadata": {
        "id": "uOFc9tV6KZTN"
      },
      "source": [
        "import os\n",
        "\n",
        "# Create a function to implement a ModelCheckpoint callback with a specific filename\n",
        "def create_model_checkpoint(model_name, save_path='model_experiments'):\n",
        "  return tf.keras.callbacks.ModelCheckpoint(filepath=os.path.join(save_path, model_name),\n",
        "                                            verbose=0,\n",
        "                                            save_best_only=True)"
      ],
      "execution_count": 47,
      "outputs": []
    },
    {
      "cell_type": "markdown",
      "metadata": {
        "id": "ySZlcMFqLW16"
      },
      "source": [
        "## Model 1: Dense model (window = 7, horizon = 1)\n",
        "\n",
        "* Single Dense with 128 hidden units and relu activation.\n",
        "* An output layer with linear activation.\n",
        "* Adam optimizer and MAE loss function.\n",
        "* Batch size of 128"
      ]
    },
    {
      "cell_type": "code",
      "metadata": {
        "id": "_fpdZZinpCyZ"
      },
      "source": [
        "import tensorflow as tf\n",
        "from tensorflow.keras.layers import Dense\n",
        "\n",
        "# Set the random seed\n",
        "tf.random.set_seed(42)\n",
        "\n",
        "# Construct a model\n",
        "model_1 = tf.keras.Sequential([\n",
        "    Dense(128, activation=\"relu\"),\n",
        "    Dense(HORIZON, activation=\"linear\")\n",
        "], name=\"model_1_dense\" #will be used for model checkpoints\n",
        ")\n",
        "\n",
        "# Compile the model\n",
        "model_1.compile(loss='mae',\n",
        "                optimizer='adam',\n",
        "                metrics=['mae', 'mse'])"
      ],
      "execution_count": 48,
      "outputs": []
    },
    {
      "cell_type": "code",
      "metadata": {
        "colab": {
          "base_uri": "https://localhost:8080/"
        },
        "id": "sZFNoCtFrRev",
        "outputId": "d206aca7-26b6-4f62-a026-9040bba8517d"
      },
      "source": [
        "# Fit the model\n",
        "model_1.fit(x=train_windows,\n",
        "            y=train_labels,\n",
        "            epochs=100,\n",
        "            verbose=1,\n",
        "            batch_size=128,\n",
        "            validation_data=(test_windows, test_labels),\n",
        "            callbacks=[create_model_checkpoint(model_name=model_1.name)])"
      ],
      "execution_count": 49,
      "outputs": [
        {
          "output_type": "stream",
          "name": "stdout",
          "text": [
            "Epoch 1/100\n",
            "16/16 [==============================] - 1s 10ms/step - loss: 1047.5155 - mae: 1047.5155 - mse: 3409484.7500 - val_loss: 3525.4368 - val_mae: 3525.4368 - val_mse: 23110222.0000\n",
            "INFO:tensorflow:Assets written to: model_experiments/model_1_dense/assets\n",
            "Epoch 2/100\n",
            "16/16 [==============================] - 0s 2ms/step - loss: 338.9555 - mae: 338.9555 - mse: 383546.3125 - val_loss: 1931.9062 - val_mae: 1931.9062 - val_mse: 7414824.0000\n",
            "INFO:tensorflow:Assets written to: model_experiments/model_1_dense/assets\n",
            "Epoch 3/100\n",
            "16/16 [==============================] - 0s 2ms/step - loss: 249.2284 - mae: 249.2284 - mse: 251714.7031 - val_loss: 1740.0496 - val_mae: 1740.0496 - val_mse: 6257302.0000\n",
            "INFO:tensorflow:Assets written to: model_experiments/model_1_dense/assets\n",
            "Epoch 4/100\n",
            "16/16 [==============================] - 0s 2ms/step - loss: 228.1320 - mae: 228.1320 - mse: 215178.2656 - val_loss: 1477.6807 - val_mae: 1477.6807 - val_mse: 5067568.0000\n",
            "INFO:tensorflow:Assets written to: model_experiments/model_1_dense/assets\n",
            "Epoch 5/100\n",
            "16/16 [==============================] - 0s 2ms/step - loss: 218.9447 - mae: 218.9447 - mse: 203000.0781 - val_loss: 1420.9825 - val_mae: 1420.9825 - val_mse: 4793207.0000\n",
            "INFO:tensorflow:Assets written to: model_experiments/model_1_dense/assets\n",
            "Epoch 6/100\n",
            "16/16 [==============================] - 0s 2ms/step - loss: 214.4097 - mae: 214.4097 - mse: 194835.4062 - val_loss: 1382.1569 - val_mae: 1382.1569 - val_mse: 4565391.0000\n",
            "INFO:tensorflow:Assets written to: model_experiments/model_1_dense/assets\n",
            "Epoch 7/100\n",
            "16/16 [==============================] - 0s 2ms/step - loss: 209.6268 - mae: 209.6268 - mse: 186064.7188 - val_loss: 1369.8975 - val_mae: 1369.8975 - val_mse: 4374203.0000\n",
            "INFO:tensorflow:Assets written to: model_experiments/model_1_dense/assets\n",
            "Epoch 8/100\n",
            "16/16 [==============================] - 0s 3ms/step - loss: 202.6757 - mae: 202.6757 - mse: 176601.4531 - val_loss: 1290.3097 - val_mae: 1290.3097 - val_mse: 4006907.7500\n",
            "INFO:tensorflow:Assets written to: model_experiments/model_1_dense/assets\n",
            "Epoch 9/100\n",
            "16/16 [==============================] - 0s 2ms/step - loss: 193.7337 - mae: 193.7337 - mse: 162346.2656 - val_loss: 1258.7400 - val_mae: 1258.7400 - val_mse: 3662151.0000\n",
            "INFO:tensorflow:Assets written to: model_experiments/model_1_dense/assets\n",
            "Epoch 10/100\n",
            "16/16 [==============================] - 0s 2ms/step - loss: 186.8977 - mae: 186.8977 - mse: 151741.8906 - val_loss: 1211.7872 - val_mae: 1211.7872 - val_mse: 3438126.0000\n",
            "INFO:tensorflow:Assets written to: model_experiments/model_1_dense/assets\n",
            "Epoch 11/100\n",
            "16/16 [==============================] - 0s 2ms/step - loss: 183.6223 - mae: 183.6223 - mse: 147550.7812 - val_loss: 1227.0206 - val_mae: 1227.0206 - val_mse: 3358449.0000\n",
            "Epoch 12/100\n",
            "16/16 [==============================] - 0s 2ms/step - loss: 177.2502 - mae: 177.2502 - mse: 137818.1562 - val_loss: 1148.4250 - val_mae: 1148.4250 - val_mse: 3099853.2500\n",
            "INFO:tensorflow:Assets written to: model_experiments/model_1_dense/assets\n",
            "Epoch 13/100\n",
            "16/16 [==============================] - 0s 2ms/step - loss: 173.9676 - mae: 173.9676 - mse: 134555.7031 - val_loss: 1154.4575 - val_mae: 1154.4575 - val_mse: 3002761.5000\n",
            "Epoch 14/100\n",
            "16/16 [==============================] - 0s 2ms/step - loss: 170.4262 - mae: 170.4262 - mse: 128290.9609 - val_loss: 1111.0229 - val_mae: 1111.0229 - val_mse: 2845705.2500\n",
            "INFO:tensorflow:Assets written to: model_experiments/model_1_dense/assets\n",
            "Epoch 15/100\n",
            "16/16 [==============================] - 0s 3ms/step - loss: 166.3550 - mae: 166.3550 - mse: 124012.0156 - val_loss: 1174.8142 - val_mae: 1174.8142 - val_mse: 2973841.0000\n",
            "Epoch 16/100\n",
            "16/16 [==============================] - 0s 3ms/step - loss: 167.4189 - mae: 167.4189 - mse: 122330.4375 - val_loss: 1080.4655 - val_mae: 1080.4655 - val_mse: 2658392.0000\n",
            "INFO:tensorflow:Assets written to: model_experiments/model_1_dense/assets\n",
            "Epoch 17/100\n",
            "16/16 [==============================] - 0s 2ms/step - loss: 165.2088 - mae: 165.2088 - mse: 117570.8203 - val_loss: 1230.3123 - val_mae: 1230.3123 - val_mse: 3586997.2500\n",
            "Epoch 18/100\n",
            "16/16 [==============================] - 0s 4ms/step - loss: 175.1417 - mae: 175.1417 - mse: 128678.4766 - val_loss: 1168.5399 - val_mae: 1168.5399 - val_mse: 2898148.5000\n",
            "Epoch 19/100\n",
            "16/16 [==============================] - 0s 2ms/step - loss: 159.6869 - mae: 159.6869 - mse: 112373.1719 - val_loss: 1039.4321 - val_mae: 1039.4321 - val_mse: 2470139.0000\n",
            "INFO:tensorflow:Assets written to: model_experiments/model_1_dense/assets\n",
            "Epoch 20/100\n",
            "16/16 [==============================] - 0s 2ms/step - loss: 154.0201 - mae: 154.0201 - mse: 109649.1719 - val_loss: 1022.6086 - val_mae: 1022.6086 - val_mse: 2412840.2500\n",
            "INFO:tensorflow:Assets written to: model_experiments/model_1_dense/assets\n",
            "Epoch 21/100\n",
            "16/16 [==============================] - 0s 3ms/step - loss: 154.1514 - mae: 154.1514 - mse: 109216.9531 - val_loss: 1032.1553 - val_mae: 1032.1553 - val_mse: 2410728.5000\n",
            "Epoch 22/100\n",
            "16/16 [==============================] - 0s 3ms/step - loss: 152.0047 - mae: 152.0047 - mse: 107021.3281 - val_loss: 994.1496 - val_mae: 994.1496 - val_mse: 2321025.0000\n",
            "INFO:tensorflow:Assets written to: model_experiments/model_1_dense/assets\n",
            "Epoch 23/100\n",
            "16/16 [==============================] - 0s 2ms/step - loss: 150.5290 - mae: 150.5290 - mse: 106027.7109 - val_loss: 982.0930 - val_mae: 982.0930 - val_mse: 2351448.0000\n",
            "INFO:tensorflow:Assets written to: model_experiments/model_1_dense/assets\n",
            "Epoch 24/100\n",
            "16/16 [==============================] - 0s 2ms/step - loss: 152.8839 - mae: 152.8839 - mse: 107177.7891 - val_loss: 973.4747 - val_mae: 973.4747 - val_mse: 2307957.2500\n",
            "INFO:tensorflow:Assets written to: model_experiments/model_1_dense/assets\n",
            "Epoch 25/100\n",
            "16/16 [==============================] - 0s 2ms/step - loss: 150.0184 - mae: 150.0184 - mse: 102447.0156 - val_loss: 1006.3926 - val_mae: 1006.3926 - val_mse: 2303016.7500\n",
            "Epoch 26/100\n",
            "16/16 [==============================] - 0s 2ms/step - loss: 146.4770 - mae: 146.4770 - mse: 101553.9453 - val_loss: 1020.5287 - val_mae: 1020.5287 - val_mse: 2335917.0000\n",
            "Epoch 27/100\n",
            "16/16 [==============================] - 0s 2ms/step - loss: 149.8205 - mae: 149.8205 - mse: 101905.7891 - val_loss: 981.1417 - val_mae: 981.1417 - val_mse: 2227894.2500\n",
            "Epoch 28/100\n",
            "16/16 [==============================] - 0s 2ms/step - loss: 147.4280 - mae: 147.4280 - mse: 98966.1016 - val_loss: 971.4117 - val_mae: 971.4117 - val_mse: 2200348.2500\n",
            "INFO:tensorflow:Assets written to: model_experiments/model_1_dense/assets\n",
            "Epoch 29/100\n",
            "16/16 [==============================] - 0s 2ms/step - loss: 145.0888 - mae: 145.0888 - mse: 97900.1328 - val_loss: 945.6823 - val_mae: 945.6823 - val_mse: 2194145.2500\n",
            "INFO:tensorflow:Assets written to: model_experiments/model_1_dense/assets\n",
            "Epoch 30/100\n",
            "16/16 [==============================] - 0s 3ms/step - loss: 145.4207 - mae: 145.4207 - mse: 100302.1719 - val_loss: 936.2429 - val_mae: 936.2429 - val_mse: 2145581.2500\n",
            "INFO:tensorflow:Assets written to: model_experiments/model_1_dense/assets\n",
            "Epoch 31/100\n",
            "16/16 [==============================] - 0s 2ms/step - loss: 143.1726 - mae: 143.1726 - mse: 98393.4453 - val_loss: 931.0571 - val_mae: 931.0571 - val_mse: 2115149.2500\n",
            "INFO:tensorflow:Assets written to: model_experiments/model_1_dense/assets\n",
            "Epoch 32/100\n",
            "16/16 [==============================] - 0s 3ms/step - loss: 141.8483 - mae: 141.8483 - mse: 96904.7422 - val_loss: 929.0540 - val_mae: 929.0540 - val_mse: 2094860.7500\n",
            "INFO:tensorflow:Assets written to: model_experiments/model_1_dense/assets\n",
            "Epoch 33/100\n",
            "16/16 [==============================] - 0s 2ms/step - loss: 142.0981 - mae: 142.0981 - mse: 96185.2500 - val_loss: 956.3551 - val_mae: 956.3551 - val_mse: 2239867.0000\n",
            "Epoch 34/100\n",
            "16/16 [==============================] - 0s 3ms/step - loss: 148.8587 - mae: 148.8587 - mse: 102393.7500 - val_loss: 919.6609 - val_mae: 919.6609 - val_mse: 2069401.0000\n",
            "INFO:tensorflow:Assets written to: model_experiments/model_1_dense/assets\n",
            "Epoch 35/100\n",
            "16/16 [==============================] - 0s 3ms/step - loss: 151.4877 - mae: 151.4877 - mse: 97468.5234 - val_loss: 1036.7393 - val_mae: 1036.7393 - val_mse: 2548029.2500\n",
            "Epoch 36/100\n",
            "16/16 [==============================] - 0s 3ms/step - loss: 151.6766 - mae: 151.6766 - mse: 104568.3906 - val_loss: 999.1466 - val_mae: 999.1466 - val_mse: 2248560.2500\n",
            "Epoch 37/100\n",
            "16/16 [==============================] - 0s 3ms/step - loss: 148.0365 - mae: 148.0365 - mse: 98327.1406 - val_loss: 1017.3801 - val_mae: 1017.3801 - val_mse: 2303026.5000\n",
            "Epoch 38/100\n",
            "16/16 [==============================] - 0s 4ms/step - loss: 142.7530 - mae: 142.7530 - mse: 97944.4062 - val_loss: 922.9381 - val_mae: 922.9381 - val_mse: 2053889.2500\n",
            "Epoch 39/100\n",
            "16/16 [==============================] - 0s 3ms/step - loss: 144.4286 - mae: 144.4286 - mse: 97851.8203 - val_loss: 903.7753 - val_mae: 903.7753 - val_mse: 2039543.2500\n",
            "INFO:tensorflow:Assets written to: model_experiments/model_1_dense/assets\n",
            "Epoch 40/100\n",
            "16/16 [==============================] - 0s 2ms/step - loss: 144.8647 - mae: 144.8647 - mse: 96005.1875 - val_loss: 989.5540 - val_mae: 989.5540 - val_mse: 2340171.2500\n",
            "Epoch 41/100\n",
            "16/16 [==============================] - 0s 2ms/step - loss: 142.4619 - mae: 142.4619 - mse: 97221.9453 - val_loss: 898.5300 - val_mae: 898.5300 - val_mse: 2018212.8750\n",
            "INFO:tensorflow:Assets written to: model_experiments/model_1_dense/assets\n",
            "Epoch 42/100\n",
            "16/16 [==============================] - 0s 3ms/step - loss: 138.8847 - mae: 138.8847 - mse: 93659.0156 - val_loss: 911.4609 - val_mae: 911.4609 - val_mse: 2069989.1250\n",
            "Epoch 43/100\n",
            "16/16 [==============================] - 0s 2ms/step - loss: 139.0172 - mae: 139.0172 - mse: 92636.1484 - val_loss: 916.4852 - val_mae: 916.4852 - val_mse: 2027804.3750\n",
            "Epoch 44/100\n",
            "16/16 [==============================] - 0s 2ms/step - loss: 141.5074 - mae: 141.5074 - mse: 95593.7969 - val_loss: 955.1274 - val_mae: 955.1274 - val_mse: 2116310.0000\n",
            "Epoch 45/100\n",
            "16/16 [==============================] - 0s 2ms/step - loss: 138.9475 - mae: 138.9475 - mse: 91593.4922 - val_loss: 889.3651 - val_mae: 889.3651 - val_mse: 1993620.0000\n",
            "INFO:tensorflow:Assets written to: model_experiments/model_1_dense/assets\n",
            "Epoch 46/100\n",
            "16/16 [==============================] - 0s 2ms/step - loss: 138.3985 - mae: 138.3985 - mse: 92825.3359 - val_loss: 917.9149 - val_mae: 917.9149 - val_mse: 2025064.7500\n",
            "Epoch 47/100\n",
            "16/16 [==============================] - 0s 3ms/step - loss: 140.3311 - mae: 140.3311 - mse: 93450.3750 - val_loss: 939.4036 - val_mae: 939.4036 - val_mse: 2153362.2500\n",
            "Epoch 48/100\n",
            "16/16 [==============================] - 0s 2ms/step - loss: 143.6915 - mae: 143.6915 - mse: 94542.2266 - val_loss: 916.2112 - val_mae: 916.2112 - val_mse: 2081129.2500\n",
            "Epoch 49/100\n",
            "16/16 [==============================] - 0s 3ms/step - loss: 144.6811 - mae: 144.6811 - mse: 97623.7656 - val_loss: 906.1071 - val_mae: 906.1071 - val_mse: 2049537.7500\n",
            "Epoch 50/100\n",
            "16/16 [==============================] - 0s 3ms/step - loss: 145.6623 - mae: 145.6623 - mse: 94922.7109 - val_loss: 997.9373 - val_mae: 997.9373 - val_mse: 2352300.0000\n",
            "Epoch 51/100\n",
            "16/16 [==============================] - 0s 3ms/step - loss: 143.3523 - mae: 143.3523 - mse: 95824.1562 - val_loss: 880.5754 - val_mae: 880.5754 - val_mse: 1958836.5000\n",
            "INFO:tensorflow:Assets written to: model_experiments/model_1_dense/assets\n",
            "Epoch 52/100\n",
            "16/16 [==============================] - 0s 3ms/step - loss: 137.2052 - mae: 137.2052 - mse: 91070.2422 - val_loss: 892.5730 - val_mae: 892.5730 - val_mse: 1966985.2500\n",
            "Epoch 53/100\n",
            "16/16 [==============================] - 0s 3ms/step - loss: 136.9759 - mae: 136.9759 - mse: 89994.1328 - val_loss: 879.4794 - val_mae: 879.4794 - val_mse: 1950539.5000\n",
            "INFO:tensorflow:Assets written to: model_experiments/model_1_dense/assets\n",
            "Epoch 54/100\n",
            "16/16 [==============================] - 0s 3ms/step - loss: 135.6970 - mae: 135.6970 - mse: 90257.5312 - val_loss: 894.4449 - val_mae: 894.4449 - val_mse: 1966523.7500\n",
            "Epoch 55/100\n",
            "16/16 [==============================] - 0s 3ms/step - loss: 138.7739 - mae: 138.7739 - mse: 90877.9375 - val_loss: 1154.7411 - val_mae: 1154.7411 - val_mse: 2775388.2500\n",
            "Epoch 56/100\n",
            "16/16 [==============================] - 0s 3ms/step - loss: 146.4352 - mae: 146.4352 - mse: 94445.2969 - val_loss: 923.7012 - val_mae: 923.7012 - val_mse: 2027593.5000\n",
            "Epoch 57/100\n",
            "16/16 [==============================] - 0s 2ms/step - loss: 136.8338 - mae: 136.8338 - mse: 90219.9766 - val_loss: 891.7520 - val_mae: 891.7520 - val_mse: 1958789.7500\n",
            "Epoch 58/100\n",
            "16/16 [==============================] - 0s 3ms/step - loss: 138.3973 - mae: 138.3973 - mse: 90668.9141 - val_loss: 883.7335 - val_mae: 883.7335 - val_mse: 1944264.6250\n",
            "Epoch 59/100\n",
            "16/16 [==============================] - 0s 3ms/step - loss: 136.3611 - mae: 136.3611 - mse: 90406.5625 - val_loss: 875.2753 - val_mae: 875.2753 - val_mse: 1932333.7500\n",
            "INFO:tensorflow:Assets written to: model_experiments/model_1_dense/assets\n",
            "Epoch 60/100\n",
            "16/16 [==============================] - 0s 2ms/step - loss: 142.2346 - mae: 142.2346 - mse: 92922.8750 - val_loss: 957.1745 - val_mae: 957.1745 - val_mse: 2194597.7500\n",
            "Epoch 61/100\n",
            "16/16 [==============================] - 0s 3ms/step - loss: 142.2369 - mae: 142.2369 - mse: 94304.6406 - val_loss: 878.4980 - val_mae: 878.4980 - val_mse: 1932134.6250\n",
            "Epoch 62/100\n",
            "16/16 [==============================] - 0s 2ms/step - loss: 136.0274 - mae: 136.0274 - mse: 89422.1016 - val_loss: 880.9412 - val_mae: 880.9412 - val_mse: 1972954.8750\n",
            "Epoch 63/100\n",
            "16/16 [==============================] - 0s 3ms/step - loss: 136.0355 - mae: 136.0355 - mse: 89949.4062 - val_loss: 875.2388 - val_mae: 875.2388 - val_mse: 1957319.7500\n",
            "INFO:tensorflow:Assets written to: model_experiments/model_1_dense/assets\n",
            "Epoch 64/100\n",
            "16/16 [==============================] - 0s 2ms/step - loss: 134.5127 - mae: 134.5127 - mse: 89150.5469 - val_loss: 868.6578 - val_mae: 868.6578 - val_mse: 1916945.3750\n",
            "INFO:tensorflow:Assets written to: model_experiments/model_1_dense/assets\n",
            "Epoch 65/100\n",
            "16/16 [==============================] - 0s 2ms/step - loss: 139.0183 - mae: 139.0183 - mse: 90151.5078 - val_loss: 867.7258 - val_mae: 867.7258 - val_mse: 1913713.3750\n",
            "INFO:tensorflow:Assets written to: model_experiments/model_1_dense/assets\n",
            "Epoch 66/100\n",
            "16/16 [==============================] - 0s 2ms/step - loss: 138.8651 - mae: 138.8651 - mse: 88507.8750 - val_loss: 890.0367 - val_mae: 890.0367 - val_mse: 1946607.6250\n",
            "Epoch 67/100\n",
            "16/16 [==============================] - 0s 2ms/step - loss: 133.6084 - mae: 133.6084 - mse: 88665.7734 - val_loss: 870.4308 - val_mae: 870.4308 - val_mse: 1943216.3750\n",
            "Epoch 68/100\n",
            "16/16 [==============================] - 0s 2ms/step - loss: 133.5422 - mae: 133.5422 - mse: 88308.8750 - val_loss: 862.9616 - val_mae: 862.9616 - val_mse: 1916779.8750\n",
            "INFO:tensorflow:Assets written to: model_experiments/model_1_dense/assets\n",
            "Epoch 69/100\n",
            "16/16 [==============================] - 0s 2ms/step - loss: 134.3351 - mae: 134.3351 - mse: 87881.2812 - val_loss: 874.8241 - val_mae: 874.8241 - val_mse: 1954446.1250\n",
            "Epoch 70/100\n",
            "16/16 [==============================] - 0s 2ms/step - loss: 134.3699 - mae: 134.3699 - mse: 87953.7188 - val_loss: 863.4809 - val_mae: 863.4809 - val_mse: 1900829.5000\n",
            "Epoch 71/100\n",
            "16/16 [==============================] - 0s 2ms/step - loss: 134.0535 - mae: 134.0535 - mse: 87455.4453 - val_loss: 876.7596 - val_mae: 876.7596 - val_mse: 1959447.7500\n",
            "Epoch 72/100\n",
            "16/16 [==============================] - 0s 3ms/step - loss: 138.4716 - mae: 138.4716 - mse: 89655.8438 - val_loss: 930.9036 - val_mae: 930.9036 - val_mse: 2036813.5000\n",
            "Epoch 73/100\n",
            "16/16 [==============================] - 0s 3ms/step - loss: 135.5435 - mae: 135.5435 - mse: 88617.8047 - val_loss: 918.2773 - val_mae: 918.2773 - val_mse: 2005831.3750\n",
            "Epoch 74/100\n",
            "16/16 [==============================] - 0s 3ms/step - loss: 138.1876 - mae: 138.1876 - mse: 89821.3125 - val_loss: 860.9404 - val_mae: 860.9404 - val_mse: 1910828.7500\n",
            "INFO:tensorflow:Assets written to: model_experiments/model_1_dense/assets\n",
            "Epoch 75/100\n",
            "16/16 [==============================] - 0s 2ms/step - loss: 137.0054 - mae: 137.0054 - mse: 89664.5391 - val_loss: 870.5230 - val_mae: 870.5230 - val_mse: 1903735.7500\n",
            "Epoch 76/100\n",
            "16/16 [==============================] - 0s 2ms/step - loss: 133.2669 - mae: 133.2669 - mse: 86982.5703 - val_loss: 942.1888 - val_mae: 942.1888 - val_mse: 2144942.2500\n",
            "Epoch 77/100\n",
            "16/16 [==============================] - 0s 2ms/step - loss: 139.2806 - mae: 139.2806 - mse: 88569.9609 - val_loss: 867.2706 - val_mae: 867.2706 - val_mse: 1932204.5000\n",
            "Epoch 78/100\n",
            "16/16 [==============================] - 0s 3ms/step - loss: 136.3636 - mae: 136.3636 - mse: 89797.0391 - val_loss: 934.6494 - val_mae: 934.6494 - val_mse: 2045397.0000\n",
            "Epoch 79/100\n",
            "16/16 [==============================] - 0s 2ms/step - loss: 138.7035 - mae: 138.7035 - mse: 89584.0156 - val_loss: 920.1157 - val_mae: 920.1157 - val_mse: 2009377.0000\n",
            "Epoch 80/100\n",
            "16/16 [==============================] - 0s 2ms/step - loss: 135.1222 - mae: 135.1222 - mse: 88196.5938 - val_loss: 882.0981 - val_mae: 882.0981 - val_mse: 1969950.5000\n",
            "Epoch 81/100\n",
            "16/16 [==============================] - 0s 2ms/step - loss: 135.6848 - mae: 135.6848 - mse: 86793.9219 - val_loss: 920.3315 - val_mae: 920.3315 - val_mse: 2075984.5000\n",
            "Epoch 82/100\n",
            "16/16 [==============================] - 0s 3ms/step - loss: 134.0432 - mae: 134.0432 - mse: 87797.5547 - val_loss: 855.4281 - val_mae: 855.4281 - val_mse: 1882361.6250\n",
            "INFO:tensorflow:Assets written to: model_experiments/model_1_dense/assets\n",
            "Epoch 83/100\n",
            "16/16 [==============================] - 0s 2ms/step - loss: 132.2443 - mae: 132.2443 - mse: 86592.8438 - val_loss: 894.0651 - val_mae: 894.0651 - val_mse: 2001231.8750\n",
            "Epoch 84/100\n",
            "16/16 [==============================] - 0s 3ms/step - loss: 138.8870 - mae: 138.8870 - mse: 91965.5312 - val_loss: 857.3538 - val_mae: 857.3538 - val_mse: 1899623.0000\n",
            "Epoch 85/100\n",
            "16/16 [==============================] - 0s 2ms/step - loss: 138.1972 - mae: 138.1972 - mse: 89195.0781 - val_loss: 921.0096 - val_mae: 921.0096 - val_mse: 2075868.1250\n",
            "Epoch 86/100\n",
            "16/16 [==============================] - 0s 2ms/step - loss: 141.8720 - mae: 141.8720 - mse: 92051.2188 - val_loss: 946.5893 - val_mae: 946.5893 - val_mse: 2075632.0000\n",
            "Epoch 87/100\n",
            "16/16 [==============================] - 0s 3ms/step - loss: 142.0326 - mae: 142.0326 - mse: 93172.3125 - val_loss: 855.9382 - val_mae: 855.9382 - val_mse: 1878595.7500\n",
            "Epoch 88/100\n",
            "16/16 [==============================] - 0s 2ms/step - loss: 136.8190 - mae: 136.8190 - mse: 90200.0000 - val_loss: 920.1672 - val_mae: 920.1672 - val_mse: 2008782.6250\n",
            "Epoch 89/100\n",
            "16/16 [==============================] - 0s 3ms/step - loss: 141.2835 - mae: 141.2835 - mse: 89788.1094 - val_loss: 919.5999 - val_mae: 919.5999 - val_mse: 2007295.7500\n",
            "Epoch 90/100\n",
            "16/16 [==============================] - 0s 3ms/step - loss: 134.0005 - mae: 134.0005 - mse: 87547.2734 - val_loss: 858.0465 - val_mae: 858.0465 - val_mse: 1878323.7500\n",
            "Epoch 91/100\n",
            "16/16 [==============================] - 0s 3ms/step - loss: 132.8427 - mae: 132.8427 - mse: 87316.3828 - val_loss: 856.5359 - val_mae: 856.5359 - val_mse: 1897549.8750\n",
            "Epoch 92/100\n",
            "16/16 [==============================] - 0s 2ms/step - loss: 132.7105 - mae: 132.7105 - mse: 86285.6953 - val_loss: 850.7949 - val_mae: 850.7949 - val_mse: 1874063.5000\n",
            "INFO:tensorflow:Assets written to: model_experiments/model_1_dense/assets\n",
            "Epoch 93/100\n",
            "16/16 [==============================] - 0s 2ms/step - loss: 137.8761 - mae: 137.8761 - mse: 90124.8125 - val_loss: 887.2618 - val_mae: 887.2618 - val_mse: 1932254.6250\n",
            "Epoch 94/100\n",
            "16/16 [==============================] - 0s 2ms/step - loss: 138.5461 - mae: 138.5461 - mse: 91230.3438 - val_loss: 850.0745 - val_mae: 850.0745 - val_mse: 1867385.7500\n",
            "INFO:tensorflow:Assets written to: model_experiments/model_1_dense/assets\n",
            "Epoch 95/100\n",
            "16/16 [==============================] - 0s 3ms/step - loss: 132.0541 - mae: 132.0541 - mse: 85365.2969 - val_loss: 849.2312 - val_mae: 849.2312 - val_mse: 1869035.7500\n",
            "INFO:tensorflow:Assets written to: model_experiments/model_1_dense/assets\n",
            "Epoch 96/100\n",
            "16/16 [==============================] - 0s 2ms/step - loss: 132.9975 - mae: 132.9975 - mse: 86841.3828 - val_loss: 865.4144 - val_mae: 865.4144 - val_mse: 1923732.8750\n",
            "Epoch 97/100\n",
            "16/16 [==============================] - 0s 2ms/step - loss: 131.8176 - mae: 131.8176 - mse: 85557.2422 - val_loss: 860.5660 - val_mae: 860.5660 - val_mse: 1880382.8750\n",
            "Epoch 98/100\n",
            "16/16 [==============================] - 0s 2ms/step - loss: 132.8385 - mae: 132.8385 - mse: 85999.0156 - val_loss: 913.1323 - val_mae: 913.1323 - val_mse: 2053245.7500\n",
            "Epoch 99/100\n",
            "16/16 [==============================] - 0s 2ms/step - loss: 132.9839 - mae: 132.9839 - mse: 85912.3672 - val_loss: 879.6438 - val_mae: 879.6438 - val_mse: 1914634.5000\n",
            "Epoch 100/100\n",
            "16/16 [==============================] - 0s 3ms/step - loss: 133.1642 - mae: 133.1642 - mse: 86038.6562 - val_loss: 862.7800 - val_mae: 862.7800 - val_mse: 1915988.8750\n"
          ]
        },
        {
          "output_type": "execute_result",
          "data": {
            "text/plain": [
              "<keras.callbacks.History at 0x7ff89941a390>"
            ]
          },
          "metadata": {},
          "execution_count": 49
        }
      ]
    },
    {
      "cell_type": "code",
      "metadata": {
        "colab": {
          "base_uri": "https://localhost:8080/"
        },
        "id": "VZxXVN6Jr6EE",
        "outputId": "a69c4ee6-8834-4ed9-e373-d1e39aac7bd7"
      },
      "source": [
        "naive_results\n"
      ],
      "execution_count": 50,
      "outputs": [
        {
          "output_type": "execute_result",
          "data": {
            "text/plain": [
              "{'mae': 839.7061,\n",
              " 'mape': 2.6012962,\n",
              " 'mase': 0.9982083,\n",
              " 'mse': 1825811.2,\n",
              " 'rmse': 1351.2258}"
            ]
          },
          "metadata": {},
          "execution_count": 50
        }
      ]
    },
    {
      "cell_type": "code",
      "metadata": {
        "colab": {
          "base_uri": "https://localhost:8080/"
        },
        "id": "UY60ZDz1sNWx",
        "outputId": "35abbc47-041a-4cd7-99a9-a1561b92644a"
      },
      "source": [
        "# Evaluate model on test_data\n",
        "model_1.evaluate(test_windows, test_labels)"
      ],
      "execution_count": 51,
      "outputs": [
        {
          "output_type": "stream",
          "name": "stdout",
          "text": [
            "16/16 [==============================] - 0s 964us/step - loss: 862.7799 - mae: 862.7799 - mse: 1915988.7500\n"
          ]
        },
        {
          "output_type": "execute_result",
          "data": {
            "text/plain": [
              "[862.7799072265625, 862.7799072265625, 1915988.75]"
            ]
          },
          "metadata": {},
          "execution_count": 51
        }
      ]
    },
    {
      "cell_type": "code",
      "metadata": {
        "colab": {
          "base_uri": "https://localhost:8080/"
        },
        "id": "7rv8iWzKssjI",
        "outputId": "ce172255-88e6-4f54-cfbf-c2bc9419ae86"
      },
      "source": [
        "# Load in saved best performing model_1 and evaluate it on test data\n",
        "model_1 = tf.keras.models.load_model(\"/content/model_experiments/model_1_dense\")\n",
        "model_1.evaluate(test_windows, test_labels)"
      ],
      "execution_count": 52,
      "outputs": [
        {
          "output_type": "stream",
          "name": "stdout",
          "text": [
            "16/16 [==============================] - 0s 966us/step - loss: 849.2312 - mae: 849.2312 - mse: 1869035.7500\n"
          ]
        },
        {
          "output_type": "execute_result",
          "data": {
            "text/plain": [
              "[849.231201171875, 849.231201171875, 1869035.75]"
            ]
          },
          "metadata": {},
          "execution_count": 52
        }
      ]
    },
    {
      "cell_type": "markdown",
      "metadata": {
        "id": "pGV94gevtis_"
      },
      "source": [
        "## Making predictions with a model (on the test dataset)"
      ]
    },
    {
      "cell_type": "markdown",
      "metadata": {
        "id": "_aPllnRZuUGL"
      },
      "source": [
        "The function will:\n",
        "* Take in a train model\n",
        "* Take in some input data (same kind of data the model was trained on)\n",
        "* Pass the input data to the model's predict method\n",
        "* Return the predictions"
      ]
    },
    {
      "cell_type": "code",
      "metadata": {
        "id": "r_xktEsZuq8f"
      },
      "source": [
        "def make_preds(model, input_data):\n",
        "  \"\"\"\n",
        "  Uses model to make predictions on input_data\n",
        "  \"\"\"\n",
        "\n",
        "  preds = model.predict(input_data)\n",
        "  return tf.squeeze(preds) # return 1D array of preds"
      ],
      "execution_count": 53,
      "outputs": []
    },
    {
      "cell_type": "code",
      "metadata": {
        "colab": {
          "base_uri": "https://localhost:8080/"
        },
        "id": "bz6Vl4djvF4-",
        "outputId": "51de1da0-ab87-40a6-956d-74ca1f00edb1"
      },
      "source": [
        "# Make predictions using model_1 on the test dataset and view results\n",
        "model_1_preds = make_preds(model_1, test_windows)\n",
        "len(model_1_preds), model_1_preds[:10]"
      ],
      "execution_count": 54,
      "outputs": [
        {
          "output_type": "execute_result",
          "data": {
            "text/plain": [
              "(500, <tf.Tensor: shape=(10,), dtype=float32, numpy=\n",
              " array([8911.257, 8966.168, 8995.144, 8923.639, 8979.297, 9331.855,\n",
              "        9850.186, 9974.819, 9715.682, 8961.777], dtype=float32)>)"
            ]
          },
          "metadata": {},
          "execution_count": 54
        }
      ]
    },
    {
      "cell_type": "code",
      "metadata": {
        "colab": {
          "base_uri": "https://localhost:8080/"
        },
        "id": "uFtEGGAOwM8E",
        "outputId": "6e9f2d94-81bd-4333-ab87-8bb0afea1e53"
      },
      "source": [
        "tf.squeeze(test_labels).shape, model_1_preds.shape"
      ],
      "execution_count": 55,
      "outputs": [
        {
          "output_type": "execute_result",
          "data": {
            "text/plain": [
              "(TensorShape([500]), TensorShape([500]))"
            ]
          },
          "metadata": {},
          "execution_count": 55
        }
      ]
    },
    {
      "cell_type": "code",
      "metadata": {
        "id": "JZAjkOZvvx-w"
      },
      "source": [
        "# Evaluate preds\n",
        "model_1_results = evaluate_preds(y_true=tf.squeeze(test_labels),\n",
        "                                 y_pred=model_1_preds)"
      ],
      "execution_count": 56,
      "outputs": []
    },
    {
      "cell_type": "code",
      "metadata": {
        "colab": {
          "base_uri": "https://localhost:8080/"
        },
        "id": "f3GuycxQv4Dn",
        "outputId": "566f13ea-098e-40b4-e7b2-812426073e62"
      },
      "source": [
        "model_1_results"
      ],
      "execution_count": 57,
      "outputs": [
        {
          "output_type": "execute_result",
          "data": {
            "text/plain": [
              "{'mae': 849.2311,\n",
              " 'mape': 2.6299298,\n",
              " 'mase': 1.007774,\n",
              " 'mse': 1869035.6,\n",
              " 'rmse': 1367.1268}"
            ]
          },
          "metadata": {},
          "execution_count": 57
        }
      ]
    },
    {
      "cell_type": "code",
      "metadata": {
        "colab": {
          "base_uri": "https://localhost:8080/"
        },
        "id": "UUGR1EIzwier",
        "outputId": "9ecc48cf-c3ef-4939-8c0b-2a6e0abf55b2"
      },
      "source": [
        "naive_results"
      ],
      "execution_count": 58,
      "outputs": [
        {
          "output_type": "execute_result",
          "data": {
            "text/plain": [
              "{'mae': 839.7061,\n",
              " 'mape': 2.6012962,\n",
              " 'mase': 0.9982083,\n",
              " 'mse': 1825811.2,\n",
              " 'rmse': 1351.2258}"
            ]
          },
          "metadata": {},
          "execution_count": 58
        }
      ]
    },
    {
      "cell_type": "code",
      "metadata": {
        "colab": {
          "base_uri": "https://localhost:8080/",
          "height": 0
        },
        "id": "kx0aERVkwmAv",
        "outputId": "10575858-36d2-4ac7-9ffa-45b98f74eaf7"
      },
      "source": [
        "# Let's plot our model 1 predictions\n",
        "offset = 450\n",
        "plt.figure(figsize=(10,7))\n",
        "# Account for test_window offfset and index into test_labels\n",
        "plot_time_series(timesteps=X_test[-len(test_windows):],\n",
        "                 values=test_labels[:,0],\n",
        "                 start=offset,\n",
        "                 label=\"Test Data\")\n",
        "\n",
        "plot_time_series(timesteps=X_test[-len(test_windows):],\n",
        "                 values=model_1_preds,\n",
        "                 start=offset,\n",
        "                 format='-',\n",
        "                 label=\"Model_1_preds\")"
      ],
      "execution_count": 59,
      "outputs": [
        {
          "output_type": "display_data",
          "data": {
            "image/png": "[encoded data removed]",
            "text/plain": [
              "<Figure size 720x504 with 1 Axes>"
            ]
          },
          "metadata": {
            "needs_background": "light"
          }
        }
      ]
    },
    {
      "cell_type": "markdown",
      "metadata": {
        "id": "5ylxffwAxiMr"
      },
      "source": [
        "## Model 2: Dense, window size=30, horizon=1"
      ]
    },
    {
      "cell_type": "code",
      "metadata": {
        "id": "jiCdTKoy9YmC"
      },
      "source": [
        "HORIZON=1\n",
        "WINDOW_SIZE=30"
      ],
      "execution_count": 60,
      "outputs": []
    },
    {
      "cell_type": "code",
      "metadata": {
        "colab": {
          "base_uri": "https://localhost:8080/"
        },
        "id": "hL8ZGjDr5n_X",
        "outputId": "c2ee0803-574d-4191-a769-68a5ac4f934f"
      },
      "source": [
        "full_windows_30, full_labels_30 = make_windows(prices, window_size=WINDOW_SIZE, horizon=HORIZON)\n",
        "len(full_windows_30), len(full_labels_30)"
      ],
      "execution_count": 61,
      "outputs": [
        {
          "output_type": "execute_result",
          "data": {
            "text/plain": [
              "(2477, 2477)"
            ]
          },
          "metadata": {},
          "execution_count": 61
        }
      ]
    },
    {
      "cell_type": "code",
      "metadata": {
        "id": "s4k5YO_T6CEl"
      },
      "source": [
        "train_windows_30, test_windows_30, train_labels_30, test_labels_30 = make_train_test_splits(windows=full_windows_30, labels=full_labels_30)"
      ],
      "execution_count": 62,
      "outputs": []
    },
    {
      "cell_type": "code",
      "metadata": {
        "id": "T80rk5l75DSD"
      },
      "source": [
        "import tensorflow as tf\n",
        "from tensorflow.keras.layers import Dense\n",
        "\n",
        "# Set the random seed\n",
        "tf.random.set_seed(42)\n",
        "\n",
        "# Construct a model\n",
        "model_2 = tf.keras.Sequential([\n",
        "    Dense(128, activation=\"relu\"),\n",
        "    Dense(HORIZON, activation=\"linear\")\n",
        "], name=\"model_2_dense\" #will be used for model checkpoints\n",
        ")\n",
        "\n",
        "# Compile the model\n",
        "model_2.compile(loss='mae',\n",
        "                optimizer='adam',\n",
        "                metrics=['mae', 'mse'])"
      ],
      "execution_count": 63,
      "outputs": []
    },
    {
      "cell_type": "code",
      "metadata": {
        "colab": {
          "base_uri": "https://localhost:8080/"
        },
        "id": "OOVtFVjT5LQR",
        "outputId": "acc1498f-6265-4721-ec1c-966df85d8d86"
      },
      "source": [
        "# Fit the model\n",
        "model_2.fit(x=train_windows_30,\n",
        "            y=train_labels_30,\n",
        "            epochs=100,\n",
        "            verbose=1,\n",
        "            batch_size=128,\n",
        "            validation_data=(test_windows_30, test_labels_30),\n",
        "            callbacks=[create_model_checkpoint(model_name=model_2.name)])"
      ],
      "execution_count": 64,
      "outputs": [
        {
          "output_type": "stream",
          "name": "stdout",
          "text": [
            "Epoch 1/100\n",
            "16/16 [==============================] - 0s 9ms/step - loss: 1459.1494 - mae: 1459.1494 - mse: 6641770.0000 - val_loss: 6880.8169 - val_mae: 6880.8169 - val_mse: 75252104.0000\n",
            "INFO:tensorflow:Assets written to: model_experiments/model_2_dense/assets\n",
            "Epoch 2/100\n",
            "16/16 [==============================] - 0s 2ms/step - loss: 612.3653 - mae: 612.3653 - mse: 1293884.8750 - val_loss: 3214.8215 - val_mae: 3214.8215 - val_mse: 21817592.0000\n",
            "INFO:tensorflow:Assets written to: model_experiments/model_2_dense/assets\n",
            "Epoch 3/100\n",
            "16/16 [==============================] - 0s 3ms/step - loss: 405.6785 - mae: 405.6785 - mse: 623079.7500 - val_loss: 2198.3684 - val_mae: 2198.3684 - val_mse: 11344491.0000\n",
            "INFO:tensorflow:Assets written to: model_experiments/model_2_dense/assets\n",
            "Epoch 4/100\n",
            "16/16 [==============================] - 0s 2ms/step - loss: 313.1500 - mae: 313.1500 - mse: 386446.4688 - val_loss: 1925.9360 - val_mae: 1925.9360 - val_mse: 9023485.0000\n",
            "INFO:tensorflow:Assets written to: model_experiments/model_2_dense/assets\n",
            "Epoch 5/100\n",
            "16/16 [==============================] - 0s 3ms/step - loss: 276.7010 - mae: 276.7010 - mse: 299475.2500 - val_loss: 1812.6063 - val_mae: 1812.6063 - val_mse: 7179632.0000\n",
            "INFO:tensorflow:Assets written to: model_experiments/model_2_dense/assets\n",
            "Epoch 6/100\n",
            "16/16 [==============================] - 0s 2ms/step - loss: 261.3859 - mae: 261.3859 - mse: 255989.3906 - val_loss: 2077.6917 - val_mae: 2077.6917 - val_mse: 8332671.5000\n",
            "Epoch 7/100\n",
            "16/16 [==============================] - 0s 3ms/step - loss: 262.0562 - mae: 262.0562 - mse: 256973.7969 - val_loss: 1567.0623 - val_mae: 1567.0623 - val_mse: 6071068.5000\n",
            "INFO:tensorflow:Assets written to: model_experiments/model_2_dense/assets\n",
            "Epoch 8/100\n",
            "16/16 [==============================] - 0s 3ms/step - loss: 235.8724 - mae: 235.8724 - mse: 219996.7188 - val_loss: 1584.8475 - val_mae: 1584.8475 - val_mse: 5504319.0000\n",
            "Epoch 9/100\n",
            "16/16 [==============================] - 0s 2ms/step - loss: 223.8448 - mae: 223.8448 - mse: 205261.0156 - val_loss: 1482.6733 - val_mae: 1482.6733 - val_mse: 5111414.5000\n",
            "INFO:tensorflow:Assets written to: model_experiments/model_2_dense/assets\n",
            "Epoch 10/100\n",
            "16/16 [==============================] - 0s 3ms/step - loss: 215.3191 - mae: 215.3191 - mse: 190018.5625 - val_loss: 1618.1985 - val_mae: 1618.1985 - val_mse: 6360591.5000\n",
            "Epoch 11/100\n",
            "16/16 [==============================] - 0s 3ms/step - loss: 240.0788 - mae: 240.0788 - mse: 214562.7031 - val_loss: 1655.8341 - val_mae: 1655.8341 - val_mse: 5597818.5000\n",
            "Epoch 12/100\n",
            "16/16 [==============================] - 0s 3ms/step - loss: 224.1848 - mae: 224.1848 - mse: 191090.2344 - val_loss: 1656.0311 - val_mae: 1656.0311 - val_mse: 5596249.0000\n",
            "Epoch 13/100\n",
            "16/16 [==============================] - 0s 3ms/step - loss: 228.3887 - mae: 228.3887 - mse: 194414.0312 - val_loss: 1407.1913 - val_mae: 1407.1913 - val_mse: 4664811.0000\n",
            "INFO:tensorflow:Assets written to: model_experiments/model_2_dense/assets\n",
            "Epoch 14/100\n",
            "16/16 [==============================] - 0s 2ms/step - loss: 198.5529 - mae: 198.5529 - mse: 166691.3906 - val_loss: 1396.4506 - val_mae: 1396.4506 - val_mse: 4396477.0000\n",
            "INFO:tensorflow:Assets written to: model_experiments/model_2_dense/assets\n",
            "Epoch 15/100\n",
            "16/16 [==============================] - 0s 2ms/step - loss: 195.8688 - mae: 195.8688 - mse: 162328.2812 - val_loss: 1492.6240 - val_mae: 1492.6240 - val_mse: 5331279.5000\n",
            "Epoch 16/100\n",
            "16/16 [==============================] - 0s 2ms/step - loss: 217.3331 - mae: 217.3331 - mse: 177417.9219 - val_loss: 1389.6926 - val_mae: 1389.6926 - val_mse: 4560427.5000\n",
            "INFO:tensorflow:Assets written to: model_experiments/model_2_dense/assets\n",
            "Epoch 17/100\n",
            "16/16 [==============================] - 0s 2ms/step - loss: 200.2878 - mae: 200.2878 - mse: 164506.2969 - val_loss: 1316.0403 - val_mae: 1316.0403 - val_mse: 4006783.2500\n",
            "INFO:tensorflow:Assets written to: model_experiments/model_2_dense/assets\n",
            "Epoch 18/100\n",
            "16/16 [==============================] - 0s 2ms/step - loss: 213.2268 - mae: 213.2268 - mse: 172947.8906 - val_loss: 1317.0677 - val_mae: 1317.0677 - val_mse: 4058233.2500\n",
            "Epoch 19/100\n",
            "16/16 [==============================] - 0s 3ms/step - loss: 206.5446 - mae: 206.5446 - mse: 169956.7812 - val_loss: 1888.9763 - val_mae: 1888.9763 - val_mse: 6889618.0000\n",
            "Epoch 20/100\n",
            "16/16 [==============================] - 0s 2ms/step - loss: 239.2436 - mae: 239.2436 - mse: 195465.3438 - val_loss: 1618.1442 - val_mae: 1618.1442 - val_mse: 6084221.0000\n",
            "Epoch 21/100\n",
            "16/16 [==============================] - 0s 3ms/step - loss: 211.1729 - mae: 211.1729 - mse: 175270.4219 - val_loss: 1329.7225 - val_mae: 1329.7225 - val_mse: 3947284.5000\n",
            "Epoch 22/100\n",
            "16/16 [==============================] - 0s 3ms/step - loss: 189.9213 - mae: 189.9213 - mse: 151214.4219 - val_loss: 1487.3904 - val_mae: 1487.3904 - val_mse: 4659967.0000\n",
            "Epoch 23/100\n",
            "16/16 [==============================] - 0s 3ms/step - loss: 192.6004 - mae: 192.6004 - mse: 150531.4531 - val_loss: 1245.9059 - val_mae: 1245.9059 - val_mse: 3562782.5000\n",
            "INFO:tensorflow:Assets written to: model_experiments/model_2_dense/assets\n",
            "Epoch 24/100\n",
            "16/16 [==============================] - 0s 3ms/step - loss: 187.2954 - mae: 187.2954 - mse: 146808.3438 - val_loss: 1549.6553 - val_mae: 1549.6553 - val_mse: 5541793.0000\n",
            "Epoch 25/100\n",
            "16/16 [==============================] - 0s 2ms/step - loss: 204.9922 - mae: 204.9922 - mse: 164770.4844 - val_loss: 1296.9226 - val_mae: 1296.9226 - val_mse: 3997933.5000\n",
            "Epoch 26/100\n",
            "16/16 [==============================] - 0s 3ms/step - loss: 191.7158 - mae: 191.7158 - mse: 150664.8594 - val_loss: 1210.0819 - val_mae: 1210.0819 - val_mse: 3408095.0000\n",
            "INFO:tensorflow:Assets written to: model_experiments/model_2_dense/assets\n",
            "Epoch 27/100\n",
            "16/16 [==============================] - 0s 3ms/step - loss: 193.6691 - mae: 193.6691 - mse: 150993.9531 - val_loss: 1359.4231 - val_mae: 1359.4231 - val_mse: 3979693.5000\n",
            "Epoch 28/100\n",
            "16/16 [==============================] - 0s 2ms/step - loss: 210.8138 - mae: 210.8138 - mse: 163781.7031 - val_loss: 1197.5303 - val_mae: 1197.5303 - val_mse: 3361754.2500\n",
            "INFO:tensorflow:Assets written to: model_experiments/model_2_dense/assets\n",
            "Epoch 29/100\n",
            "16/16 [==============================] - 0s 2ms/step - loss: 180.0730 - mae: 180.0730 - mse: 135911.7031 - val_loss: 1326.8651 - val_mae: 1326.8651 - val_mse: 3807788.7500\n",
            "Epoch 30/100\n",
            "16/16 [==============================] - 0s 3ms/step - loss: 202.1232 - mae: 202.1232 - mse: 158759.8906 - val_loss: 1399.5500 - val_mae: 1399.5500 - val_mse: 4108209.0000\n",
            "Epoch 31/100\n",
            "16/16 [==============================] - 0s 2ms/step - loss: 185.3582 - mae: 185.3582 - mse: 136994.7188 - val_loss: 1163.4865 - val_mae: 1163.4865 - val_mse: 3177086.7500\n",
            "INFO:tensorflow:Assets written to: model_experiments/model_2_dense/assets\n",
            "Epoch 32/100\n",
            "16/16 [==============================] - 0s 2ms/step - loss: 178.4424 - mae: 178.4424 - mse: 136258.9375 - val_loss: 1300.0428 - val_mae: 1300.0428 - val_mse: 4034631.7500\n",
            "Epoch 33/100\n",
            "16/16 [==============================] - 0s 3ms/step - loss: 178.3300 - mae: 178.3300 - mse: 132760.2656 - val_loss: 1147.3792 - val_mae: 1147.3792 - val_mse: 3110634.2500\n",
            "INFO:tensorflow:Assets written to: model_experiments/model_2_dense/assets\n",
            "Epoch 34/100\n",
            "16/16 [==============================] - 0s 3ms/step - loss: 176.2682 - mae: 176.2682 - mse: 131839.3125 - val_loss: 1181.1761 - val_mae: 1181.1761 - val_mse: 3361861.2500\n",
            "Epoch 35/100\n",
            "16/16 [==============================] - 0s 2ms/step - loss: 180.3782 - mae: 180.3782 - mse: 132093.0000 - val_loss: 1330.2739 - val_mae: 1330.2739 - val_mse: 4175621.7500\n",
            "Epoch 36/100\n",
            "16/16 [==============================] - 0s 3ms/step - loss: 173.6338 - mae: 173.6338 - mse: 125432.0781 - val_loss: 1126.5006 - val_mae: 1126.5006 - val_mse: 3020619.2500\n",
            "INFO:tensorflow:Assets written to: model_experiments/model_2_dense/assets\n",
            "Epoch 37/100\n",
            "16/16 [==============================] - 0s 2ms/step - loss: 170.9803 - mae: 170.9803 - mse: 125712.2734 - val_loss: 1113.9219 - val_mae: 1113.9219 - val_mse: 2922792.5000\n",
            "INFO:tensorflow:Assets written to: model_experiments/model_2_dense/assets\n",
            "Epoch 38/100\n",
            "16/16 [==============================] - 0s 3ms/step - loss: 175.9044 - mae: 175.9044 - mse: 128659.2109 - val_loss: 1195.9050 - val_mae: 1195.9050 - val_mse: 3173586.0000\n",
            "Epoch 39/100\n",
            "16/16 [==============================] - 0s 2ms/step - loss: 177.3721 - mae: 177.3721 - mse: 132479.1562 - val_loss: 1377.4136 - val_mae: 1377.4136 - val_mse: 3949056.7500\n",
            "Epoch 40/100\n",
            "16/16 [==============================] - 0s 2ms/step - loss: 189.5088 - mae: 189.5088 - mse: 141738.7812 - val_loss: 1100.7052 - val_mae: 1100.7052 - val_mse: 2835289.2500\n",
            "INFO:tensorflow:Assets written to: model_experiments/model_2_dense/assets\n",
            "Epoch 41/100\n",
            "16/16 [==============================] - 0s 2ms/step - loss: 165.4410 - mae: 165.4410 - mse: 118472.6484 - val_loss: 1085.8367 - val_mae: 1085.8367 - val_mse: 2800890.7500\n",
            "INFO:tensorflow:Assets written to: model_experiments/model_2_dense/assets\n",
            "Epoch 42/100\n",
            "16/16 [==============================] - 0s 2ms/step - loss: 172.5625 - mae: 172.5625 - mse: 122680.5938 - val_loss: 1204.8962 - val_mae: 1204.8962 - val_mse: 3181737.0000\n",
            "Epoch 43/100\n",
            "16/16 [==============================] - 0s 2ms/step - loss: 181.9591 - mae: 181.9591 - mse: 133791.0781 - val_loss: 1221.8956 - val_mae: 1221.8956 - val_mse: 3256244.2500\n",
            "Epoch 44/100\n",
            "16/16 [==============================] - 0s 3ms/step - loss: 190.1954 - mae: 190.1954 - mse: 143065.5938 - val_loss: 1163.2798 - val_mae: 1163.2798 - val_mse: 3009903.2500\n",
            "Epoch 45/100\n",
            "16/16 [==============================] - 0s 3ms/step - loss: 191.9836 - mae: 191.9836 - mse: 139998.9688 - val_loss: 1075.6993 - val_mae: 1075.6993 - val_mse: 2716566.2500\n",
            "INFO:tensorflow:Assets written to: model_experiments/model_2_dense/assets\n",
            "Epoch 46/100\n",
            "16/16 [==============================] - 0s 3ms/step - loss: 171.7298 - mae: 171.7298 - mse: 119667.0156 - val_loss: 1127.7855 - val_mae: 1127.7855 - val_mse: 2880120.5000\n",
            "Epoch 47/100\n",
            "16/16 [==============================] - 0s 3ms/step - loss: 168.2224 - mae: 168.2224 - mse: 120578.1406 - val_loss: 1052.9943 - val_mae: 1052.9943 - val_mse: 2638974.5000\n",
            "INFO:tensorflow:Assets written to: model_experiments/model_2_dense/assets\n",
            "Epoch 48/100\n",
            "16/16 [==============================] - 0s 2ms/step - loss: 163.3588 - mae: 163.3588 - mse: 113643.6016 - val_loss: 1047.1516 - val_mae: 1047.1516 - val_mse: 2604193.2500\n",
            "INFO:tensorflow:Assets written to: model_experiments/model_2_dense/assets\n",
            "Epoch 49/100\n",
            "16/16 [==============================] - 0s 3ms/step - loss: 178.0507 - mae: 178.0507 - mse: 126046.2500 - val_loss: 1226.7034 - val_mae: 1226.7034 - val_mse: 3247682.0000\n",
            "Epoch 50/100\n",
            "16/16 [==============================] - 0s 2ms/step - loss: 197.6567 - mae: 197.6567 - mse: 144956.9531 - val_loss: 1167.5829 - val_mae: 1167.5829 - val_mse: 3008360.7500\n",
            "Epoch 51/100\n",
            "16/16 [==============================] - 0s 2ms/step - loss: 180.3904 - mae: 180.3904 - mse: 127617.6094 - val_loss: 1243.6451 - val_mae: 1243.6451 - val_mse: 3308825.7500\n",
            "Epoch 52/100\n",
            "16/16 [==============================] - 0s 3ms/step - loss: 165.8288 - mae: 165.8288 - mse: 114652.6406 - val_loss: 1175.2181 - val_mae: 1175.2181 - val_mse: 3277921.5000\n",
            "Epoch 53/100\n",
            "16/16 [==============================] - 0s 3ms/step - loss: 191.7771 - mae: 191.7771 - mse: 132371.9531 - val_loss: 1854.5133 - val_mae: 1854.5133 - val_mse: 6898114.0000\n",
            "Epoch 54/100\n",
            "16/16 [==============================] - 0s 3ms/step - loss: 193.6065 - mae: 193.6065 - mse: 131655.8281 - val_loss: 1343.2477 - val_mae: 1343.2477 - val_mse: 3740319.5000\n",
            "Epoch 55/100\n",
            "16/16 [==============================] - 0s 3ms/step - loss: 179.0569 - mae: 179.0569 - mse: 125661.6016 - val_loss: 1090.4813 - val_mae: 1090.4813 - val_mse: 2711730.5000\n",
            "Epoch 56/100\n",
            "16/16 [==============================] - 0s 3ms/step - loss: 164.0078 - mae: 164.0078 - mse: 110300.9453 - val_loss: 1092.6736 - val_mae: 1092.6736 - val_mse: 2878169.7500\n",
            "Epoch 57/100\n",
            "16/16 [==============================] - 0s 2ms/step - loss: 157.4182 - mae: 157.4182 - mse: 108652.7188 - val_loss: 1050.1003 - val_mae: 1050.1003 - val_mse: 2669875.5000\n",
            "Epoch 58/100\n",
            "16/16 [==============================] - 0s 3ms/step - loss: 169.6603 - mae: 169.6603 - mse: 117751.0000 - val_loss: 1065.9401 - val_mae: 1065.9401 - val_mse: 2746672.0000\n",
            "Epoch 59/100\n",
            "16/16 [==============================] - 0s 3ms/step - loss: 154.4900 - mae: 154.4900 - mse: 103921.1016 - val_loss: 1005.8882 - val_mae: 1005.8882 - val_mse: 2434845.5000\n",
            "INFO:tensorflow:Assets written to: model_experiments/model_2_dense/assets\n",
            "Epoch 60/100\n",
            "16/16 [==============================] - 0s 2ms/step - loss: 152.5111 - mae: 152.5111 - mse: 103716.3438 - val_loss: 1178.1656 - val_mae: 1178.1656 - val_mse: 3241146.2500\n",
            "Epoch 61/100\n",
            "16/16 [==============================] - 0s 3ms/step - loss: 176.0820 - mae: 176.0820 - mse: 123718.1094 - val_loss: 1013.0170 - val_mae: 1013.0170 - val_mse: 2499335.0000\n",
            "Epoch 62/100\n",
            "16/16 [==============================] - 0s 3ms/step - loss: 163.5437 - mae: 163.5437 - mse: 111022.6016 - val_loss: 1038.6198 - val_mae: 1038.6198 - val_mse: 2507851.2500\n",
            "Epoch 63/100\n",
            "16/16 [==============================] - 0s 3ms/step - loss: 154.7616 - mae: 154.7616 - mse: 105893.3594 - val_loss: 1075.1340 - val_mae: 1075.1340 - val_mse: 2637679.5000\n",
            "Epoch 64/100\n",
            "16/16 [==============================] - 0s 3ms/step - loss: 158.1600 - mae: 158.1600 - mse: 107878.7891 - val_loss: 1149.7469 - val_mae: 1149.7469 - val_mse: 2879107.7500\n",
            "Epoch 65/100\n",
            "16/16 [==============================] - 0s 3ms/step - loss: 170.1244 - mae: 170.1244 - mse: 114087.2500 - val_loss: 1357.3259 - val_mae: 1357.3259 - val_mse: 3753644.5000\n",
            "Epoch 66/100\n",
            "16/16 [==============================] - 0s 2ms/step - loss: 160.3969 - mae: 160.3969 - mse: 110590.3125 - val_loss: 980.7595 - val_mae: 980.7595 - val_mse: 2335589.0000\n",
            "INFO:tensorflow:Assets written to: model_experiments/model_2_dense/assets\n",
            "Epoch 67/100\n",
            "16/16 [==============================] - 0s 2ms/step - loss: 163.6149 - mae: 163.6149 - mse: 111871.8672 - val_loss: 984.1704 - val_mae: 984.1704 - val_mse: 2373898.7500\n",
            "Epoch 68/100\n",
            "16/16 [==============================] - 0s 3ms/step - loss: 152.3127 - mae: 152.3127 - mse: 101137.7500 - val_loss: 978.1863 - val_mae: 978.1863 - val_mse: 2349826.0000\n",
            "INFO:tensorflow:Assets written to: model_experiments/model_2_dense/assets\n",
            "Epoch 69/100\n",
            "16/16 [==============================] - 0s 3ms/step - loss: 152.5934 - mae: 152.5934 - mse: 100009.4766 - val_loss: 1023.9800 - val_mae: 1023.9800 - val_mse: 2433780.5000\n",
            "Epoch 70/100\n",
            "16/16 [==============================] - 0s 3ms/step - loss: 152.6799 - mae: 152.6799 - mse: 103382.3047 - val_loss: 973.2552 - val_mae: 973.2552 - val_mse: 2306183.7500\n",
            "INFO:tensorflow:Assets written to: model_experiments/model_2_dense/assets\n",
            "Epoch 71/100\n",
            "16/16 [==============================] - 0s 2ms/step - loss: 155.2753 - mae: 155.2753 - mse: 104849.4766 - val_loss: 1262.6010 - val_mae: 1262.6010 - val_mse: 3305593.2500\n",
            "Epoch 72/100\n",
            "16/16 [==============================] - 0s 4ms/step - loss: 165.0856 - mae: 165.0856 - mse: 113177.8516 - val_loss: 1048.4202 - val_mae: 1048.4202 - val_mse: 2640619.7500\n",
            "Epoch 73/100\n",
            "16/16 [==============================] - 0s 2ms/step - loss: 157.8121 - mae: 157.8121 - mse: 105497.0703 - val_loss: 960.7563 - val_mae: 960.7563 - val_mse: 2273328.7500\n",
            "INFO:tensorflow:Assets written to: model_experiments/model_2_dense/assets\n",
            "Epoch 74/100\n",
            "16/16 [==============================] - 0s 2ms/step - loss: 152.7139 - mae: 152.7139 - mse: 103896.9062 - val_loss: 1004.3474 - val_mae: 1004.3474 - val_mse: 2360817.0000\n",
            "Epoch 75/100\n",
            "16/16 [==============================] - 0s 3ms/step - loss: 150.6791 - mae: 150.6791 - mse: 102511.4219 - val_loss: 971.9359 - val_mae: 971.9359 - val_mse: 2328888.5000\n",
            "Epoch 76/100\n",
            "16/16 [==============================] - 0s 2ms/step - loss: 154.1459 - mae: 154.1459 - mse: 103628.4453 - val_loss: 990.9130 - val_mae: 990.9130 - val_mse: 2317137.7500\n",
            "Epoch 77/100\n",
            "16/16 [==============================] - 0s 3ms/step - loss: 151.7831 - mae: 151.7831 - mse: 100282.3047 - val_loss: 1003.2634 - val_mae: 1003.2634 - val_mse: 2336644.7500\n",
            "Epoch 78/100\n",
            "16/16 [==============================] - 0s 2ms/step - loss: 154.7852 - mae: 154.7852 - mse: 100434.1797 - val_loss: 1079.0885 - val_mae: 1079.0885 - val_mse: 2727574.2500\n",
            "Epoch 79/100\n",
            "16/16 [==============================] - 0s 2ms/step - loss: 164.1058 - mae: 164.1058 - mse: 104596.0000 - val_loss: 953.1068 - val_mae: 953.1068 - val_mse: 2193950.0000\n",
            "INFO:tensorflow:Assets written to: model_experiments/model_2_dense/assets\n",
            "Epoch 80/100\n",
            "16/16 [==============================] - 0s 3ms/step - loss: 153.8179 - mae: 153.8179 - mse: 102672.1875 - val_loss: 1029.9843 - val_mae: 1029.9843 - val_mse: 2433097.2500\n",
            "Epoch 81/100\n",
            "16/16 [==============================] - 0s 3ms/step - loss: 161.9934 - mae: 161.9934 - mse: 110415.8984 - val_loss: 976.6859 - val_mae: 976.6859 - val_mse: 2334730.2500\n",
            "Epoch 82/100\n",
            "16/16 [==============================] - 0s 3ms/step - loss: 160.6896 - mae: 160.6896 - mse: 104875.8672 - val_loss: 1218.2479 - val_mae: 1218.2479 - val_mse: 3118285.0000\n",
            "Epoch 83/100\n",
            "16/16 [==============================] - 0s 2ms/step - loss: 153.6552 - mae: 153.6552 - mse: 103095.2578 - val_loss: 954.8717 - val_mae: 954.8717 - val_mse: 2180191.0000\n",
            "Epoch 84/100\n",
            "16/16 [==============================] - 0s 2ms/step - loss: 158.3060 - mae: 158.3060 - mse: 103967.3203 - val_loss: 977.2151 - val_mae: 977.2151 - val_mse: 2330100.2500\n",
            "Epoch 85/100\n",
            "16/16 [==============================] - 0s 2ms/step - loss: 148.3601 - mae: 148.3601 - mse: 96646.7578 - val_loss: 1068.0266 - val_mae: 1068.0266 - val_mse: 2665162.7500\n",
            "Epoch 86/100\n",
            "16/16 [==============================] - 0s 3ms/step - loss: 148.9953 - mae: 148.9953 - mse: 97013.1562 - val_loss: 965.6902 - val_mae: 965.6902 - val_mse: 2279886.5000\n",
            "Epoch 87/100\n",
            "16/16 [==============================] - 0s 3ms/step - loss: 150.1825 - mae: 150.1825 - mse: 98715.5703 - val_loss: 1123.6709 - val_mae: 1123.6709 - val_mse: 2738878.5000\n",
            "Epoch 88/100\n",
            "16/16 [==============================] - 0s 2ms/step - loss: 160.9576 - mae: 160.9576 - mse: 105939.8984 - val_loss: 981.5190 - val_mae: 981.5190 - val_mse: 2336518.2500\n",
            "Epoch 89/100\n",
            "16/16 [==============================] - 0s 2ms/step - loss: 148.8002 - mae: 148.8002 - mse: 97785.7266 - val_loss: 1064.0399 - val_mae: 1064.0399 - val_mse: 2526504.7500\n",
            "Epoch 90/100\n",
            "16/16 [==============================] - 0s 3ms/step - loss: 158.0126 - mae: 158.0126 - mse: 104894.9062 - val_loss: 929.2961 - val_mae: 929.2961 - val_mse: 2127253.2500\n",
            "INFO:tensorflow:Assets written to: model_experiments/model_2_dense/assets\n",
            "Epoch 91/100\n",
            "16/16 [==============================] - 0s 2ms/step - loss: 154.6051 - mae: 154.6051 - mse: 103301.7031 - val_loss: 944.9838 - val_mae: 944.9838 - val_mse: 2139337.5000\n",
            "Epoch 92/100\n",
            "16/16 [==============================] - 0s 2ms/step - loss: 150.5014 - mae: 150.5014 - mse: 97878.6719 - val_loss: 1163.8739 - val_mae: 1163.8739 - val_mse: 2887536.0000\n",
            "Epoch 93/100\n",
            "16/16 [==============================] - 0s 3ms/step - loss: 159.2856 - mae: 159.2856 - mse: 103650.5469 - val_loss: 1011.4081 - val_mae: 1011.4081 - val_mse: 2436085.0000\n",
            "Epoch 94/100\n",
            "16/16 [==============================] - 0s 3ms/step - loss: 147.2958 - mae: 147.2958 - mse: 96684.7188 - val_loss: 925.8048 - val_mae: 925.8048 - val_mse: 2126984.5000\n",
            "INFO:tensorflow:Assets written to: model_experiments/model_2_dense/assets\n",
            "Epoch 95/100\n",
            "16/16 [==============================] - 0s 2ms/step - loss: 157.6789 - mae: 157.6789 - mse: 101934.3125 - val_loss: 1026.0387 - val_mae: 1026.0387 - val_mse: 2491052.7500\n",
            "Epoch 96/100\n",
            "16/16 [==============================] - 0s 2ms/step - loss: 188.4552 - mae: 188.4552 - mse: 128955.1797 - val_loss: 1310.1938 - val_mae: 1310.1938 - val_mse: 3690739.7500\n",
            "Epoch 97/100\n",
            "16/16 [==============================] - 0s 2ms/step - loss: 183.0449 - mae: 183.0449 - mse: 114820.0234 - val_loss: 1156.3845 - val_mae: 1156.3845 - val_mse: 3012545.0000\n",
            "Epoch 98/100\n",
            "16/16 [==============================] - 0s 2ms/step - loss: 163.4429 - mae: 163.4429 - mse: 107929.8750 - val_loss: 979.1180 - val_mae: 979.1180 - val_mse: 2227806.7500\n",
            "Epoch 99/100\n",
            "16/16 [==============================] - 0s 4ms/step - loss: 147.8938 - mae: 147.8938 - mse: 94385.8125 - val_loss: 1234.7327 - val_mae: 1234.7327 - val_mse: 3174704.5000\n",
            "Epoch 100/100\n",
            "16/16 [==============================] - 0s 3ms/step - loss: 179.8368 - mae: 179.8368 - mse: 118869.0859 - val_loss: 1462.4962 - val_mae: 1462.4962 - val_mse: 4188675.0000\n"
          ]
        },
        {
          "output_type": "execute_result",
          "data": {
            "text/plain": [
              "<keras.callbacks.History at 0x7ff8956cb310>"
            ]
          },
          "metadata": {},
          "execution_count": 64
        }
      ]
    },
    {
      "cell_type": "code",
      "metadata": {
        "colab": {
          "base_uri": "https://localhost:8080/"
        },
        "id": "F2llSikV63UY",
        "outputId": "43e05d91-9582-412b-d7f8-587d8d3a287d"
      },
      "source": [
        "# Load in saved best performing model_1 and evaluate it on test data\n",
        "model_2 = tf.keras.models.load_model(\"/content/model_experiments/model_2_dense\")\n",
        "model_2.evaluate(test_windows_30, test_labels_30)"
      ],
      "execution_count": 65,
      "outputs": [
        {
          "output_type": "stream",
          "name": "stdout",
          "text": [
            "16/16 [==============================] - 0s 1ms/step - loss: 925.8048 - mae: 925.8048 - mse: 2126984.5000\n"
          ]
        },
        {
          "output_type": "execute_result",
          "data": {
            "text/plain": [
              "[925.8048095703125, 925.8048095703125, 2126984.5]"
            ]
          },
          "metadata": {},
          "execution_count": 65
        }
      ]
    },
    {
      "cell_type": "code",
      "metadata": {
        "colab": {
          "base_uri": "https://localhost:8080/"
        },
        "id": "g2QMv7ud6VC2",
        "outputId": "12fade8f-cb75-4abe-8303-9dbb23847eec"
      },
      "source": [
        "# Make predictions using model_1 on the test dataset and view results\n",
        "model_2_preds = make_preds(model_2, test_windows_30)\n",
        "len(model_2_preds), model_2_preds[:10]"
      ],
      "execution_count": 66,
      "outputs": [
        {
          "output_type": "execute_result",
          "data": {
            "text/plain": [
              "(496, <tf.Tensor: shape=(10,), dtype=float32, numpy=\n",
              " array([ 9047.165 ,  9283.845 ,  9815.892 , 10117.7295,  9811.32  ,\n",
              "         9227.1455,  8854.183 ,  8719.595 ,  9247.298 ,  9563.838 ],\n",
              "       dtype=float32)>)"
            ]
          },
          "metadata": {},
          "execution_count": 66
        }
      ]
    },
    {
      "cell_type": "code",
      "metadata": {
        "id": "46d9zRmT6hQb"
      },
      "source": [
        "# Evaluate preds\n",
        "model_2_results = evaluate_preds(y_true=tf.squeeze(test_labels_30),\n",
        "                                 y_pred=model_2_preds)"
      ],
      "execution_count": 67,
      "outputs": []
    },
    {
      "cell_type": "code",
      "metadata": {
        "colab": {
          "base_uri": "https://localhost:8080/"
        },
        "id": "iYmY6wRX6rsc",
        "outputId": "8af7da65-3148-4ae2-b2ad-1d47e5545904"
      },
      "source": [
        "model_2_results"
      ],
      "execution_count": 68,
      "outputs": [
        {
          "output_type": "execute_result",
          "data": {
            "text/plain": [
              "{'mae': 925.80505,\n",
              " 'mape': 2.875415,\n",
              " 'mase': 1.0912895,\n",
              " 'mse': 2126985.5,\n",
              " 'rmse': 1458.4188}"
            ]
          },
          "metadata": {},
          "execution_count": 68
        }
      ]
    },
    {
      "cell_type": "code",
      "metadata": {
        "colab": {
          "base_uri": "https://localhost:8080/"
        },
        "id": "uFeoK2Tb6xjs",
        "outputId": "764a0ba5-bd19-4c28-a14e-20d48cd7cef9"
      },
      "source": [
        "naive_results"
      ],
      "execution_count": 69,
      "outputs": [
        {
          "output_type": "execute_result",
          "data": {
            "text/plain": [
              "{'mae': 839.7061,\n",
              " 'mape': 2.6012962,\n",
              " 'mase': 0.9982083,\n",
              " 'mse': 1825811.2,\n",
              " 'rmse': 1351.2258}"
            ]
          },
          "metadata": {},
          "execution_count": 69
        }
      ]
    },
    {
      "cell_type": "code",
      "metadata": {
        "colab": {
          "base_uri": "https://localhost:8080/"
        },
        "id": "IVsqxShK_DxR",
        "outputId": "411ebf2f-5e6c-4308-e007-c0f7665b9b57"
      },
      "source": [
        "model_1_results"
      ],
      "execution_count": 70,
      "outputs": [
        {
          "output_type": "execute_result",
          "data": {
            "text/plain": [
              "{'mae': 849.2311,\n",
              " 'mape': 2.6299298,\n",
              " 'mase': 1.007774,\n",
              " 'mse': 1869035.6,\n",
              " 'rmse': 1367.1268}"
            ]
          },
          "metadata": {},
          "execution_count": 70
        }
      ]
    },
    {
      "cell_type": "code",
      "metadata": {
        "colab": {
          "base_uri": "https://localhost:8080/",
          "height": 0
        },
        "id": "zPGYNkTD7B2y",
        "outputId": "1d491bef-408b-4008-ba20-fdcd278082d1"
      },
      "source": [
        "# Let's plot our model 1 predictions\n",
        "offset = 300\n",
        "plt.figure(figsize=(10,7))\n",
        "# Account for test_window offfset and index into test_labels\n",
        "plot_time_series(timesteps=X_test[-len(test_windows_30):],\n",
        "                 values=test_labels_30[:,0],\n",
        "                 start=offset,\n",
        "                 label=\"Test Data\")\n",
        "\n",
        "plot_time_series(timesteps=X_test[-len(test_windows_30):],\n",
        "                 values=model_2_preds,\n",
        "                 start=offset,\n",
        "                 format='-',\n",
        "                 label=\"Model_2_preds\")"
      ],
      "execution_count": 71,
      "outputs": [
        {
          "output_type": "display_data",
          "data": {
            "image/png": "[encoded data removed]",
            "text/plain": [
              "<Figure size 720x504 with 1 Axes>"
            ]
          },
          "metadata": {
            "needs_background": "light"
          }
        }
      ]
    },
    {
      "cell_type": "markdown",
      "metadata": {
        "id": "z36hZgPy7QhV"
      },
      "source": [
        "## Model 3: Dense, window_size=30, horizon=7"
      ]
    },
    {
      "cell_type": "code",
      "metadata": {
        "id": "NLKnNlx1AGJP"
      },
      "source": [
        "HORIZON=7\n",
        "WINDOW_SIZE=30"
      ],
      "execution_count": 72,
      "outputs": []
    },
    {
      "cell_type": "code",
      "metadata": {
        "colab": {
          "base_uri": "https://localhost:8080/"
        },
        "id": "Yv-_MZvTAHnu",
        "outputId": "e85ca53d-0b6a-4bc5-b9db-7acc5cb99909"
      },
      "source": [
        "full_windows_30_7, full_labels_30_7 = make_windows(prices, window_size=WINDOW_SIZE, horizon=HORIZON)\n",
        "len(full_windows_30_7), len(full_labels_30_7)"
      ],
      "execution_count": 73,
      "outputs": [
        {
          "output_type": "execute_result",
          "data": {
            "text/plain": [
              "(2471, 2471)"
            ]
          },
          "metadata": {},
          "execution_count": 73
        }
      ]
    },
    {
      "cell_type": "code",
      "metadata": {
        "id": "vb0bziZFAP7i"
      },
      "source": [
        "train_windows_30_7, test_windows_30_7, train_labels_30_7, test_labels_30_7 = make_train_test_splits(windows=full_windows_30_7, labels=full_labels_30_7)"
      ],
      "execution_count": 74,
      "outputs": []
    },
    {
      "cell_type": "code",
      "metadata": {
        "id": "EfRWH_jmAZ_1"
      },
      "source": [
        "import tensorflow as tf\n",
        "from tensorflow.keras.layers import Dense\n",
        "\n",
        "# Set the random seed\n",
        "tf.random.set_seed(42)\n",
        "\n",
        "# Construct a model\n",
        "model_3 = tf.keras.Sequential([\n",
        "    Dense(128, activation=\"relu\"),\n",
        "    Dense(HORIZON, activation=\"linear\")\n",
        "], name=\"model_3_dense\" #will be used for model checkpoints\n",
        ")\n",
        "\n",
        "# Compile the model\n",
        "model_3.compile(loss='mae',\n",
        "                optimizer='adam',\n",
        "                metrics=['mae', 'mse'])"
      ],
      "execution_count": 75,
      "outputs": []
    },
    {
      "cell_type": "code",
      "metadata": {
        "colab": {
          "base_uri": "https://localhost:8080/"
        },
        "id": "P04NBxVyAgo8",
        "outputId": "aea96659-644d-4917-b14f-0ea9214b8709"
      },
      "source": [
        "# Fit the model\n",
        "model_3.fit(x=train_windows_30_7,\n",
        "            y=train_labels_30_7,\n",
        "            epochs=100,\n",
        "            verbose=0,\n",
        "            batch_size=128,\n",
        "            validation_data=(test_windows_30_7, test_labels_30_7),\n",
        "            callbacks=[create_model_checkpoint(model_name=model_3.name)])"
      ],
      "execution_count": 76,
      "outputs": [
        {
          "output_type": "stream",
          "name": "stdout",
          "text": [
            "INFO:tensorflow:Assets written to: model_experiments/model_3_dense/assets\n",
            "INFO:tensorflow:Assets written to: model_experiments/model_3_dense/assets\n",
            "INFO:tensorflow:Assets written to: model_experiments/model_3_dense/assets\n",
            "INFO:tensorflow:Assets written to: model_experiments/model_3_dense/assets\n",
            "INFO:tensorflow:Assets written to: model_experiments/model_3_dense/assets\n",
            "INFO:tensorflow:Assets written to: model_experiments/model_3_dense/assets\n",
            "INFO:tensorflow:Assets written to: model_experiments/model_3_dense/assets\n",
            "INFO:tensorflow:Assets written to: model_experiments/model_3_dense/assets\n",
            "INFO:tensorflow:Assets written to: model_experiments/model_3_dense/assets\n",
            "INFO:tensorflow:Assets written to: model_experiments/model_3_dense/assets\n",
            "INFO:tensorflow:Assets written to: model_experiments/model_3_dense/assets\n",
            "INFO:tensorflow:Assets written to: model_experiments/model_3_dense/assets\n",
            "INFO:tensorflow:Assets written to: model_experiments/model_3_dense/assets\n",
            "INFO:tensorflow:Assets written to: model_experiments/model_3_dense/assets\n",
            "INFO:tensorflow:Assets written to: model_experiments/model_3_dense/assets\n",
            "INFO:tensorflow:Assets written to: model_experiments/model_3_dense/assets\n",
            "INFO:tensorflow:Assets written to: model_experiments/model_3_dense/assets\n",
            "INFO:tensorflow:Assets written to: model_experiments/model_3_dense/assets\n",
            "INFO:tensorflow:Assets written to: model_experiments/model_3_dense/assets\n",
            "INFO:tensorflow:Assets written to: model_experiments/model_3_dense/assets\n",
            "INFO:tensorflow:Assets written to: model_experiments/model_3_dense/assets\n",
            "INFO:tensorflow:Assets written to: model_experiments/model_3_dense/assets\n",
            "INFO:tensorflow:Assets written to: model_experiments/model_3_dense/assets\n",
            "INFO:tensorflow:Assets written to: model_experiments/model_3_dense/assets\n",
            "INFO:tensorflow:Assets written to: model_experiments/model_3_dense/assets\n",
            "INFO:tensorflow:Assets written to: model_experiments/model_3_dense/assets\n",
            "INFO:tensorflow:Assets written to: model_experiments/model_3_dense/assets\n",
            "INFO:tensorflow:Assets written to: model_experiments/model_3_dense/assets\n",
            "INFO:tensorflow:Assets written to: model_experiments/model_3_dense/assets\n",
            "INFO:tensorflow:Assets written to: model_experiments/model_3_dense/assets\n",
            "INFO:tensorflow:Assets written to: model_experiments/model_3_dense/assets\n",
            "INFO:tensorflow:Assets written to: model_experiments/model_3_dense/assets\n",
            "INFO:tensorflow:Assets written to: model_experiments/model_3_dense/assets\n",
            "INFO:tensorflow:Assets written to: model_experiments/model_3_dense/assets\n"
          ]
        },
        {
          "output_type": "execute_result",
          "data": {
            "text/plain": [
              "<keras.callbacks.History at 0x7ff896a13c10>"
            ]
          },
          "metadata": {},
          "execution_count": 76
        }
      ]
    },
    {
      "cell_type": "code",
      "metadata": {
        "colab": {
          "base_uri": "https://localhost:8080/"
        },
        "id": "sbqZWnWIAsr5",
        "outputId": "2c23a7b5-2563-4e21-a627-cae7d98259e8"
      },
      "source": [
        "# Load in saved best performing model_3 and evaluate it on test data\n",
        "model_3 = tf.keras.models.load_model(\"/content/model_experiments/model_3_dense\")\n",
        "model_3.evaluate(test_windows_30_7, test_labels_30_7)"
      ],
      "execution_count": 77,
      "outputs": [
        {
          "output_type": "stream",
          "name": "stdout",
          "text": [
            "16/16 [==============================] - 0s 976us/step - loss: 1854.4097 - mae: 1854.4097 - mse: 8854004.0000\n"
          ]
        },
        {
          "output_type": "execute_result",
          "data": {
            "text/plain": [
              "[1854.40966796875, 1854.40966796875, 8854004.0]"
            ]
          },
          "metadata": {},
          "execution_count": 77
        }
      ]
    },
    {
      "cell_type": "code",
      "metadata": {
        "colab": {
          "base_uri": "https://localhost:8080/"
        },
        "id": "USrqb5MeA2ih",
        "outputId": "689d3dfa-007b-4187-89d5-bf53daaa70d9"
      },
      "source": [
        "# Make predictions using model_3 on the test dataset and view results\n",
        "model_3_preds = make_preds(model_3, test_windows_30_7)\n",
        "len(model_3_preds), model_3_preds[:5]"
      ],
      "execution_count": 78,
      "outputs": [
        {
          "output_type": "execute_result",
          "data": {
            "text/plain": [
              "(495, <tf.Tensor: shape=(5, 7), dtype=float32, numpy=\n",
              " array([[8715.744, 8673.299, 8696.891, 8803.42 , 8863.425, 8928.062,\n",
              "         8822.918],\n",
              "        [8793.089, 8989.785, 8867.928, 8963.325, 9052.415, 8970.187,\n",
              "         9077.554],\n",
              "        [9071.137, 9158.083, 9060.305, 9304.478, 9118.872, 9107.739,\n",
              "         9356.038],\n",
              "        [8947.252, 9142.347, 8956.192, 9209.079, 9046.007, 9056.613,\n",
              "         9196.466],\n",
              "        [9010.418, 9170.906, 9068.384, 9257.739, 9369.337, 9174.664,\n",
              "         9306.424]], dtype=float32)>)"
            ]
          },
          "metadata": {},
          "execution_count": 78
        }
      ]
    },
    {
      "cell_type": "code",
      "metadata": {
        "id": "VI-E_7P2A_Nk"
      },
      "source": [
        "# Evaluate preds\n",
        "model_3_results = evaluate_preds(y_true=tf.squeeze(test_labels_30_7),\n",
        "                                 y_pred=model_3_preds)"
      ],
      "execution_count": 79,
      "outputs": []
    },
    {
      "cell_type": "code",
      "metadata": {
        "id": "I0wLh6Y1IP-M",
        "colab": {
          "base_uri": "https://localhost:8080/"
        },
        "outputId": "7c68b64d-8215-4ef2-93b6-fca376c66771"
      },
      "source": [
        "model_3_preds.shape, model_2_preds.shape"
      ],
      "execution_count": 80,
      "outputs": [
        {
          "output_type": "execute_result",
          "data": {
            "text/plain": [
              "(TensorShape([495, 7]), TensorShape([496]))"
            ]
          },
          "metadata": {},
          "execution_count": 80
        }
      ]
    },
    {
      "cell_type": "markdown",
      "metadata": {
        "id": "cGa99fmK1lDc"
      },
      "source": [
        "### Make evaluation function work for larger horizons"
      ]
    },
    {
      "cell_type": "code",
      "metadata": {
        "id": "hiWyKgOY2Fnq"
      },
      "source": [
        "def evaluate_preds(y_true, y_pred):\n",
        "  # Make sure float32 dtype (for metric calculations)\n",
        "  y_true = tf.cast(y_true, dtype=tf.float32)\n",
        "  y_pred = tf.cast(y_pred, dtype=tf.float32)\n",
        "\n",
        "  # Calculate various evaluation metrics\n",
        "  mae = tf.keras.metrics.mean_absolute_error(y_true, y_pred)\n",
        "  mse = tf.keras.metrics.mean_squared_error(y_true, y_pred)\n",
        "  rmse = tf.sqrt(mse)\n",
        "  mape = tf.keras.metrics.mean_absolute_percentage_error(y_true, y_pred)\n",
        "  mase = mean_absolute_scaled_error(y_true, y_pred)\n",
        "\n",
        "# Account for different sized metrics (for longer horizons)\n",
        "  if mae.ndim > 0:\n",
        "    mae = tf.reduce_mean(mae)\n",
        "    mse = tf.reduce_mean(mse)\n",
        "    rmse = tf.reduce_mean(rmse)\n",
        "    mase = tf.reduce_mean(mase)\n",
        "    mape = tf.reduce_mean(mape)\n",
        "\n",
        "\n",
        "\n",
        "  return {\"mae\": mae.numpy(),\n",
        "          \"mse\": mse.numpy(),\n",
        "          \"rmse\": rmse.numpy(),\n",
        "          \"mape\": mape.numpy(),\n",
        "          \"mase\": mase.numpy()}"
      ],
      "execution_count": 81,
      "outputs": []
    },
    {
      "cell_type": "code",
      "metadata": {
        "colab": {
          "base_uri": "https://localhost:8080/"
        },
        "id": "vq-BH7AO3Xq8",
        "outputId": "483d1020-b7b7-43e7-d980-9945ca63fc02"
      },
      "source": [
        "# Get model 3 results aggregated to a single value\n",
        "model_3_results = evaluate_preds(y_true=tf.squeeze(test_labels_30_7),\n",
        "                                y_pred=model_3_preds)\n",
        "model_3_results"
      ],
      "execution_count": 82,
      "outputs": [
        {
          "output_type": "execute_result",
          "data": {
            "text/plain": [
              "{'mae': 1854.4095,\n",
              " 'mape': 5.6246114,\n",
              " 'mase': 2.1887033,\n",
              " 'mse': 8854005.0,\n",
              " 'rmse': 2107.7812}"
            ]
          },
          "metadata": {},
          "execution_count": 82
        }
      ]
    },
    {
      "cell_type": "code",
      "metadata": {
        "colab": {
          "base_uri": "https://localhost:8080/",
          "height": 0
        },
        "id": "G3ctXs1i3wgl",
        "outputId": "3e8d43f1-c597-4ed7-c419-5f5625c98486"
      },
      "source": [
        "import pandas as pd\n",
        "res = pd.DataFrame({\"naive\": pd.Series(naive_results), \n",
        "                    \"model_1\":pd.Series(model_1_results),\n",
        "                    \"model_2\":pd.Series(model_2_results),\n",
        "                    \"model_3\":pd.Series(model_3_results)\n",
        "                    })\n",
        "res"
      ],
      "execution_count": 83,
      "outputs": [
        {
          "output_type": "execute_result",
          "data": {
            "text/html": [
              "<div>\n",
              "<style scoped>\n",
              "    .dataframe tbody tr th:only-of-type {\n",
              "        vertical-align: middle;\n",
              "    }\n",
              "\n",
              "    .dataframe tbody tr th {\n",
              "        vertical-align: top;\n",
              "    }\n",
              "\n",
              "    .dataframe thead th {\n",
              "        text-align: right;\n",
              "    }\n",
              "</style>\n",
              "<table border=\"1\" class=\"dataframe\">\n",
              "  <thead>\n",
              "    <tr style=\"text-align: right;\">\n",
              "      <th></th>\n",
              "      <th>naive</th>\n",
              "      <th>model_1</th>\n",
              "      <th>model_2</th>\n",
              "      <th>model_3</th>\n",
              "    </tr>\n",
              "  </thead>\n",
              "  <tbody>\n",
              "    <tr>\n",
              "      <th>mae</th>\n",
              "      <td>8.397061e+02</td>\n",
              "      <td>8.492311e+02</td>\n",
              "      <td>9.258051e+02</td>\n",
              "      <td>1.854410e+03</td>\n",
              "    </tr>\n",
              "    <tr>\n",
              "      <th>mse</th>\n",
              "      <td>1.825811e+06</td>\n",
              "      <td>1.869036e+06</td>\n",
              "      <td>2.126986e+06</td>\n",
              "      <td>8.854005e+06</td>\n",
              "    </tr>\n",
              "    <tr>\n",
              "      <th>rmse</th>\n",
              "      <td>1.351226e+03</td>\n",
              "      <td>1.367127e+03</td>\n",
              "      <td>1.458419e+03</td>\n",
              "      <td>2.107781e+03</td>\n",
              "    </tr>\n",
              "    <tr>\n",
              "      <th>mape</th>\n",
              "      <td>2.601296e+00</td>\n",
              "      <td>2.629930e+00</td>\n",
              "      <td>2.875415e+00</td>\n",
              "      <td>5.624611e+00</td>\n",
              "    </tr>\n",
              "    <tr>\n",
              "      <th>mase</th>\n",
              "      <td>9.982083e-01</td>\n",
              "      <td>1.007774e+00</td>\n",
              "      <td>1.091290e+00</td>\n",
              "      <td>2.188703e+00</td>\n",
              "    </tr>\n",
              "  </tbody>\n",
              "</table>\n",
              "</div>"
            ],
            "text/plain": [
              "             naive       model_1       model_2       model_3\n",
              "mae   8.397061e+02  8.492311e+02  9.258051e+02  1.854410e+03\n",
              "mse   1.825811e+06  1.869036e+06  2.126986e+06  8.854005e+06\n",
              "rmse  1.351226e+03  1.367127e+03  1.458419e+03  2.107781e+03\n",
              "mape  2.601296e+00  2.629930e+00  2.875415e+00  5.624611e+00\n",
              "mase  9.982083e-01  1.007774e+00  1.091290e+00  2.188703e+00"
            ]
          },
          "metadata": {},
          "execution_count": 83
        }
      ]
    },
    {
      "cell_type": "markdown",
      "metadata": {
        "id": "m6H0lCjw4h_L"
      },
      "source": [
        "### Visualize model 3 preds\n"
      ]
    },
    {
      "cell_type": "code",
      "metadata": {
        "colab": {
          "base_uri": "https://localhost:8080/"
        },
        "id": "xbXytCER60R_",
        "outputId": "17deb3f4-4aa3-4d92-fd45-babc0a2633b5"
      },
      "source": [
        "model_3_predictions = tf.squeeze(model_3_preds)\n",
        "model_3_predictions"
      ],
      "execution_count": 84,
      "outputs": [
        {
          "output_type": "execute_result",
          "data": {
            "text/plain": [
              "<tf.Tensor: shape=(495, 7), dtype=float32, numpy=\n",
              "array([[ 8715.744,  8673.299,  8696.891, ...,  8863.425,  8928.062,\n",
              "         8822.918],\n",
              "       [ 8793.089,  8989.785,  8867.928, ...,  9052.415,  8970.187,\n",
              "         9077.554],\n",
              "       [ 9071.137,  9158.083,  9060.305, ...,  9118.872,  9107.739,\n",
              "         9356.038],\n",
              "       ...,\n",
              "       [50155.82 , 50202.113, 49581.953, ..., 50708.906, 50717.73 ,\n",
              "        51219.844],\n",
              "       [51305.64 , 51753.824, 50370.527, ..., 52147.453, 51317.254,\n",
              "        52199.223],\n",
              "       [51554.91 , 52377.84 , 51435.72 , ..., 52733.652, 52806.62 ,\n",
              "        52537.062]], dtype=float32)>"
            ]
          },
          "metadata": {},
          "execution_count": 84
        }
      ]
    },
    {
      "cell_type": "code",
      "metadata": {
        "colab": {
          "base_uri": "https://localhost:8080/",
          "height": 0
        },
        "id": "0AIts6J352b2",
        "outputId": "58b72c3e-93ff-4646-9392-3039e0f509d2"
      },
      "source": [
        "offset = 300\n",
        "plt.figure(figsize=(10,7))\n",
        "plot_time_series(timesteps=X_test[-len(test_windows_30_7):], values=test_labels_30_7[:, 0], start=offset, label=\"Test data\", format='-')\n",
        "plot_time_series(timesteps=X_test[-len(test_windows_30_7):], values=model_3_preds[:,0], start=offset, label='model_3_preds')"
      ],
      "execution_count": 85,
      "outputs": [
        {
          "output_type": "display_data",
          "data": {
            "image/png": "[encoded data removed]",
            "text/plain": [
              "<Figure size 720x504 with 1 Axes>"
            ]
          },
          "metadata": {
            "needs_background": "light"
          }
        }
      ]
    },
    {
      "cell_type": "code",
      "metadata": {
        "colab": {
          "base_uri": "https://localhost:8080/",
          "height": 0
        },
        "id": "AUCcfL9E6azl",
        "outputId": "e35a8c59-db5b-452c-ac71-efe0487422a0"
      },
      "source": [
        "offset = 300\n",
        "plt.figure(figsize=(10,7))\n",
        "plot_time_series(timesteps=X_test[-len(test_windows_30_7):], values=test_labels_30_7[:, 0], start=offset, label=\"Test data\")\n",
        "plot_time_series(timesteps=X_test[-len(test_windows_30_7):], \n",
        "                 values=tf.reduce_mean(model_3_preds, axis=1), \n",
        "                 start=offset, \n",
        "                 label='model_3_preds',\n",
        "                 format='-')"
      ],
      "execution_count": 86,
      "outputs": [
        {
          "output_type": "display_data",
          "data": {
            "image/png": "[encoded data removed]",
            "text/plain": [
              "<Figure size 720x504 with 1 Axes>"
            ]
          },
          "metadata": {
            "needs_background": "light"
          }
        }
      ]
    },
    {
      "cell_type": "markdown",
      "metadata": {
        "id": "28QZiX3a9pHg"
      },
      "source": [
        "### Comparing the models' performance\n",
        "\n"
      ]
    },
    {
      "cell_type": "code",
      "metadata": {
        "colab": {
          "base_uri": "https://localhost:8080/",
          "height": 0
        },
        "id": "vmBRO5PAWGqK",
        "outputId": "defcd59f-9dd7-4b1f-ebe0-785cd73037ef"
      },
      "source": [
        "pd.DataFrame({\"naive\":naive_results['mae'],\n",
        "              \"horizon_1_window_7\": model_1_results['mae'],\n",
        "              \"horizon_1_window_30\": model_2_results['mae'],\n",
        "              \"horizon_7_window_30\": model_3_results['mae']}, index=['mae']).plot(figsize=(10,7), kind='bar')"
      ],
      "execution_count": 87,
      "outputs": [
        {
          "output_type": "execute_result",
          "data": {
            "text/plain": [
              "<matplotlib.axes._subplots.AxesSubplot at 0x7ff899d9a710>"
            ]
          },
          "metadata": {},
          "execution_count": 87
        },
        {
          "output_type": "display_data",
          "data": {
            "image/png": "[encoded data removed]",
            "text/plain": [
              "<Figure size 720x504 with 1 Axes>"
            ]
          },
          "metadata": {
            "needs_background": "light"
          }
        }
      ]
    },
    {
      "cell_type": "markdown",
      "metadata": {
        "id": "vJpJSOIoW_0Q"
      },
      "source": [
        "## Model 4: Conv1D"
      ]
    },
    {
      "cell_type": "code",
      "metadata": {
        "id": "yWn2GSb3bIjl"
      },
      "source": [
        "HORIZON = 1\n",
        "WINDOW_SIZE = 7"
      ],
      "execution_count": 88,
      "outputs": []
    },
    {
      "cell_type": "code",
      "metadata": {
        "id": "aWJI6RM7bT3e"
      },
      "source": [
        "# Create a windowed dataset\n",
        "full_windows, full_labels = make_windows(prices, window_size=WINDOW_SIZE, horizon=HORIZON)"
      ],
      "execution_count": 89,
      "outputs": []
    },
    {
      "cell_type": "code",
      "metadata": {
        "colab": {
          "base_uri": "https://localhost:8080/"
        },
        "id": "QeFs8TxsbkZW",
        "outputId": "f585b1a3-f1e5-49e3-a8a0-b9de5b2feec8"
      },
      "source": [
        "len(full_windows), len(full_labels)"
      ],
      "execution_count": 90,
      "outputs": [
        {
          "output_type": "execute_result",
          "data": {
            "text/plain": [
              "(2500, 2500)"
            ]
          },
          "metadata": {},
          "execution_count": 90
        }
      ]
    },
    {
      "cell_type": "code",
      "metadata": {
        "colab": {
          "base_uri": "https://localhost:8080/"
        },
        "id": "mDY6bHuMboHJ",
        "outputId": "3bec9480-735f-4bb1-9ca6-898d9ae57029"
      },
      "source": [
        "# Create train and test sets\n",
        "train_windows, test_windows, train_labels, test_labels = make_train_test_splits(full_windows, full_labels)\n",
        "len(train_windows), len(train_labels), len(test_windows), len(test_labels)"
      ],
      "execution_count": 91,
      "outputs": [
        {
          "output_type": "execute_result",
          "data": {
            "text/plain": [
              "(2000, 2000, 500, 500)"
            ]
          },
          "metadata": {},
          "execution_count": 91
        }
      ]
    },
    {
      "cell_type": "markdown",
      "metadata": {
        "id": "3afPemiZcDip"
      },
      "source": [
        "To use Con1D we need an input shape of: `(batch_size, timesteps, input_dim)`"
      ]
    },
    {
      "cell_type": "code",
      "metadata": {
        "colab": {
          "base_uri": "https://localhost:8080/"
        },
        "id": "zCxzgsCFcslJ",
        "outputId": "ed5a379f-34c5-455b-db61-3d95500a6f58"
      },
      "source": [
        "train_windows[0].shape # returns (WINDOW_SIZE)"
      ],
      "execution_count": 92,
      "outputs": [
        {
          "output_type": "execute_result",
          "data": {
            "text/plain": [
              "(7,)"
            ]
          },
          "metadata": {},
          "execution_count": 92
        }
      ]
    },
    {
      "cell_type": "markdown",
      "metadata": {
        "id": "grg-P7cocutw"
      },
      "source": [
        "### Reshape the data before we pass it to Conv1D"
      ]
    },
    {
      "cell_type": "code",
      "metadata": {
        "colab": {
          "base_uri": "https://localhost:8080/"
        },
        "id": "iQuApWzcdDkX",
        "outputId": "34b56881-77c6-4dc9-fcec-98b0fb5c3e36"
      },
      "source": [
        "x = tf.constant(train_windows[0])\n",
        "x"
      ],
      "execution_count": 93,
      "outputs": [
        {
          "output_type": "execute_result",
          "data": {
            "text/plain": [
              "<tf.Tensor: shape=(7,), dtype=float64, numpy=\n",
              "array([324.71833, 332.45666, 336.585  , 346.775  , 344.81166, 343.065  ,\n",
              "       358.50166])>"
            ]
          },
          "metadata": {},
          "execution_count": 93
        }
      ]
    },
    {
      "cell_type": "code",
      "metadata": {
        "id": "J7RTg0k2dVCj"
      },
      "source": [
        "expand_dims_layer = tf.keras.layers.Lambda(lambda x: tf.expand_dims(x, axis=1))#add extra dimension for input"
      ],
      "execution_count": 94,
      "outputs": []
    },
    {
      "cell_type": "code",
      "metadata": {
        "colab": {
          "base_uri": "https://localhost:8080/"
        },
        "id": "A_Ov28eadqtW",
        "outputId": "225ff687-e8d7-42fe-ba2b-351cb7eac164"
      },
      "source": [
        "# Test out our lambda layer\n",
        "print(f\"Original shape: {x.shape}\") #WINDOW_SIZE\n",
        "print(f\"Expanded shape: {expand_dims_layer(x).shape}\")\n",
        "print(f\"Original values with expanded shape: \\n{expand_dims_layer(x)}\")"
      ],
      "execution_count": 95,
      "outputs": [
        {
          "output_type": "stream",
          "name": "stdout",
          "text": [
            "Original shape: (7,)\n",
            "Expanded shape: (7, 1)\n",
            "Original values with expanded shape: \n",
            "[[324.71832]\n",
            " [332.45667]\n",
            " [336.585  ]\n",
            " [346.775  ]\n",
            " [344.81165]\n",
            " [343.065  ]\n",
            " [358.50165]]\n"
          ]
        }
      ]
    },
    {
      "cell_type": "markdown",
      "metadata": {
        "id": "L5Lx13CFeUab"
      },
      "source": [
        "### Build the model"
      ]
    },
    {
      "cell_type": "code",
      "metadata": {
        "id": "5GAQQPZ6fJ6M"
      },
      "source": [
        "tf.random.set_seed(42)\n",
        "\n",
        "\n",
        "model_4 = tf.keras.Sequential([\n",
        "      tf.keras.layers.Lambda(lambda x: tf.expand_dims(x, axis=1)),\n",
        "      tf.keras.layers.Conv1D(filters=128, kernel_size=5, strides=1, padding='causal', activation='relu'),\n",
        "      tf.keras.layers.Dense(HORIZON)\n",
        "], name='model_4_conv1d')\n",
        "\n",
        "# Compile the model\n",
        "model_4.compile(loss='mae',\n",
        "                optimizer=tf.keras.optimizers.Adam())"
      ],
      "execution_count": 96,
      "outputs": []
    },
    {
      "cell_type": "code",
      "metadata": {
        "colab": {
          "base_uri": "https://localhost:8080/"
        },
        "id": "p2tetpdjgp8Z",
        "outputId": "8cca559b-b1e5-4f7a-f0b4-45ad4f33b1bd"
      },
      "source": [
        "# Fit the model\n",
        "model_4.fit(train_windows,\n",
        "            train_labels,\n",
        "            batch_size=128,\n",
        "            epochs=100,\n",
        "            verbose=0,\n",
        "            validation_data=(test_windows, test_labels),\n",
        "            callbacks=[create_model_checkpoint(model_name=model_4.name)])"
      ],
      "execution_count": 97,
      "outputs": [
        {
          "output_type": "stream",
          "name": "stdout",
          "text": [
            "INFO:tensorflow:Assets written to: model_experiments/model_4_conv1d/assets\n",
            "INFO:tensorflow:Assets written to: model_experiments/model_4_conv1d/assets\n",
            "INFO:tensorflow:Assets written to: model_experiments/model_4_conv1d/assets\n",
            "INFO:tensorflow:Assets written to: model_experiments/model_4_conv1d/assets\n",
            "INFO:tensorflow:Assets written to: model_experiments/model_4_conv1d/assets\n",
            "INFO:tensorflow:Assets written to: model_experiments/model_4_conv1d/assets\n",
            "INFO:tensorflow:Assets written to: model_experiments/model_4_conv1d/assets\n",
            "INFO:tensorflow:Assets written to: model_experiments/model_4_conv1d/assets\n",
            "INFO:tensorflow:Assets written to: model_experiments/model_4_conv1d/assets\n",
            "INFO:tensorflow:Assets written to: model_experiments/model_4_conv1d/assets\n",
            "INFO:tensorflow:Assets written to: model_experiments/model_4_conv1d/assets\n",
            "INFO:tensorflow:Assets written to: model_experiments/model_4_conv1d/assets\n",
            "INFO:tensorflow:Assets written to: model_experiments/model_4_conv1d/assets\n",
            "INFO:tensorflow:Assets written to: model_experiments/model_4_conv1d/assets\n",
            "INFO:tensorflow:Assets written to: model_experiments/model_4_conv1d/assets\n",
            "INFO:tensorflow:Assets written to: model_experiments/model_4_conv1d/assets\n",
            "INFO:tensorflow:Assets written to: model_experiments/model_4_conv1d/assets\n",
            "INFO:tensorflow:Assets written to: model_experiments/model_4_conv1d/assets\n",
            "INFO:tensorflow:Assets written to: model_experiments/model_4_conv1d/assets\n",
            "INFO:tensorflow:Assets written to: model_experiments/model_4_conv1d/assets\n",
            "INFO:tensorflow:Assets written to: model_experiments/model_4_conv1d/assets\n",
            "INFO:tensorflow:Assets written to: model_experiments/model_4_conv1d/assets\n",
            "INFO:tensorflow:Assets written to: model_experiments/model_4_conv1d/assets\n",
            "INFO:tensorflow:Assets written to: model_experiments/model_4_conv1d/assets\n",
            "INFO:tensorflow:Assets written to: model_experiments/model_4_conv1d/assets\n",
            "INFO:tensorflow:Assets written to: model_experiments/model_4_conv1d/assets\n",
            "INFO:tensorflow:Assets written to: model_experiments/model_4_conv1d/assets\n",
            "INFO:tensorflow:Assets written to: model_experiments/model_4_conv1d/assets\n",
            "INFO:tensorflow:Assets written to: model_experiments/model_4_conv1d/assets\n",
            "INFO:tensorflow:Assets written to: model_experiments/model_4_conv1d/assets\n",
            "INFO:tensorflow:Assets written to: model_experiments/model_4_conv1d/assets\n",
            "INFO:tensorflow:Assets written to: model_experiments/model_4_conv1d/assets\n",
            "INFO:tensorflow:Assets written to: model_experiments/model_4_conv1d/assets\n",
            "INFO:tensorflow:Assets written to: model_experiments/model_4_conv1d/assets\n",
            "INFO:tensorflow:Assets written to: model_experiments/model_4_conv1d/assets\n",
            "INFO:tensorflow:Assets written to: model_experiments/model_4_conv1d/assets\n",
            "INFO:tensorflow:Assets written to: model_experiments/model_4_conv1d/assets\n",
            "INFO:tensorflow:Assets written to: model_experiments/model_4_conv1d/assets\n",
            "INFO:tensorflow:Assets written to: model_experiments/model_4_conv1d/assets\n",
            "INFO:tensorflow:Assets written to: model_experiments/model_4_conv1d/assets\n",
            "INFO:tensorflow:Assets written to: model_experiments/model_4_conv1d/assets\n",
            "INFO:tensorflow:Assets written to: model_experiments/model_4_conv1d/assets\n",
            "INFO:tensorflow:Assets written to: model_experiments/model_4_conv1d/assets\n",
            "INFO:tensorflow:Assets written to: model_experiments/model_4_conv1d/assets\n",
            "INFO:tensorflow:Assets written to: model_experiments/model_4_conv1d/assets\n",
            "INFO:tensorflow:Assets written to: model_experiments/model_4_conv1d/assets\n"
          ]
        },
        {
          "output_type": "execute_result",
          "data": {
            "text/plain": [
              "<keras.callbacks.History at 0x7ff893427890>"
            ]
          },
          "metadata": {},
          "execution_count": 97
        }
      ]
    },
    {
      "cell_type": "markdown",
      "metadata": {
        "id": "8e4Vwf1ohHDm"
      },
      "source": [
        "### Evaluate the model"
      ]
    },
    {
      "cell_type": "code",
      "metadata": {
        "colab": {
          "base_uri": "https://localhost:8080/"
        },
        "id": "VGG7FdyCjP0h",
        "outputId": "9d3701a6-44d7-4ac9-89d2-f935c45add42"
      },
      "source": [
        "model_4.evaluate(test_windows, test_labels)"
      ],
      "execution_count": 98,
      "outputs": [
        {
          "output_type": "stream",
          "name": "stdout",
          "text": [
            "16/16 [==============================] - 0s 959us/step - loss: 849.6600\n"
          ]
        },
        {
          "output_type": "execute_result",
          "data": {
            "text/plain": [
              "849.6600341796875"
            ]
          },
          "metadata": {},
          "execution_count": 98
        }
      ]
    },
    {
      "cell_type": "markdown",
      "metadata": {
        "id": "MrKjqaWhjKn-"
      },
      "source": [
        "### Load back the best-performing model and rre-evaluate"
      ]
    },
    {
      "cell_type": "code",
      "metadata": {
        "id": "zpcTD3PvjmZo"
      },
      "source": [
        "model_4 = tf.keras.models.load_model(\"/content/model_experiments/model_4_conv1d\")"
      ],
      "execution_count": 99,
      "outputs": []
    },
    {
      "cell_type": "code",
      "metadata": {
        "colab": {
          "base_uri": "https://localhost:8080/"
        },
        "id": "lqvEgz9ljwYi",
        "outputId": "264725a2-9d90-453e-b856-1ee557210d36"
      },
      "source": [
        "model_4.evaluate(test_windows, test_labels)"
      ],
      "execution_count": 100,
      "outputs": [
        {
          "output_type": "stream",
          "name": "stdout",
          "text": [
            "16/16 [==============================] - 0s 940us/step - loss: 849.6600\n"
          ]
        },
        {
          "output_type": "execute_result",
          "data": {
            "text/plain": [
              "849.6600341796875"
            ]
          },
          "metadata": {},
          "execution_count": 100
        }
      ]
    },
    {
      "cell_type": "markdown",
      "metadata": {
        "id": "g7esrcpjjy00"
      },
      "source": [
        "### Make predictions"
      ]
    },
    {
      "cell_type": "code",
      "metadata": {
        "colab": {
          "base_uri": "https://localhost:8080/"
        },
        "id": "ZFD8BnwQkBRl",
        "outputId": "13bca5b4-e36e-4a62-f405-80e932cfd11c"
      },
      "source": [
        "model_4_preds = make_preds(model_4, test_windows)\n",
        "model_4_preds[:10]"
      ],
      "execution_count": 101,
      "outputs": [
        {
          "output_type": "execute_result",
          "data": {
            "text/plain": [
              "<tf.Tensor: shape=(10,), dtype=float32, numpy=\n",
              "array([8920.387, 9010.077, 8975.92 , 8939.574, 8994.141, 9339.072,\n",
              "       9864.471, 9995.871, 9743.318, 8975.637], dtype=float32)>"
            ]
          },
          "metadata": {},
          "execution_count": 101
        }
      ]
    },
    {
      "cell_type": "markdown",
      "metadata": {
        "id": "RCDGMqwDkKj_"
      },
      "source": [
        "### Evaluate predictions"
      ]
    },
    {
      "cell_type": "code",
      "metadata": {
        "colab": {
          "base_uri": "https://localhost:8080/"
        },
        "id": "oep1dakpkSoD",
        "outputId": "e3fe7acd-b2c0-4045-ef45-8912af9998f7"
      },
      "source": [
        "model_4_results = evaluate_preds(y_true=tf.squeeze(test_labels),\n",
        "                                 y_pred=model_4_preds)\n",
        "model_4_results"
      ],
      "execution_count": 102,
      "outputs": [
        {
          "output_type": "execute_result",
          "data": {
            "text/plain": [
              "{'mae': 849.66003,\n",
              " 'mape': 2.6353695,\n",
              " 'mase': 1.008283,\n",
              " 'mse': 1870579.0,\n",
              " 'rmse': 1367.6912}"
            ]
          },
          "metadata": {},
          "execution_count": 102
        }
      ]
    },
    {
      "cell_type": "code",
      "metadata": {
        "colab": {
          "base_uri": "https://localhost:8080/"
        },
        "id": "Ozj_Rd_dkeAa",
        "outputId": "e3aabdef-3c84-4637-bdcd-05f9fdb88f49"
      },
      "source": [
        "model_1_results"
      ],
      "execution_count": 103,
      "outputs": [
        {
          "output_type": "execute_result",
          "data": {
            "text/plain": [
              "{'mae': 849.2311,\n",
              " 'mape': 2.6299298,\n",
              " 'mase': 1.007774,\n",
              " 'mse': 1869035.6,\n",
              " 'rmse': 1367.1268}"
            ]
          },
          "metadata": {},
          "execution_count": 103
        }
      ]
    },
    {
      "cell_type": "markdown",
      "metadata": {
        "id": "72b3tjbXkkKB"
      },
      "source": [
        "## Model 5 : RNN (LSTM)"
      ]
    },
    {
      "cell_type": "code",
      "metadata": {
        "colab": {
          "base_uri": "https://localhost:8080/"
        },
        "id": "gcKHnmQGiOiL",
        "outputId": "baf73407-7bc4-4735-fcf6-67fe9b234102"
      },
      "source": [
        "tf.random.set_seed(42)\n",
        "\n",
        "# Use functional API\n",
        "inputs = tf.keras.layers.Input(shape=(WINDOW_SIZE))\n",
        "x = tf.keras.layers.Lambda(lambda x: tf.expand_dims(x, axis=1))(inputs)\n",
        "#x = tf.keras.layers.LSTM(128, return_sequences=True)(x)\n",
        "x = tf.keras.layers.LSTM(128, activation='relu')(x)\n",
        "#x = tf.keras.layers.Dense(32, activation=\"relu\")(x)\n",
        "output = tf.keras.layers.Dense(HORIZON)(x)\n",
        "\n",
        "model_5 = tf.keras.Model(inputs=inputs, outputs=output, name='model_5_LSTM')\n",
        "\n",
        "#Compile \n",
        "model_5.compile(loss='mae', optimizer=tf.keras.optimizers.Adam())\n",
        "\n",
        "# Fit \n",
        "model_5.fit(train_windows, \n",
        "            train_labels, \n",
        "            epochs=100, \n",
        "            verbose=1,\n",
        "            batch_size=128,\n",
        "            validation_data=(test_windows, test_labels),\n",
        "            callbacks=[create_model_checkpoint(model_name=model_5.name)])"
      ],
      "execution_count": 104,
      "outputs": [
        {
          "output_type": "stream",
          "name": "stdout",
          "text": [
            "Epoch 1/100\n",
            "16/16 [==============================] - 1s 18ms/step - loss: 3129.5657 - val_loss: 15525.1943\n",
            "INFO:tensorflow:Assets written to: model_experiments/model_5_LSTM/assets\n",
            "Epoch 2/100\n",
            "16/16 [==============================] - 0s 5ms/step - loss: 1411.0444 - val_loss: 3577.7295\n",
            "INFO:tensorflow:Assets written to: model_experiments/model_5_LSTM/assets\n",
            "Epoch 3/100\n",
            "16/16 [==============================] - 0s 5ms/step - loss: 345.8933 - val_loss: 1838.5973\n",
            "INFO:tensorflow:Assets written to: model_experiments/model_5_LSTM/assets\n",
            "Epoch 4/100\n",
            "16/16 [==============================] - 0s 6ms/step - loss: 256.2125 - val_loss: 1532.1210\n",
            "INFO:tensorflow:Assets written to: model_experiments/model_5_LSTM/assets\n",
            "Epoch 5/100\n",
            "16/16 [==============================] - 0s 6ms/step - loss: 231.0884 - val_loss: 1505.6687\n",
            "INFO:tensorflow:Assets written to: model_experiments/model_5_LSTM/assets\n",
            "Epoch 6/100\n",
            "16/16 [==============================] - 0s 6ms/step - loss: 223.1927 - val_loss: 1437.2903\n",
            "INFO:tensorflow:Assets written to: model_experiments/model_5_LSTM/assets\n",
            "Epoch 7/100\n",
            "16/16 [==============================] - 0s 5ms/step - loss: 220.4349 - val_loss: 1449.7679\n",
            "Epoch 8/100\n",
            "16/16 [==============================] - 0s 6ms/step - loss: 219.0583 - val_loss: 1442.5721\n",
            "Epoch 9/100\n",
            "16/16 [==============================] - 0s 5ms/step - loss: 217.8023 - val_loss: 1418.3569\n",
            "INFO:tensorflow:Assets written to: model_experiments/model_5_LSTM/assets\n",
            "Epoch 10/100\n",
            "16/16 [==============================] - 0s 5ms/step - loss: 216.4604 - val_loss: 1460.0785\n",
            "Epoch 11/100\n",
            "16/16 [==============================] - 0s 5ms/step - loss: 215.8252 - val_loss: 1402.8848\n",
            "INFO:tensorflow:Assets written to: model_experiments/model_5_LSTM/assets\n",
            "Epoch 12/100\n",
            "16/16 [==============================] - 0s 5ms/step - loss: 213.7781 - val_loss: 1387.2786\n",
            "INFO:tensorflow:Assets written to: model_experiments/model_5_LSTM/assets\n",
            "Epoch 13/100\n",
            "16/16 [==============================] - 0s 5ms/step - loss: 214.3827 - val_loss: 1412.9399\n",
            "Epoch 14/100\n",
            "16/16 [==============================] - 0s 6ms/step - loss: 211.8164 - val_loss: 1375.3187\n",
            "INFO:tensorflow:Assets written to: model_experiments/model_5_LSTM/assets\n",
            "Epoch 15/100\n",
            "16/16 [==============================] - 0s 5ms/step - loss: 209.2478 - val_loss: 1406.0165\n",
            "Epoch 16/100\n",
            "16/16 [==============================] - 0s 5ms/step - loss: 208.6615 - val_loss: 1381.5469\n",
            "Epoch 17/100\n",
            "16/16 [==============================] - 0s 5ms/step - loss: 207.6329 - val_loss: 1359.8398\n",
            "INFO:tensorflow:Assets written to: model_experiments/model_5_LSTM/assets\n",
            "Epoch 18/100\n",
            "16/16 [==============================] - 0s 6ms/step - loss: 204.8038 - val_loss: 1329.0315\n",
            "INFO:tensorflow:Assets written to: model_experiments/model_5_LSTM/assets\n",
            "Epoch 19/100\n",
            "16/16 [==============================] - 0s 5ms/step - loss: 203.2710 - val_loss: 1359.2180\n",
            "Epoch 20/100\n",
            "16/16 [==============================] - 0s 5ms/step - loss: 201.9828 - val_loss: 1329.0612\n",
            "Epoch 21/100\n",
            "16/16 [==============================] - 0s 6ms/step - loss: 200.4543 - val_loss: 1318.6804\n",
            "INFO:tensorflow:Assets written to: model_experiments/model_5_LSTM/assets\n",
            "Epoch 22/100\n",
            "16/16 [==============================] - 0s 5ms/step - loss: 197.7716 - val_loss: 1287.8223\n",
            "INFO:tensorflow:Assets written to: model_experiments/model_5_LSTM/assets\n",
            "Epoch 23/100\n",
            "16/16 [==============================] - 0s 6ms/step - loss: 196.8605 - val_loss: 1278.9980\n",
            "INFO:tensorflow:Assets written to: model_experiments/model_5_LSTM/assets\n",
            "Epoch 24/100\n",
            "16/16 [==============================] - 0s 6ms/step - loss: 195.3488 - val_loss: 1270.0696\n",
            "INFO:tensorflow:Assets written to: model_experiments/model_5_LSTM/assets\n",
            "Epoch 25/100\n",
            "16/16 [==============================] - 0s 5ms/step - loss: 194.5310 - val_loss: 1263.9790\n",
            "INFO:tensorflow:Assets written to: model_experiments/model_5_LSTM/assets\n",
            "Epoch 26/100\n",
            "16/16 [==============================] - 0s 6ms/step - loss: 194.5771 - val_loss: 1247.6445\n",
            "INFO:tensorflow:Assets written to: model_experiments/model_5_LSTM/assets\n",
            "Epoch 27/100\n",
            "16/16 [==============================] - 0s 5ms/step - loss: 191.3201 - val_loss: 1268.7899\n",
            "Epoch 28/100\n",
            "16/16 [==============================] - 0s 6ms/step - loss: 188.9891 - val_loss: 1248.0613\n",
            "Epoch 29/100\n",
            "16/16 [==============================] - 0s 5ms/step - loss: 186.0692 - val_loss: 1229.8840\n",
            "INFO:tensorflow:Assets written to: model_experiments/model_5_LSTM/assets\n",
            "Epoch 30/100\n",
            "16/16 [==============================] - 0s 5ms/step - loss: 184.6019 - val_loss: 1226.8385\n",
            "INFO:tensorflow:Assets written to: model_experiments/model_5_LSTM/assets\n",
            "Epoch 31/100\n",
            "16/16 [==============================] - 0s 5ms/step - loss: 182.8125 - val_loss: 1226.3483\n",
            "INFO:tensorflow:Assets written to: model_experiments/model_5_LSTM/assets\n",
            "Epoch 32/100\n",
            "16/16 [==============================] - 0s 6ms/step - loss: 181.9655 - val_loss: 1211.8975\n",
            "INFO:tensorflow:Assets written to: model_experiments/model_5_LSTM/assets\n",
            "Epoch 33/100\n",
            "16/16 [==============================] - 0s 6ms/step - loss: 179.4902 - val_loss: 1222.2775\n",
            "Epoch 34/100\n",
            "16/16 [==============================] - 0s 6ms/step - loss: 178.4084 - val_loss: 1165.6064\n",
            "INFO:tensorflow:Assets written to: model_experiments/model_5_LSTM/assets\n",
            "Epoch 35/100\n",
            "16/16 [==============================] - 0s 5ms/step - loss: 177.7019 - val_loss: 1158.3597\n",
            "INFO:tensorflow:Assets written to: model_experiments/model_5_LSTM/assets\n",
            "Epoch 36/100\n",
            "16/16 [==============================] - 0s 5ms/step - loss: 174.8128 - val_loss: 1189.5212\n",
            "Epoch 37/100\n",
            "16/16 [==============================] - 0s 5ms/step - loss: 174.3604 - val_loss: 1171.4575\n",
            "Epoch 38/100\n",
            "16/16 [==============================] - 0s 6ms/step - loss: 173.5863 - val_loss: 1148.0992\n",
            "INFO:tensorflow:Assets written to: model_experiments/model_5_LSTM/assets\n",
            "Epoch 39/100\n",
            "16/16 [==============================] - 0s 6ms/step - loss: 169.9868 - val_loss: 1124.0619\n",
            "INFO:tensorflow:Assets written to: model_experiments/model_5_LSTM/assets\n",
            "Epoch 40/100\n",
            "16/16 [==============================] - 0s 5ms/step - loss: 169.6511 - val_loss: 1139.1980\n",
            "Epoch 41/100\n",
            "16/16 [==============================] - 0s 6ms/step - loss: 168.5564 - val_loss: 1161.1727\n",
            "Epoch 42/100\n",
            "16/16 [==============================] - 0s 6ms/step - loss: 168.3488 - val_loss: 1108.0476\n",
            "INFO:tensorflow:Assets written to: model_experiments/model_5_LSTM/assets\n",
            "Epoch 43/100\n",
            "16/16 [==============================] - 0s 6ms/step - loss: 165.2761 - val_loss: 1101.9196\n",
            "INFO:tensorflow:Assets written to: model_experiments/model_5_LSTM/assets\n",
            "Epoch 44/100\n",
            "16/16 [==============================] - 0s 5ms/step - loss: 164.7994 - val_loss: 1097.6558\n",
            "INFO:tensorflow:Assets written to: model_experiments/model_5_LSTM/assets\n",
            "Epoch 45/100\n",
            "16/16 [==============================] - 0s 5ms/step - loss: 164.6033 - val_loss: 1074.2396\n",
            "INFO:tensorflow:Assets written to: model_experiments/model_5_LSTM/assets\n",
            "Epoch 46/100\n",
            "16/16 [==============================] - 0s 6ms/step - loss: 161.8099 - val_loss: 1086.6792\n",
            "Epoch 47/100\n",
            "16/16 [==============================] - 0s 5ms/step - loss: 160.1714 - val_loss: 1063.3884\n",
            "INFO:tensorflow:Assets written to: model_experiments/model_5_LSTM/assets\n",
            "Epoch 48/100\n",
            "16/16 [==============================] - 0s 6ms/step - loss: 162.1003 - val_loss: 1061.4077\n",
            "INFO:tensorflow:Assets written to: model_experiments/model_5_LSTM/assets\n",
            "Epoch 49/100\n",
            "16/16 [==============================] - 0s 6ms/step - loss: 158.4275 - val_loss: 1047.4856\n",
            "INFO:tensorflow:Assets written to: model_experiments/model_5_LSTM/assets\n",
            "Epoch 50/100\n",
            "16/16 [==============================] - 0s 6ms/step - loss: 159.0642 - val_loss: 1037.5378\n",
            "INFO:tensorflow:Assets written to: model_experiments/model_5_LSTM/assets\n",
            "Epoch 51/100\n",
            "16/16 [==============================] - 0s 6ms/step - loss: 160.1194 - val_loss: 1064.6991\n",
            "Epoch 52/100\n",
            "16/16 [==============================] - 0s 5ms/step - loss: 157.9056 - val_loss: 1049.3705\n",
            "Epoch 53/100\n",
            "16/16 [==============================] - 0s 5ms/step - loss: 156.7662 - val_loss: 1072.2280\n",
            "Epoch 54/100\n",
            "16/16 [==============================] - 0s 5ms/step - loss: 155.6298 - val_loss: 1015.2060\n",
            "INFO:tensorflow:Assets written to: model_experiments/model_5_LSTM/assets\n",
            "Epoch 55/100\n",
            "16/16 [==============================] - 0s 6ms/step - loss: 153.5004 - val_loss: 1046.8176\n",
            "Epoch 56/100\n",
            "16/16 [==============================] - 0s 5ms/step - loss: 155.1109 - val_loss: 1012.9628\n",
            "INFO:tensorflow:Assets written to: model_experiments/model_5_LSTM/assets\n",
            "Epoch 57/100\n",
            "16/16 [==============================] - 0s 6ms/step - loss: 153.1609 - val_loss: 1031.4746\n",
            "Epoch 58/100\n",
            "16/16 [==============================] - 0s 5ms/step - loss: 151.5062 - val_loss: 1005.2223\n",
            "INFO:tensorflow:Assets written to: model_experiments/model_5_LSTM/assets\n",
            "Epoch 59/100\n",
            "16/16 [==============================] - 0s 5ms/step - loss: 150.6797 - val_loss: 1006.3900\n",
            "Epoch 60/100\n",
            "16/16 [==============================] - 0s 5ms/step - loss: 150.1838 - val_loss: 988.1719\n",
            "INFO:tensorflow:Assets written to: model_experiments/model_5_LSTM/assets\n",
            "Epoch 61/100\n",
            "16/16 [==============================] - 0s 5ms/step - loss: 149.6451 - val_loss: 1071.7482\n",
            "Epoch 62/100\n",
            "16/16 [==============================] - 0s 6ms/step - loss: 152.7868 - val_loss: 1008.2620\n",
            "Epoch 63/100\n",
            "16/16 [==============================] - 0s 5ms/step - loss: 150.9275 - val_loss: 1010.5153\n",
            "Epoch 64/100\n",
            "16/16 [==============================] - 0s 5ms/step - loss: 148.0321 - val_loss: 973.2405\n",
            "INFO:tensorflow:Assets written to: model_experiments/model_5_LSTM/assets\n",
            "Epoch 65/100\n",
            "16/16 [==============================] - 0s 5ms/step - loss: 150.4511 - val_loss: 973.6317\n",
            "Epoch 66/100\n",
            "16/16 [==============================] - 0s 6ms/step - loss: 153.4010 - val_loss: 969.4145\n",
            "INFO:tensorflow:Assets written to: model_experiments/model_5_LSTM/assets\n",
            "Epoch 67/100\n",
            "16/16 [==============================] - 0s 6ms/step - loss: 152.1454 - val_loss: 965.2261\n",
            "INFO:tensorflow:Assets written to: model_experiments/model_5_LSTM/assets\n",
            "Epoch 68/100\n",
            "16/16 [==============================] - 0s 6ms/step - loss: 148.5148 - val_loss: 1014.3329\n",
            "Epoch 69/100\n",
            "16/16 [==============================] - 0s 5ms/step - loss: 147.8206 - val_loss: 957.4360\n",
            "INFO:tensorflow:Assets written to: model_experiments/model_5_LSTM/assets\n",
            "Epoch 70/100\n",
            "16/16 [==============================] - 0s 5ms/step - loss: 146.2127 - val_loss: 992.1173\n",
            "Epoch 71/100\n",
            "16/16 [==============================] - 0s 5ms/step - loss: 146.2956 - val_loss: 952.6964\n",
            "INFO:tensorflow:Assets written to: model_experiments/model_5_LSTM/assets\n",
            "Epoch 72/100\n",
            "16/16 [==============================] - 0s 6ms/step - loss: 145.8673 - val_loss: 950.2292\n",
            "INFO:tensorflow:Assets written to: model_experiments/model_5_LSTM/assets\n",
            "Epoch 73/100\n",
            "16/16 [==============================] - 0s 5ms/step - loss: 144.8841 - val_loss: 951.5842\n",
            "Epoch 74/100\n",
            "16/16 [==============================] - 0s 5ms/step - loss: 144.7046 - val_loss: 950.4576\n",
            "Epoch 75/100\n",
            "16/16 [==============================] - 0s 5ms/step - loss: 145.9178 - val_loss: 943.1743\n",
            "INFO:tensorflow:Assets written to: model_experiments/model_5_LSTM/assets\n",
            "Epoch 76/100\n",
            "16/16 [==============================] - 0s 6ms/step - loss: 144.7696 - val_loss: 944.6663\n",
            "Epoch 77/100\n",
            "16/16 [==============================] - 0s 6ms/step - loss: 146.1653 - val_loss: 989.7004\n",
            "Epoch 78/100\n",
            "16/16 [==============================] - 0s 7ms/step - loss: 145.3074 - val_loss: 938.2595\n",
            "INFO:tensorflow:Assets written to: model_experiments/model_5_LSTM/assets\n",
            "Epoch 79/100\n",
            "16/16 [==============================] - 0s 6ms/step - loss: 144.3555 - val_loss: 935.2915\n",
            "INFO:tensorflow:Assets written to: model_experiments/model_5_LSTM/assets\n",
            "Epoch 80/100\n",
            "16/16 [==============================] - 0s 6ms/step - loss: 143.7686 - val_loss: 938.3586\n",
            "Epoch 81/100\n",
            "16/16 [==============================] - 0s 6ms/step - loss: 142.8118 - val_loss: 939.8127\n",
            "Epoch 82/100\n",
            "16/16 [==============================] - 0s 6ms/step - loss: 143.4864 - val_loss: 952.3800\n",
            "Epoch 83/100\n",
            "16/16 [==============================] - 0s 5ms/step - loss: 141.9731 - val_loss: 940.5806\n",
            "Epoch 84/100\n",
            "16/16 [==============================] - 0s 6ms/step - loss: 145.5535 - val_loss: 952.3756\n",
            "Epoch 85/100\n",
            "16/16 [==============================] - 0s 5ms/step - loss: 142.3670 - val_loss: 952.2494\n",
            "Epoch 86/100\n",
            "16/16 [==============================] - 0s 5ms/step - loss: 143.1201 - val_loss: 936.0004\n",
            "Epoch 87/100\n",
            "16/16 [==============================] - 0s 6ms/step - loss: 140.8130 - val_loss: 940.7458\n",
            "Epoch 88/100\n",
            "16/16 [==============================] - 0s 6ms/step - loss: 145.1845 - val_loss: 920.2101\n",
            "INFO:tensorflow:Assets written to: model_experiments/model_5_LSTM/assets\n",
            "Epoch 89/100\n",
            "16/16 [==============================] - 0s 6ms/step - loss: 142.6713 - val_loss: 932.3572\n",
            "Epoch 90/100\n",
            "16/16 [==============================] - 0s 6ms/step - loss: 140.2752 - val_loss: 928.7538\n",
            "Epoch 91/100\n",
            "16/16 [==============================] - 0s 5ms/step - loss: 142.5003 - val_loss: 916.5136\n",
            "INFO:tensorflow:Assets written to: model_experiments/model_5_LSTM/assets\n",
            "Epoch 92/100\n",
            "16/16 [==============================] - 0s 5ms/step - loss: 140.8330 - val_loss: 919.5445\n",
            "Epoch 93/100\n",
            "16/16 [==============================] - 0s 5ms/step - loss: 140.6722 - val_loss: 916.5051\n",
            "INFO:tensorflow:Assets written to: model_experiments/model_5_LSTM/assets\n",
            "Epoch 94/100\n",
            "16/16 [==============================] - 0s 5ms/step - loss: 141.1451 - val_loss: 930.6492\n",
            "Epoch 95/100\n",
            "16/16 [==============================] - 0s 6ms/step - loss: 140.5902 - val_loss: 911.4017\n",
            "INFO:tensorflow:Assets written to: model_experiments/model_5_LSTM/assets\n",
            "Epoch 96/100\n",
            "16/16 [==============================] - 0s 5ms/step - loss: 140.2643 - val_loss: 919.8270\n",
            "Epoch 97/100\n",
            "16/16 [==============================] - 0s 5ms/step - loss: 141.1486 - val_loss: 914.5618\n",
            "Epoch 98/100\n",
            "16/16 [==============================] - 0s 6ms/step - loss: 140.9910 - val_loss: 914.6716\n",
            "Epoch 99/100\n",
            "16/16 [==============================] - 0s 6ms/step - loss: 140.0047 - val_loss: 934.3303\n",
            "Epoch 100/100\n",
            "16/16 [==============================] - 0s 5ms/step - loss: 141.0276 - val_loss: 907.1746\n",
            "INFO:tensorflow:Assets written to: model_experiments/model_5_LSTM/assets\n"
          ]
        },
        {
          "output_type": "execute_result",
          "data": {
            "text/plain": [
              "<keras.callbacks.History at 0x7ff8967a3d90>"
            ]
          },
          "metadata": {},
          "execution_count": 104
        }
      ]
    },
    {
      "cell_type": "code",
      "metadata": {
        "colab": {
          "base_uri": "https://localhost:8080/"
        },
        "id": "cTxucuumkZ2A",
        "outputId": "6dd11fbc-d2ac-4334-b3ec-901a39267df8"
      },
      "source": [
        "# Load in best version of model 5 and evaluate on test data\n",
        "model_5 = tf.keras.models.load_model(\"/content/model_experiments/model_5_LSTM\")\n",
        "model_5.evaluate(test_windows, test_labels)"
      ],
      "execution_count": 105,
      "outputs": [
        {
          "output_type": "stream",
          "name": "stdout",
          "text": [
            "16/16 [==============================] - 0s 1ms/step - loss: 907.1747\n"
          ]
        },
        {
          "output_type": "execute_result",
          "data": {
            "text/plain": [
              "907.1747436523438"
            ]
          },
          "metadata": {},
          "execution_count": 105
        }
      ]
    },
    {
      "cell_type": "code",
      "metadata": {
        "colab": {
          "base_uri": "https://localhost:8080/"
        },
        "id": "Ebim2eywmJlO",
        "outputId": "0d492f54-f179-4f02-8c5e-18d5e621f913"
      },
      "source": [
        "# Make predictions\n",
        "model_5_preds = make_preds(model_5, test_windows)\n",
        "model_5_preds[:5]"
      ],
      "execution_count": 106,
      "outputs": [
        {
          "output_type": "execute_result",
          "data": {
            "text/plain": [
              "<tf.Tensor: shape=(5,), dtype=float32, numpy=array([8903.445, 8998.857, 9044.764, 8921.238, 8962.52 ], dtype=float32)>"
            ]
          },
          "metadata": {},
          "execution_count": 106
        }
      ]
    },
    {
      "cell_type": "code",
      "metadata": {
        "colab": {
          "base_uri": "https://localhost:8080/"
        },
        "id": "hfoIzB0dmY5l",
        "outputId": "2e72fdfd-45a6-4a97-d3f9-8869cf685a38"
      },
      "source": [
        "model_5_results = evaluate_preds(y_true=tf.squeeze(test_labels),\n",
        "                                 y_pred=model_5_preds)\n",
        "model_5_results"
      ],
      "execution_count": 107,
      "outputs": [
        {
          "output_type": "execute_result",
          "data": {
            "text/plain": [
              "{'mae': 907.17487,\n",
              " 'mape': 2.8139749,\n",
              " 'mase': 1.0765352,\n",
              " 'mse': 2030321.5,\n",
              " 'rmse': 1424.8936}"
            ]
          },
          "metadata": {},
          "execution_count": 107
        }
      ]
    },
    {
      "cell_type": "code",
      "metadata": {
        "colab": {
          "base_uri": "https://localhost:8080/"
        },
        "id": "VNilntlEmoyR",
        "outputId": "034657b7-c0f7-449d-9128-461ab01e8ded"
      },
      "source": [
        "model_1_results"
      ],
      "execution_count": 108,
      "outputs": [
        {
          "output_type": "execute_result",
          "data": {
            "text/plain": [
              "{'mae': 849.2311,\n",
              " 'mape': 2.6299298,\n",
              " 'mase': 1.007774,\n",
              " 'mse': 1869035.6,\n",
              " 'rmse': 1367.1268}"
            ]
          },
          "metadata": {},
          "execution_count": 108
        }
      ]
    },
    {
      "cell_type": "markdown",
      "metadata": {
        "id": "HLcCiYjKmsKI"
      },
      "source": [
        "## Make a multivariate dataset"
      ]
    },
    {
      "cell_type": "code",
      "metadata": {
        "colab": {
          "base_uri": "https://localhost:8080/",
          "height": 0
        },
        "id": "pLs9zhoKpcAS",
        "outputId": "0b294c32-69a3-41bc-cdcb-d496f7f9cc79"
      },
      "source": [
        "btc_df.head()"
      ],
      "execution_count": 109,
      "outputs": [
        {
          "output_type": "execute_result",
          "data": {
            "text/html": [
              "<div>\n",
              "<style scoped>\n",
              "    .dataframe tbody tr th:only-of-type {\n",
              "        vertical-align: middle;\n",
              "    }\n",
              "\n",
              "    .dataframe tbody tr th {\n",
              "        vertical-align: top;\n",
              "    }\n",
              "\n",
              "    .dataframe thead th {\n",
              "        text-align: right;\n",
              "    }\n",
              "</style>\n",
              "<table border=\"1\" class=\"dataframe\">\n",
              "  <thead>\n",
              "    <tr style=\"text-align: right;\">\n",
              "      <th></th>\n",
              "      <th>Price</th>\n",
              "    </tr>\n",
              "    <tr>\n",
              "      <th>Date</th>\n",
              "      <th></th>\n",
              "    </tr>\n",
              "  </thead>\n",
              "  <tbody>\n",
              "    <tr>\n",
              "      <th>2014-11-04</th>\n",
              "      <td>324.71833</td>\n",
              "    </tr>\n",
              "    <tr>\n",
              "      <th>2014-11-05</th>\n",
              "      <td>332.45666</td>\n",
              "    </tr>\n",
              "    <tr>\n",
              "      <th>2014-11-06</th>\n",
              "      <td>336.58500</td>\n",
              "    </tr>\n",
              "    <tr>\n",
              "      <th>2014-11-07</th>\n",
              "      <td>346.77500</td>\n",
              "    </tr>\n",
              "    <tr>\n",
              "      <th>2014-11-08</th>\n",
              "      <td>344.81166</td>\n",
              "    </tr>\n",
              "  </tbody>\n",
              "</table>\n",
              "</div>"
            ],
            "text/plain": [
              "                Price\n",
              "Date                 \n",
              "2014-11-04  324.71833\n",
              "2014-11-05  332.45666\n",
              "2014-11-06  336.58500\n",
              "2014-11-07  346.77500\n",
              "2014-11-08  344.81166"
            ]
          },
          "metadata": {},
          "execution_count": 109
        }
      ]
    },
    {
      "cell_type": "code",
      "metadata": {
        "id": "UNUMNHHDrkT3"
      },
      "source": [
        "# Add halving events as a feature\n",
        "block_reward_1 = 50 # Jan 3, 2009 - (won't be included, too early\n",
        "block_reward_2 = 25 # Nov 8, 2012\n",
        "block_reward_3 = 12.5 #Jul 9, 2016\n",
        "block_reward_4 = 6.25 #May 18, 2020\n",
        "\n",
        "# Bloack reward dates\n",
        "block_reward_2_datetime = np.datetime64(\"2012-11-28\")\n",
        "block_reward_3_datetime = np.datetime64(\"2016-07-09\")\n",
        "block_reward_4_datetime = np.datetime64(\"2020-05-18\")\n"
      ],
      "execution_count": 110,
      "outputs": []
    },
    {
      "cell_type": "code",
      "metadata": {
        "colab": {
          "base_uri": "https://localhost:8080/"
        },
        "id": "x0CKHwyRs8gV",
        "outputId": "bbe16652-c63f-432c-9675-a9f84ff3a9ec"
      },
      "source": [
        "# Create data ranges of where specific block reward values should be\n",
        "block_reward_2_days = (block_reward_3_datetime - btc_df.index[0]).days\n",
        "block_reward_3_days = (block_reward_4_datetime - btc_df.index[0]).days\n",
        "\n",
        "print(block_reward_2_days, block_reward_3_days)"
      ],
      "execution_count": 111,
      "outputs": [
        {
          "output_type": "stream",
          "name": "stdout",
          "text": [
            "613 2022\n"
          ]
        }
      ]
    },
    {
      "cell_type": "code",
      "metadata": {
        "id": "BTvDYg0Yt-ai"
      },
      "source": [
        "# Add in a block_reward column\n",
        "bitcoin_prices_block = btc_df.copy()\n",
        "bitcoin_prices_block['block_reward'] = None\n",
        "\n",
        "# Add in block_reward\n",
        "bitcoin_prices_block.iloc[:block_reward_2_days, -1] = block_reward_2\n",
        "bitcoin_prices_block.iloc[block_reward_2_days:block_reward_3_days, -1] = block_reward_3\n",
        "bitcoin_prices_block.iloc[block_reward_3_days:, -1] = block_reward_4"
      ],
      "execution_count": 112,
      "outputs": []
    },
    {
      "cell_type": "code",
      "metadata": {
        "id": "ZSTKjIqvx_0Z",
        "colab": {
          "base_uri": "https://localhost:8080/",
          "height": 0
        },
        "outputId": "485391f5-5209-4179-d46d-21cc6c2fed7f"
      },
      "source": [
        "bitcoin_prices_block.head()"
      ],
      "execution_count": 113,
      "outputs": [
        {
          "output_type": "execute_result",
          "data": {
            "text/html": [
              "<div>\n",
              "<style scoped>\n",
              "    .dataframe tbody tr th:only-of-type {\n",
              "        vertical-align: middle;\n",
              "    }\n",
              "\n",
              "    .dataframe tbody tr th {\n",
              "        vertical-align: top;\n",
              "    }\n",
              "\n",
              "    .dataframe thead th {\n",
              "        text-align: right;\n",
              "    }\n",
              "</style>\n",
              "<table border=\"1\" class=\"dataframe\">\n",
              "  <thead>\n",
              "    <tr style=\"text-align: right;\">\n",
              "      <th></th>\n",
              "      <th>Price</th>\n",
              "      <th>block_reward</th>\n",
              "    </tr>\n",
              "    <tr>\n",
              "      <th>Date</th>\n",
              "      <th></th>\n",
              "      <th></th>\n",
              "    </tr>\n",
              "  </thead>\n",
              "  <tbody>\n",
              "    <tr>\n",
              "      <th>2014-11-04</th>\n",
              "      <td>324.71833</td>\n",
              "      <td>25</td>\n",
              "    </tr>\n",
              "    <tr>\n",
              "      <th>2014-11-05</th>\n",
              "      <td>332.45666</td>\n",
              "      <td>25</td>\n",
              "    </tr>\n",
              "    <tr>\n",
              "      <th>2014-11-06</th>\n",
              "      <td>336.58500</td>\n",
              "      <td>25</td>\n",
              "    </tr>\n",
              "    <tr>\n",
              "      <th>2014-11-07</th>\n",
              "      <td>346.77500</td>\n",
              "      <td>25</td>\n",
              "    </tr>\n",
              "    <tr>\n",
              "      <th>2014-11-08</th>\n",
              "      <td>344.81166</td>\n",
              "      <td>25</td>\n",
              "    </tr>\n",
              "  </tbody>\n",
              "</table>\n",
              "</div>"
            ],
            "text/plain": [
              "                Price block_reward\n",
              "Date                              \n",
              "2014-11-04  324.71833           25\n",
              "2014-11-05  332.45666           25\n",
              "2014-11-06  336.58500           25\n",
              "2014-11-07  346.77500           25\n",
              "2014-11-08  344.81166           25"
            ]
          },
          "metadata": {},
          "execution_count": 113
        }
      ]
    },
    {
      "cell_type": "code",
      "metadata": {
        "id": "yZT74fjmyDzy",
        "colab": {
          "base_uri": "https://localhost:8080/",
          "height": 0
        },
        "outputId": "a0491a92-ec56-464c-a60b-81faef4acf69"
      },
      "source": [
        "bitcoin_prices_block.tail()"
      ],
      "execution_count": 114,
      "outputs": [
        {
          "output_type": "execute_result",
          "data": {
            "text/html": [
              "<div>\n",
              "<style scoped>\n",
              "    .dataframe tbody tr th:only-of-type {\n",
              "        vertical-align: middle;\n",
              "    }\n",
              "\n",
              "    .dataframe tbody tr th {\n",
              "        vertical-align: top;\n",
              "    }\n",
              "\n",
              "    .dataframe thead th {\n",
              "        text-align: right;\n",
              "    }\n",
              "</style>\n",
              "<table border=\"1\" class=\"dataframe\">\n",
              "  <thead>\n",
              "    <tr style=\"text-align: right;\">\n",
              "      <th></th>\n",
              "      <th>Price</th>\n",
              "      <th>block_reward</th>\n",
              "    </tr>\n",
              "    <tr>\n",
              "      <th>Date</th>\n",
              "      <th></th>\n",
              "      <th></th>\n",
              "    </tr>\n",
              "  </thead>\n",
              "  <tbody>\n",
              "    <tr>\n",
              "      <th>2021-09-10</th>\n",
              "      <td>46404.364481</td>\n",
              "      <td>6.25</td>\n",
              "    </tr>\n",
              "    <tr>\n",
              "      <th>2021-09-11</th>\n",
              "      <td>44720.755550</td>\n",
              "      <td>6.25</td>\n",
              "    </tr>\n",
              "    <tr>\n",
              "      <th>2021-09-12</th>\n",
              "      <td>45253.130625</td>\n",
              "      <td>6.25</td>\n",
              "    </tr>\n",
              "    <tr>\n",
              "      <th>2021-09-13</th>\n",
              "      <td>45510.563249</td>\n",
              "      <td>6.25</td>\n",
              "    </tr>\n",
              "    <tr>\n",
              "      <th>2021-09-14</th>\n",
              "      <td>45097.797218</td>\n",
              "      <td>6.25</td>\n",
              "    </tr>\n",
              "  </tbody>\n",
              "</table>\n",
              "</div>"
            ],
            "text/plain": [
              "                   Price block_reward\n",
              "Date                                 \n",
              "2021-09-10  46404.364481         6.25\n",
              "2021-09-11  44720.755550         6.25\n",
              "2021-09-12  45253.130625         6.25\n",
              "2021-09-13  45510.563249         6.25\n",
              "2021-09-14  45097.797218         6.25"
            ]
          },
          "metadata": {},
          "execution_count": 114
        }
      ]
    },
    {
      "cell_type": "code",
      "metadata": {
        "id": "Mm38vAY9yX0s",
        "colab": {
          "base_uri": "https://localhost:8080/",
          "height": 0
        },
        "outputId": "c62072dd-c4e8-48f4-d4cc-c113898b5447"
      },
      "source": [
        "# Plot the block rreward vs price over time\n",
        "from sklearn.preprocessing import minmax_scale\n",
        "scaled_price_block_df = pd.DataFrame(minmax_scale(bitcoin_prices_block[[\"Price\", \"block_reward\"]]),\n",
        "                                     columns=bitcoin_prices_block.columns,\n",
        "                                     index=bitcoin_prices_block.index)\n",
        "scaled_price_block_df.plot(figsize=(10,7))"
      ],
      "execution_count": 115,
      "outputs": [
        {
          "output_type": "execute_result",
          "data": {
            "text/plain": [
              "<matplotlib.axes._subplots.AxesSubplot at 0x7ff8919703d0>"
            ]
          },
          "metadata": {},
          "execution_count": 115
        },
        {
          "output_type": "display_data",
          "data": {
            "image/png": "[encoded data removed]",
            "text/plain": [
              "<Figure size 720x504 with 1 Axes>"
            ]
          },
          "metadata": {
            "needs_background": "light"
          }
        }
      ]
    },
    {
      "cell_type": "markdown",
      "metadata": {
        "id": "CDE5gcIwyt2y"
      },
      "source": [
        "## Making a windowed dataset with pandas"
      ]
    },
    {
      "cell_type": "code",
      "metadata": {
        "id": "1MfLTxKgsonw"
      },
      "source": [
        "# Setup dataset hyperparameters\n",
        "HORIZON = 1\n",
        "WINDOW_SIZE = 7"
      ],
      "execution_count": 116,
      "outputs": []
    },
    {
      "cell_type": "code",
      "metadata": {
        "id": "i_Dh8qm-sv14"
      },
      "source": [
        "# Make a copy of bitcoin historical data with block reward feature\n",
        "bitcoin_prices_windowed = bitcoin_prices_block.copy()\n",
        "\n",
        "# Add windowed columns\n",
        "for i in range(WINDOW_SIZE):\n",
        "  bitcoin_prices_windowed[f\"Price+{i+1}\"] = bitcoin_prices_windowed[\"Price\"].shift(periods=i+1)\n"
      ],
      "execution_count": 117,
      "outputs": []
    },
    {
      "cell_type": "code",
      "metadata": {
        "colab": {
          "base_uri": "https://localhost:8080/",
          "height": 0
        },
        "id": "cybQLonytIZd",
        "outputId": "a0bf6f08-719b-477e-b76f-21e6bd5a762b"
      },
      "source": [
        "bitcoin_prices_windowed.head()"
      ],
      "execution_count": 118,
      "outputs": [
        {
          "output_type": "execute_result",
          "data": {
            "text/html": [
              "<div>\n",
              "<style scoped>\n",
              "    .dataframe tbody tr th:only-of-type {\n",
              "        vertical-align: middle;\n",
              "    }\n",
              "\n",
              "    .dataframe tbody tr th {\n",
              "        vertical-align: top;\n",
              "    }\n",
              "\n",
              "    .dataframe thead th {\n",
              "        text-align: right;\n",
              "    }\n",
              "</style>\n",
              "<table border=\"1\" class=\"dataframe\">\n",
              "  <thead>\n",
              "    <tr style=\"text-align: right;\">\n",
              "      <th></th>\n",
              "      <th>Price</th>\n",
              "      <th>block_reward</th>\n",
              "      <th>Price+1</th>\n",
              "      <th>Price+2</th>\n",
              "      <th>Price+3</th>\n",
              "      <th>Price+4</th>\n",
              "      <th>Price+5</th>\n",
              "      <th>Price+6</th>\n",
              "      <th>Price+7</th>\n",
              "    </tr>\n",
              "    <tr>\n",
              "      <th>Date</th>\n",
              "      <th></th>\n",
              "      <th></th>\n",
              "      <th></th>\n",
              "      <th></th>\n",
              "      <th></th>\n",
              "      <th></th>\n",
              "      <th></th>\n",
              "      <th></th>\n",
              "      <th></th>\n",
              "    </tr>\n",
              "  </thead>\n",
              "  <tbody>\n",
              "    <tr>\n",
              "      <th>2014-11-04</th>\n",
              "      <td>324.71833</td>\n",
              "      <td>25</td>\n",
              "      <td>NaN</td>\n",
              "      <td>NaN</td>\n",
              "      <td>NaN</td>\n",
              "      <td>NaN</td>\n",
              "      <td>NaN</td>\n",
              "      <td>NaN</td>\n",
              "      <td>NaN</td>\n",
              "    </tr>\n",
              "    <tr>\n",
              "      <th>2014-11-05</th>\n",
              "      <td>332.45666</td>\n",
              "      <td>25</td>\n",
              "      <td>324.71833</td>\n",
              "      <td>NaN</td>\n",
              "      <td>NaN</td>\n",
              "      <td>NaN</td>\n",
              "      <td>NaN</td>\n",
              "      <td>NaN</td>\n",
              "      <td>NaN</td>\n",
              "    </tr>\n",
              "    <tr>\n",
              "      <th>2014-11-06</th>\n",
              "      <td>336.58500</td>\n",
              "      <td>25</td>\n",
              "      <td>332.45666</td>\n",
              "      <td>324.71833</td>\n",
              "      <td>NaN</td>\n",
              "      <td>NaN</td>\n",
              "      <td>NaN</td>\n",
              "      <td>NaN</td>\n",
              "      <td>NaN</td>\n",
              "    </tr>\n",
              "    <tr>\n",
              "      <th>2014-11-07</th>\n",
              "      <td>346.77500</td>\n",
              "      <td>25</td>\n",
              "      <td>336.58500</td>\n",
              "      <td>332.45666</td>\n",
              "      <td>324.71833</td>\n",
              "      <td>NaN</td>\n",
              "      <td>NaN</td>\n",
              "      <td>NaN</td>\n",
              "      <td>NaN</td>\n",
              "    </tr>\n",
              "    <tr>\n",
              "      <th>2014-11-08</th>\n",
              "      <td>344.81166</td>\n",
              "      <td>25</td>\n",
              "      <td>346.77500</td>\n",
              "      <td>336.58500</td>\n",
              "      <td>332.45666</td>\n",
              "      <td>324.71833</td>\n",
              "      <td>NaN</td>\n",
              "      <td>NaN</td>\n",
              "      <td>NaN</td>\n",
              "    </tr>\n",
              "  </tbody>\n",
              "</table>\n",
              "</div>"
            ],
            "text/plain": [
              "                Price block_reward    Price+1  ...  Price+5  Price+6  Price+7\n",
              "Date                                           ...                           \n",
              "2014-11-04  324.71833           25        NaN  ...      NaN      NaN      NaN\n",
              "2014-11-05  332.45666           25  324.71833  ...      NaN      NaN      NaN\n",
              "2014-11-06  336.58500           25  332.45666  ...      NaN      NaN      NaN\n",
              "2014-11-07  346.77500           25  336.58500  ...      NaN      NaN      NaN\n",
              "2014-11-08  344.81166           25  346.77500  ...      NaN      NaN      NaN\n",
              "\n",
              "[5 rows x 9 columns]"
            ]
          },
          "metadata": {},
          "execution_count": 118
        }
      ]
    },
    {
      "cell_type": "code",
      "metadata": {
        "colab": {
          "base_uri": "https://localhost:8080/",
          "height": 0
        },
        "id": "moJorQ0ntLZR",
        "outputId": "fc710da6-6eea-4206-d43e-ad28b6036606"
      },
      "source": [
        "# Create X (windows) and y(horizons) features\n",
        "X = bitcoin_prices_windowed.dropna().drop(\"Price\", axis=1).astype(np.float32)\n",
        "y = bitcoin_prices_windowed.dropna()['Price'].astype(np.float32)\n",
        "X.head()"
      ],
      "execution_count": 119,
      "outputs": [
        {
          "output_type": "execute_result",
          "data": {
            "text/html": [
              "<div>\n",
              "<style scoped>\n",
              "    .dataframe tbody tr th:only-of-type {\n",
              "        vertical-align: middle;\n",
              "    }\n",
              "\n",
              "    .dataframe tbody tr th {\n",
              "        vertical-align: top;\n",
              "    }\n",
              "\n",
              "    .dataframe thead th {\n",
              "        text-align: right;\n",
              "    }\n",
              "</style>\n",
              "<table border=\"1\" class=\"dataframe\">\n",
              "  <thead>\n",
              "    <tr style=\"text-align: right;\">\n",
              "      <th></th>\n",
              "      <th>block_reward</th>\n",
              "      <th>Price+1</th>\n",
              "      <th>Price+2</th>\n",
              "      <th>Price+3</th>\n",
              "      <th>Price+4</th>\n",
              "      <th>Price+5</th>\n",
              "      <th>Price+6</th>\n",
              "      <th>Price+7</th>\n",
              "    </tr>\n",
              "    <tr>\n",
              "      <th>Date</th>\n",
              "      <th></th>\n",
              "      <th></th>\n",
              "      <th></th>\n",
              "      <th></th>\n",
              "      <th></th>\n",
              "      <th></th>\n",
              "      <th></th>\n",
              "      <th></th>\n",
              "    </tr>\n",
              "  </thead>\n",
              "  <tbody>\n",
              "    <tr>\n",
              "      <th>2014-11-11</th>\n",
              "      <td>25.0</td>\n",
              "      <td>358.501648</td>\n",
              "      <td>343.065002</td>\n",
              "      <td>344.811646</td>\n",
              "      <td>346.774994</td>\n",
              "      <td>336.584991</td>\n",
              "      <td>332.456665</td>\n",
              "      <td>324.718323</td>\n",
              "    </tr>\n",
              "    <tr>\n",
              "      <th>2014-11-12</th>\n",
              "      <td>25.0</td>\n",
              "      <td>368.076660</td>\n",
              "      <td>358.501648</td>\n",
              "      <td>343.065002</td>\n",
              "      <td>344.811646</td>\n",
              "      <td>346.774994</td>\n",
              "      <td>336.584991</td>\n",
              "      <td>332.456665</td>\n",
              "    </tr>\n",
              "    <tr>\n",
              "      <th>2014-11-13</th>\n",
              "      <td>25.0</td>\n",
              "      <td>376.996674</td>\n",
              "      <td>368.076660</td>\n",
              "      <td>358.501648</td>\n",
              "      <td>343.065002</td>\n",
              "      <td>344.811646</td>\n",
              "      <td>346.774994</td>\n",
              "      <td>336.584991</td>\n",
              "    </tr>\n",
              "    <tr>\n",
              "      <th>2014-11-14</th>\n",
              "      <td>25.0</td>\n",
              "      <td>442.106659</td>\n",
              "      <td>376.996674</td>\n",
              "      <td>368.076660</td>\n",
              "      <td>358.501648</td>\n",
              "      <td>343.065002</td>\n",
              "      <td>344.811646</td>\n",
              "      <td>346.774994</td>\n",
              "    </tr>\n",
              "    <tr>\n",
              "      <th>2014-11-15</th>\n",
              "      <td>25.0</td>\n",
              "      <td>389.003326</td>\n",
              "      <td>442.106659</td>\n",
              "      <td>376.996674</td>\n",
              "      <td>368.076660</td>\n",
              "      <td>358.501648</td>\n",
              "      <td>343.065002</td>\n",
              "      <td>344.811646</td>\n",
              "    </tr>\n",
              "  </tbody>\n",
              "</table>\n",
              "</div>"
            ],
            "text/plain": [
              "            block_reward     Price+1  ...     Price+6     Price+7\n",
              "Date                                  ...                        \n",
              "2014-11-11          25.0  358.501648  ...  332.456665  324.718323\n",
              "2014-11-12          25.0  368.076660  ...  336.584991  332.456665\n",
              "2014-11-13          25.0  376.996674  ...  346.774994  336.584991\n",
              "2014-11-14          25.0  442.106659  ...  344.811646  346.774994\n",
              "2014-11-15          25.0  389.003326  ...  343.065002  344.811646\n",
              "\n",
              "[5 rows x 8 columns]"
            ]
          },
          "metadata": {},
          "execution_count": 119
        }
      ]
    },
    {
      "cell_type": "code",
      "metadata": {
        "colab": {
          "base_uri": "https://localhost:8080/"
        },
        "id": "_182bACpu8o7",
        "outputId": "e6294351-d662-4271-8870-ef1599216210"
      },
      "source": [
        "# Make train and test sets using indexing\n",
        "split_size = int(len(X) * 0.8)\n",
        "X_train, y_train = X[:split_size], y[:split_size]\n",
        "X_test, y_test = X[split_size:], y[split_size:]\n",
        "len(X_train), len(y_train), len(X_test), len(y_test)"
      ],
      "execution_count": 120,
      "outputs": [
        {
          "output_type": "execute_result",
          "data": {
            "text/plain": [
              "(2000, 2000, 500, 500)"
            ]
          },
          "metadata": {},
          "execution_count": 120
        }
      ]
    },
    {
      "cell_type": "markdown",
      "metadata": {
        "id": "yjNyZvC5vleX"
      },
      "source": [
        "## Model 6: Dense (multivariate timeseries)"
      ]
    },
    {
      "cell_type": "code",
      "metadata": {
        "colab": {
          "base_uri": "https://localhost:8080/"
        },
        "id": "yqfzRC92wAEx",
        "outputId": "f10c2a72-69e9-4e18-ba9b-1406a49e8ee8"
      },
      "source": [
        "tf.random.set_seed(42)\n",
        "\n",
        "model_6 = tf.keras.Sequential([\n",
        "      tf.keras.layers.Dense(128, activation=\"relu\"),\n",
        "      tf.keras.layers.Dense(HORIZON)\n",
        "], name=\"model_6_dense_multivariate\")\n",
        "\n",
        "# Commpile\n",
        "model_6.compile(loss=\"mae\",\n",
        "                optimizer=tf.keras.optimizers.Adam())\n",
        "\n",
        "# Fit the model\n",
        "model_6.fit(X_train, \n",
        "            y_train,\n",
        "            epochs=100,\n",
        "            verbose=1,\n",
        "            validation_data=(X_test, y_test),\n",
        "            callbacks=[create_model_checkpoint(model_name=model_6.name)])"
      ],
      "execution_count": 121,
      "outputs": [
        {
          "output_type": "stream",
          "name": "stdout",
          "text": [
            "Epoch 1/100\n",
            "63/63 [==============================] - 0s 3ms/step - loss: 684.9950 - val_loss: 1624.0962\n",
            "INFO:tensorflow:Assets written to: model_experiments/model_6_dense_multivariate/assets\n",
            "Epoch 2/100\n",
            "63/63 [==============================] - 0s 1ms/step - loss: 248.7472 - val_loss: 1685.2360\n",
            "Epoch 3/100\n",
            "63/63 [==============================] - 0s 1ms/step - loss: 226.1242 - val_loss: 1384.7915\n",
            "INFO:tensorflow:Assets written to: model_experiments/model_6_dense_multivariate/assets\n",
            "Epoch 4/100\n",
            "63/63 [==============================] - 0s 1ms/step - loss: 212.2347 - val_loss: 1308.7386\n",
            "INFO:tensorflow:Assets written to: model_experiments/model_6_dense_multivariate/assets\n",
            "Epoch 5/100\n",
            "63/63 [==============================] - 0s 1ms/step - loss: 195.1886 - val_loss: 1298.6288\n",
            "INFO:tensorflow:Assets written to: model_experiments/model_6_dense_multivariate/assets\n",
            "Epoch 6/100\n",
            "63/63 [==============================] - 0s 1ms/step - loss: 184.8293 - val_loss: 1368.6249\n",
            "Epoch 7/100\n",
            "63/63 [==============================] - 0s 1ms/step - loss: 188.0217 - val_loss: 1197.4862\n",
            "INFO:tensorflow:Assets written to: model_experiments/model_6_dense_multivariate/assets\n",
            "Epoch 8/100\n",
            "63/63 [==============================] - 0s 2ms/step - loss: 175.7255 - val_loss: 1196.0066\n",
            "INFO:tensorflow:Assets written to: model_experiments/model_6_dense_multivariate/assets\n",
            "Epoch 9/100\n",
            "63/63 [==============================] - 0s 2ms/step - loss: 160.1944 - val_loss: 1005.2239\n",
            "INFO:tensorflow:Assets written to: model_experiments/model_6_dense_multivariate/assets\n",
            "Epoch 10/100\n",
            "63/63 [==============================] - 0s 1ms/step - loss: 154.5092 - val_loss: 1046.3723\n",
            "Epoch 11/100\n",
            "63/63 [==============================] - 0s 2ms/step - loss: 156.0290 - val_loss: 968.3521\n",
            "INFO:tensorflow:Assets written to: model_experiments/model_6_dense_multivariate/assets\n",
            "Epoch 12/100\n",
            "63/63 [==============================] - 0s 1ms/step - loss: 149.7475 - val_loss: 949.8240\n",
            "INFO:tensorflow:Assets written to: model_experiments/model_6_dense_multivariate/assets\n",
            "Epoch 13/100\n",
            "63/63 [==============================] - 0s 2ms/step - loss: 152.5873 - val_loss: 1225.6864\n",
            "Epoch 14/100\n",
            "63/63 [==============================] - 0s 1ms/step - loss: 156.9102 - val_loss: 923.0030\n",
            "INFO:tensorflow:Assets written to: model_experiments/model_6_dense_multivariate/assets\n",
            "Epoch 15/100\n",
            "63/63 [==============================] - 0s 2ms/step - loss: 145.7693 - val_loss: 911.4227\n",
            "INFO:tensorflow:Assets written to: model_experiments/model_6_dense_multivariate/assets\n",
            "Epoch 16/100\n",
            "63/63 [==============================] - 0s 1ms/step - loss: 152.7943 - val_loss: 1010.2775\n",
            "Epoch 17/100\n",
            "63/63 [==============================] - 0s 2ms/step - loss: 144.2137 - val_loss: 915.6475\n",
            "Epoch 18/100\n",
            "63/63 [==============================] - 0s 2ms/step - loss: 159.9701 - val_loss: 1104.8600\n",
            "Epoch 19/100\n",
            "63/63 [==============================] - 0s 2ms/step - loss: 144.9124 - val_loss: 1148.9247\n",
            "Epoch 20/100\n",
            "63/63 [==============================] - 0s 1ms/step - loss: 142.0908 - val_loss: 995.6126\n",
            "Epoch 21/100\n",
            "63/63 [==============================] - 0s 2ms/step - loss: 147.4921 - val_loss: 991.9524\n",
            "Epoch 22/100\n",
            "63/63 [==============================] - 0s 1ms/step - loss: 142.4057 - val_loss: 863.1964\n",
            "INFO:tensorflow:Assets written to: model_experiments/model_6_dense_multivariate/assets\n",
            "Epoch 23/100\n",
            "63/63 [==============================] - 0s 2ms/step - loss: 148.6951 - val_loss: 1325.4098\n",
            "Epoch 24/100\n",
            "63/63 [==============================] - 0s 2ms/step - loss: 140.5347 - val_loss: 900.5153\n",
            "Epoch 25/100\n",
            "63/63 [==============================] - 0s 2ms/step - loss: 135.6928 - val_loss: 963.6110\n",
            "Epoch 26/100\n",
            "63/63 [==============================] - 0s 1ms/step - loss: 137.9640 - val_loss: 883.7641\n",
            "Epoch 27/100\n",
            "63/63 [==============================] - 0s 2ms/step - loss: 141.6851 - val_loss: 943.0819\n",
            "Epoch 28/100\n",
            "63/63 [==============================] - 0s 1ms/step - loss: 149.1219 - val_loss: 1379.1936\n",
            "Epoch 29/100\n",
            "63/63 [==============================] - 0s 1ms/step - loss: 143.9212 - val_loss: 861.7302\n",
            "INFO:tensorflow:Assets written to: model_experiments/model_6_dense_multivariate/assets\n",
            "Epoch 30/100\n",
            "63/63 [==============================] - 0s 2ms/step - loss: 142.3123 - val_loss: 851.7645\n",
            "INFO:tensorflow:Assets written to: model_experiments/model_6_dense_multivariate/assets\n",
            "Epoch 31/100\n",
            "63/63 [==============================] - 0s 1ms/step - loss: 145.7330 - val_loss: 1138.6707\n",
            "Epoch 32/100\n",
            "63/63 [==============================] - 0s 2ms/step - loss: 139.7759 - val_loss: 928.7427\n",
            "Epoch 33/100\n",
            "63/63 [==============================] - 0s 1ms/step - loss: 135.5343 - val_loss: 931.9940\n",
            "Epoch 34/100\n",
            "63/63 [==============================] - 0s 2ms/step - loss: 140.4672 - val_loss: 1072.5854\n",
            "Epoch 35/100\n",
            "63/63 [==============================] - 0s 2ms/step - loss: 139.4120 - val_loss: 848.5786\n",
            "INFO:tensorflow:Assets written to: model_experiments/model_6_dense_multivariate/assets\n",
            "Epoch 36/100\n",
            "63/63 [==============================] - 0s 1ms/step - loss: 150.9889 - val_loss: 1023.3315\n",
            "Epoch 37/100\n",
            "63/63 [==============================] - 0s 1ms/step - loss: 150.7309 - val_loss: 904.5220\n",
            "Epoch 38/100\n",
            "63/63 [==============================] - 0s 2ms/step - loss: 160.4774 - val_loss: 873.5494\n",
            "Epoch 39/100\n",
            "63/63 [==============================] - 0s 2ms/step - loss: 137.1464 - val_loss: 982.8981\n",
            "Epoch 40/100\n",
            "63/63 [==============================] - 0s 2ms/step - loss: 148.6452 - val_loss: 1012.2800\n",
            "Epoch 41/100\n",
            "63/63 [==============================] - 0s 1ms/step - loss: 136.4074 - val_loss: 943.6750\n",
            "Epoch 42/100\n",
            "63/63 [==============================] - 0s 2ms/step - loss: 135.4897 - val_loss: 854.6621\n",
            "Epoch 43/100\n",
            "63/63 [==============================] - 0s 1ms/step - loss: 134.9557 - val_loss: 861.0483\n",
            "Epoch 44/100\n",
            "63/63 [==============================] - 0s 2ms/step - loss: 139.1695 - val_loss: 882.7874\n",
            "Epoch 45/100\n",
            "63/63 [==============================] - 0s 2ms/step - loss: 138.1484 - val_loss: 899.6676\n",
            "Epoch 46/100\n",
            "63/63 [==============================] - 0s 2ms/step - loss: 133.5049 - val_loss: 847.1002\n",
            "INFO:tensorflow:Assets written to: model_experiments/model_6_dense_multivariate/assets\n",
            "Epoch 47/100\n",
            "63/63 [==============================] - 0s 1ms/step - loss: 136.1711 - val_loss: 1266.2505\n",
            "Epoch 48/100\n",
            "63/63 [==============================] - 0s 1ms/step - loss: 155.5192 - val_loss: 869.4020\n",
            "Epoch 49/100\n",
            "63/63 [==============================] - 0s 2ms/step - loss: 137.0385 - val_loss: 863.5815\n",
            "Epoch 50/100\n",
            "63/63 [==============================] - 0s 1ms/step - loss: 134.7597 - val_loss: 1112.0397\n",
            "Epoch 51/100\n",
            "63/63 [==============================] - 0s 1ms/step - loss: 141.0451 - val_loss: 1060.7932\n",
            "Epoch 52/100\n",
            "63/63 [==============================] - 0s 2ms/step - loss: 142.7975 - val_loss: 844.4091\n",
            "INFO:tensorflow:Assets written to: model_experiments/model_6_dense_multivariate/assets\n",
            "Epoch 53/100\n",
            "63/63 [==============================] - 0s 1ms/step - loss: 142.8123 - val_loss: 1031.3889\n",
            "Epoch 54/100\n",
            "63/63 [==============================] - 0s 1ms/step - loss: 134.6777 - val_loss: 866.7267\n",
            "Epoch 55/100\n",
            "63/63 [==============================] - 0s 2ms/step - loss: 132.5244 - val_loss: 888.8982\n",
            "Epoch 56/100\n",
            "63/63 [==============================] - 0s 1ms/step - loss: 137.7679 - val_loss: 840.2017\n",
            "INFO:tensorflow:Assets written to: model_experiments/model_6_dense_multivariate/assets\n",
            "Epoch 57/100\n",
            "63/63 [==============================] - 0s 1ms/step - loss: 139.1466 - val_loss: 1078.0818\n",
            "Epoch 58/100\n",
            "63/63 [==============================] - 0s 2ms/step - loss: 139.1070 - val_loss: 855.1949\n",
            "Epoch 59/100\n",
            "63/63 [==============================] - 0s 2ms/step - loss: 136.7791 - val_loss: 880.8117\n",
            "Epoch 60/100\n",
            "63/63 [==============================] - 0s 2ms/step - loss: 134.3676 - val_loss: 1217.2418\n",
            "Epoch 61/100\n",
            "63/63 [==============================] - 0s 1ms/step - loss: 140.1288 - val_loss: 845.1846\n",
            "Epoch 62/100\n",
            "63/63 [==============================] - 0s 2ms/step - loss: 145.0938 - val_loss: 847.8701\n",
            "Epoch 63/100\n",
            "63/63 [==============================] - 0s 1ms/step - loss: 137.1242 - val_loss: 964.7427\n",
            "Epoch 64/100\n",
            "63/63 [==============================] - 0s 2ms/step - loss: 136.6005 - val_loss: 842.4868\n",
            "Epoch 65/100\n",
            "63/63 [==============================] - 0s 2ms/step - loss: 133.1198 - val_loss: 847.6024\n",
            "Epoch 66/100\n",
            "63/63 [==============================] - 0s 1ms/step - loss: 139.8411 - val_loss: 908.8813\n",
            "Epoch 67/100\n",
            "63/63 [==============================] - 0s 2ms/step - loss: 134.8643 - val_loss: 843.3960\n",
            "Epoch 68/100\n",
            "63/63 [==============================] - 0s 1ms/step - loss: 137.3935 - val_loss: 855.4236\n",
            "Epoch 69/100\n",
            "63/63 [==============================] - 0s 2ms/step - loss: 138.1673 - val_loss: 840.1818\n",
            "INFO:tensorflow:Assets written to: model_experiments/model_6_dense_multivariate/assets\n",
            "Epoch 70/100\n",
            "63/63 [==============================] - 0s 1ms/step - loss: 136.8065 - val_loss: 1040.7487\n",
            "Epoch 71/100\n",
            "63/63 [==============================] - 0s 1ms/step - loss: 137.3434 - val_loss: 1040.8451\n",
            "Epoch 72/100\n",
            "63/63 [==============================] - 0s 1ms/step - loss: 147.6622 - val_loss: 1177.2795\n",
            "Epoch 73/100\n",
            "63/63 [==============================] - 0s 1ms/step - loss: 143.3241 - val_loss: 943.3817\n",
            "Epoch 74/100\n",
            "63/63 [==============================] - 0s 2ms/step - loss: 135.7337 - val_loss: 884.4902\n",
            "Epoch 75/100\n",
            "63/63 [==============================] - 0s 2ms/step - loss: 140.3086 - val_loss: 897.6646\n",
            "Epoch 76/100\n",
            "63/63 [==============================] - 0s 1ms/step - loss: 138.6002 - val_loss: 849.0173\n",
            "Epoch 77/100\n",
            "63/63 [==============================] - 0s 1ms/step - loss: 136.0964 - val_loss: 858.7360\n",
            "Epoch 78/100\n",
            "63/63 [==============================] - 0s 2ms/step - loss: 139.1603 - val_loss: 839.8246\n",
            "INFO:tensorflow:Assets written to: model_experiments/model_6_dense_multivariate/assets\n",
            "Epoch 79/100\n",
            "63/63 [==============================] - 0s 2ms/step - loss: 137.7644 - val_loss: 992.7827\n",
            "Epoch 80/100\n",
            "63/63 [==============================] - 0s 1ms/step - loss: 142.0660 - val_loss: 956.5008\n",
            "Epoch 81/100\n",
            "63/63 [==============================] - 0s 2ms/step - loss: 134.3673 - val_loss: 855.0055\n",
            "Epoch 82/100\n",
            "63/63 [==============================] - 0s 1ms/step - loss: 137.1393 - val_loss: 846.7285\n",
            "Epoch 83/100\n",
            "63/63 [==============================] - 0s 1ms/step - loss: 132.6500 - val_loss: 901.6642\n",
            "Epoch 84/100\n",
            "63/63 [==============================] - 0s 2ms/step - loss: 137.8831 - val_loss: 886.6793\n",
            "Epoch 85/100\n",
            "63/63 [==============================] - 0s 2ms/step - loss: 132.5175 - val_loss: 953.9924\n",
            "Epoch 86/100\n",
            "63/63 [==============================] - 0s 1ms/step - loss: 145.5211 - val_loss: 837.2019\n",
            "INFO:tensorflow:Assets written to: model_experiments/model_6_dense_multivariate/assets\n",
            "Epoch 87/100\n",
            "63/63 [==============================] - 0s 1ms/step - loss: 134.2636 - val_loss: 847.3440\n",
            "Epoch 88/100\n",
            "63/63 [==============================] - 0s 1ms/step - loss: 136.6388 - val_loss: 846.9424\n",
            "Epoch 89/100\n",
            "63/63 [==============================] - 0s 1ms/step - loss: 135.7804 - val_loss: 856.2814\n",
            "Epoch 90/100\n",
            "63/63 [==============================] - 0s 2ms/step - loss: 134.1245 - val_loss: 951.8758\n",
            "Epoch 91/100\n",
            "63/63 [==============================] - 0s 2ms/step - loss: 138.9583 - val_loss: 857.6287\n",
            "Epoch 92/100\n",
            "63/63 [==============================] - 0s 2ms/step - loss: 134.5676 - val_loss: 872.3942\n",
            "Epoch 93/100\n",
            "63/63 [==============================] - 0s 2ms/step - loss: 135.9390 - val_loss: 836.2916\n",
            "INFO:tensorflow:Assets written to: model_experiments/model_6_dense_multivariate/assets\n",
            "Epoch 94/100\n",
            "63/63 [==============================] - 0s 2ms/step - loss: 146.2449 - val_loss: 836.4208\n",
            "Epoch 95/100\n",
            "63/63 [==============================] - 0s 2ms/step - loss: 135.0431 - val_loss: 854.2249\n",
            "Epoch 96/100\n",
            "63/63 [==============================] - 0s 1ms/step - loss: 141.9320 - val_loss: 872.1527\n",
            "Epoch 97/100\n",
            "63/63 [==============================] - 0s 2ms/step - loss: 134.9288 - val_loss: 951.0472\n",
            "Epoch 98/100\n",
            "63/63 [==============================] - 0s 1ms/step - loss: 141.2667 - val_loss: 917.9870\n",
            "Epoch 99/100\n",
            "63/63 [==============================] - 0s 1ms/step - loss: 137.6818 - val_loss: 839.6447\n",
            "Epoch 100/100\n",
            "63/63 [==============================] - 0s 1ms/step - loss: 136.0748 - val_loss: 882.4774\n"
          ]
        },
        {
          "output_type": "execute_result",
          "data": {
            "text/plain": [
              "<keras.callbacks.History at 0x7ff89527d790>"
            ]
          },
          "metadata": {},
          "execution_count": 121
        }
      ]
    },
    {
      "cell_type": "code",
      "metadata": {
        "colab": {
          "base_uri": "https://localhost:8080/"
        },
        "id": "o0HXKu5rw_PZ",
        "outputId": "76b989dc-5987-4d90-e926-6f4eca76ef10"
      },
      "source": [
        "# Evaluate\n",
        "model_6.evaluate(X_test, y_test)"
      ],
      "execution_count": 122,
      "outputs": [
        {
          "output_type": "stream",
          "name": "stdout",
          "text": [
            "16/16 [==============================] - 0s 861us/step - loss: 882.4774\n"
          ]
        },
        {
          "output_type": "execute_result",
          "data": {
            "text/plain": [
              "882.4773559570312"
            ]
          },
          "metadata": {},
          "execution_count": 122
        }
      ]
    },
    {
      "cell_type": "code",
      "metadata": {
        "id": "k3b29YFtxKEt"
      },
      "source": [
        "# Load in and evaluate the best performing parameters\n",
        "model_6 = tf.keras.models.load_model(\"/content/model_experiments/model_6_dense_multivariate\")"
      ],
      "execution_count": 123,
      "outputs": []
    },
    {
      "cell_type": "code",
      "metadata": {
        "colab": {
          "base_uri": "https://localhost:8080/"
        },
        "id": "46FkAf-VxddI",
        "outputId": "9c216d6b-7790-4a9c-a44d-42723cc8f3a5"
      },
      "source": [
        "model_6.evaluate(X_test, y_test)"
      ],
      "execution_count": 124,
      "outputs": [
        {
          "output_type": "stream",
          "name": "stdout",
          "text": [
            "16/16 [==============================] - 0s 965us/step - loss: 836.2916\n"
          ]
        },
        {
          "output_type": "execute_result",
          "data": {
            "text/plain": [
              "836.2915649414062"
            ]
          },
          "metadata": {},
          "execution_count": 124
        }
      ]
    },
    {
      "cell_type": "code",
      "metadata": {
        "id": "t4CqLuaTxqnU"
      },
      "source": [
        "# Make predictions with multivariate model\n",
        "model_6_predictions = tf.squeeze(model_6.predict(X_test))"
      ],
      "execution_count": 125,
      "outputs": []
    },
    {
      "cell_type": "code",
      "metadata": {
        "id": "wi3T9GTQx4EI"
      },
      "source": [
        "model_6_results = evaluate_preds(y_true=y_test,\n",
        "                                 y_pred=model_6_predictions)"
      ],
      "execution_count": 126,
      "outputs": []
    },
    {
      "cell_type": "code",
      "metadata": {
        "colab": {
          "base_uri": "https://localhost:8080/"
        },
        "id": "nHyOWqc0yOMs",
        "outputId": "4ca189b3-2a72-4b4c-f26a-9679d7d6e43d"
      },
      "source": [
        "model_6_results"
      ],
      "execution_count": 127,
      "outputs": [
        {
          "output_type": "execute_result",
          "data": {
            "text/plain": [
              "{'mae': 836.2916,\n",
              " 'mape': 2.5924397,\n",
              " 'mase': 0.9924188,\n",
              " 'mse': 1831093.5,\n",
              " 'rmse': 1353.1791}"
            ]
          },
          "metadata": {},
          "execution_count": 127
        }
      ]
    },
    {
      "cell_type": "code",
      "metadata": {
        "colab": {
          "base_uri": "https://localhost:8080/"
        },
        "id": "RPfcX_DiyP8x",
        "outputId": "bd3b380f-0587-4478-eb81-337c097090b2"
      },
      "source": [
        "model_1_results"
      ],
      "execution_count": 128,
      "outputs": [
        {
          "output_type": "execute_result",
          "data": {
            "text/plain": [
              "{'mae': 849.2311,\n",
              " 'mape': 2.6299298,\n",
              " 'mase': 1.007774,\n",
              " 'mse': 1869035.6,\n",
              " 'rmse': 1367.1268}"
            ]
          },
          "metadata": {},
          "execution_count": 128
        }
      ]
    },
    {
      "cell_type": "code",
      "metadata": {
        "colab": {
          "base_uri": "https://localhost:8080/"
        },
        "id": "1enKdLIuyRj1",
        "outputId": "39861a59-8768-4e8d-8dbb-0556a2f2fbbb"
      },
      "source": [
        "naive_results"
      ],
      "execution_count": 129,
      "outputs": [
        {
          "output_type": "execute_result",
          "data": {
            "text/plain": [
              "{'mae': 839.7061,\n",
              " 'mape': 2.6012962,\n",
              " 'mase': 0.9982083,\n",
              " 'mse': 1825811.2,\n",
              " 'rmse': 1351.2258}"
            ]
          },
          "metadata": {},
          "execution_count": 129
        }
      ]
    },
    {
      "cell_type": "markdown",
      "metadata": {
        "id": "FmszLMibyejT"
      },
      "source": [
        "## Model 7: N-BEATs algorithm\n",
        "\n",
        "Replicating the algorithm from the <a href=\"https://arxiv.org/abs/1905.10437\">following paper</a>."
      ]
    },
    {
      "cell_type": "markdown",
      "metadata": {
        "id": "_F7Yae-Y2fp-"
      },
      "source": [
        "### Building and testing the N-BEATS block layer"
      ]
    },
    {
      "cell_type": "code",
      "metadata": {
        "id": "QI5dJocb4ML0"
      },
      "source": [
        "# Create NBeatBlock custom layer since it doesn't exist in TF\n",
        "\n",
        "class NBeatsBlock(tf.keras.layers.Layer):\n",
        "  def __init__(self,\n",
        "               input_size: int,\n",
        "               theta_size: int,\n",
        "               horizon: int,\n",
        "               n_neurons: int, \n",
        "               n_layers: int,\n",
        "               **kwargs):\n",
        "    super().__init__(**kwargs)\n",
        "    self.input_size = input_size\n",
        "    self.theta_size = theta_size\n",
        "    self.horizon = horizon\n",
        "    self.n_neurons = n_neurons\n",
        "    self.n_layers = n_layers\n",
        "\n",
        "    # Block contains stack of 4 fully connected layers (each has ReLU activation)\n",
        "    self.hidden = [tf.keras.layers.Dense(n_neurons, activation=\"relu\") for _ in range(n_layers)]\n",
        "    # Output of block is a theta layer with linear activation\n",
        "    self.theta_layer = tf.keras.layers.Dense(theta_size, activation=\"linear\", name=\"theta\")\n",
        "\n",
        "  def call(self, inputs):\n",
        "    x = inputs\n",
        "    for layer in self.hidden:\n",
        "      x = layer(x)\n",
        "    theta = self.theta_layer(x)\n",
        "    #Output the backcast and the forecast from theta\n",
        "    backcast, forecast = theta[:, :self.input_size], theta[:, -self.horizon:]\n",
        "    return backcast, forecast\n",
        "\n"
      ],
      "execution_count": 131,
      "outputs": []
    },
    {
      "cell_type": "code",
      "metadata": {
        "id": "y3b4MzquS4ig"
      },
      "source": [
        "tf.random.set_seed(42)\n",
        "dummy_nbeats_block_layer = NBeatsBlock(input_size=WINDOW_SIZE,\n",
        "                                       theta_size=WINDOW_SIZE+HORIZON,\n",
        "                                       horizon=HORIZON,\n",
        "                                       n_neurons=128,\n",
        "                                       n_layers=4)"
      ],
      "execution_count": 135,
      "outputs": []
    },
    {
      "cell_type": "code",
      "metadata": {
        "colab": {
          "base_uri": "https://localhost:8080/"
        },
        "id": "rPc8TOsNYFEw",
        "outputId": "86f3cf1b-c296-41aa-9c64-005817e09e5c"
      },
      "source": [
        "# Create dummy inputs\n",
        "# has to reflect Dense layer \n",
        "dummy_inputs = tf.expand_dims(tf.range(WINDOW_SIZE)+1, axis=0)\n",
        "dummy_inputs"
      ],
      "execution_count": 136,
      "outputs": [
        {
          "output_type": "execute_result",
          "data": {
            "text/plain": [
              "<tf.Tensor: shape=(1, 7), dtype=int32, numpy=array([[1, 2, 3, 4, 5, 6, 7]], dtype=int32)>"
            ]
          },
          "metadata": {},
          "execution_count": 136
        }
      ]
    },
    {
      "cell_type": "code",
      "metadata": {
        "colab": {
          "base_uri": "https://localhost:8080/"
        },
        "id": "KFtcl9KkYr-w",
        "outputId": "bad6685e-8a66-4b37-ffb9-09fe8e0774de"
      },
      "source": [
        "# Pass dummy inputs to dummy NBeats layer\n",
        "backcast, forecast = dummy_nbeats_block_layer(dummy_inputs)\n",
        "print(f\"Backcast: {tf.squeeze(backcast.numpy())}\")\n",
        "print(f\"Forecast: {tf.squeeze(forecast.numpy())}\")\n"
      ],
      "execution_count": 137,
      "outputs": [
        {
          "output_type": "stream",
          "name": "stdout",
          "text": [
            "Backcast: [ 0.07960147  0.32512042 -0.8428684  -0.6938984  -0.31720543 -0.56987345\n",
            " -0.6396661 ]\n",
            "Forecast: 1.0071649551391602\n"
          ]
        }
      ]
    },
    {
      "cell_type": "markdown",
      "metadata": {
        "id": "NBe3EJfVc-b3"
      },
      "source": [
        "## Preparing data for the N-BEATS algorithm using `tf.data`"
      ]
    },
    {
      "cell_type": "code",
      "metadata": {
        "id": "i2qKX-x5eMpr"
      },
      "source": [
        "HORIZON = 1\n",
        "WINDOW_SIZE = 7"
      ],
      "execution_count": 138,
      "outputs": []
    },
    {
      "cell_type": "code",
      "metadata": {
        "id": "E8g58FofePfM",
        "outputId": "9545a1db-cd06-45a5-a711-a01ae0beae0b",
        "colab": {
          "base_uri": "https://localhost:8080/",
          "height": 235
        }
      },
      "source": [
        "# Crreate N-BEATS data inputs\n",
        "btc_df.head()"
      ],
      "execution_count": 139,
      "outputs": [
        {
          "output_type": "execute_result",
          "data": {
            "text/html": [
              "<div>\n",
              "<style scoped>\n",
              "    .dataframe tbody tr th:only-of-type {\n",
              "        vertical-align: middle;\n",
              "    }\n",
              "\n",
              "    .dataframe tbody tr th {\n",
              "        vertical-align: top;\n",
              "    }\n",
              "\n",
              "    .dataframe thead th {\n",
              "        text-align: right;\n",
              "    }\n",
              "</style>\n",
              "<table border=\"1\" class=\"dataframe\">\n",
              "  <thead>\n",
              "    <tr style=\"text-align: right;\">\n",
              "      <th></th>\n",
              "      <th>Price</th>\n",
              "    </tr>\n",
              "    <tr>\n",
              "      <th>Date</th>\n",
              "      <th></th>\n",
              "    </tr>\n",
              "  </thead>\n",
              "  <tbody>\n",
              "    <tr>\n",
              "      <th>2014-11-04</th>\n",
              "      <td>324.71833</td>\n",
              "    </tr>\n",
              "    <tr>\n",
              "      <th>2014-11-05</th>\n",
              "      <td>332.45666</td>\n",
              "    </tr>\n",
              "    <tr>\n",
              "      <th>2014-11-06</th>\n",
              "      <td>336.58500</td>\n",
              "    </tr>\n",
              "    <tr>\n",
              "      <th>2014-11-07</th>\n",
              "      <td>346.77500</td>\n",
              "    </tr>\n",
              "    <tr>\n",
              "      <th>2014-11-08</th>\n",
              "      <td>344.81166</td>\n",
              "    </tr>\n",
              "  </tbody>\n",
              "</table>\n",
              "</div>"
            ],
            "text/plain": [
              "                Price\n",
              "Date                 \n",
              "2014-11-04  324.71833\n",
              "2014-11-05  332.45666\n",
              "2014-11-06  336.58500\n",
              "2014-11-07  346.77500\n",
              "2014-11-08  344.81166"
            ]
          },
          "metadata": {},
          "execution_count": 139
        }
      ]
    },
    {
      "cell_type": "code",
      "metadata": {
        "id": "ohpIu2PXeeeM",
        "outputId": "f1b78c93-c92a-4434-a4ff-c0114f84e595",
        "colab": {
          "base_uri": "https://localhost:8080/",
          "height": 340
        }
      },
      "source": [
        "# Add windowed columns\n",
        "bitcoin_prices_nbeats = btc_df.copy()\n",
        "for i in range(WINDOW_SIZE):\n",
        "  bitcoin_prices_nbeats[f\"Price+{i+1}\"] = bitcoin_prices_nbeats['Price'].shift(periods=i+1)\n",
        "bitcoin_prices_nbeats.head()"
      ],
      "execution_count": 141,
      "outputs": [
        {
          "output_type": "execute_result",
          "data": {
            "text/html": [
              "<div>\n",
              "<style scoped>\n",
              "    .dataframe tbody tr th:only-of-type {\n",
              "        vertical-align: middle;\n",
              "    }\n",
              "\n",
              "    .dataframe tbody tr th {\n",
              "        vertical-align: top;\n",
              "    }\n",
              "\n",
              "    .dataframe thead th {\n",
              "        text-align: right;\n",
              "    }\n",
              "</style>\n",
              "<table border=\"1\" class=\"dataframe\">\n",
              "  <thead>\n",
              "    <tr style=\"text-align: right;\">\n",
              "      <th></th>\n",
              "      <th>Price</th>\n",
              "      <th>Price+1</th>\n",
              "      <th>Price+2</th>\n",
              "      <th>Price+3</th>\n",
              "      <th>Price+4</th>\n",
              "      <th>Price+5</th>\n",
              "      <th>Price+6</th>\n",
              "      <th>Price+7</th>\n",
              "    </tr>\n",
              "    <tr>\n",
              "      <th>Date</th>\n",
              "      <th></th>\n",
              "      <th></th>\n",
              "      <th></th>\n",
              "      <th></th>\n",
              "      <th></th>\n",
              "      <th></th>\n",
              "      <th></th>\n",
              "      <th></th>\n",
              "    </tr>\n",
              "  </thead>\n",
              "  <tbody>\n",
              "    <tr>\n",
              "      <th>2014-11-04</th>\n",
              "      <td>324.71833</td>\n",
              "      <td>NaN</td>\n",
              "      <td>NaN</td>\n",
              "      <td>NaN</td>\n",
              "      <td>NaN</td>\n",
              "      <td>NaN</td>\n",
              "      <td>NaN</td>\n",
              "      <td>NaN</td>\n",
              "    </tr>\n",
              "    <tr>\n",
              "      <th>2014-11-05</th>\n",
              "      <td>332.45666</td>\n",
              "      <td>324.71833</td>\n",
              "      <td>NaN</td>\n",
              "      <td>NaN</td>\n",
              "      <td>NaN</td>\n",
              "      <td>NaN</td>\n",
              "      <td>NaN</td>\n",
              "      <td>NaN</td>\n",
              "    </tr>\n",
              "    <tr>\n",
              "      <th>2014-11-06</th>\n",
              "      <td>336.58500</td>\n",
              "      <td>332.45666</td>\n",
              "      <td>324.71833</td>\n",
              "      <td>NaN</td>\n",
              "      <td>NaN</td>\n",
              "      <td>NaN</td>\n",
              "      <td>NaN</td>\n",
              "      <td>NaN</td>\n",
              "    </tr>\n",
              "    <tr>\n",
              "      <th>2014-11-07</th>\n",
              "      <td>346.77500</td>\n",
              "      <td>336.58500</td>\n",
              "      <td>332.45666</td>\n",
              "      <td>324.71833</td>\n",
              "      <td>NaN</td>\n",
              "      <td>NaN</td>\n",
              "      <td>NaN</td>\n",
              "      <td>NaN</td>\n",
              "    </tr>\n",
              "    <tr>\n",
              "      <th>2014-11-08</th>\n",
              "      <td>344.81166</td>\n",
              "      <td>346.77500</td>\n",
              "      <td>336.58500</td>\n",
              "      <td>332.45666</td>\n",
              "      <td>324.71833</td>\n",
              "      <td>NaN</td>\n",
              "      <td>NaN</td>\n",
              "      <td>NaN</td>\n",
              "    </tr>\n",
              "  </tbody>\n",
              "</table>\n",
              "</div>"
            ],
            "text/plain": [
              "                Price    Price+1    Price+2  ...  Price+5  Price+6  Price+7\n",
              "Date                                         ...                           \n",
              "2014-11-04  324.71833        NaN        NaN  ...      NaN      NaN      NaN\n",
              "2014-11-05  332.45666  324.71833        NaN  ...      NaN      NaN      NaN\n",
              "2014-11-06  336.58500  332.45666  324.71833  ...      NaN      NaN      NaN\n",
              "2014-11-07  346.77500  336.58500  332.45666  ...      NaN      NaN      NaN\n",
              "2014-11-08  344.81166  346.77500  336.58500  ...      NaN      NaN      NaN\n",
              "\n",
              "[5 rows x 8 columns]"
            ]
          },
          "metadata": {},
          "execution_count": 141
        }
      ]
    },
    {
      "cell_type": "code",
      "metadata": {
        "id": "PVoXcapXe8Fv",
        "outputId": "8600fedc-0d53-45e1-a7ac-4cf9459cd7ea",
        "colab": {
          "base_uri": "https://localhost:8080/"
        }
      },
      "source": [
        "# Make features and labels\n",
        "X = bitcoin_prices_nbeats.dropna().drop('Price', axis=1)\n",
        "y = bitcoin_prices_nbeats.dropna()['Price']\n",
        "\n",
        "# Make train and test sets\n",
        "split_size = int(len(X)*0.8)\n",
        "X_train, y_train = X[:split_size], y[:split_size]\n",
        "X_test, y_test = X[split_size:], y[split_size:]\n",
        "len(X_train), len(y_train), len(X_test), len(y_test)"
      ],
      "execution_count": 142,
      "outputs": [
        {
          "output_type": "execute_result",
          "data": {
            "text/plain": [
              "(2000, 2000, 500, 500)"
            ]
          },
          "metadata": {},
          "execution_count": 142
        }
      ]
    },
    {
      "cell_type": "markdown",
      "metadata": {
        "id": "7jsnXm6mft9l"
      },
      "source": [
        "### Use tf.data API\n"
      ]
    },
    {
      "cell_type": "code",
      "metadata": {
        "id": "jmpME328f4l1",
        "outputId": "5d30151a-8023-4a6a-f198-d435d3995e4b",
        "colab": {
          "base_uri": "https://localhost:8080/"
        }
      },
      "source": [
        "train_features_dataset = tf.data.Dataset.from_tensor_slices(X_train)\n",
        "train_labels_dataset = tf.data.Dataset.from_tensor_slices(y_train)\n",
        "test_features_dataset = tf.data.Dataset.from_tensor_slices(X_test)\n",
        "test_labels_dataset = tf.data.Dataset.from_tensor_slices(y_test)\n",
        "\n",
        "# Combine labels and features by zipping together -> (features, labels)\n",
        "train_dataset = tf.data.Dataset.zip((train_features_dataset, train_labels_dataset))\n",
        "test_dataset = tf.data.Dataset.zip((test_features_dataset, test_labels_dataset))\n",
        "\n",
        "# Batch and prefetch\n",
        "BATCH_SIZE = 1024\n",
        "train_dataset = train_dataset.batch(BATCH_SIZE).prefetch(tf.data.AUTOTUNE)\n",
        "test_dataset = test_dataset.batch(BATCH_SIZE).prefetch(tf.data.AUTOTUNE)\n",
        "\n",
        "train_dataset, test_dataset"
      ],
      "execution_count": 143,
      "outputs": [
        {
          "output_type": "execute_result",
          "data": {
            "text/plain": [
              "(<PrefetchDataset shapes: ((None, 7), (None,)), types: (tf.float64, tf.float64)>,\n",
              " <PrefetchDataset shapes: ((None, 7), (None,)), types: (tf.float64, tf.float64)>)"
            ]
          },
          "metadata": {},
          "execution_count": 143
        }
      ]
    },
    {
      "cell_type": "markdown",
      "metadata": {
        "id": "oH-q6mQrhmRm"
      },
      "source": [
        "### Setting up hyperparameters"
      ]
    }
  ]
}