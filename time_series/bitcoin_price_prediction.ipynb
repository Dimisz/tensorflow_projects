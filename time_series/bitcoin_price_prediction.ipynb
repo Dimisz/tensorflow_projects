{
  "nbformat": 4,
  "nbformat_minor": 0,
  "metadata": {
    "colab": {
      "name": "bitcoin_price_prediction.ipynb",
      "provenance": [],
      "authorship_tag": "ABX9TyNY9/+P5yuti18uVW1moXm8",
      "include_colab_link": true
    },
    "kernelspec": {
      "name": "python3",
      "display_name": "Python 3"
    },
    "language_info": {
      "name": "python"
    }
  },
  "cells": [
    {
      "cell_type": "markdown",
      "metadata": {
        "id": "view-in-github",
        "colab_type": "text"
      },
      "source": [
        "<a href=\"https://colab.research.google.com/github/Dimisz/tensorflow_projects/blob/main/time_series/bitcoin_price_prediction.ipynb\" target=\"_parent\"><img src=\"https://colab.research.google.com/assets/colab-badge.svg\" alt=\"Open In Colab\"/></a>"
      ]
    },
    {
      "cell_type": "markdown",
      "metadata": {
        "id": "THwoZgzThzfb"
      },
      "source": [
        "## 1. Data\n",
        "\n",
        "Data downloaded from https://www.coindesk.com/price/bitcoin/ on September 14, 2021\n",
        "\n",
        "For the CSV file used in the project, [see the GitHub repo](https://raw.githubusercontent.com/Dimisz/tensorflow_projects/main/time_series/BTC_USD_2014-11-04_2021-09-14-CoinDesk.csv)."
      ]
    },
    {
      "cell_type": "code",
      "metadata": {
        "colab": {
          "base_uri": "https://localhost:8080/"
        },
        "id": "bV-FBnB7iHQp",
        "outputId": "346d7535-b5b0-457b-9456-37ea3eeaacb4"
      },
      "source": [
        "!wget https://raw.githubusercontent.com/Dimisz/tensorflow_projects/main/time_series/BTC_USD_2014-11-04_2021-09-14-CoinDesk.csv"
      ],
      "execution_count": null,
      "outputs": [
        {
          "output_type": "stream",
          "name": "stdout",
          "text": [
            "--2021-09-14 09:22:13--  https://raw.githubusercontent.com/Dimisz/tensorflow_projects/main/time_series/BTC_USD_2014-11-04_2021-09-14-CoinDesk.csv\n",
            "Resolving raw.githubusercontent.com (raw.githubusercontent.com)... 185.199.108.133, 185.199.109.133, 185.199.110.133, ...\n",
            "Connecting to raw.githubusercontent.com (raw.githubusercontent.com)|185.199.108.133|:443... connected.\n",
            "HTTP request sent, awaiting response... 200 OK\n",
            "Length: 167143 (163K) [text/plain]\n",
            "Saving to: ‘BTC_USD_2014-11-04_2021-09-14-CoinDesk.csv’\n",
            "\n",
            "BTC_USD_2014-11-04_ 100%[===================>] 163.23K  --.-KB/s    in 0.009s  \n",
            "\n",
            "2021-09-14 09:22:14 (17.2 MB/s) - ‘BTC_USD_2014-11-04_2021-09-14-CoinDesk.csv’ saved [167143/167143]\n",
            "\n"
          ]
        }
      ]
    },
    {
      "cell_type": "markdown",
      "metadata": {
        "id": "duzYV9XJjCWa"
      },
      "source": [
        "### Read the data to a DataFrame using pandas"
      ]
    },
    {
      "cell_type": "code",
      "metadata": {
        "id": "3ZeuYQ0kjI1C"
      },
      "source": [
        "import pandas as pd\n",
        "\n",
        "#Read the data, parse the date column and assign it to be the index\n",
        "df = pd.read_csv(\"/content/BTC_USD_2014-11-04_2021-09-14-CoinDesk.csv\",\n",
        "                 parse_dates=['Date'],\n",
        "                 index_col=['Date'])"
      ],
      "execution_count": null,
      "outputs": []
    },
    {
      "cell_type": "code",
      "metadata": {
        "colab": {
          "base_uri": "https://localhost:8080/"
        },
        "id": "giYk2djfjgRH",
        "outputId": "5369a44c-049a-4f00-ef43-7f339841e75c"
      },
      "source": [
        "df.head(), len(df)"
      ],
      "execution_count": null,
      "outputs": [
        {
          "output_type": "execute_result",
          "data": {
            "text/plain": [
              "(           Currency  Closing Price (USD)  ...  24h High (USD)  24h Low (USD)\n",
              " Date                                      ...                               \n",
              " 2014-11-04      BTC            324.71833  ...       332.75133      323.06333\n",
              " 2014-11-05      BTC            332.45666  ...       335.81166      320.93333\n",
              " 2014-11-06      BTC            336.58500  ...       341.49000      328.56166\n",
              " 2014-11-07      BTC            346.77500  ...       351.57500      336.02833\n",
              " 2014-11-08      BTC            344.81166  ...       351.29500      339.86000\n",
              " \n",
              " [5 rows x 5 columns], 2507)"
            ]
          },
          "metadata": {},
          "execution_count": 3
        }
      ]
    },
    {
      "cell_type": "code",
      "metadata": {
        "colab": {
          "base_uri": "https://localhost:8080/"
        },
        "id": "kdpvQI3Ejvao",
        "outputId": "7fae955e-71a8-423d-8fd1-b6e9627d9af9"
      },
      "source": [
        "# Check if there are any missing values\n",
        "df.isna().sum()"
      ],
      "execution_count": null,
      "outputs": [
        {
          "output_type": "execute_result",
          "data": {
            "text/plain": [
              "Currency               0\n",
              "Closing Price (USD)    0\n",
              "24h Open (USD)         0\n",
              "24h High (USD)         0\n",
              "24h Low (USD)          0\n",
              "dtype: int64"
            ]
          },
          "metadata": {},
          "execution_count": 4
        }
      ]
    },
    {
      "cell_type": "markdown",
      "metadata": {
        "id": "_-LNghkLp-_7"
      },
      "source": [
        "### Create a new dataframe we'll be working with.\n",
        "* We'll just keep the closing price (and data as an index column).\n",
        "* `Closing Price (USD)` column willl be renamed to `Price`"
      ]
    },
    {
      "cell_type": "code",
      "metadata": {
        "id": "qm60xL6pj6bW",
        "colab": {
          "base_uri": "https://localhost:8080/",
          "height": 235
        },
        "outputId": "7680f5ba-c8d0-45bf-e696-0edc607fed30"
      },
      "source": [
        "btc_df = pd.DataFrame(df['Closing Price (USD)']).rename(columns={\"Closing Price (USD)\": \"Price\"})\n",
        "btc_df.head()"
      ],
      "execution_count": null,
      "outputs": [
        {
          "output_type": "execute_result",
          "data": {
            "text/html": [
              "<div>\n",
              "<style scoped>\n",
              "    .dataframe tbody tr th:only-of-type {\n",
              "        vertical-align: middle;\n",
              "    }\n",
              "\n",
              "    .dataframe tbody tr th {\n",
              "        vertical-align: top;\n",
              "    }\n",
              "\n",
              "    .dataframe thead th {\n",
              "        text-align: right;\n",
              "    }\n",
              "</style>\n",
              "<table border=\"1\" class=\"dataframe\">\n",
              "  <thead>\n",
              "    <tr style=\"text-align: right;\">\n",
              "      <th></th>\n",
              "      <th>Price</th>\n",
              "    </tr>\n",
              "    <tr>\n",
              "      <th>Date</th>\n",
              "      <th></th>\n",
              "    </tr>\n",
              "  </thead>\n",
              "  <tbody>\n",
              "    <tr>\n",
              "      <th>2014-11-04</th>\n",
              "      <td>324.71833</td>\n",
              "    </tr>\n",
              "    <tr>\n",
              "      <th>2014-11-05</th>\n",
              "      <td>332.45666</td>\n",
              "    </tr>\n",
              "    <tr>\n",
              "      <th>2014-11-06</th>\n",
              "      <td>336.58500</td>\n",
              "    </tr>\n",
              "    <tr>\n",
              "      <th>2014-11-07</th>\n",
              "      <td>346.77500</td>\n",
              "    </tr>\n",
              "    <tr>\n",
              "      <th>2014-11-08</th>\n",
              "      <td>344.81166</td>\n",
              "    </tr>\n",
              "  </tbody>\n",
              "</table>\n",
              "</div>"
            ],
            "text/plain": [
              "                Price\n",
              "Date                 \n",
              "2014-11-04  324.71833\n",
              "2014-11-05  332.45666\n",
              "2014-11-06  336.58500\n",
              "2014-11-07  346.77500\n",
              "2014-11-08  344.81166"
            ]
          },
          "metadata": {},
          "execution_count": 7
        }
      ]
    },
    {
      "cell_type": "markdown",
      "metadata": {
        "id": "iJ5tu_Ycpp3G"
      },
      "source": [
        "### Visualize the bitcoin prices."
      ]
    },
    {
      "cell_type": "code",
      "metadata": {
        "id": "nkHQi9H9qpvI",
        "colab": {
          "base_uri": "https://localhost:8080/",
          "height": 406
        },
        "outputId": "5f5c51c3-1e00-48fa-eea1-3e6cef60e53f"
      },
      "source": [
        "import matplotlib.pyplot as plt\n",
        "btc_df.plot(figsize=(9,6))\n",
        "plt.ylabel(\"Bitcoin Price\")\n",
        "plt.title(\"Price of Bitcoin from Nov 04, 2014 to Sept 14, 2021\", fontsize=16);"
      ],
      "execution_count": null,
      "outputs": [
        {
          "output_type": "display_data",
          "data": {
            "image/png": "[encoded data removed]",
            "text/plain": [
              "<Figure size 648x432 with 1 Axes>"
            ]
          },
          "metadata": {
            "needs_background": "light"
          }
        }
      ]
    },
    {
      "cell_type": "markdown",
      "metadata": {
        "id": "kjoXmWX3qu8g"
      },
      "source": [
        "### Read in the data with python's CSV module"
      ]
    },
    {
      "cell_type": "code",
      "metadata": {
        "id": "K_6vbrgXr6X6"
      },
      "source": [
        "import csv\n",
        "from datetime import datetime\n",
        "\n",
        "timesteps = []\n",
        "btc_price= []\n",
        "\n",
        "with open(\"/content/BTC_USD_2014-11-04_2021-09-14-CoinDesk.csv\", \"r\") as f:\n",
        "  csv_reader = csv.reader(f, delimiter=\",\")\n",
        "  next(csv_reader) #skip the first line (column titles)\n",
        "  for line in csv_reader:\n",
        "    #get the dates in date format (convert from string to date)\n",
        "    timesteps.append(datetime.strptime(line[1], \"%Y-%m-%d\")) \n",
        "    #get the closing price as float\n",
        "    btc_price.append(float(line[2]))\n"
      ],
      "execution_count": null,
      "outputs": []
    },
    {
      "cell_type": "code",
      "metadata": {
        "id": "eNYugd56Cnha"
      },
      "source": [
        "#timesteps"
      ],
      "execution_count": 1,
      "outputs": []
    },
    {
      "cell_type": "code",
      "metadata": {
        "id": "2NLbFPG5Cpjq"
      },
      "source": [
        "#btc_price"
      ],
      "execution_count": 2,
      "outputs": []
    },
    {
      "cell_type": "code",
      "metadata": {
        "id": "YyNBVqQ0Nx-D"
      },
      "source": [
        ""
      ],
      "execution_count": null,
      "outputs": []
    }
  ]
}