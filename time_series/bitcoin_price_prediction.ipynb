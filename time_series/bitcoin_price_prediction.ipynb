{
  "nbformat": 4,
  "nbformat_minor": 0,
  "metadata": {
    "colab": {
      "name": "bitcoin_price_prediction.ipynb",
      "provenance": [],
      "authorship_tag": "ABX9TyMh949b84uZnRUgyno4lxTq",
      "include_colab_link": true
    },
    "kernelspec": {
      "name": "python3",
      "display_name": "Python 3"
    },
    "language_info": {
      "name": "python"
    },
    "accelerator": "GPU"
  },
  "cells": [
    {
      "cell_type": "markdown",
      "metadata": {
        "id": "view-in-github",
        "colab_type": "text"
      },
      "source": [
        "<a href=\"https://colab.research.google.com/github/Dimisz/tensorflow_projects/blob/main/time_series/bitcoin_price_prediction.ipynb\" target=\"_parent\"><img src=\"https://colab.research.google.com/assets/colab-badge.svg\" alt=\"Open In Colab\"/></a>"
      ]
    },
    {
      "cell_type": "markdown",
      "metadata": {
        "id": "THwoZgzThzfb"
      },
      "source": [
        "## 1. Data\n",
        "\n",
        "Data downloaded from https://www.coindesk.com/price/bitcoin/ on September 14, 2021\n",
        "\n",
        "For the CSV file used in the project, [see the GitHub repo](https://raw.githubusercontent.com/Dimisz/tensorflow_projects/main/time_series/BTC_USD_2014-11-04_2021-09-14-CoinDesk.csv)."
      ]
    },
    {
      "cell_type": "code",
      "metadata": {
        "colab": {
          "base_uri": "https://localhost:8080/"
        },
        "id": "bV-FBnB7iHQp",
        "outputId": "0872c71c-dfd0-42ba-d91c-bd9d604f1fac"
      },
      "source": [
        "!wget https://raw.githubusercontent.com/Dimisz/tensorflow_projects/main/time_series/BTC_USD_2014-11-04_2021-09-14-CoinDesk.csv"
      ],
      "execution_count": 1,
      "outputs": [
        {
          "output_type": "stream",
          "name": "stdout",
          "text": [
            "--2021-10-14 07:17:00--  https://raw.githubusercontent.com/Dimisz/tensorflow_projects/main/time_series/BTC_USD_2014-11-04_2021-09-14-CoinDesk.csv\n",
            "Resolving raw.githubusercontent.com (raw.githubusercontent.com)... 185.199.111.133, 185.199.110.133, 185.199.109.133, ...\n",
            "Connecting to raw.githubusercontent.com (raw.githubusercontent.com)|185.199.111.133|:443... connected.\n",
            "HTTP request sent, awaiting response... 200 OK\n",
            "Length: 167143 (163K) [text/plain]\n",
            "Saving to: ‘BTC_USD_2014-11-04_2021-09-14-CoinDesk.csv’\n",
            "\n",
            "BTC_USD_2014-11-04_ 100%[===================>] 163.23K  --.-KB/s    in 0.02s   \n",
            "\n",
            "2021-10-14 07:17:00 (6.83 MB/s) - ‘BTC_USD_2014-11-04_2021-09-14-CoinDesk.csv’ saved [167143/167143]\n",
            "\n"
          ]
        }
      ]
    },
    {
      "cell_type": "markdown",
      "metadata": {
        "id": "duzYV9XJjCWa"
      },
      "source": [
        "### Read the data to a DataFrame using pandas"
      ]
    },
    {
      "cell_type": "code",
      "metadata": {
        "id": "3ZeuYQ0kjI1C"
      },
      "source": [
        "import pandas as pd\n",
        "\n",
        "#Read the data, parse the date column and assign it to be the index\n",
        "df = pd.read_csv(\"/content/BTC_USD_2014-11-04_2021-09-14-CoinDesk.csv\",\n",
        "                 parse_dates=['Date'],\n",
        "                 index_col=['Date'])"
      ],
      "execution_count": 2,
      "outputs": []
    },
    {
      "cell_type": "code",
      "metadata": {
        "colab": {
          "base_uri": "https://localhost:8080/"
        },
        "id": "giYk2djfjgRH",
        "outputId": "05e65ec4-002a-4f00-98e4-9262e51109b4"
      },
      "source": [
        "df.head(), len(df)"
      ],
      "execution_count": 3,
      "outputs": [
        {
          "output_type": "execute_result",
          "data": {
            "text/plain": [
              "(           Currency  Closing Price (USD)  ...  24h High (USD)  24h Low (USD)\n",
              " Date                                      ...                               \n",
              " 2014-11-04      BTC            324.71833  ...       332.75133      323.06333\n",
              " 2014-11-05      BTC            332.45666  ...       335.81166      320.93333\n",
              " 2014-11-06      BTC            336.58500  ...       341.49000      328.56166\n",
              " 2014-11-07      BTC            346.77500  ...       351.57500      336.02833\n",
              " 2014-11-08      BTC            344.81166  ...       351.29500      339.86000\n",
              " \n",
              " [5 rows x 5 columns], 2507)"
            ]
          },
          "metadata": {},
          "execution_count": 3
        }
      ]
    },
    {
      "cell_type": "code",
      "metadata": {
        "colab": {
          "base_uri": "https://localhost:8080/"
        },
        "id": "kdpvQI3Ejvao",
        "outputId": "19e3a6c9-4570-4911-dca1-efa098b8d42d"
      },
      "source": [
        "# Check if there are any missing values\n",
        "df.isna().sum()"
      ],
      "execution_count": 4,
      "outputs": [
        {
          "output_type": "execute_result",
          "data": {
            "text/plain": [
              "Currency               0\n",
              "Closing Price (USD)    0\n",
              "24h Open (USD)         0\n",
              "24h High (USD)         0\n",
              "24h Low (USD)          0\n",
              "dtype: int64"
            ]
          },
          "metadata": {},
          "execution_count": 4
        }
      ]
    },
    {
      "cell_type": "markdown",
      "metadata": {
        "id": "_-LNghkLp-_7"
      },
      "source": [
        "### Create a new dataframe we'll be working with.\n",
        "* We'll just keep the closing price (and data as an index column).\n",
        "* `Closing Price (USD)` column willl be renamed to `Price`"
      ]
    },
    {
      "cell_type": "code",
      "metadata": {
        "id": "qm60xL6pj6bW",
        "colab": {
          "base_uri": "https://localhost:8080/",
          "height": 235
        },
        "outputId": "54528f48-c15a-48d5-dd00-e2159d883633"
      },
      "source": [
        "btc_df = pd.DataFrame(df['Closing Price (USD)']).rename(columns={\"Closing Price (USD)\": \"Price\"})\n",
        "btc_df.head()"
      ],
      "execution_count": 5,
      "outputs": [
        {
          "output_type": "execute_result",
          "data": {
            "text/html": [
              "<div>\n",
              "<style scoped>\n",
              "    .dataframe tbody tr th:only-of-type {\n",
              "        vertical-align: middle;\n",
              "    }\n",
              "\n",
              "    .dataframe tbody tr th {\n",
              "        vertical-align: top;\n",
              "    }\n",
              "\n",
              "    .dataframe thead th {\n",
              "        text-align: right;\n",
              "    }\n",
              "</style>\n",
              "<table border=\"1\" class=\"dataframe\">\n",
              "  <thead>\n",
              "    <tr style=\"text-align: right;\">\n",
              "      <th></th>\n",
              "      <th>Price</th>\n",
              "    </tr>\n",
              "    <tr>\n",
              "      <th>Date</th>\n",
              "      <th></th>\n",
              "    </tr>\n",
              "  </thead>\n",
              "  <tbody>\n",
              "    <tr>\n",
              "      <th>2014-11-04</th>\n",
              "      <td>324.71833</td>\n",
              "    </tr>\n",
              "    <tr>\n",
              "      <th>2014-11-05</th>\n",
              "      <td>332.45666</td>\n",
              "    </tr>\n",
              "    <tr>\n",
              "      <th>2014-11-06</th>\n",
              "      <td>336.58500</td>\n",
              "    </tr>\n",
              "    <tr>\n",
              "      <th>2014-11-07</th>\n",
              "      <td>346.77500</td>\n",
              "    </tr>\n",
              "    <tr>\n",
              "      <th>2014-11-08</th>\n",
              "      <td>344.81166</td>\n",
              "    </tr>\n",
              "  </tbody>\n",
              "</table>\n",
              "</div>"
            ],
            "text/plain": [
              "                Price\n",
              "Date                 \n",
              "2014-11-04  324.71833\n",
              "2014-11-05  332.45666\n",
              "2014-11-06  336.58500\n",
              "2014-11-07  346.77500\n",
              "2014-11-08  344.81166"
            ]
          },
          "metadata": {},
          "execution_count": 5
        }
      ]
    },
    {
      "cell_type": "markdown",
      "metadata": {
        "id": "iJ5tu_Ycpp3G"
      },
      "source": [
        "### Visualize the bitcoin prices."
      ]
    },
    {
      "cell_type": "code",
      "metadata": {
        "id": "nkHQi9H9qpvI",
        "colab": {
          "base_uri": "https://localhost:8080/",
          "height": 406
        },
        "outputId": "927b574e-22e2-44e3-9096-b28ed583663f"
      },
      "source": [
        "import matplotlib.pyplot as plt\n",
        "btc_df.plot(figsize=(9,6))\n",
        "plt.ylabel(\"Bitcoin Price\")\n",
        "plt.title(\"Price of Bitcoin from Nov 04, 2014 to Sept 14, 2021\", fontsize=16);"
      ],
      "execution_count": 6,
      "outputs": [
        {
          "output_type": "display_data",
          "data": {
            "image/png": "[encoded data removed]",
            "text/plain": [
              "<Figure size 648x432 with 1 Axes>"
            ]
          },
          "metadata": {
            "needs_background": "light"
          }
        }
      ]
    },
    {
      "cell_type": "markdown",
      "metadata": {
        "id": "kjoXmWX3qu8g"
      },
      "source": [
        "### Read in the data with python's CSV module"
      ]
    },
    {
      "cell_type": "code",
      "metadata": {
        "id": "K_6vbrgXr6X6"
      },
      "source": [
        "import csv\n",
        "from datetime import datetime\n",
        "\n",
        "timesteps = []\n",
        "btc_price= []\n",
        "\n",
        "with open(\"/content/BTC_USD_2014-11-04_2021-09-14-CoinDesk.csv\", \"r\") as f:\n",
        "  csv_reader = csv.reader(f, delimiter=\",\")\n",
        "  next(csv_reader) #skip the first line (column titles)\n",
        "  for line in csv_reader:\n",
        "    #get the dates in date format (convert from string to date)\n",
        "    timesteps.append(datetime.strptime(line[1], \"%Y-%m-%d\")) \n",
        "    #get the closing price as float\n",
        "    btc_price.append(float(line[2]))\n"
      ],
      "execution_count": 7,
      "outputs": []
    },
    {
      "cell_type": "code",
      "metadata": {
        "id": "eNYugd56Cnha",
        "colab": {
          "base_uri": "https://localhost:8080/"
        },
        "outputId": "33f89af7-1b7d-4baf-9155-d75189c720a8"
      },
      "source": [
        "timesteps[:10], btc_price[:10]"
      ],
      "execution_count": 8,
      "outputs": [
        {
          "output_type": "execute_result",
          "data": {
            "text/plain": [
              "([datetime.datetime(2014, 11, 4, 0, 0),\n",
              "  datetime.datetime(2014, 11, 5, 0, 0),\n",
              "  datetime.datetime(2014, 11, 6, 0, 0),\n",
              "  datetime.datetime(2014, 11, 7, 0, 0),\n",
              "  datetime.datetime(2014, 11, 8, 0, 0),\n",
              "  datetime.datetime(2014, 11, 9, 0, 0),\n",
              "  datetime.datetime(2014, 11, 10, 0, 0),\n",
              "  datetime.datetime(2014, 11, 11, 0, 0),\n",
              "  datetime.datetime(2014, 11, 12, 0, 0),\n",
              "  datetime.datetime(2014, 11, 13, 0, 0)],\n",
              " [324.71833,\n",
              "  332.45666,\n",
              "  336.585,\n",
              "  346.775,\n",
              "  344.81166,\n",
              "  343.065,\n",
              "  358.50166,\n",
              "  368.07666,\n",
              "  376.99666,\n",
              "  442.10666])"
            ]
          },
          "metadata": {},
          "execution_count": 8
        }
      ]
    },
    {
      "cell_type": "markdown",
      "metadata": {
        "id": "2NLbFPG5Cpjq"
      },
      "source": [
        "### Plot from CSV"
      ]
    },
    {
      "cell_type": "code",
      "metadata": {
        "id": "YyNBVqQ0Nx-D",
        "colab": {
          "base_uri": "https://localhost:8080/",
          "height": 460
        },
        "outputId": "01ea2e5d-c1a4-4dd6-c4da-3d532f3542dd"
      },
      "source": [
        "import matplotlib.pyplot as plt\n",
        "import numpy as np\n",
        "plt.figure(figsize=(10,7))\n",
        "plt.plot(timesteps, btc_price)\n",
        "plt.ylabel(\"BTC Price\")\n",
        "plt.title(\"Price of Bitcoin from Nov 4, 2014 to Sept 14, 2021\", fontsize=16)\n",
        "plt.xlabel(\"Date\");"
      ],
      "execution_count": 9,
      "outputs": [
        {
          "output_type": "display_data",
          "data": {
            "image/png": "[encoded data removed]",
            "text/plain": [
              "<Figure size 720x504 with 1 Axes>"
            ]
          },
          "metadata": {
            "needs_background": "light"
          }
        }
      ]
    },
    {
      "cell_type": "markdown",
      "metadata": {
        "id": "tQGZpCx1ir1M"
      },
      "source": [
        "## Format Data, Part 1"
      ]
    },
    {
      "cell_type": "markdown",
      "metadata": {
        "id": "UtBHNgZEjPa3"
      },
      "source": [
        "### Create, Train and Test sets of our Time Series Data"
      ]
    },
    {
      "cell_type": "markdown",
      "metadata": {
        "id": "2Rr260DJqys6"
      },
      "source": [
        "#### Creating train and test sets with time series data (the wrong way)"
      ]
    },
    {
      "cell_type": "code",
      "metadata": {
        "id": "hD9g0hkIrL-w",
        "colab": {
          "base_uri": "https://localhost:8080/",
          "height": 0
        },
        "outputId": "558255f8-2b88-4cfa-8562-b9f3d1aadb82"
      },
      "source": [
        "btc_df.head()"
      ],
      "execution_count": 10,
      "outputs": [
        {
          "output_type": "execute_result",
          "data": {
            "text/html": [
              "<div>\n",
              "<style scoped>\n",
              "    .dataframe tbody tr th:only-of-type {\n",
              "        vertical-align: middle;\n",
              "    }\n",
              "\n",
              "    .dataframe tbody tr th {\n",
              "        vertical-align: top;\n",
              "    }\n",
              "\n",
              "    .dataframe thead th {\n",
              "        text-align: right;\n",
              "    }\n",
              "</style>\n",
              "<table border=\"1\" class=\"dataframe\">\n",
              "  <thead>\n",
              "    <tr style=\"text-align: right;\">\n",
              "      <th></th>\n",
              "      <th>Price</th>\n",
              "    </tr>\n",
              "    <tr>\n",
              "      <th>Date</th>\n",
              "      <th></th>\n",
              "    </tr>\n",
              "  </thead>\n",
              "  <tbody>\n",
              "    <tr>\n",
              "      <th>2014-11-04</th>\n",
              "      <td>324.71833</td>\n",
              "    </tr>\n",
              "    <tr>\n",
              "      <th>2014-11-05</th>\n",
              "      <td>332.45666</td>\n",
              "    </tr>\n",
              "    <tr>\n",
              "      <th>2014-11-06</th>\n",
              "      <td>336.58500</td>\n",
              "    </tr>\n",
              "    <tr>\n",
              "      <th>2014-11-07</th>\n",
              "      <td>346.77500</td>\n",
              "    </tr>\n",
              "    <tr>\n",
              "      <th>2014-11-08</th>\n",
              "      <td>344.81166</td>\n",
              "    </tr>\n",
              "  </tbody>\n",
              "</table>\n",
              "</div>"
            ],
            "text/plain": [
              "                Price\n",
              "Date                 \n",
              "2014-11-04  324.71833\n",
              "2014-11-05  332.45666\n",
              "2014-11-06  336.58500\n",
              "2014-11-07  346.77500\n",
              "2014-11-08  344.81166"
            ]
          },
          "metadata": {},
          "execution_count": 10
        }
      ]
    },
    {
      "cell_type": "code",
      "metadata": {
        "id": "FOdT9oNcq9u-"
      },
      "source": [
        "# Get bitcoin date array\n",
        "timesteps = btc_df.index.to_numpy()\n",
        "prices = btc_df['Price'].to_numpy()"
      ],
      "execution_count": 11,
      "outputs": []
    },
    {
      "cell_type": "code",
      "metadata": {
        "id": "7uwgQZrXrj4H",
        "colab": {
          "base_uri": "https://localhost:8080/"
        },
        "outputId": "b1e198b8-2b70-455d-a3d5-7c908cb87ae1"
      },
      "source": [
        "timesteps[:10], prices[:10]"
      ],
      "execution_count": 12,
      "outputs": [
        {
          "output_type": "execute_result",
          "data": {
            "text/plain": [
              "(array(['2014-11-04T00:00:00.000000000', '2014-11-05T00:00:00.000000000',\n",
              "        '2014-11-06T00:00:00.000000000', '2014-11-07T00:00:00.000000000',\n",
              "        '2014-11-08T00:00:00.000000000', '2014-11-09T00:00:00.000000000',\n",
              "        '2014-11-10T00:00:00.000000000', '2014-11-11T00:00:00.000000000',\n",
              "        '2014-11-12T00:00:00.000000000', '2014-11-13T00:00:00.000000000'],\n",
              "       dtype='datetime64[ns]'),\n",
              " array([324.71833, 332.45666, 336.585  , 346.775  , 344.81166, 343.065  ,\n",
              "        358.50166, 368.07666, 376.99666, 442.10666]))"
            ]
          },
          "metadata": {},
          "execution_count": 12
        }
      ]
    },
    {
      "cell_type": "code",
      "metadata": {
        "id": "3ug8kXf6rnxR",
        "colab": {
          "base_uri": "https://localhost:8080/"
        },
        "outputId": "2fd861f9-53c4-44f1-eefb-8b27c4e774a5"
      },
      "source": [
        "# The wrong way to make train/test sets for time series\n",
        "from sklearn.model_selection import train_test_split\n",
        "\n",
        "X_train, X_test, y_train, y_test = train_test_split(timesteps,\n",
        "                                                    prices,\n",
        "                                                    test_size=0.2,\n",
        "                                                    random_state=42)\n",
        "X_train.shape, X_test.shape, y_train.shape, y_test.shape"
      ],
      "execution_count": 13,
      "outputs": [
        {
          "output_type": "execute_result",
          "data": {
            "text/plain": [
              "((2005,), (502,), (2005,), (502,))"
            ]
          },
          "metadata": {},
          "execution_count": 13
        }
      ]
    },
    {
      "cell_type": "code",
      "metadata": {
        "id": "O-XLjIJIsVw0",
        "colab": {
          "base_uri": "https://localhost:8080/",
          "height": 0
        },
        "outputId": "db6ad720-f914-441b-c06e-024dc83a231b"
      },
      "source": [
        "# Let's plot wrong train and test splits\n",
        "plt.figure(figsize=(10,7))\n",
        "plt.scatter(X_train, y_train, s=5, label=\"Train data\")\n",
        "plt.scatter(X_test, y_test, s=5, label=\"Test data\")\n",
        "plt.xlabel(\"Date\")\n",
        "plt.ylabel(\"BTC Price\")\n",
        "plt.legend(fontsize=14)\n",
        "plt.show();"
      ],
      "execution_count": 14,
      "outputs": [
        {
          "output_type": "display_data",
          "data": {
            "image/png": "[encoded data removed]",
            "text/plain": [
              "<Figure size 720x504 with 1 Axes>"
            ]
          },
          "metadata": {
            "needs_background": "light"
          }
        }
      ]
    },
    {
      "cell_type": "markdown",
      "metadata": {
        "id": "MQagcRd3tA__"
      },
      "source": [
        "#### Creating train and test sets with time series data (the right way)"
      ]
    },
    {
      "cell_type": "code",
      "metadata": {
        "id": "VX10dI-Ftg2d"
      },
      "source": [
        "split_size = int(0.8 * len(prices)) # 80% training / 20% test"
      ],
      "execution_count": 15,
      "outputs": []
    },
    {
      "cell_type": "code",
      "metadata": {
        "id": "pEynUiO0uX8U",
        "colab": {
          "base_uri": "https://localhost:8080/"
        },
        "outputId": "480438be-de5c-4d0f-9580-e076b47bdc3d"
      },
      "source": [
        "# Create train dataset\n",
        "X_train, y_train = timesteps[:split_size], prices[:split_size]\n",
        "\n",
        "#Create test dataset\n",
        "X_test, y_test = timesteps[split_size:], prices[split_size:]\n",
        "\n",
        "len(X_train), len(X_test), len(y_train), len(y_test)\n"
      ],
      "execution_count": 16,
      "outputs": [
        {
          "output_type": "execute_result",
          "data": {
            "text/plain": [
              "(2005, 502, 2005, 502)"
            ]
          },
          "metadata": {},
          "execution_count": 16
        }
      ]
    },
    {
      "cell_type": "code",
      "metadata": {
        "id": "Rjh8CXo8u4bH",
        "colab": {
          "base_uri": "https://localhost:8080/",
          "height": 0
        },
        "outputId": "b6e5b291-9d62-4df4-b7e4-ecca19fe8bc4"
      },
      "source": [
        "# Let's plot the train and test splits\n",
        "plt.figure(figsize=(10,7))\n",
        "plt.scatter(X_train, y_train, s=5, label=\"Train data\")\n",
        "plt.scatter(X_test, y_test, s=5, label=\"Test data\")\n",
        "plt.xlabel(\"Date\")\n",
        "plt.ylabel(\"BTC Price\")\n",
        "plt.legend(fontsize=14)\n",
        "plt.show();"
      ],
      "execution_count": 17,
      "outputs": [
        {
          "output_type": "display_data",
          "data": {
            "image/png": "[encoded data removed]",
            "text/plain": [
              "<Figure size 720x504 with 1 Axes>"
            ]
          },
          "metadata": {
            "needs_background": "light"
          }
        }
      ]
    },
    {
      "cell_type": "markdown",
      "metadata": {
        "id": "QX_sp4TovBmt"
      },
      "source": [
        "#### Create a plotting function"
      ]
    },
    {
      "cell_type": "code",
      "metadata": {
        "id": "sHb4TBnFvvkh"
      },
      "source": [
        "def plot_time_series(timesteps, values, format=\".\", start=0, end=None, label=None):\n",
        "  \"\"\"\n",
        "  Plots timesteps (a series of points in time) \n",
        "  against values (a series of values across time)\n",
        "\n",
        "  Parameters\n",
        "  ----------------\n",
        "  timesteps : array of timestep values\n",
        "  values : array of values across time\n",
        "  format : style of plot, default \".\"\n",
        "  start : where to start the plot (setting a value will index from start of timesteps & values)\n",
        "  end : where to end the plot (similar to start but for the end)\n",
        "  label : label to show on plot about values, default : None\n",
        "\n",
        "  \"\"\"\n",
        "  \n",
        "  plt.plot(timesteps[start:end], values[start:end], format, label=label)\n",
        "  plt.xlabel(\"Time\")\n",
        "  plt.ylabel(\"BTC Price\")\n",
        "  if label:\n",
        "    plt.legend(fontsize=14) # make label bigger\n",
        "  \n",
        "  plt.grid(True)"
      ],
      "execution_count": 18,
      "outputs": []
    },
    {
      "cell_type": "code",
      "metadata": {
        "id": "LKLUdzWKxiCs",
        "colab": {
          "base_uri": "https://localhost:8080/",
          "height": 0
        },
        "outputId": "6d96026a-8de5-4f56-a622-78483b03a8cb"
      },
      "source": [
        "plt.figure(figsize=(10,7))\n",
        "plot_time_series(timesteps=X_train, values=y_train, label=\"Train data\")\n",
        "plot_time_series(timesteps=X_test, values=y_test, label=\"Test data\")"
      ],
      "execution_count": 19,
      "outputs": [
        {
          "output_type": "display_data",
          "data": {
            "image/png": "[encoded data removed]",
            "text/plain": [
              "<Figure size 720x504 with 1 Axes>"
            ]
          },
          "metadata": {
            "needs_background": "light"
          }
        }
      ]
    },
    {
      "cell_type": "markdown",
      "metadata": {
        "id": "zbz73mHGx5hZ"
      },
      "source": [
        "## Modelling experiments"
      ]
    },
    {
      "cell_type": "markdown",
      "metadata": {
        "id": "G9EXSxKw1qfd"
      },
      "source": [
        "Terms to be familiar with:\n",
        "* **`Horizon`** - number of steps into the future we are going to predicct.\n",
        "\n",
        "* **`Window size`** - number of timesteps we're going to use to predict horizon"
      ]
    },
    {
      "cell_type": "markdown",
      "metadata": {
        "id": "fUPXf3Fs2xzy"
      },
      "source": [
        "### Model 0. Naive Forecast (Baseline)\n",
        "\n",
        "The formula:\n",
        "\n",
        "$$\\hat{y}_{t} = y_{t-1}$$\n",
        "\n",
        "In English:\n",
        "> The prediction at timestep t (y-hat) is equal to the value at timestep t-1 (previous timestep) - this is for a horizon of 1"
      ]
    },
    {
      "cell_type": "code",
      "metadata": {
        "id": "-EbnoUGz3X2v",
        "colab": {
          "base_uri": "https://localhost:8080/"
        },
        "outputId": "bbc3cc76-e9a9-42fc-deea-e83366fe1b30"
      },
      "source": [
        "naive_forecast = y_test[:-1]\n",
        "\n",
        "naive_forecast[:10], naive_forecast[-10:]"
      ],
      "execution_count": 20,
      "outputs": [
        {
          "output_type": "execute_result",
          "data": {
            "text/plain": [
              "(array([8767.67262337, 8853.77448401, 8963.0575578 , 8904.71381654,\n",
              "        8887.50589259, 8978.28358712, 9371.68427279, 9900.67886662,\n",
              "        9917.24841434, 9617.51819493]),\n",
              " array([49709.61199434, 49999.55557859, 51693.80939808, 52506.68564748,\n",
              "        46897.60147675, 46769.31439122, 46404.36448102, 44720.75555014,\n",
              "        45253.13062479, 45510.56324938]))"
            ]
          },
          "metadata": {},
          "execution_count": 20
        }
      ]
    },
    {
      "cell_type": "code",
      "metadata": {
        "id": "j6GomxPw4ejc",
        "colab": {
          "base_uri": "https://localhost:8080/"
        },
        "outputId": "3862bced-4a0b-412d-9438-67ce0722a885"
      },
      "source": [
        "y_test[-10:]"
      ],
      "execution_count": 21,
      "outputs": [
        {
          "output_type": "execute_result",
          "data": {
            "text/plain": [
              "array([49999.55557859, 51693.80939808, 52506.68564748, 46897.60147675,\n",
              "       46769.31439122, 46404.36448102, 44720.75555014, 45253.13062479,\n",
              "       45510.56324938, 45097.79721752])"
            ]
          },
          "metadata": {},
          "execution_count": 21
        }
      ]
    },
    {
      "cell_type": "code",
      "metadata": {
        "id": "h9YjNlJQ4od8",
        "colab": {
          "base_uri": "https://localhost:8080/",
          "height": 0
        },
        "outputId": "96020999-d973-4291-9c2b-a72e22b8e7df"
      },
      "source": [
        "# Plot naive forecast\n",
        "plt.figure(figsize=(10,7))\n",
        "#plot_time_series(timesteps=X_train, values=y_train, label=\"Train data\", start=200)\n",
        "plot_time_series(timesteps=X_test, values=y_test, label=\"Test data\", format='-', start=350)\n",
        "plot_time_series(timesteps=X_test[1:], values=naive_forecast, format='-', label=\"Naive Forecast\", start=350)"
      ],
      "execution_count": 22,
      "outputs": [
        {
          "output_type": "display_data",
          "data": {
            "image/png": "[encoded data removed]",
            "text/plain": [
              "<Figure size 720x504 with 1 Axes>"
            ]
          },
          "metadata": {
            "needs_background": "light"
          }
        }
      ]
    },
    {
      "cell_type": "markdown",
      "metadata": {
        "id": "SrpKL65V9Rvc"
      },
      "source": [
        "#### Reference book: 'Forecasting: Principles in Practice'"
      ]
    },
    {
      "cell_type": "markdown",
      "metadata": {
        "id": "yeMp8btr-baP"
      },
      "source": [
        "### Evaluating a TimeSeries model"
      ]
    },
    {
      "cell_type": "markdown",
      "metadata": {
        "id": "-5LRJVc3-2uR"
      },
      "source": [
        "We're predicting a number, i.e. it's a form of regression problem.\n",
        "\n",
        "Because we're working on a regression problem, we need regression metrics:\n",
        "\n",
        "* MAE - mean absolute error\n",
        "* MSE - mean squared error\n",
        "* RMSE - root mean square error\n",
        "* MAPE/sMAPE - (symmetric) mean absolute percentage error\n",
        "\n",
        "We're evaluating **how does our model forecast compared to the actual values?**\n",
        "\n",
        "Reference: Forecasting: Principles and Practice, chapter 5.8"
      ]
    },
    {
      "cell_type": "code",
      "metadata": {
        "id": "zZYRuf4eB95k"
      },
      "source": [
        "import tensorflow as tf"
      ],
      "execution_count": 23,
      "outputs": []
    },
    {
      "cell_type": "code",
      "metadata": {
        "id": "vsQlDLFxCGV5"
      },
      "source": [
        "# MASE implementation (since there's no appropriate function in tensorflow)\n",
        "def mean_absolute_scaled_error(y_true, y_pred):\n",
        "  \"\"\"\n",
        "  Implementing MASE (assuming no seasonality of data, i.e. data is not influenced by season of the year).\n",
        "\n",
        "  \"\"\"\n",
        "  mae = tf.reduce_mean(tf.abs(y_true-y_pred))\n",
        "  # Find MAE of naive forecast / seasonality (data published daily) is 1 days, hence shift 1 \n",
        "  mae_naive_no_season = tf.reduce_mean(tf.abs(y_true[1:] - y_true[:-1]))\n",
        "\n",
        "  return mae / mae_naive_no_season\n",
        "\n"
      ],
      "execution_count": 24,
      "outputs": []
    },
    {
      "cell_type": "code",
      "metadata": {
        "id": "N6ZEgkkYDxFW",
        "colab": {
          "base_uri": "https://localhost:8080/"
        },
        "outputId": "7b16b01d-8476-473c-f911-71f8b297d8a9"
      },
      "source": [
        "mean_absolute_scaled_error(y_true=y_test[1:], y_pred=naive_forecast).numpy()"
      ],
      "execution_count": 25,
      "outputs": [
        {
          "output_type": "execute_result",
          "data": {
            "text/plain": [
              "0.9982082921428421"
            ]
          },
          "metadata": {},
          "execution_count": 25
        }
      ]
    },
    {
      "cell_type": "markdown",
      "metadata": {
        "id": "WmnuQ_0SD8Be"
      },
      "source": [
        "#### Custom Evaluation Function"
      ]
    },
    {
      "cell_type": "code",
      "metadata": {
        "id": "P5VBo_0rG0kO"
      },
      "source": [
        "def evaluate_preds(y_true, y_pred):\n",
        "  # Make sure float32 dtype (for metric calculations)\n",
        "  y_true = tf.cast(y_true, dtype=tf.float32)\n",
        "  y_pred = tf.cast(y_pred, dtype=tf.float32)\n",
        "\n",
        "  # Calculate various evaluation metrics\n",
        "  mae = tf.keras.metrics.mean_absolute_error(y_true, y_pred)\n",
        "  mse = tf.keras.metrics.mean_squared_error(y_true, y_pred)\n",
        "  rmse = tf.sqrt(mse)\n",
        "  mape = tf.keras.metrics.mean_absolute_percentage_error(y_true, y_pred)\n",
        "  mase = mean_absolute_scaled_error(y_true, y_pred)\n",
        "\n",
        "  return {\"mae\": mae.numpy(),\n",
        "          \"mse\": mse.numpy(),\n",
        "          \"rmse\": rmse.numpy(),\n",
        "          \"mape\": mape.numpy(),\n",
        "          \"mase\": mase.numpy()}"
      ],
      "execution_count": 26,
      "outputs": []
    },
    {
      "cell_type": "code",
      "metadata": {
        "id": "5F1FtYrjIdto",
        "colab": {
          "base_uri": "https://localhost:8080/"
        },
        "outputId": "cbe44076-fcfb-45d0-c669-d925548da47e"
      },
      "source": [
        "naive_results = evaluate_preds(y_true=y_test[1:], \n",
        "                               y_pred=naive_forecast)\n",
        "naive_results"
      ],
      "execution_count": 27,
      "outputs": [
        {
          "output_type": "execute_result",
          "data": {
            "text/plain": [
              "{'mae': 839.7061,\n",
              " 'mape': 2.6012962,\n",
              " 'mase': 0.9982083,\n",
              " 'mse': 1825811.4,\n",
              " 'rmse': 1351.2258}"
            ]
          },
          "metadata": {},
          "execution_count": 27
        }
      ]
    },
    {
      "cell_type": "code",
      "metadata": {
        "id": "SG6eVvahIrzh",
        "colab": {
          "base_uri": "https://localhost:8080/"
        },
        "outputId": "07b5c397-ac9a-4021-845b-9f8f76491e11"
      },
      "source": [
        "# average price\n",
        "tf.reduce_mean(y_test)"
      ],
      "execution_count": 28,
      "outputs": [
        {
          "output_type": "execute_result",
          "data": {
            "text/plain": [
              "<tf.Tensor: shape=(), dtype=float64, numpy=28914.9042404809>"
            ]
          },
          "metadata": {},
          "execution_count": 28
        }
      ]
    },
    {
      "cell_type": "code",
      "metadata": {
        "id": "An0tyGLlJH_S",
        "colab": {
          "base_uri": "https://localhost:8080/"
        },
        "outputId": "15248c2b-c92f-4288-f6e9-69272dcf24de"
      },
      "source": [
        "# max / min prices\n",
        "tf.reduce_min(y_test), tf.reduce_max(y_test)"
      ],
      "execution_count": 29,
      "outputs": [
        {
          "output_type": "execute_result",
          "data": {
            "text/plain": [
              "(<tf.Tensor: shape=(), dtype=float64, numpy=8608.125245038>,\n",
              " <tf.Tensor: shape=(), dtype=float64, numpy=63346.7890351052>)"
            ]
          },
          "metadata": {},
          "execution_count": 29
        }
      ]
    },
    {
      "cell_type": "markdown",
      "metadata": {
        "id": "WUL6_qOjnTn8"
      },
      "source": [
        "## Formatting Data Part 2 : Windowing the Dataset"
      ]
    },
    {
      "cell_type": "markdown",
      "metadata": {
        "id": "431__YBVofYd"
      },
      "source": [
        "```\n",
        "Windowing for one week\n",
        "[0,1,2,3,4,5,6] --> [7]\n",
        "[1,2,3,4,5,6,7] --> [8]\n",
        "[2,3,4,5,6,7,8] --> [9]\n",
        "window = 7 --> horizon = 1\n",
        "```"
      ]
    },
    {
      "cell_type": "code",
      "metadata": {
        "colab": {
          "base_uri": "https://localhost:8080/"
        },
        "id": "BJ4U2crYpIiB",
        "outputId": "31e81274-13d2-4fe9-8372-004f07c5aac2"
      },
      "source": [
        "len(y_train)"
      ],
      "execution_count": 30,
      "outputs": [
        {
          "output_type": "execute_result",
          "data": {
            "text/plain": [
              "2005"
            ]
          },
          "metadata": {},
          "execution_count": 30
        }
      ]
    },
    {
      "cell_type": "code",
      "metadata": {
        "colab": {
          "base_uri": "https://localhost:8080/"
        },
        "id": "vZQciqTcpNZm",
        "outputId": "482adbca-2eb1-44cd-b029-20ba80525117"
      },
      "source": [
        "print(f\"We want to use {btc_price[:7]} to predict {btc_price[7]}\")"
      ],
      "execution_count": 31,
      "outputs": [
        {
          "output_type": "stream",
          "name": "stdout",
          "text": [
            "We want to use [324.71833, 332.45666, 336.585, 346.775, 344.81166, 343.065, 358.50166] to predict 368.07666\n"
          ]
        }
      ]
    },
    {
      "cell_type": "code",
      "metadata": {
        "id": "-QWrlJOxpR7M"
      },
      "source": [
        "# Set global variables for window and horizon\n",
        "HORIZON = 1 #predict next 1 day\n",
        "WINDOW_SIZE = 7 # use the past week of data"
      ],
      "execution_count": 32,
      "outputs": []
    },
    {
      "cell_type": "markdown",
      "metadata": {
        "id": "Mb4U3ppop0vC"
      },
      "source": [
        "### Create function to label windowed data"
      ]
    },
    {
      "cell_type": "code",
      "metadata": {
        "id": "ArQBY5b7qDWV"
      },
      "source": [
        "def get_labelled_windows(x, horizon=HORIZON):\n",
        "  \"\"\"\n",
        "  Creates labels for windowed dataset.\n",
        "\n",
        "  E.g. if horizon = 1\n",
        "  Input: [0,1,2,3,4,5,6,7] -> Output: ([0,1,2,3,4,5,6], [7])\n",
        "  \"\"\"\n",
        "  return x[:, :-horizon], x[:, -horizon:]"
      ],
      "execution_count": 33,
      "outputs": []
    },
    {
      "cell_type": "code",
      "metadata": {
        "colab": {
          "base_uri": "https://localhost:8080/"
        },
        "id": "HIfRb7R4yXif",
        "outputId": "28e7d3fe-23cb-407f-8591-b7662521056b"
      },
      "source": [
        "# Test the window labelling function\n",
        "test_window, test_label = get_labelled_windows(tf.expand_dims(tf.range(8)+1, axis=0))\n",
        "print(f\"Window: {tf.squeeze(test_window).numpy()} -> Label: {tf.squeeze(test_label).numpy()}\")"
      ],
      "execution_count": 34,
      "outputs": [
        {
          "output_type": "stream",
          "name": "stdout",
          "text": [
            "Window: [1 2 3 4 5 6 7] -> Label: 8\n"
          ]
        }
      ]
    },
    {
      "cell_type": "markdown",
      "metadata": {
        "id": "YfZwOJixynGO"
      },
      "source": [
        "### Apply the windowing function for the entire timeseries\n"
      ]
    },
    {
      "cell_type": "markdown",
      "metadata": {
        "id": "ABNFNtX81nxV"
      },
      "source": [
        "We'll use numpy array indexing since using python for loops is time costly."
      ]
    },
    {
      "cell_type": "markdown",
      "metadata": {
        "id": "aAX1kCcw4Iu2"
      },
      "source": [
        "The function will:\n",
        "* Create a window step of a specific window size (e.g. [0,1,2,3,4,5,6])\n",
        "* Use numpy indexing to create a 2D array of multiple window steps, e.g.:\n",
        "```\n",
        "[[0,1,2,3,4,5,6],\n",
        " [1,2,3,4,5,6,7],\n",
        " [2,3,4,5,6,7,8]]\n",
        "```\n",
        "* Use the 2D array of multiple window steps (from 2.) to index on a target series (e.g. historical price of bitcoin).\n",
        "* Use the `get_labelled_windows()` function to turn the window steps into windows with a specified horizon."
      ]
    },
    {
      "cell_type": "code",
      "metadata": {
        "id": "aMi8vVPA5nXh"
      },
      "source": [
        "# Create the function\n",
        "def make_windows(x, window_size=7, horizon=1):\n",
        "  \"\"\"\n",
        "  Turns a 1D array into a 2D array of sequential labelled windows of window_size with horizon size labels.\n",
        "  \"\"\"\n",
        "  # 1. Create a window of specific window_size (add the horizon on the end for labelling later)\n",
        "  window_step = np.expand_dims(np.arange(window_size+horizon), axis=0)\n",
        "  \n",
        "  # 2. Use numpy indexing to create a 2D array of multiple window steps (minus 1 to account for 0 indexing)\n",
        "  window_indeces = window_step + np.expand_dims(np.arange(len(x)-(window_size+horizon-1)), axis=0).T #create 2D array of windows of windows_size\n",
        "\n",
        "  #print(f\"Window indeces:\\n {window_indeces}{window_indeces.shape}\")\n",
        "\n",
        "  # 3. Index on the target array (a timeseries) with 2D array of multiple window steps\n",
        "  windowed_array = x[window_indeces]\n",
        "  #print(windowed_array)\n",
        "\n",
        "  # 4. Get the labelled windows\n",
        "  windows, labels = get_labelled_windows(windowed_array, horizon=horizon)\n",
        "  return windows, labels"
      ],
      "execution_count": 35,
      "outputs": []
    },
    {
      "cell_type": "code",
      "metadata": {
        "colab": {
          "base_uri": "https://localhost:8080/"
        },
        "id": "EH7KO-wP7x_m",
        "outputId": "edb79084-e24d-4b4d-bece-8c105031f62a"
      },
      "source": [
        "full_windows, full_labels = make_windows(prices, window_size=WINDOW_SIZE, horizon=HORIZON)\n",
        "len(full_windows), len(full_labels)"
      ],
      "execution_count": 36,
      "outputs": [
        {
          "output_type": "execute_result",
          "data": {
            "text/plain": [
              "(2500, 2500)"
            ]
          },
          "metadata": {},
          "execution_count": 36
        }
      ]
    },
    {
      "cell_type": "code",
      "metadata": {
        "colab": {
          "base_uri": "https://localhost:8080/"
        },
        "id": "AjPaFamE8CDR",
        "outputId": "76b24b85-c873-4789-ddd6-7783c4b5b779"
      },
      "source": [
        "len(prices)"
      ],
      "execution_count": 37,
      "outputs": [
        {
          "output_type": "execute_result",
          "data": {
            "text/plain": [
              "2507"
            ]
          },
          "metadata": {},
          "execution_count": 37
        }
      ]
    },
    {
      "cell_type": "code",
      "metadata": {
        "colab": {
          "base_uri": "https://localhost:8080/"
        },
        "id": "a_olEHch9Xzb",
        "outputId": "2be9cbb8-9bbd-482f-f45e-70d461559ccc"
      },
      "source": [
        "# Check the first 3 windows and labels\n",
        "for i in range(3):\n",
        "  print(f\"Window: {full_windows[i-3]} -> Label: {full_labels[i-3]}\")"
      ],
      "execution_count": 38,
      "outputs": [
        {
          "output_type": "stream",
          "name": "stdout",
          "text": [
            "Window: [49999.55557859 51693.80939808 52506.68564748 46897.60147675\n",
            " 46769.31439122 46404.36448102 44720.75555014] -> Label: [45253.13062479]\n",
            "Window: [51693.80939808 52506.68564748 46897.60147675 46769.31439122\n",
            " 46404.36448102 44720.75555014 45253.13062479] -> Label: [45510.56324938]\n",
            "Window: [52506.68564748 46897.60147675 46769.31439122 46404.36448102\n",
            " 44720.75555014 45253.13062479 45510.56324938] -> Label: [45097.79721752]\n"
          ]
        }
      ]
    },
    {
      "cell_type": "code",
      "metadata": {
        "colab": {
          "base_uri": "https://localhost:8080/"
        },
        "id": "3yYG7Mqr9o72",
        "outputId": "f45ff2f0-0602-4665-c6db-becb601852be"
      },
      "source": [
        "prices[-1]"
      ],
      "execution_count": 39,
      "outputs": [
        {
          "output_type": "execute_result",
          "data": {
            "text/plain": [
              "45097.7972175205"
            ]
          },
          "metadata": {},
          "execution_count": 39
        }
      ]
    },
    {
      "cell_type": "markdown",
      "metadata": {
        "id": "PDishcs1-F9M"
      },
      "source": [
        "#### similar: tf.keras.preprocessing.timeseries_dataset_from_array"
      ]
    },
    {
      "cell_type": "markdown",
      "metadata": {
        "id": "DPZc67m7Bo5w"
      },
      "source": [
        "## Create train & train sets for windowed dataset"
      ]
    },
    {
      "cell_type": "code",
      "metadata": {
        "id": "Mu6lXfBTB3fz"
      },
      "source": [
        "# Make the train/test splits\n",
        "def make_train_test_splits(windows, labels, test_split=0.2):\n",
        "  \"\"\"\n",
        "  Splits matching pairs of windows and pairs into train and test split\n",
        "  \"\"\"\n",
        "  split_size = int(len(windows) * (1-test_split))\n",
        "  train_windows = windows[:split_size]\n",
        "  train_labels = labels[:split_size]\n",
        "  test_windows = windows[split_size:]\n",
        "  test_labels = labels[split_size:]\n",
        "  return train_windows, test_windows, train_labels, test_labels\n"
      ],
      "execution_count": 40,
      "outputs": []
    },
    {
      "cell_type": "code",
      "metadata": {
        "id": "kRus4DehDVzF"
      },
      "source": [
        "# Create train and test windows\n",
        "train_windows, test_windows, train_labels, test_labels = make_train_test_splits(windows=full_windows, labels=full_labels)"
      ],
      "execution_count": 41,
      "outputs": []
    },
    {
      "cell_type": "code",
      "metadata": {
        "id": "oXTlGODkDhp0",
        "colab": {
          "base_uri": "https://localhost:8080/"
        },
        "outputId": "6480cdad-f391-44f9-d05a-eae9b0f6fa1b"
      },
      "source": [
        "len(train_windows), len(test_windows), len(train_labels), len(test_labels)"
      ],
      "execution_count": 42,
      "outputs": [
        {
          "output_type": "execute_result",
          "data": {
            "text/plain": [
              "(2000, 500, 2000, 500)"
            ]
          },
          "metadata": {},
          "execution_count": 42
        }
      ]
    },
    {
      "cell_type": "code",
      "metadata": {
        "id": "HwwY8FO1DxVi",
        "colab": {
          "base_uri": "https://localhost:8080/"
        },
        "outputId": "a70978e6-49bf-4429-897d-fa28ae10e21a"
      },
      "source": [
        "len(full_windows) * 0.8"
      ],
      "execution_count": 43,
      "outputs": [
        {
          "output_type": "execute_result",
          "data": {
            "text/plain": [
              "2000.0"
            ]
          },
          "metadata": {},
          "execution_count": 43
        }
      ]
    },
    {
      "cell_type": "code",
      "metadata": {
        "id": "6O7b8RzZD3m6",
        "colab": {
          "base_uri": "https://localhost:8080/"
        },
        "outputId": "3eeeab47-1f98-48ec-9be4-c2c99370c20b"
      },
      "source": [
        "train_windows[:5], train_labels[:5]"
      ],
      "execution_count": 44,
      "outputs": [
        {
          "output_type": "execute_result",
          "data": {
            "text/plain": [
              "(array([[324.71833, 332.45666, 336.585  , 346.775  , 344.81166, 343.065  ,\n",
              "         358.50166],\n",
              "        [332.45666, 336.585  , 346.775  , 344.81166, 343.065  , 358.50166,\n",
              "         368.07666],\n",
              "        [336.585  , 346.775  , 344.81166, 343.065  , 358.50166, 368.07666,\n",
              "         376.99666],\n",
              "        [346.775  , 344.81166, 343.065  , 358.50166, 368.07666, 376.99666,\n",
              "         442.10666],\n",
              "        [344.81166, 343.065  , 358.50166, 368.07666, 376.99666, 442.10666,\n",
              "         389.00333]]), array([[368.07666],\n",
              "        [376.99666],\n",
              "        [442.10666],\n",
              "        [389.00333],\n",
              "        [394.92666]]))"
            ]
          },
          "metadata": {},
          "execution_count": 44
        }
      ]
    },
    {
      "cell_type": "code",
      "metadata": {
        "id": "mgWwslnzD_hk",
        "colab": {
          "base_uri": "https://localhost:8080/"
        },
        "outputId": "7a59df0f-fc36-4c9f-eb7f-2233c011cc90"
      },
      "source": [
        "test_windows[:5], test_labels[:5]"
      ],
      "execution_count": 45,
      "outputs": [
        {
          "output_type": "execute_result",
          "data": {
            "text/plain": [
              "(array([[7542.3034007 , 7624.85378592, 7776.50754257, 7761.75878408,\n",
              "         8773.10648796, 8767.67262337, 8853.77448401],\n",
              "        [7624.85378592, 7776.50754257, 7761.75878408, 8773.10648796,\n",
              "         8767.67262337, 8853.77448401, 8963.0575578 ],\n",
              "        [7776.50754257, 7761.75878408, 8773.10648796, 8767.67262337,\n",
              "         8853.77448401, 8963.0575578 , 8904.71381654],\n",
              "        [7761.75878408, 8773.10648796, 8767.67262337, 8853.77448401,\n",
              "         8963.0575578 , 8904.71381654, 8887.50589259],\n",
              "        [8773.10648796, 8767.67262337, 8853.77448401, 8963.0575578 ,\n",
              "         8904.71381654, 8887.50589259, 8978.28358712]]),\n",
              " array([[8963.0575578 ],\n",
              "        [8904.71381654],\n",
              "        [8887.50589259],\n",
              "        [8978.28358712],\n",
              "        [9371.68427279]]))"
            ]
          },
          "metadata": {},
          "execution_count": 45
        }
      ]
    },
    {
      "cell_type": "code",
      "metadata": {
        "id": "a7Gl1ymMEFmt",
        "colab": {
          "base_uri": "https://localhost:8080/"
        },
        "outputId": "4f19a9c4-19e8-443d-8a2f-59566f3889bb"
      },
      "source": [
        "# Check if train labels are the same before and after window split\n",
        "np.array_equal(np.squeeze(train_labels[:-HORIZON-1]), y_train[WINDOW_SIZE:])"
      ],
      "execution_count": 46,
      "outputs": [
        {
          "output_type": "execute_result",
          "data": {
            "text/plain": [
              "True"
            ]
          },
          "metadata": {},
          "execution_count": 46
        }
      ]
    },
    {
      "cell_type": "markdown",
      "metadata": {
        "id": "iWAKJR84GA6o"
      },
      "source": [
        "## Make a modelling checkpoint"
      ]
    },
    {
      "cell_type": "markdown",
      "metadata": {
        "id": "pxPzkwIRJqhk"
      },
      "source": [
        "Since our model's performance will fluctuate from experiment to experiment, we're going to make a checkpoint.\n",
        "\n",
        "So that we can compare each of our model's best performances to the other model's best performances."
      ]
    },
    {
      "cell_type": "code",
      "metadata": {
        "id": "uOFc9tV6KZTN"
      },
      "source": [
        "import os\n",
        "\n",
        "# Create a function to implement a ModelCheckpoint callback with a specific filename\n",
        "def create_model_checkpoint(model_name, save_path='model_experiments'):\n",
        "  return tf.keras.callbacks.ModelCheckpoint(filepath=os.path.join(save_path, model_name),\n",
        "                                            verbose=0,\n",
        "                                            save_best_only=True)"
      ],
      "execution_count": 47,
      "outputs": []
    },
    {
      "cell_type": "markdown",
      "metadata": {
        "id": "ySZlcMFqLW16"
      },
      "source": [
        "## Model 1: Dense model (window = 7, horizon = 1)\n",
        "\n",
        "* Single Dense with 128 hidden units and relu activation.\n",
        "* An output layer with linear activation.\n",
        "* Adam optimizer and MAE loss function.\n",
        "* Batch size of 128"
      ]
    },
    {
      "cell_type": "code",
      "metadata": {
        "id": "_fpdZZinpCyZ"
      },
      "source": [
        "import tensorflow as tf\n",
        "from tensorflow.keras.layers import Dense\n",
        "\n",
        "# Set the random seed\n",
        "tf.random.set_seed(42)\n",
        "\n",
        "# Construct a model\n",
        "model_1 = tf.keras.Sequential([\n",
        "    Dense(128, activation=\"relu\"),\n",
        "    Dense(HORIZON, activation=\"linear\")\n",
        "], name=\"model_1_dense\" #will be used for model checkpoints\n",
        ")\n",
        "\n",
        "# Compile the model\n",
        "model_1.compile(loss='mae',\n",
        "                optimizer='adam',\n",
        "                metrics=['mae', 'mse'])"
      ],
      "execution_count": 48,
      "outputs": []
    },
    {
      "cell_type": "code",
      "metadata": {
        "colab": {
          "base_uri": "https://localhost:8080/"
        },
        "id": "sZFNoCtFrRev",
        "outputId": "1607f522-f4ed-47df-ed5a-a47e81755560"
      },
      "source": [
        "# Fit the model\n",
        "model_1.fit(x=train_windows,\n",
        "            y=train_labels,\n",
        "            epochs=100,\n",
        "            verbose=1,\n",
        "            batch_size=128,\n",
        "            validation_data=(test_windows, test_labels),\n",
        "            callbacks=[create_model_checkpoint(model_name=model_1.name)])"
      ],
      "execution_count": 49,
      "outputs": [
        {
          "output_type": "stream",
          "name": "stdout",
          "text": [
            "Epoch 1/100\n",
            "16/16 [==============================] - 3s 16ms/step - loss: 1047.5120 - mae: 1047.5120 - mse: 3409459.2500 - val_loss: 3525.5415 - val_mae: 3525.5415 - val_mse: 23111334.0000\n",
            "INFO:tensorflow:Assets written to: model_experiments/model_1_dense/assets\n",
            "Epoch 2/100\n",
            "16/16 [==============================] - 0s 5ms/step - loss: 338.9567 - mae: 338.9567 - mse: 383550.2188 - val_loss: 1931.8485 - val_mae: 1931.8485 - val_mse: 7414475.0000\n",
            "INFO:tensorflow:Assets written to: model_experiments/model_1_dense/assets\n",
            "Epoch 3/100\n",
            "16/16 [==============================] - 0s 7ms/step - loss: 249.2299 - mae: 249.2299 - mse: 251716.7656 - val_loss: 1740.0020 - val_mae: 1740.0020 - val_mse: 6257059.0000\n",
            "INFO:tensorflow:Assets written to: model_experiments/model_1_dense/assets\n",
            "Epoch 4/100\n",
            "16/16 [==============================] - 0s 5ms/step - loss: 228.1319 - mae: 228.1319 - mse: 215178.4219 - val_loss: 1477.6558 - val_mae: 1477.6558 - val_mse: 5067503.0000\n",
            "INFO:tensorflow:Assets written to: model_experiments/model_1_dense/assets\n",
            "Epoch 5/100\n",
            "16/16 [==============================] - 0s 6ms/step - loss: 218.9443 - mae: 218.9443 - mse: 203000.4375 - val_loss: 1420.9664 - val_mae: 1420.9664 - val_mse: 4793184.5000\n",
            "INFO:tensorflow:Assets written to: model_experiments/model_1_dense/assets\n",
            "Epoch 6/100\n",
            "16/16 [==============================] - 0s 6ms/step - loss: 214.4099 - mae: 214.4099 - mse: 194836.3125 - val_loss: 1382.1442 - val_mae: 1382.1442 - val_mse: 4565384.0000\n",
            "INFO:tensorflow:Assets written to: model_experiments/model_1_dense/assets\n",
            "Epoch 7/100\n",
            "16/16 [==============================] - 0s 6ms/step - loss: 209.6269 - mae: 209.6269 - mse: 186065.4531 - val_loss: 1369.8766 - val_mae: 1369.8766 - val_mse: 4374163.5000\n",
            "INFO:tensorflow:Assets written to: model_experiments/model_1_dense/assets\n",
            "Epoch 8/100\n",
            "16/16 [==============================] - 0s 5ms/step - loss: 202.6774 - mae: 202.6774 - mse: 176602.2969 - val_loss: 1290.3752 - val_mae: 1290.3752 - val_mse: 4006593.0000\n",
            "INFO:tensorflow:Assets written to: model_experiments/model_1_dense/assets\n",
            "Epoch 9/100\n",
            "16/16 [==============================] - 0s 6ms/step - loss: 193.7747 - mae: 193.7747 - mse: 162371.9844 - val_loss: 1255.0120 - val_mae: 1255.0120 - val_mse: 3655924.7500\n",
            "INFO:tensorflow:Assets written to: model_experiments/model_1_dense/assets\n",
            "Epoch 10/100\n",
            "16/16 [==============================] - 0s 5ms/step - loss: 186.7886 - mae: 186.7886 - mse: 151650.8438 - val_loss: 1210.2740 - val_mae: 1210.2740 - val_mse: 3438023.5000\n",
            "INFO:tensorflow:Assets written to: model_experiments/model_1_dense/assets\n",
            "Epoch 11/100\n",
            "16/16 [==============================] - 0s 6ms/step - loss: 183.5520 - mae: 183.5520 - mse: 147452.4219 - val_loss: 1222.1472 - val_mae: 1222.1472 - val_mse: 3345378.2500\n",
            "Epoch 12/100\n",
            "16/16 [==============================] - 0s 5ms/step - loss: 176.9352 - mae: 176.9352 - mse: 137535.1250 - val_loss: 1147.2618 - val_mae: 1147.2618 - val_mse: 3102102.5000\n",
            "INFO:tensorflow:Assets written to: model_experiments/model_1_dense/assets\n",
            "Epoch 13/100\n",
            "16/16 [==============================] - 0s 6ms/step - loss: 173.8545 - mae: 173.8545 - mse: 134446.4219 - val_loss: 1156.8104 - val_mae: 1156.8104 - val_mse: 3007368.7500\n",
            "Epoch 14/100\n",
            "16/16 [==============================] - 0s 5ms/step - loss: 170.4911 - mae: 170.4911 - mse: 128324.7344 - val_loss: 1109.3815 - val_mae: 1109.3815 - val_mse: 2842743.0000\n",
            "INFO:tensorflow:Assets written to: model_experiments/model_1_dense/assets\n",
            "Epoch 15/100\n",
            "16/16 [==============================] - 0s 6ms/step - loss: 165.8959 - mae: 165.8959 - mse: 123648.4922 - val_loss: 1179.0895 - val_mae: 1179.0895 - val_mse: 2988246.5000\n",
            "Epoch 16/100\n",
            "16/16 [==============================] - 0s 5ms/step - loss: 169.3748 - mae: 169.3748 - mse: 123606.9141 - val_loss: 1064.1345 - val_mae: 1064.1345 - val_mse: 2652800.5000\n",
            "INFO:tensorflow:Assets written to: model_experiments/model_1_dense/assets\n",
            "Epoch 17/100\n",
            "16/16 [==============================] - 0s 7ms/step - loss: 165.2428 - mae: 165.2428 - mse: 117528.8984 - val_loss: 1213.9053 - val_mae: 1213.9053 - val_mse: 3499789.5000\n",
            "Epoch 18/100\n",
            "16/16 [==============================] - 0s 5ms/step - loss: 174.0647 - mae: 174.0647 - mse: 127771.9688 - val_loss: 1129.8250 - val_mae: 1129.8250 - val_mse: 2754895.2500\n",
            "Epoch 19/100\n",
            "16/16 [==============================] - 0s 5ms/step - loss: 158.2135 - mae: 158.2135 - mse: 111596.3203 - val_loss: 1033.6514 - val_mae: 1033.6514 - val_mse: 2458278.0000\n",
            "INFO:tensorflow:Assets written to: model_experiments/model_1_dense/assets\n",
            "Epoch 20/100\n",
            "16/16 [==============================] - 0s 6ms/step - loss: 153.4600 - mae: 153.4600 - mse: 109390.4219 - val_loss: 1020.0229 - val_mae: 1020.0229 - val_mse: 2406228.0000\n",
            "INFO:tensorflow:Assets written to: model_experiments/model_1_dense/assets\n",
            "Epoch 21/100\n",
            "16/16 [==============================] - 0s 5ms/step - loss: 153.6606 - mae: 153.6606 - mse: 108762.6562 - val_loss: 1034.9652 - val_mae: 1034.9652 - val_mse: 2416503.2500\n",
            "Epoch 22/100\n",
            "16/16 [==============================] - 0s 5ms/step - loss: 152.2677 - mae: 152.2677 - mse: 107387.3594 - val_loss: 992.4891 - val_mae: 992.4891 - val_mse: 2314787.7500\n",
            "INFO:tensorflow:Assets written to: model_experiments/model_1_dense/assets\n",
            "Epoch 23/100\n",
            "16/16 [==============================] - 0s 5ms/step - loss: 149.9186 - mae: 149.9186 - mse: 105584.0234 - val_loss: 981.5775 - val_mae: 981.5775 - val_mse: 2352741.5000\n",
            "INFO:tensorflow:Assets written to: model_experiments/model_1_dense/assets\n",
            "Epoch 24/100\n",
            "16/16 [==============================] - 0s 6ms/step - loss: 152.1157 - mae: 152.1157 - mse: 106460.4844 - val_loss: 968.8282 - val_mae: 968.8282 - val_mse: 2259230.7500\n",
            "INFO:tensorflow:Assets written to: model_experiments/model_1_dense/assets\n",
            "Epoch 25/100\n",
            "16/16 [==============================] - 0s 5ms/step - loss: 149.5451 - mae: 149.5451 - mse: 102305.8672 - val_loss: 1012.4886 - val_mae: 1012.4886 - val_mse: 2318461.5000\n",
            "Epoch 26/100\n",
            "16/16 [==============================] - 0s 6ms/step - loss: 147.2980 - mae: 147.2980 - mse: 102071.1875 - val_loss: 1032.5480 - val_mae: 1032.5480 - val_mse: 2372231.7500\n",
            "Epoch 27/100\n",
            "16/16 [==============================] - 0s 6ms/step - loss: 149.3386 - mae: 149.3386 - mse: 101538.1172 - val_loss: 1002.1015 - val_mae: 1002.1015 - val_mse: 2280642.2500\n",
            "Epoch 28/100\n",
            "16/16 [==============================] - 0s 5ms/step - loss: 148.8131 - mae: 148.8131 - mse: 99328.1250 - val_loss: 964.2377 - val_mae: 964.2377 - val_mse: 2184178.7500\n",
            "INFO:tensorflow:Assets written to: model_experiments/model_1_dense/assets\n",
            "Epoch 29/100\n",
            "16/16 [==============================] - 0s 6ms/step - loss: 144.7094 - mae: 144.7094 - mse: 97539.9375 - val_loss: 947.4733 - val_mae: 947.4733 - val_mse: 2202661.5000\n",
            "INFO:tensorflow:Assets written to: model_experiments/model_1_dense/assets\n",
            "Epoch 30/100\n",
            "16/16 [==============================] - 0s 6ms/step - loss: 145.4816 - mae: 145.4816 - mse: 100353.8203 - val_loss: 935.3501 - val_mae: 935.3501 - val_mse: 2138093.2500\n",
            "INFO:tensorflow:Assets written to: model_experiments/model_1_dense/assets\n",
            "Epoch 31/100\n",
            "16/16 [==============================] - 0s 6ms/step - loss: 144.0113 - mae: 144.0113 - mse: 98884.2266 - val_loss: 932.3628 - val_mae: 932.3628 - val_mse: 2110236.7500\n",
            "INFO:tensorflow:Assets written to: model_experiments/model_1_dense/assets\n",
            "Epoch 32/100\n",
            "16/16 [==============================] - 0s 6ms/step - loss: 142.4327 - mae: 142.4327 - mse: 96796.3672 - val_loss: 925.5210 - val_mae: 925.5210 - val_mse: 2095560.2500\n",
            "INFO:tensorflow:Assets written to: model_experiments/model_1_dense/assets\n",
            "Epoch 33/100\n",
            "16/16 [==============================] - 0s 6ms/step - loss: 142.0787 - mae: 142.0787 - mse: 96078.6562 - val_loss: 960.2065 - val_mae: 960.2065 - val_mse: 2252265.7500\n",
            "Epoch 34/100\n",
            "16/16 [==============================] - 0s 6ms/step - loss: 148.7866 - mae: 148.7866 - mse: 102326.6719 - val_loss: 919.8037 - val_mae: 919.8037 - val_mse: 2069318.6250\n",
            "INFO:tensorflow:Assets written to: model_experiments/model_1_dense/assets\n",
            "Epoch 35/100\n",
            "16/16 [==============================] - 0s 5ms/step - loss: 151.8562 - mae: 151.8562 - mse: 97659.1562 - val_loss: 1053.1949 - val_mae: 1053.1949 - val_mse: 2617522.0000\n",
            "Epoch 36/100\n",
            "16/16 [==============================] - 0s 5ms/step - loss: 151.9763 - mae: 151.9763 - mse: 104752.4844 - val_loss: 993.8375 - val_mae: 993.8375 - val_mse: 2231855.2500\n",
            "Epoch 37/100\n",
            "16/16 [==============================] - 0s 5ms/step - loss: 146.5336 - mae: 146.5336 - mse: 97540.0234 - val_loss: 995.1348 - val_mae: 995.1348 - val_mse: 2234888.0000\n",
            "Epoch 38/100\n",
            "16/16 [==============================] - 0s 6ms/step - loss: 141.1755 - mae: 141.1755 - mse: 96650.1484 - val_loss: 913.7336 - val_mae: 913.7336 - val_mse: 2040268.1250\n",
            "INFO:tensorflow:Assets written to: model_experiments/model_1_dense/assets\n",
            "Epoch 39/100\n",
            "16/16 [==============================] - 0s 6ms/step - loss: 143.5390 - mae: 143.5390 - mse: 97282.2031 - val_loss: 924.7060 - val_mae: 924.7060 - val_mse: 2116452.0000\n",
            "Epoch 40/100\n",
            "16/16 [==============================] - 0s 6ms/step - loss: 144.6298 - mae: 144.6298 - mse: 95800.2734 - val_loss: 975.1306 - val_mae: 975.1306 - val_mse: 2288420.7500\n",
            "Epoch 41/100\n",
            "16/16 [==============================] - 0s 7ms/step - loss: 142.0907 - mae: 142.0907 - mse: 96727.8047 - val_loss: 908.7249 - val_mae: 908.7249 - val_mse: 2061029.3750\n",
            "INFO:tensorflow:Assets written to: model_experiments/model_1_dense/assets\n",
            "Epoch 42/100\n",
            "16/16 [==============================] - 0s 6ms/step - loss: 138.2717 - mae: 138.2717 - mse: 93002.5938 - val_loss: 924.6873 - val_mae: 924.6873 - val_mse: 2113912.5000\n",
            "Epoch 43/100\n",
            "16/16 [==============================] - 0s 6ms/step - loss: 140.3646 - mae: 140.3646 - mse: 93825.4844 - val_loss: 921.8914 - val_mae: 921.8914 - val_mse: 2038413.0000\n",
            "Epoch 44/100\n",
            "16/16 [==============================] - 0s 6ms/step - loss: 143.7956 - mae: 143.7956 - mse: 97135.7266 - val_loss: 980.9376 - val_mae: 980.9376 - val_mse: 2184675.7500\n",
            "Epoch 45/100\n",
            "16/16 [==============================] - 0s 5ms/step - loss: 139.4167 - mae: 139.4167 - mse: 91630.6797 - val_loss: 894.5773 - val_mae: 894.5773 - val_mse: 1988633.2500\n",
            "INFO:tensorflow:Assets written to: model_experiments/model_1_dense/assets\n",
            "Epoch 46/100\n",
            "16/16 [==============================] - 0s 5ms/step - loss: 138.4161 - mae: 138.4161 - mse: 93052.4844 - val_loss: 929.7859 - val_mae: 929.7859 - val_mse: 2050577.3750\n",
            "Epoch 47/100\n",
            "16/16 [==============================] - 0s 6ms/step - loss: 140.3335 - mae: 140.3335 - mse: 93292.4766 - val_loss: 938.0748 - val_mae: 938.0748 - val_mse: 2148009.0000\n",
            "Epoch 48/100\n",
            "16/16 [==============================] - 0s 6ms/step - loss: 149.0768 - mae: 149.0768 - mse: 98471.8906 - val_loss: 885.1285 - val_mae: 885.1285 - val_mse: 1973776.8750\n",
            "INFO:tensorflow:Assets written to: model_experiments/model_1_dense/assets\n",
            "Epoch 49/100\n",
            "16/16 [==============================] - 0s 6ms/step - loss: 142.8813 - mae: 142.8813 - mse: 96221.3516 - val_loss: 883.0703 - val_mae: 883.0703 - val_mse: 1974888.3750\n",
            "INFO:tensorflow:Assets written to: model_experiments/model_1_dense/assets\n",
            "Epoch 50/100\n",
            "16/16 [==============================] - 0s 6ms/step - loss: 138.6747 - mae: 138.6747 - mse: 90966.3828 - val_loss: 884.7238 - val_mae: 884.7238 - val_mse: 1984301.7500\n",
            "Epoch 51/100\n",
            "16/16 [==============================] - 0s 5ms/step - loss: 136.9525 - mae: 136.9525 - mse: 91135.7266 - val_loss: 933.7803 - val_mae: 933.7803 - val_mse: 2055603.5000\n",
            "Epoch 52/100\n",
            "16/16 [==============================] - 0s 6ms/step - loss: 138.9931 - mae: 138.9931 - mse: 92203.0781 - val_loss: 878.7300 - val_mae: 878.7300 - val_mse: 1952806.0000\n",
            "INFO:tensorflow:Assets written to: model_experiments/model_1_dense/assets\n",
            "Epoch 53/100\n",
            "16/16 [==============================] - 0s 5ms/step - loss: 137.6216 - mae: 137.6216 - mse: 89802.5234 - val_loss: 878.1853 - val_mae: 878.1853 - val_mse: 1964612.3750\n",
            "INFO:tensorflow:Assets written to: model_experiments/model_1_dense/assets\n",
            "Epoch 54/100\n",
            "16/16 [==============================] - 0s 5ms/step - loss: 135.6882 - mae: 135.6882 - mse: 90063.5156 - val_loss: 886.8719 - val_mae: 886.8719 - val_mse: 1953433.7500\n",
            "Epoch 55/100\n",
            "16/16 [==============================] - 0s 6ms/step - loss: 138.3298 - mae: 138.3298 - mse: 90480.5703 - val_loss: 1126.9738 - val_mae: 1126.9738 - val_mse: 2668515.0000\n",
            "Epoch 56/100\n",
            "16/16 [==============================] - 0s 6ms/step - loss: 144.8073 - mae: 144.8073 - mse: 93769.5703 - val_loss: 916.4370 - val_mae: 916.4370 - val_mse: 2009728.2500\n",
            "Epoch 57/100\n",
            "16/16 [==============================] - 0s 6ms/step - loss: 137.1639 - mae: 137.1639 - mse: 89960.7344 - val_loss: 883.2782 - val_mae: 883.2782 - val_mse: 1944277.5000\n",
            "Epoch 58/100\n",
            "16/16 [==============================] - 0s 6ms/step - loss: 140.1385 - mae: 140.1385 - mse: 91407.7734 - val_loss: 873.2204 - val_mae: 873.2204 - val_mse: 1931885.1250\n",
            "INFO:tensorflow:Assets written to: model_experiments/model_1_dense/assets\n",
            "Epoch 59/100\n",
            "16/16 [==============================] - 0s 7ms/step - loss: 136.1710 - mae: 136.1710 - mse: 90045.3672 - val_loss: 880.6594 - val_mae: 880.6594 - val_mse: 1972806.6250\n",
            "Epoch 60/100\n",
            "16/16 [==============================] - 0s 5ms/step - loss: 146.4173 - mae: 146.4173 - mse: 95462.0234 - val_loss: 969.5463 - val_mae: 969.5463 - val_mse: 2236881.2500\n",
            "Epoch 61/100\n",
            "16/16 [==============================] - 0s 6ms/step - loss: 145.6072 - mae: 145.6072 - mse: 96991.8516 - val_loss: 879.9645 - val_mae: 879.9645 - val_mse: 1933495.2500\n",
            "Epoch 62/100\n",
            "16/16 [==============================] - 0s 6ms/step - loss: 137.0659 - mae: 137.0659 - mse: 89928.6406 - val_loss: 877.5238 - val_mae: 877.5238 - val_mse: 1963696.5000\n",
            "Epoch 63/100\n",
            "16/16 [==============================] - 0s 6ms/step - loss: 136.3708 - mae: 136.3708 - mse: 90193.6172 - val_loss: 872.9694 - val_mae: 872.9694 - val_mse: 1951140.6250\n",
            "INFO:tensorflow:Assets written to: model_experiments/model_1_dense/assets\n",
            "Epoch 64/100\n",
            "16/16 [==============================] - 0s 7ms/step - loss: 134.2446 - mae: 134.2446 - mse: 88912.2812 - val_loss: 870.2569 - val_mae: 870.2569 - val_mse: 1917855.5000\n",
            "INFO:tensorflow:Assets written to: model_experiments/model_1_dense/assets\n",
            "Epoch 65/100\n",
            "16/16 [==============================] - 0s 7ms/step - loss: 136.3862 - mae: 136.3862 - mse: 88752.8438 - val_loss: 865.2192 - val_mae: 865.2192 - val_mse: 1924754.3750\n",
            "INFO:tensorflow:Assets written to: model_experiments/model_1_dense/assets\n",
            "Epoch 66/100\n",
            "16/16 [==============================] - 0s 6ms/step - loss: 140.0727 - mae: 140.0727 - mse: 88661.7656 - val_loss: 911.9992 - val_mae: 911.9992 - val_mse: 1993843.3750\n",
            "Epoch 67/100\n",
            "16/16 [==============================] - 0s 6ms/step - loss: 135.6003 - mae: 135.6003 - mse: 90399.8594 - val_loss: 873.0355 - val_mae: 873.0355 - val_mse: 1950019.6250\n",
            "Epoch 68/100\n",
            "16/16 [==============================] - 0s 6ms/step - loss: 133.5684 - mae: 133.5684 - mse: 88312.9453 - val_loss: 862.0178 - val_mae: 862.0178 - val_mse: 1910322.8750\n",
            "INFO:tensorflow:Assets written to: model_experiments/model_1_dense/assets\n",
            "Epoch 69/100\n",
            "16/16 [==============================] - 0s 7ms/step - loss: 133.6847 - mae: 133.6847 - mse: 87497.5703 - val_loss: 868.3458 - val_mae: 868.3458 - val_mse: 1937150.3750\n",
            "Epoch 70/100\n",
            "16/16 [==============================] - 0s 7ms/step - loss: 133.1421 - mae: 133.1421 - mse: 87458.1328 - val_loss: 860.4119 - val_mae: 860.4119 - val_mse: 1902094.3750\n",
            "INFO:tensorflow:Assets written to: model_experiments/model_1_dense/assets\n",
            "Epoch 71/100\n",
            "16/16 [==============================] - 0s 6ms/step - loss: 133.2474 - mae: 133.2474 - mse: 87029.8438 - val_loss: 884.0014 - val_mae: 884.0014 - val_mse: 1976998.3750\n",
            "Epoch 72/100\n",
            "16/16 [==============================] - 0s 6ms/step - loss: 137.5852 - mae: 137.5852 - mse: 88948.6719 - val_loss: 918.2342 - val_mae: 918.2342 - val_mse: 2006597.8750\n",
            "Epoch 73/100\n",
            "16/16 [==============================] - 0s 6ms/step - loss: 135.1031 - mae: 135.1031 - mse: 88466.6953 - val_loss: 906.4487 - val_mae: 906.4487 - val_mse: 1978470.1250\n",
            "Epoch 74/100\n",
            "16/16 [==============================] - 0s 6ms/step - loss: 137.9419 - mae: 137.9419 - mse: 90083.2266 - val_loss: 869.1929 - val_mae: 869.1929 - val_mse: 1937344.6250\n",
            "Epoch 75/100\n",
            "16/16 [==============================] - 0s 6ms/step - loss: 136.8669 - mae: 136.8669 - mse: 89489.6641 - val_loss: 871.1802 - val_mae: 871.1802 - val_mse: 1904958.5000\n",
            "Epoch 76/100\n",
            "16/16 [==============================] - 0s 5ms/step - loss: 133.0502 - mae: 133.0502 - mse: 86788.4141 - val_loss: 920.9956 - val_mae: 920.9956 - val_mse: 2078822.0000\n",
            "Epoch 77/100\n",
            "16/16 [==============================] - 0s 5ms/step - loss: 136.2055 - mae: 136.2055 - mse: 87164.8594 - val_loss: 858.0196 - val_mae: 858.0196 - val_mse: 1888859.3750\n",
            "INFO:tensorflow:Assets written to: model_experiments/model_1_dense/assets\n",
            "Epoch 78/100\n",
            "16/16 [==============================] - 0s 6ms/step - loss: 133.0286 - mae: 133.0286 - mse: 87133.3203 - val_loss: 927.1888 - val_mae: 927.1888 - val_mse: 2027350.3750\n",
            "Epoch 79/100\n",
            "16/16 [==============================] - 0s 6ms/step - loss: 136.4341 - mae: 136.4341 - mse: 88293.6719 - val_loss: 865.7190 - val_mae: 865.7190 - val_mse: 1893882.0000\n",
            "Epoch 80/100\n",
            "16/16 [==============================] - 0s 5ms/step - loss: 132.5829 - mae: 132.5829 - mse: 86858.6016 - val_loss: 856.3971 - val_mae: 856.3971 - val_mse: 1895733.6250\n",
            "INFO:tensorflow:Assets written to: model_experiments/model_1_dense/assets\n",
            "Epoch 81/100\n",
            "16/16 [==============================] - 0s 6ms/step - loss: 133.1305 - mae: 133.1305 - mse: 86409.8125 - val_loss: 903.2314 - val_mae: 903.2314 - val_mse: 2026711.7500\n",
            "Epoch 82/100\n",
            "16/16 [==============================] - 0s 7ms/step - loss: 134.6053 - mae: 134.6053 - mse: 88661.9922 - val_loss: 872.6580 - val_mae: 872.6580 - val_mse: 1903753.7500\n",
            "Epoch 83/100\n",
            "16/16 [==============================] - 0s 6ms/step - loss: 132.7115 - mae: 132.7115 - mse: 86370.7969 - val_loss: 926.8002 - val_mae: 926.8002 - val_mse: 2096133.6250\n",
            "Epoch 84/100\n",
            "16/16 [==============================] - 0s 7ms/step - loss: 140.2395 - mae: 140.2395 - mse: 93169.6328 - val_loss: 856.8499 - val_mae: 856.8499 - val_mse: 1897925.1250\n",
            "Epoch 85/100\n",
            "16/16 [==============================] - 0s 6ms/step - loss: 136.1331 - mae: 136.1331 - mse: 88218.4219 - val_loss: 861.9918 - val_mae: 861.9918 - val_mse: 1915179.0000\n",
            "Epoch 86/100\n",
            "16/16 [==============================] - 0s 7ms/step - loss: 139.2697 - mae: 139.2697 - mse: 91361.7266 - val_loss: 990.2527 - val_mae: 990.2527 - val_mse: 2193443.7500\n",
            "Epoch 87/100\n",
            "16/16 [==============================] - 0s 6ms/step - loss: 140.4183 - mae: 140.4183 - mse: 92808.7266 - val_loss: 854.9507 - val_mae: 854.9507 - val_mse: 1876625.8750\n",
            "INFO:tensorflow:Assets written to: model_experiments/model_1_dense/assets\n",
            "Epoch 88/100\n",
            "16/16 [==============================] - 0s 6ms/step - loss: 131.5412 - mae: 131.5412 - mse: 86686.2188 - val_loss: 853.6553 - val_mae: 853.6553 - val_mse: 1874582.5000\n",
            "INFO:tensorflow:Assets written to: model_experiments/model_1_dense/assets\n",
            "Epoch 89/100\n",
            "16/16 [==============================] - 0s 7ms/step - loss: 133.3101 - mae: 133.3101 - mse: 86460.1016 - val_loss: 859.0031 - val_mae: 859.0031 - val_mse: 1878285.6250\n",
            "Epoch 90/100\n",
            "16/16 [==============================] - 0s 6ms/step - loss: 132.0482 - mae: 132.0482 - mse: 85826.3984 - val_loss: 874.2397 - val_mae: 874.2397 - val_mse: 1902939.8750\n",
            "Epoch 91/100\n",
            "16/16 [==============================] - 0s 6ms/step - loss: 137.8584 - mae: 137.8584 - mse: 90643.4922 - val_loss: 853.8415 - val_mae: 853.8415 - val_mse: 1871183.3750\n",
            "Epoch 92/100\n",
            "16/16 [==============================] - 0s 6ms/step - loss: 134.7087 - mae: 134.7087 - mse: 87113.2109 - val_loss: 848.9885 - val_mae: 848.9885 - val_mse: 1872265.7500\n",
            "INFO:tensorflow:Assets written to: model_experiments/model_1_dense/assets\n",
            "Epoch 93/100\n",
            "16/16 [==============================] - 0s 6ms/step - loss: 138.8362 - mae: 138.8362 - mse: 90354.9766 - val_loss: 877.1144 - val_mae: 877.1144 - val_mse: 1907769.8750\n",
            "Epoch 94/100\n",
            "16/16 [==============================] - 0s 6ms/step - loss: 139.1847 - mae: 139.1847 - mse: 91310.5781 - val_loss: 850.6907 - val_mae: 850.6907 - val_mse: 1878282.7500\n",
            "Epoch 95/100\n",
            "16/16 [==============================] - 0s 6ms/step - loss: 131.4577 - mae: 131.4577 - mse: 85224.3516 - val_loss: 847.7500 - val_mae: 847.7500 - val_mse: 1866274.3750\n",
            "INFO:tensorflow:Assets written to: model_experiments/model_1_dense/assets\n",
            "Epoch 96/100\n",
            "16/16 [==============================] - 0s 5ms/step - loss: 133.6723 - mae: 133.6723 - mse: 87067.4141 - val_loss: 872.4835 - val_mae: 872.4835 - val_mse: 1944142.6250\n",
            "Epoch 97/100\n",
            "16/16 [==============================] - 0s 6ms/step - loss: 132.0073 - mae: 132.0073 - mse: 85531.9141 - val_loss: 860.0851 - val_mae: 860.0851 - val_mse: 1877136.6250\n",
            "Epoch 98/100\n",
            "16/16 [==============================] - 0s 5ms/step - loss: 132.3239 - mae: 132.3239 - mse: 85851.0859 - val_loss: 872.9306 - val_mae: 872.9306 - val_mse: 1944833.6250\n",
            "Epoch 99/100\n",
            "16/16 [==============================] - 0s 6ms/step - loss: 131.5289 - mae: 131.5289 - mse: 85440.4375 - val_loss: 893.6835 - val_mae: 893.6835 - val_mse: 1945145.6250\n",
            "Epoch 100/100\n",
            "16/16 [==============================] - 0s 5ms/step - loss: 135.8485 - mae: 135.8485 - mse: 87341.9922 - val_loss: 862.6014 - val_mae: 862.6014 - val_mse: 1915765.8750\n"
          ]
        },
        {
          "output_type": "execute_result",
          "data": {
            "text/plain": [
              "<keras.callbacks.History at 0x7fc4d80d7e90>"
            ]
          },
          "metadata": {},
          "execution_count": 49
        }
      ]
    },
    {
      "cell_type": "code",
      "metadata": {
        "colab": {
          "base_uri": "https://localhost:8080/"
        },
        "id": "VZxXVN6Jr6EE",
        "outputId": "4f10c0fc-75b4-402b-ef12-449adeb9fe8f"
      },
      "source": [
        "naive_results\n"
      ],
      "execution_count": 50,
      "outputs": [
        {
          "output_type": "execute_result",
          "data": {
            "text/plain": [
              "{'mae': 839.7061,\n",
              " 'mape': 2.6012962,\n",
              " 'mase': 0.9982083,\n",
              " 'mse': 1825811.4,\n",
              " 'rmse': 1351.2258}"
            ]
          },
          "metadata": {},
          "execution_count": 50
        }
      ]
    },
    {
      "cell_type": "code",
      "metadata": {
        "colab": {
          "base_uri": "https://localhost:8080/"
        },
        "id": "UY60ZDz1sNWx",
        "outputId": "b9ebf72c-f1b2-47c2-82e2-0ba4d58902db"
      },
      "source": [
        "# Evaluate model on test_data\n",
        "model_1.evaluate(test_windows, test_labels)"
      ],
      "execution_count": 51,
      "outputs": [
        {
          "output_type": "stream",
          "name": "stdout",
          "text": [
            "16/16 [==============================] - 0s 3ms/step - loss: 862.6014 - mae: 862.6014 - mse: 1915766.1250\n"
          ]
        },
        {
          "output_type": "execute_result",
          "data": {
            "text/plain": [
              "[862.6014404296875, 862.6014404296875, 1915766.125]"
            ]
          },
          "metadata": {},
          "execution_count": 51
        }
      ]
    },
    {
      "cell_type": "code",
      "metadata": {
        "colab": {
          "base_uri": "https://localhost:8080/"
        },
        "id": "7rv8iWzKssjI",
        "outputId": "0ccaac96-04d0-470a-d271-1b2badca43fd"
      },
      "source": [
        "# Load in saved best performing model_1 and evaluate it on test data\n",
        "model_1 = tf.keras.models.load_model(\"/content/model_experiments/model_1_dense\")\n",
        "model_1.evaluate(test_windows, test_labels)"
      ],
      "execution_count": 52,
      "outputs": [
        {
          "output_type": "stream",
          "name": "stdout",
          "text": [
            "16/16 [==============================] - 0s 3ms/step - loss: 847.7500 - mae: 847.7500 - mse: 1866274.5000\n"
          ]
        },
        {
          "output_type": "execute_result",
          "data": {
            "text/plain": [
              "[847.75, 847.75, 1866274.5]"
            ]
          },
          "metadata": {},
          "execution_count": 52
        }
      ]
    },
    {
      "cell_type": "markdown",
      "metadata": {
        "id": "pGV94gevtis_"
      },
      "source": [
        "## Making predictions with a model (on the test dataset)"
      ]
    },
    {
      "cell_type": "markdown",
      "metadata": {
        "id": "_aPllnRZuUGL"
      },
      "source": [
        "The function will:\n",
        "* Take in a train model\n",
        "* Take in some input data (same kind of data the model was trained on)\n",
        "* Pass the input data to the model's predict method\n",
        "* Return the predictions"
      ]
    },
    {
      "cell_type": "code",
      "metadata": {
        "id": "r_xktEsZuq8f"
      },
      "source": [
        "def make_preds(model, input_data):\n",
        "  \"\"\"\n",
        "  Uses model to make predictions on input_data\n",
        "  \"\"\"\n",
        "\n",
        "  preds = model.predict(input_data)\n",
        "  return tf.squeeze(preds) # return 1D array of preds"
      ],
      "execution_count": 53,
      "outputs": []
    },
    {
      "cell_type": "code",
      "metadata": {
        "colab": {
          "base_uri": "https://localhost:8080/"
        },
        "id": "bz6Vl4djvF4-",
        "outputId": "a70e8c62-b49a-4b1b-fbf0-9a63dd2cadce"
      },
      "source": [
        "# Make predictions using model_1 on the test dataset and view results\n",
        "model_1_preds = make_preds(model_1, test_windows)\n",
        "len(model_1_preds), model_1_preds[:10]"
      ],
      "execution_count": 54,
      "outputs": [
        {
          "output_type": "execute_result",
          "data": {
            "text/plain": [
              "(500, <tf.Tensor: shape=(10,), dtype=float32, numpy=\n",
              " array([8913.862, 8970.304, 8997.087, 8924.036, 8981.586, 9336.464,\n",
              "        9857.246, 9979.47 , 9716.319, 8954.357], dtype=float32)>)"
            ]
          },
          "metadata": {},
          "execution_count": 54
        }
      ]
    },
    {
      "cell_type": "code",
      "metadata": {
        "colab": {
          "base_uri": "https://localhost:8080/"
        },
        "id": "uFtEGGAOwM8E",
        "outputId": "14f42348-229a-4d86-e2ef-cf87e275ca75"
      },
      "source": [
        "tf.squeeze(test_labels).shape, model_1_preds.shape"
      ],
      "execution_count": 55,
      "outputs": [
        {
          "output_type": "execute_result",
          "data": {
            "text/plain": [
              "(TensorShape([500]), TensorShape([500]))"
            ]
          },
          "metadata": {},
          "execution_count": 55
        }
      ]
    },
    {
      "cell_type": "code",
      "metadata": {
        "id": "JZAjkOZvvx-w"
      },
      "source": [
        "# Evaluate preds\n",
        "model_1_results = evaluate_preds(y_true=tf.squeeze(test_labels),\n",
        "                                 y_pred=model_1_preds)"
      ],
      "execution_count": 56,
      "outputs": []
    },
    {
      "cell_type": "code",
      "metadata": {
        "colab": {
          "base_uri": "https://localhost:8080/"
        },
        "id": "f3GuycxQv4Dn",
        "outputId": "b4a64d28-60d5-44f5-9282-462f0d5b476a"
      },
      "source": [
        "model_1_results"
      ],
      "execution_count": 57,
      "outputs": [
        {
          "output_type": "execute_result",
          "data": {
            "text/plain": [
              "{'mae': 847.75,\n",
              " 'mape': 2.6257904,\n",
              " 'mase': 1.0060163,\n",
              " 'mse': 1866274.5,\n",
              " 'rmse': 1366.1166}"
            ]
          },
          "metadata": {},
          "execution_count": 57
        }
      ]
    },
    {
      "cell_type": "code",
      "metadata": {
        "colab": {
          "base_uri": "https://localhost:8080/"
        },
        "id": "UUGR1EIzwier",
        "outputId": "bf93e61c-e8ff-481d-f724-a06f8a29d901"
      },
      "source": [
        "naive_results"
      ],
      "execution_count": 58,
      "outputs": [
        {
          "output_type": "execute_result",
          "data": {
            "text/plain": [
              "{'mae': 839.7061,\n",
              " 'mape': 2.6012962,\n",
              " 'mase': 0.9982083,\n",
              " 'mse': 1825811.4,\n",
              " 'rmse': 1351.2258}"
            ]
          },
          "metadata": {},
          "execution_count": 58
        }
      ]
    },
    {
      "cell_type": "code",
      "metadata": {
        "colab": {
          "base_uri": "https://localhost:8080/",
          "height": 0
        },
        "id": "kx0aERVkwmAv",
        "outputId": "277a639e-5b54-41a3-ec1a-1b38aca45920"
      },
      "source": [
        "# Let's plot our model 1 predictions\n",
        "offset = 450\n",
        "plt.figure(figsize=(10,7))\n",
        "# Account for test_window offfset and index into test_labels\n",
        "plot_time_series(timesteps=X_test[-len(test_windows):],\n",
        "                 values=test_labels[:,0],\n",
        "                 start=offset,\n",
        "                 label=\"Test Data\")\n",
        "\n",
        "plot_time_series(timesteps=X_test[-len(test_windows):],\n",
        "                 values=model_1_preds,\n",
        "                 start=offset,\n",
        "                 format='-',\n",
        "                 label=\"Model_1_preds\")"
      ],
      "execution_count": 59,
      "outputs": [
        {
          "output_type": "display_data",
          "data": {
            "image/png": "[encoded data removed]",
            "text/plain": [
              "<Figure size 720x504 with 1 Axes>"
            ]
          },
          "metadata": {
            "needs_background": "light"
          }
        }
      ]
    },
    {
      "cell_type": "markdown",
      "metadata": {
        "id": "5ylxffwAxiMr"
      },
      "source": [
        "## Model 2: Dense, window size=30, horizon=1"
      ]
    },
    {
      "cell_type": "code",
      "metadata": {
        "id": "jiCdTKoy9YmC"
      },
      "source": [
        "HORIZON=1\n",
        "WINDOW_SIZE=30"
      ],
      "execution_count": 60,
      "outputs": []
    },
    {
      "cell_type": "code",
      "metadata": {
        "colab": {
          "base_uri": "https://localhost:8080/"
        },
        "id": "hL8ZGjDr5n_X",
        "outputId": "76358c8b-5272-4335-8544-aae0f74d6d2c"
      },
      "source": [
        "full_windows_30, full_labels_30 = make_windows(prices, window_size=WINDOW_SIZE, horizon=HORIZON)\n",
        "len(full_windows_30), len(full_labels_30)"
      ],
      "execution_count": 61,
      "outputs": [
        {
          "output_type": "execute_result",
          "data": {
            "text/plain": [
              "(2477, 2477)"
            ]
          },
          "metadata": {},
          "execution_count": 61
        }
      ]
    },
    {
      "cell_type": "code",
      "metadata": {
        "id": "s4k5YO_T6CEl"
      },
      "source": [
        "train_windows_30, test_windows_30, train_labels_30, test_labels_30 = make_train_test_splits(windows=full_windows_30, labels=full_labels_30)"
      ],
      "execution_count": 62,
      "outputs": []
    },
    {
      "cell_type": "code",
      "metadata": {
        "id": "T80rk5l75DSD"
      },
      "source": [
        "import tensorflow as tf\n",
        "from tensorflow.keras.layers import Dense\n",
        "\n",
        "# Set the random seed\n",
        "tf.random.set_seed(42)\n",
        "\n",
        "# Construct a model\n",
        "model_2 = tf.keras.Sequential([\n",
        "    Dense(128, activation=\"relu\"),\n",
        "    Dense(HORIZON, activation=\"linear\")\n",
        "], name=\"model_2_dense\" #will be used for model checkpoints\n",
        ")\n",
        "\n",
        "# Compile the model\n",
        "model_2.compile(loss='mae',\n",
        "                optimizer='adam',\n",
        "                metrics=['mae', 'mse'])"
      ],
      "execution_count": 63,
      "outputs": []
    },
    {
      "cell_type": "code",
      "metadata": {
        "colab": {
          "base_uri": "https://localhost:8080/"
        },
        "id": "OOVtFVjT5LQR",
        "outputId": "4fba94a0-7a19-4e49-95e2-7a97387113f0"
      },
      "source": [
        "# Fit the model\n",
        "model_2.fit(x=train_windows_30,\n",
        "            y=train_labels_30,\n",
        "            epochs=100,\n",
        "            verbose=1,\n",
        "            batch_size=128,\n",
        "            validation_data=(test_windows_30, test_labels_30),\n",
        "            callbacks=[create_model_checkpoint(model_name=model_2.name)])"
      ],
      "execution_count": 64,
      "outputs": [
        {
          "output_type": "stream",
          "name": "stdout",
          "text": [
            "Epoch 1/100\n",
            "16/16 [==============================] - 1s 18ms/step - loss: 1459.1575 - mae: 1459.1575 - mse: 6641819.0000 - val_loss: 6880.5132 - val_mae: 6880.5132 - val_mse: 75246192.0000\n",
            "INFO:tensorflow:Assets written to: model_experiments/model_2_dense/assets\n",
            "Epoch 2/100\n",
            "16/16 [==============================] - 0s 7ms/step - loss: 612.3636 - mae: 612.3636 - mse: 1293884.6250 - val_loss: 3214.6589 - val_mae: 3214.6589 - val_mse: 21816172.0000\n",
            "INFO:tensorflow:Assets written to: model_experiments/model_2_dense/assets\n",
            "Epoch 3/100\n",
            "16/16 [==============================] - 0s 5ms/step - loss: 405.6820 - mae: 405.6820 - mse: 623086.7500 - val_loss: 2198.3123 - val_mae: 2198.3123 - val_mse: 11344255.0000\n",
            "INFO:tensorflow:Assets written to: model_experiments/model_2_dense/assets\n",
            "Epoch 4/100\n",
            "16/16 [==============================] - 0s 6ms/step - loss: 313.1482 - mae: 313.1482 - mse: 386443.9062 - val_loss: 1926.0211 - val_mae: 1926.0211 - val_mse: 9024215.0000\n",
            "INFO:tensorflow:Assets written to: model_experiments/model_2_dense/assets\n",
            "Epoch 5/100\n",
            "16/16 [==============================] - 0s 6ms/step - loss: 276.7021 - mae: 276.7021 - mse: 299480.7500 - val_loss: 1812.4976 - val_mae: 1812.4976 - val_mse: 7179236.5000\n",
            "INFO:tensorflow:Assets written to: model_experiments/model_2_dense/assets\n",
            "Epoch 6/100\n",
            "16/16 [==============================] - 0s 5ms/step - loss: 261.3856 - mae: 261.3856 - mse: 255993.3594 - val_loss: 2077.5024 - val_mae: 2077.5024 - val_mse: 8331406.0000\n",
            "Epoch 7/100\n",
            "16/16 [==============================] - 0s 6ms/step - loss: 262.0554 - mae: 262.0554 - mse: 256977.2031 - val_loss: 1567.1091 - val_mae: 1567.1091 - val_mse: 6071563.5000\n",
            "INFO:tensorflow:Assets written to: model_experiments/model_2_dense/assets\n",
            "Epoch 8/100\n",
            "16/16 [==============================] - 0s 5ms/step - loss: 235.8726 - mae: 235.8726 - mse: 220001.5625 - val_loss: 1584.7485 - val_mae: 1584.7485 - val_mse: 5504028.0000\n",
            "Epoch 9/100\n",
            "16/16 [==============================] - 0s 6ms/step - loss: 223.8460 - mae: 223.8460 - mse: 205266.5781 - val_loss: 1482.6295 - val_mae: 1482.6295 - val_mse: 5111388.5000\n",
            "INFO:tensorflow:Assets written to: model_experiments/model_2_dense/assets\n",
            "Epoch 10/100\n",
            "16/16 [==============================] - 0s 5ms/step - loss: 215.3170 - mae: 215.3170 - mse: 190021.1250 - val_loss: 1618.3451 - val_mae: 1618.3451 - val_mse: 6361648.5000\n",
            "Epoch 11/100\n",
            "16/16 [==============================] - 0s 5ms/step - loss: 240.0824 - mae: 240.0824 - mse: 214570.3750 - val_loss: 1655.7087 - val_mae: 1655.7087 - val_mse: 5597155.5000\n",
            "Epoch 12/100\n",
            "16/16 [==============================] - 0s 6ms/step - loss: 224.1823 - mae: 224.1823 - mse: 191087.4844 - val_loss: 1656.1650 - val_mae: 1656.1650 - val_mse: 5596749.0000\n",
            "Epoch 13/100\n",
            "16/16 [==============================] - 0s 6ms/step - loss: 230.7803 - mae: 230.7803 - mse: 196105.3906 - val_loss: 1393.9548 - val_mae: 1393.9548 - val_mse: 4561849.0000\n",
            "INFO:tensorflow:Assets written to: model_experiments/model_2_dense/assets\n",
            "Epoch 14/100\n",
            "16/16 [==============================] - 0s 5ms/step - loss: 198.6091 - mae: 198.6091 - mse: 167263.2344 - val_loss: 1367.2191 - val_mae: 1367.2191 - val_mse: 4339835.5000\n",
            "INFO:tensorflow:Assets written to: model_experiments/model_2_dense/assets\n",
            "Epoch 15/100\n",
            "16/16 [==============================] - 0s 6ms/step - loss: 200.2864 - mae: 200.2864 - mse: 169247.4219 - val_loss: 1490.8689 - val_mae: 1490.8689 - val_mse: 5318055.0000\n",
            "Epoch 16/100\n",
            "16/16 [==============================] - 0s 7ms/step - loss: 213.2279 - mae: 213.2279 - mse: 176308.5625 - val_loss: 1489.5323 - val_mae: 1489.5323 - val_mse: 5302354.5000\n",
            "Epoch 17/100\n",
            "16/16 [==============================] - 0s 6ms/step - loss: 202.8423 - mae: 202.8423 - mse: 168105.9375 - val_loss: 1357.7438 - val_mae: 1357.7438 - val_mse: 4346927.5000\n",
            "INFO:tensorflow:Assets written to: model_experiments/model_2_dense/assets\n",
            "Epoch 18/100\n",
            "16/16 [==============================] - 0s 6ms/step - loss: 211.7081 - mae: 211.7081 - mse: 172280.4844 - val_loss: 1334.3903 - val_mae: 1334.3903 - val_mse: 4191520.0000\n",
            "INFO:tensorflow:Assets written to: model_experiments/model_2_dense/assets\n",
            "Epoch 19/100\n",
            "16/16 [==============================] - 0s 6ms/step - loss: 200.6462 - mae: 200.6462 - mse: 165299.5625 - val_loss: 1778.6913 - val_mae: 1778.6913 - val_mse: 6232372.5000\n",
            "Epoch 20/100\n",
            "16/16 [==============================] - 0s 5ms/step - loss: 232.7328 - mae: 232.7328 - mse: 189966.7969 - val_loss: 1390.5520 - val_mae: 1390.5520 - val_mse: 4593120.0000\n",
            "Epoch 21/100\n",
            "16/16 [==============================] - 0s 6ms/step - loss: 197.5859 - mae: 197.5859 - mse: 157802.5312 - val_loss: 1268.4438 - val_mae: 1268.4438 - val_mse: 3709134.0000\n",
            "INFO:tensorflow:Assets written to: model_experiments/model_2_dense/assets\n",
            "Epoch 22/100\n",
            "16/16 [==============================] - 0s 6ms/step - loss: 184.1444 - mae: 184.1444 - mse: 145351.7344 - val_loss: 1472.3790 - val_mae: 1472.3790 - val_mse: 4590213.0000\n",
            "Epoch 23/100\n",
            "16/16 [==============================] - 0s 6ms/step - loss: 192.8347 - mae: 192.8347 - mse: 150934.5938 - val_loss: 1254.1151 - val_mae: 1254.1151 - val_mse: 3588808.7500\n",
            "INFO:tensorflow:Assets written to: model_experiments/model_2_dense/assets\n",
            "Epoch 24/100\n",
            "16/16 [==============================] - 0s 5ms/step - loss: 184.7412 - mae: 184.7412 - mse: 144869.3125 - val_loss: 1345.5535 - val_mae: 1345.5535 - val_mse: 4326085.5000\n",
            "Epoch 25/100\n",
            "16/16 [==============================] - 0s 7ms/step - loss: 193.4797 - mae: 193.4797 - mse: 149136.0156 - val_loss: 1340.9131 - val_mae: 1340.9131 - val_mse: 4294369.0000\n",
            "Epoch 26/100\n",
            "16/16 [==============================] - 0s 6ms/step - loss: 201.9198 - mae: 201.9198 - mse: 161100.6875 - val_loss: 1206.0135 - val_mae: 1206.0135 - val_mse: 3387726.5000\n",
            "INFO:tensorflow:Assets written to: model_experiments/model_2_dense/assets\n",
            "Epoch 27/100\n",
            "16/16 [==============================] - 0s 5ms/step - loss: 192.8943 - mae: 192.8943 - mse: 149609.9375 - val_loss: 1390.6835 - val_mae: 1390.6835 - val_mse: 4103833.2500\n",
            "Epoch 28/100\n",
            "16/16 [==============================] - 0s 7ms/step - loss: 212.7328 - mae: 212.7328 - mse: 165104.7344 - val_loss: 1190.5690 - val_mae: 1190.5690 - val_mse: 3313595.7500\n",
            "INFO:tensorflow:Assets written to: model_experiments/model_2_dense/assets\n",
            "Epoch 29/100\n",
            "16/16 [==============================] - 0s 5ms/step - loss: 180.8418 - mae: 180.8418 - mse: 136549.7188 - val_loss: 1350.8369 - val_mae: 1350.8369 - val_mse: 3903788.5000\n",
            "Epoch 30/100\n",
            "16/16 [==============================] - 0s 5ms/step - loss: 203.1804 - mae: 203.1804 - mse: 159253.2188 - val_loss: 1423.5977 - val_mae: 1423.5977 - val_mse: 4215567.5000\n",
            "Epoch 31/100\n",
            "16/16 [==============================] - 0s 5ms/step - loss: 192.0403 - mae: 192.0403 - mse: 141968.9219 - val_loss: 1206.3665 - val_mae: 1206.3665 - val_mse: 3494967.2500\n",
            "Epoch 32/100\n",
            "16/16 [==============================] - 0s 5ms/step - loss: 189.9214 - mae: 189.9214 - mse: 145099.0000 - val_loss: 1582.1757 - val_mae: 1582.1757 - val_mse: 5607655.0000\n",
            "Epoch 33/100\n",
            "16/16 [==============================] - 0s 6ms/step - loss: 199.7742 - mae: 199.7742 - mse: 148795.3281 - val_loss: 1183.3054 - val_mae: 1183.3054 - val_mse: 3351800.5000\n",
            "INFO:tensorflow:Assets written to: model_experiments/model_2_dense/assets\n",
            "Epoch 34/100\n",
            "16/16 [==============================] - 0s 7ms/step - loss: 184.1295 - mae: 184.1295 - mse: 137852.6562 - val_loss: 1338.1764 - val_mae: 1338.1764 - val_mse: 4229265.5000\n",
            "Epoch 35/100\n",
            "16/16 [==============================] - 0s 6ms/step - loss: 200.8165 - mae: 200.8165 - mse: 147276.4062 - val_loss: 1235.1086 - val_mae: 1235.1086 - val_mse: 3358612.5000\n",
            "Epoch 36/100\n",
            "16/16 [==============================] - 0s 6ms/step - loss: 195.6018 - mae: 195.6018 - mse: 142532.7969 - val_loss: 1151.8757 - val_mae: 1151.8757 - val_mse: 3053446.2500\n",
            "INFO:tensorflow:Assets written to: model_experiments/model_2_dense/assets\n",
            "Epoch 37/100\n",
            "16/16 [==============================] - 0s 6ms/step - loss: 169.6768 - mae: 169.6768 - mse: 122969.2344 - val_loss: 1148.4167 - val_mae: 1148.4167 - val_mse: 3167448.2500\n",
            "INFO:tensorflow:Assets written to: model_experiments/model_2_dense/assets\n",
            "Epoch 38/100\n",
            "16/16 [==============================] - 0s 6ms/step - loss: 171.6894 - mae: 171.6894 - mse: 125588.5000 - val_loss: 1113.2810 - val_mae: 1113.2810 - val_mse: 2918269.0000\n",
            "INFO:tensorflow:Assets written to: model_experiments/model_2_dense/assets\n",
            "Epoch 39/100\n",
            "16/16 [==============================] - 0s 5ms/step - loss: 178.7732 - mae: 178.7732 - mse: 133928.0312 - val_loss: 1257.1932 - val_mae: 1257.1932 - val_mse: 3420900.7500\n",
            "Epoch 40/100\n",
            "16/16 [==============================] - 0s 5ms/step - loss: 199.8029 - mae: 199.8029 - mse: 151329.1406 - val_loss: 1098.8361 - val_mae: 1098.8361 - val_mse: 2866183.2500\n",
            "INFO:tensorflow:Assets written to: model_experiments/model_2_dense/assets\n",
            "Epoch 41/100\n",
            "16/16 [==============================] - 0s 7ms/step - loss: 176.0262 - mae: 176.0262 - mse: 124413.5938 - val_loss: 1113.6510 - val_mae: 1113.6510 - val_mse: 2873622.2500\n",
            "Epoch 42/100\n",
            "16/16 [==============================] - 0s 7ms/step - loss: 169.3430 - mae: 169.3430 - mse: 120665.1406 - val_loss: 1292.9259 - val_mae: 1292.9259 - val_mse: 3549371.2500\n",
            "Epoch 43/100\n",
            "16/16 [==============================] - 0s 7ms/step - loss: 185.2141 - mae: 185.2141 - mse: 136799.7344 - val_loss: 1148.5496 - val_mae: 1148.5496 - val_mse: 2968186.7500\n",
            "Epoch 44/100\n",
            "16/16 [==============================] - 0s 6ms/step - loss: 169.1900 - mae: 169.1900 - mse: 119608.0234 - val_loss: 1114.9014 - val_mae: 1114.9014 - val_mse: 2994792.5000\n",
            "Epoch 45/100\n",
            "16/16 [==============================] - 0s 6ms/step - loss: 169.9308 - mae: 169.9308 - mse: 119012.3906 - val_loss: 1099.5935 - val_mae: 1099.5935 - val_mse: 2913465.2500\n",
            "Epoch 46/100\n",
            "16/16 [==============================] - 0s 6ms/step - loss: 167.2469 - mae: 167.2469 - mse: 119441.0859 - val_loss: 1080.6217 - val_mae: 1080.6217 - val_mse: 2720787.2500\n",
            "INFO:tensorflow:Assets written to: model_experiments/model_2_dense/assets\n",
            "Epoch 47/100\n",
            "16/16 [==============================] - 0s 5ms/step - loss: 164.6838 - mae: 164.6838 - mse: 117827.1797 - val_loss: 1054.9310 - val_mae: 1054.9310 - val_mse: 2654384.0000\n",
            "INFO:tensorflow:Assets written to: model_experiments/model_2_dense/assets\n",
            "Epoch 48/100\n",
            "16/16 [==============================] - 0s 6ms/step - loss: 162.2783 - mae: 162.2783 - mse: 112612.0000 - val_loss: 1082.9463 - val_mae: 1082.9463 - val_mse: 2710602.0000\n",
            "Epoch 49/100\n",
            "16/16 [==============================] - 0s 6ms/step - loss: 182.3449 - mae: 182.3449 - mse: 129559.5156 - val_loss: 1241.0544 - val_mae: 1241.0544 - val_mse: 3308462.7500\n",
            "Epoch 50/100\n",
            "16/16 [==============================] - 0s 6ms/step - loss: 194.4820 - mae: 194.4820 - mse: 141510.5156 - val_loss: 1127.8806 - val_mae: 1127.8806 - val_mse: 2855911.5000\n",
            "Epoch 51/100\n",
            "16/16 [==============================] - 0s 7ms/step - loss: 172.9099 - mae: 172.9099 - mse: 121669.3359 - val_loss: 1119.0396 - val_mae: 1119.0396 - val_mse: 2824463.7500\n",
            "Epoch 52/100\n",
            "16/16 [==============================] - 0s 6ms/step - loss: 182.9540 - mae: 182.9540 - mse: 127147.7891 - val_loss: 1033.4973 - val_mae: 1033.4973 - val_mse: 2549621.7500\n",
            "INFO:tensorflow:Assets written to: model_experiments/model_2_dense/assets\n",
            "Epoch 53/100\n",
            "16/16 [==============================] - 0s 6ms/step - loss: 170.7756 - mae: 170.7756 - mse: 121292.1016 - val_loss: 1119.8551 - val_mae: 1119.8551 - val_mse: 3012828.7500\n",
            "Epoch 54/100\n",
            "16/16 [==============================] - 0s 5ms/step - loss: 161.5477 - mae: 161.5477 - mse: 112419.4141 - val_loss: 1118.6390 - val_mae: 1118.6390 - val_mse: 2799312.5000\n",
            "Epoch 55/100\n",
            "16/16 [==============================] - 0s 7ms/step - loss: 171.5653 - mae: 171.5653 - mse: 120382.1172 - val_loss: 1111.1086 - val_mae: 1111.1086 - val_mse: 2772039.2500\n",
            "Epoch 56/100\n",
            "16/16 [==============================] - 0s 5ms/step - loss: 160.9386 - mae: 160.9386 - mse: 108779.5391 - val_loss: 1128.5267 - val_mae: 1128.5267 - val_mse: 3038599.2500\n",
            "Epoch 57/100\n",
            "16/16 [==============================] - 0s 6ms/step - loss: 161.2644 - mae: 161.2644 - mse: 111416.4688 - val_loss: 1040.5491 - val_mae: 1040.5491 - val_mse: 2622665.0000\n",
            "Epoch 58/100\n",
            "16/16 [==============================] - 0s 5ms/step - loss: 165.6863 - mae: 165.6863 - mse: 115005.7188 - val_loss: 1033.2220 - val_mae: 1033.2220 - val_mse: 2585404.7500\n",
            "INFO:tensorflow:Assets written to: model_experiments/model_2_dense/assets\n",
            "Epoch 59/100\n",
            "16/16 [==============================] - 0s 6ms/step - loss: 155.7299 - mae: 155.7299 - mse: 105234.8594 - val_loss: 1000.7358 - val_mae: 1000.7358 - val_mse: 2403291.2500\n",
            "INFO:tensorflow:Assets written to: model_experiments/model_2_dense/assets\n",
            "Epoch 60/100\n",
            "16/16 [==============================] - 0s 5ms/step - loss: 158.3308 - mae: 158.3308 - mse: 106167.0234 - val_loss: 1426.3312 - val_mae: 1426.3312 - val_mse: 4420107.5000\n",
            "Epoch 61/100\n",
            "16/16 [==============================] - 0s 6ms/step - loss: 200.8891 - mae: 200.8891 - mse: 146983.0469 - val_loss: 1111.9113 - val_mae: 1111.9113 - val_mse: 2941591.5000\n",
            "Epoch 62/100\n",
            "16/16 [==============================] - 0s 6ms/step - loss: 158.0897 - mae: 158.0897 - mse: 107577.9453 - val_loss: 990.7377 - val_mae: 990.7377 - val_mse: 2371154.0000\n",
            "INFO:tensorflow:Assets written to: model_experiments/model_2_dense/assets\n",
            "Epoch 63/100\n",
            "16/16 [==============================] - 0s 7ms/step - loss: 157.7154 - mae: 157.7154 - mse: 108655.3828 - val_loss: 1020.5182 - val_mae: 1020.5182 - val_mse: 2438024.0000\n",
            "Epoch 64/100\n",
            "16/16 [==============================] - 0s 7ms/step - loss: 163.1909 - mae: 163.1909 - mse: 113115.5703 - val_loss: 1079.5604 - val_mae: 1079.5604 - val_mse: 2615875.5000\n",
            "Epoch 65/100\n",
            "16/16 [==============================] - 0s 6ms/step - loss: 185.0617 - mae: 185.0617 - mse: 126493.2656 - val_loss: 1008.9039 - val_mae: 1008.9039 - val_mse: 2477869.5000\n",
            "Epoch 66/100\n",
            "16/16 [==============================] - 0s 6ms/step - loss: 172.9186 - mae: 172.9186 - mse: 115742.8828 - val_loss: 986.5880 - val_mae: 986.5880 - val_mse: 2376348.5000\n",
            "INFO:tensorflow:Assets written to: model_experiments/model_2_dense/assets\n",
            "Epoch 67/100\n",
            "16/16 [==============================] - 0s 5ms/step - loss: 156.9268 - mae: 156.9268 - mse: 105599.0391 - val_loss: 1024.1476 - val_mae: 1024.1476 - val_mse: 2442741.7500\n",
            "Epoch 68/100\n",
            "16/16 [==============================] - 0s 6ms/step - loss: 156.3391 - mae: 156.3391 - mse: 101832.5547 - val_loss: 999.1226 - val_mae: 999.1226 - val_mse: 2445554.0000\n",
            "Epoch 69/100\n",
            "16/16 [==============================] - 0s 5ms/step - loss: 156.4677 - mae: 156.4677 - mse: 101448.6172 - val_loss: 988.4636 - val_mae: 988.4636 - val_mse: 2327173.2500\n",
            "Epoch 70/100\n",
            "16/16 [==============================] - 0s 5ms/step - loss: 157.6081 - mae: 157.6081 - mse: 106815.5156 - val_loss: 1002.2239 - val_mae: 1002.2239 - val_mse: 2364297.7500\n",
            "Epoch 71/100\n",
            "16/16 [==============================] - 0s 6ms/step - loss: 152.1535 - mae: 152.1535 - mse: 101674.3672 - val_loss: 1264.3226 - val_mae: 1264.3226 - val_mse: 3315160.0000\n",
            "Epoch 72/100\n",
            "16/16 [==============================] - 0s 6ms/step - loss: 162.3752 - mae: 162.3752 - mse: 110694.1484 - val_loss: 1081.6564 - val_mae: 1081.6564 - val_mse: 2758880.5000\n",
            "Epoch 73/100\n",
            "16/16 [==============================] - 0s 7ms/step - loss: 158.9935 - mae: 158.9935 - mse: 104637.4062 - val_loss: 1078.0253 - val_mae: 1078.0253 - val_mse: 2739798.2500\n",
            "Epoch 74/100\n",
            "16/16 [==============================] - 0s 5ms/step - loss: 154.7079 - mae: 154.7079 - mse: 104657.1016 - val_loss: 967.8602 - val_mae: 967.8602 - val_mse: 2236937.7500\n",
            "INFO:tensorflow:Assets written to: model_experiments/model_2_dense/assets\n",
            "Epoch 75/100\n",
            "16/16 [==============================] - 0s 5ms/step - loss: 148.7581 - mae: 148.7581 - mse: 98520.7344 - val_loss: 954.7681 - val_mae: 954.7681 - val_mse: 2201634.5000\n",
            "INFO:tensorflow:Assets written to: model_experiments/model_2_dense/assets\n",
            "Epoch 76/100\n",
            "16/16 [==============================] - 0s 7ms/step - loss: 157.4927 - mae: 157.4927 - mse: 106783.7109 - val_loss: 980.1168 - val_mae: 980.1168 - val_mse: 2269700.7500\n",
            "Epoch 77/100\n",
            "16/16 [==============================] - 0s 6ms/step - loss: 158.9381 - mae: 158.9381 - mse: 105400.9062 - val_loss: 945.5197 - val_mae: 945.5197 - val_mse: 2180694.5000\n",
            "INFO:tensorflow:Assets written to: model_experiments/model_2_dense/assets\n",
            "Epoch 78/100\n",
            "16/16 [==============================] - 0s 5ms/step - loss: 152.5051 - mae: 152.5051 - mse: 100440.1172 - val_loss: 953.2138 - val_mae: 953.2138 - val_mse: 2187292.7500\n",
            "Epoch 79/100\n",
            "16/16 [==============================] - 0s 6ms/step - loss: 151.9279 - mae: 151.9279 - mse: 98759.6328 - val_loss: 982.3591 - val_mae: 982.3591 - val_mse: 2272148.5000\n",
            "Epoch 80/100\n",
            "16/16 [==============================] - 0s 7ms/step - loss: 158.2468 - mae: 158.2468 - mse: 105556.5781 - val_loss: 979.7012 - val_mae: 979.7012 - val_mse: 2268332.5000\n",
            "Epoch 81/100\n",
            "16/16 [==============================] - 0s 6ms/step - loss: 151.3645 - mae: 151.3645 - mse: 100232.1719 - val_loss: 959.5226 - val_mae: 959.5226 - val_mse: 2262205.0000\n",
            "Epoch 82/100\n",
            "16/16 [==============================] - 0s 6ms/step - loss: 165.9024 - mae: 165.9024 - mse: 108035.8984 - val_loss: 1249.9518 - val_mae: 1249.9518 - val_mse: 3251709.0000\n",
            "Epoch 83/100\n",
            "16/16 [==============================] - 0s 6ms/step - loss: 167.7249 - mae: 167.7249 - mse: 113250.3047 - val_loss: 1030.7020 - val_mae: 1030.7020 - val_mse: 2407990.2500\n",
            "Epoch 84/100\n",
            "16/16 [==============================] - 0s 6ms/step - loss: 157.8965 - mae: 157.8965 - mse: 105135.7266 - val_loss: 953.4175 - val_mae: 953.4175 - val_mse: 2174074.2500\n",
            "Epoch 85/100\n",
            "16/16 [==============================] - 0s 6ms/step - loss: 147.0436 - mae: 147.0436 - mse: 96758.8750 - val_loss: 1087.0653 - val_mae: 1087.0653 - val_mse: 2741481.2500\n",
            "Epoch 86/100\n",
            "16/16 [==============================] - 0s 6ms/step - loss: 149.7007 - mae: 149.7007 - mse: 97517.1562 - val_loss: 945.1252 - val_mae: 945.1252 - val_mse: 2202035.0000\n",
            "INFO:tensorflow:Assets written to: model_experiments/model_2_dense/assets\n",
            "Epoch 87/100\n",
            "16/16 [==============================] - 0s 6ms/step - loss: 147.4271 - mae: 147.4271 - mse: 97255.8047 - val_loss: 1119.8309 - val_mae: 1119.8309 - val_mse: 2731765.2500\n",
            "Epoch 88/100\n",
            "16/16 [==============================] - 0s 6ms/step - loss: 163.3068 - mae: 163.3068 - mse: 105260.6406 - val_loss: 935.3835 - val_mae: 935.3835 - val_mse: 2157449.7500\n",
            "INFO:tensorflow:Assets written to: model_experiments/model_2_dense/assets\n",
            "Epoch 89/100\n",
            "16/16 [==============================] - 0s 7ms/step - loss: 150.1112 - mae: 150.1112 - mse: 99023.8359 - val_loss: 1065.3204 - val_mae: 1065.3204 - val_mse: 2533023.0000\n",
            "Epoch 90/100\n",
            "16/16 [==============================] - 0s 6ms/step - loss: 154.5958 - mae: 154.5958 - mse: 101773.0781 - val_loss: 933.6094 - val_mae: 933.6094 - val_mse: 2150318.5000\n",
            "INFO:tensorflow:Assets written to: model_experiments/model_2_dense/assets\n",
            "Epoch 91/100\n",
            "16/16 [==============================] - 0s 6ms/step - loss: 156.3164 - mae: 156.3164 - mse: 104728.8750 - val_loss: 928.7480 - val_mae: 928.7480 - val_mse: 2106734.0000\n",
            "INFO:tensorflow:Assets written to: model_experiments/model_2_dense/assets\n",
            "Epoch 92/100\n",
            "16/16 [==============================] - 0s 6ms/step - loss: 149.7363 - mae: 149.7363 - mse: 97609.1172 - val_loss: 1080.5793 - val_mae: 1080.5793 - val_mse: 2575722.2500\n",
            "Epoch 93/100\n",
            "16/16 [==============================] - 0s 5ms/step - loss: 152.5900 - mae: 152.5900 - mse: 98757.4453 - val_loss: 1035.5254 - val_mae: 1035.5254 - val_mse: 2526535.5000\n",
            "Epoch 94/100\n",
            "16/16 [==============================] - 0s 5ms/step - loss: 147.8696 - mae: 147.8696 - mse: 97561.2812 - val_loss: 944.5265 - val_mae: 944.5265 - val_mse: 2198095.5000\n",
            "Epoch 95/100\n",
            "16/16 [==============================] - 0s 6ms/step - loss: 160.9173 - mae: 160.9173 - mse: 103442.3203 - val_loss: 1106.2369 - val_mae: 1106.2369 - val_mse: 2800879.0000\n",
            "Epoch 96/100\n",
            "16/16 [==============================] - 0s 6ms/step - loss: 185.5568 - mae: 185.5568 - mse: 126104.0078 - val_loss: 1118.5100 - val_mae: 1118.5100 - val_mse: 2850467.5000\n",
            "Epoch 97/100\n",
            "16/16 [==============================] - 0s 5ms/step - loss: 177.0078 - mae: 177.0078 - mse: 110688.0078 - val_loss: 1031.5177 - val_mae: 1031.5177 - val_mse: 2509842.5000\n",
            "Epoch 98/100\n",
            "16/16 [==============================] - 0s 6ms/step - loss: 162.1115 - mae: 162.1115 - mse: 109235.7812 - val_loss: 1092.7521 - val_mae: 1092.7521 - val_mse: 2602683.0000\n",
            "Epoch 99/100\n",
            "16/16 [==============================] - 0s 6ms/step - loss: 149.3263 - mae: 149.3263 - mse: 96352.0391 - val_loss: 952.2960 - val_mae: 952.2960 - val_mse: 2158859.0000\n",
            "Epoch 100/100\n",
            "16/16 [==============================] - 0s 6ms/step - loss: 150.0075 - mae: 150.0075 - mse: 95062.1562 - val_loss: 1199.9861 - val_mae: 1199.9861 - val_mse: 3037500.2500\n"
          ]
        },
        {
          "output_type": "execute_result",
          "data": {
            "text/plain": [
              "<keras.callbacks.History at 0x7fc4d499e6d0>"
            ]
          },
          "metadata": {},
          "execution_count": 64
        }
      ]
    },
    {
      "cell_type": "code",
      "metadata": {
        "colab": {
          "base_uri": "https://localhost:8080/"
        },
        "id": "F2llSikV63UY",
        "outputId": "73926087-2b32-462e-e100-fdc8d83d3b12"
      },
      "source": [
        "# Load in saved best performing model_1 and evaluate it on test data\n",
        "model_2 = tf.keras.models.load_model(\"/content/model_experiments/model_2_dense\")\n",
        "model_2.evaluate(test_windows_30, test_labels_30)"
      ],
      "execution_count": 65,
      "outputs": [
        {
          "output_type": "stream",
          "name": "stdout",
          "text": [
            "16/16 [==============================] - 0s 3ms/step - loss: 928.7479 - mae: 928.7479 - mse: 2106734.0000\n"
          ]
        },
        {
          "output_type": "execute_result",
          "data": {
            "text/plain": [
              "[928.7478637695312, 928.7478637695312, 2106734.0]"
            ]
          },
          "metadata": {},
          "execution_count": 65
        }
      ]
    },
    {
      "cell_type": "code",
      "metadata": {
        "colab": {
          "base_uri": "https://localhost:8080/"
        },
        "id": "g2QMv7ud6VC2",
        "outputId": "15ef74cf-89a4-4d14-e475-d530faf9a96e"
      },
      "source": [
        "# Make predictions using model_1 on the test dataset and view results\n",
        "model_2_preds = make_preds(model_2, test_windows_30)\n",
        "len(model_2_preds), model_2_preds[:10]"
      ],
      "execution_count": 66,
      "outputs": [
        {
          "output_type": "execute_result",
          "data": {
            "text/plain": [
              "(496, <tf.Tensor: shape=(10,), dtype=float32, numpy=\n",
              " array([ 8996.616 ,  9224.706 ,  9754.137 , 10061.2705,  9754.518 ,\n",
              "         9178.939 ,  8793.649 ,  8646.161 ,  9164.616 ,  9480.706 ],\n",
              "       dtype=float32)>)"
            ]
          },
          "metadata": {},
          "execution_count": 66
        }
      ]
    },
    {
      "cell_type": "code",
      "metadata": {
        "id": "46d9zRmT6hQb"
      },
      "source": [
        "# Evaluate preds\n",
        "model_2_results = evaluate_preds(y_true=tf.squeeze(test_labels_30),\n",
        "                                 y_pred=model_2_preds)"
      ],
      "execution_count": 67,
      "outputs": []
    },
    {
      "cell_type": "code",
      "metadata": {
        "colab": {
          "base_uri": "https://localhost:8080/"
        },
        "id": "iYmY6wRX6rsc",
        "outputId": "1d65ddbb-1a27-4660-d5a7-c6f5830d164a"
      },
      "source": [
        "model_2_results"
      ],
      "execution_count": 68,
      "outputs": [
        {
          "output_type": "execute_result",
          "data": {
            "text/plain": [
              "{'mae': 928.74786,\n",
              " 'mape': 2.866443,\n",
              " 'mase': 1.0947583,\n",
              " 'mse': 2106734.0,\n",
              " 'rmse': 1451.4592}"
            ]
          },
          "metadata": {},
          "execution_count": 68
        }
      ]
    },
    {
      "cell_type": "code",
      "metadata": {
        "colab": {
          "base_uri": "https://localhost:8080/"
        },
        "id": "uFeoK2Tb6xjs",
        "outputId": "f9f37ee3-6dbd-4f87-a2b0-70bb5326bc03"
      },
      "source": [
        "naive_results"
      ],
      "execution_count": 69,
      "outputs": [
        {
          "output_type": "execute_result",
          "data": {
            "text/plain": [
              "{'mae': 839.7061,\n",
              " 'mape': 2.6012962,\n",
              " 'mase': 0.9982083,\n",
              " 'mse': 1825811.4,\n",
              " 'rmse': 1351.2258}"
            ]
          },
          "metadata": {},
          "execution_count": 69
        }
      ]
    },
    {
      "cell_type": "code",
      "metadata": {
        "colab": {
          "base_uri": "https://localhost:8080/"
        },
        "id": "IVsqxShK_DxR",
        "outputId": "872f0ec8-3d39-46f1-ee78-e3c622cb5cd1"
      },
      "source": [
        "model_1_results"
      ],
      "execution_count": 70,
      "outputs": [
        {
          "output_type": "execute_result",
          "data": {
            "text/plain": [
              "{'mae': 847.75,\n",
              " 'mape': 2.6257904,\n",
              " 'mase': 1.0060163,\n",
              " 'mse': 1866274.5,\n",
              " 'rmse': 1366.1166}"
            ]
          },
          "metadata": {},
          "execution_count": 70
        }
      ]
    },
    {
      "cell_type": "code",
      "metadata": {
        "colab": {
          "base_uri": "https://localhost:8080/",
          "height": 0
        },
        "id": "zPGYNkTD7B2y",
        "outputId": "4cc2d0e1-a136-463e-dfe9-68e08bfda72a"
      },
      "source": [
        "# Let's plot our model 1 predictions\n",
        "offset = 300\n",
        "plt.figure(figsize=(10,7))\n",
        "# Account for test_window offfset and index into test_labels\n",
        "plot_time_series(timesteps=X_test[-len(test_windows_30):],\n",
        "                 values=test_labels_30[:,0],\n",
        "                 start=offset,\n",
        "                 label=\"Test Data\")\n",
        "\n",
        "plot_time_series(timesteps=X_test[-len(test_windows_30):],\n",
        "                 values=model_2_preds,\n",
        "                 start=offset,\n",
        "                 format='-',\n",
        "                 label=\"Model_2_preds\")"
      ],
      "execution_count": 71,
      "outputs": [
        {
          "output_type": "display_data",
          "data": {
            "image/png": "[encoded data removed]",
            "text/plain": [
              "<Figure size 720x504 with 1 Axes>"
            ]
          },
          "metadata": {
            "needs_background": "light"
          }
        }
      ]
    },
    {
      "cell_type": "markdown",
      "metadata": {
        "id": "z36hZgPy7QhV"
      },
      "source": [
        "## Model 3: Dense, window_size=30, horizon=7"
      ]
    },
    {
      "cell_type": "code",
      "metadata": {
        "id": "NLKnNlx1AGJP"
      },
      "source": [
        "HORIZON=7\n",
        "WINDOW_SIZE=30"
      ],
      "execution_count": 72,
      "outputs": []
    },
    {
      "cell_type": "code",
      "metadata": {
        "colab": {
          "base_uri": "https://localhost:8080/"
        },
        "id": "Yv-_MZvTAHnu",
        "outputId": "5689acd2-989c-4ca5-8397-7a02f4730ff7"
      },
      "source": [
        "full_windows_30_7, full_labels_30_7 = make_windows(prices, window_size=WINDOW_SIZE, horizon=HORIZON)\n",
        "len(full_windows_30_7), len(full_labels_30_7)"
      ],
      "execution_count": 73,
      "outputs": [
        {
          "output_type": "execute_result",
          "data": {
            "text/plain": [
              "(2471, 2471)"
            ]
          },
          "metadata": {},
          "execution_count": 73
        }
      ]
    },
    {
      "cell_type": "code",
      "metadata": {
        "id": "vb0bziZFAP7i"
      },
      "source": [
        "train_windows_30_7, test_windows_30_7, train_labels_30_7, test_labels_30_7 = make_train_test_splits(windows=full_windows_30_7, labels=full_labels_30_7)"
      ],
      "execution_count": 74,
      "outputs": []
    },
    {
      "cell_type": "code",
      "metadata": {
        "id": "EfRWH_jmAZ_1"
      },
      "source": [
        "import tensorflow as tf\n",
        "from tensorflow.keras.layers import Dense\n",
        "\n",
        "# Set the random seed\n",
        "tf.random.set_seed(42)\n",
        "\n",
        "# Construct a model\n",
        "model_3 = tf.keras.Sequential([\n",
        "    Dense(128, activation=\"relu\"),\n",
        "    Dense(HORIZON, activation=\"linear\")\n",
        "], name=\"model_3_dense\" #will be used for model checkpoints\n",
        ")\n",
        "\n",
        "# Compile the model\n",
        "model_3.compile(loss='mae',\n",
        "                optimizer='adam',\n",
        "                metrics=['mae', 'mse'])"
      ],
      "execution_count": 75,
      "outputs": []
    },
    {
      "cell_type": "code",
      "metadata": {
        "colab": {
          "base_uri": "https://localhost:8080/"
        },
        "id": "P04NBxVyAgo8",
        "outputId": "81ff66c5-6294-4b3e-edf1-3e552a35df65"
      },
      "source": [
        "# Fit the model\n",
        "model_3.fit(x=train_windows_30_7,\n",
        "            y=train_labels_30_7,\n",
        "            epochs=100,\n",
        "            verbose=0,\n",
        "            batch_size=128,\n",
        "            validation_data=(test_windows_30_7, test_labels_30_7),\n",
        "            callbacks=[create_model_checkpoint(model_name=model_3.name)])"
      ],
      "execution_count": 76,
      "outputs": [
        {
          "output_type": "stream",
          "name": "stdout",
          "text": [
            "INFO:tensorflow:Assets written to: model_experiments/model_3_dense/assets\n",
            "INFO:tensorflow:Assets written to: model_experiments/model_3_dense/assets\n",
            "INFO:tensorflow:Assets written to: model_experiments/model_3_dense/assets\n",
            "INFO:tensorflow:Assets written to: model_experiments/model_3_dense/assets\n",
            "INFO:tensorflow:Assets written to: model_experiments/model_3_dense/assets\n",
            "INFO:tensorflow:Assets written to: model_experiments/model_3_dense/assets\n",
            "INFO:tensorflow:Assets written to: model_experiments/model_3_dense/assets\n",
            "INFO:tensorflow:Assets written to: model_experiments/model_3_dense/assets\n",
            "INFO:tensorflow:Assets written to: model_experiments/model_3_dense/assets\n",
            "INFO:tensorflow:Assets written to: model_experiments/model_3_dense/assets\n",
            "INFO:tensorflow:Assets written to: model_experiments/model_3_dense/assets\n",
            "INFO:tensorflow:Assets written to: model_experiments/model_3_dense/assets\n",
            "INFO:tensorflow:Assets written to: model_experiments/model_3_dense/assets\n",
            "INFO:tensorflow:Assets written to: model_experiments/model_3_dense/assets\n",
            "INFO:tensorflow:Assets written to: model_experiments/model_3_dense/assets\n",
            "INFO:tensorflow:Assets written to: model_experiments/model_3_dense/assets\n",
            "INFO:tensorflow:Assets written to: model_experiments/model_3_dense/assets\n",
            "INFO:tensorflow:Assets written to: model_experiments/model_3_dense/assets\n",
            "INFO:tensorflow:Assets written to: model_experiments/model_3_dense/assets\n",
            "INFO:tensorflow:Assets written to: model_experiments/model_3_dense/assets\n",
            "INFO:tensorflow:Assets written to: model_experiments/model_3_dense/assets\n",
            "INFO:tensorflow:Assets written to: model_experiments/model_3_dense/assets\n",
            "INFO:tensorflow:Assets written to: model_experiments/model_3_dense/assets\n",
            "INFO:tensorflow:Assets written to: model_experiments/model_3_dense/assets\n",
            "INFO:tensorflow:Assets written to: model_experiments/model_3_dense/assets\n",
            "INFO:tensorflow:Assets written to: model_experiments/model_3_dense/assets\n",
            "INFO:tensorflow:Assets written to: model_experiments/model_3_dense/assets\n",
            "INFO:tensorflow:Assets written to: model_experiments/model_3_dense/assets\n",
            "INFO:tensorflow:Assets written to: model_experiments/model_3_dense/assets\n",
            "INFO:tensorflow:Assets written to: model_experiments/model_3_dense/assets\n"
          ]
        },
        {
          "output_type": "execute_result",
          "data": {
            "text/plain": [
              "<keras.callbacks.History at 0x7fc4d551ec90>"
            ]
          },
          "metadata": {},
          "execution_count": 76
        }
      ]
    },
    {
      "cell_type": "code",
      "metadata": {
        "colab": {
          "base_uri": "https://localhost:8080/"
        },
        "id": "sbqZWnWIAsr5",
        "outputId": "a753fe29-0d8f-4756-dcff-d05c24ba325c"
      },
      "source": [
        "# Load in saved best performing model_3 and evaluate it on test data\n",
        "model_3 = tf.keras.models.load_model(\"/content/model_experiments/model_3_dense\")\n",
        "model_3.evaluate(test_windows_30_7, test_labels_30_7)"
      ],
      "execution_count": 77,
      "outputs": [
        {
          "output_type": "stream",
          "name": "stdout",
          "text": [
            "16/16 [==============================] - 0s 3ms/step - loss: 1842.0383 - mae: 1842.0383 - mse: 8812745.0000\n"
          ]
        },
        {
          "output_type": "execute_result",
          "data": {
            "text/plain": [
              "[1842.038330078125, 1842.038330078125, 8812745.0]"
            ]
          },
          "metadata": {},
          "execution_count": 77
        }
      ]
    },
    {
      "cell_type": "code",
      "metadata": {
        "colab": {
          "base_uri": "https://localhost:8080/"
        },
        "id": "USrqb5MeA2ih",
        "outputId": "1afb5379-7075-4461-d33d-5d8d6ae08cf2"
      },
      "source": [
        "# Make predictions using model_3 on the test dataset and view results\n",
        "model_3_preds = make_preds(model_3, test_windows_30_7)\n",
        "len(model_3_preds), model_3_preds[:5]"
      ],
      "execution_count": 78,
      "outputs": [
        {
          "output_type": "execute_result",
          "data": {
            "text/plain": [
              "(495, <tf.Tensor: shape=(5, 7), dtype=float32, numpy=\n",
              " array([[8783.843 , 8634.9795, 8662.284 , 8795.562 , 8889.498 , 8913.577 ,\n",
              "         8709.874 ],\n",
              "        [8885.151 , 8930.371 , 8816.978 , 8933.819 , 9116.969 , 8947.747 ,\n",
              "         8956.968 ],\n",
              "        [9144.671 , 9125.226 , 9052.337 , 9303.366 , 9189.991 , 9101.253 ,\n",
              "         9287.626 ],\n",
              "        [9012.313 , 9141.583 , 8988.527 , 9240.4795, 9150.039 , 9063.119 ,\n",
              "         9191.006 ],\n",
              "        [9072.184 , 9125.697 , 9022.705 , 9231.741 , 9411.401 , 9131.012 ,\n",
              "         9207.432 ]], dtype=float32)>)"
            ]
          },
          "metadata": {},
          "execution_count": 78
        }
      ]
    },
    {
      "cell_type": "code",
      "metadata": {
        "id": "VI-E_7P2A_Nk"
      },
      "source": [
        "# Evaluate preds\n",
        "model_3_results = evaluate_preds(y_true=tf.squeeze(test_labels_30_7),\n",
        "                                 y_pred=model_3_preds)"
      ],
      "execution_count": 79,
      "outputs": []
    },
    {
      "cell_type": "code",
      "metadata": {
        "id": "I0wLh6Y1IP-M",
        "colab": {
          "base_uri": "https://localhost:8080/"
        },
        "outputId": "3e368673-a9f8-4c37-fb55-c592686498de"
      },
      "source": [
        "model_3_preds.shape, model_2_preds.shape"
      ],
      "execution_count": 80,
      "outputs": [
        {
          "output_type": "execute_result",
          "data": {
            "text/plain": [
              "(TensorShape([495, 7]), TensorShape([496]))"
            ]
          },
          "metadata": {},
          "execution_count": 80
        }
      ]
    },
    {
      "cell_type": "markdown",
      "metadata": {
        "id": "cGa99fmK1lDc"
      },
      "source": [
        "### Make evaluation function work for larger horizons"
      ]
    },
    {
      "cell_type": "code",
      "metadata": {
        "id": "hiWyKgOY2Fnq"
      },
      "source": [
        "def evaluate_preds(y_true, y_pred):\n",
        "  # Make sure float32 dtype (for metric calculations)\n",
        "  y_true = tf.cast(y_true, dtype=tf.float32)\n",
        "  y_pred = tf.cast(y_pred, dtype=tf.float32)\n",
        "\n",
        "  # Calculate various evaluation metrics\n",
        "  mae = tf.keras.metrics.mean_absolute_error(y_true, y_pred)\n",
        "  mse = tf.keras.metrics.mean_squared_error(y_true, y_pred)\n",
        "  rmse = tf.sqrt(mse)\n",
        "  mape = tf.keras.metrics.mean_absolute_percentage_error(y_true, y_pred)\n",
        "  mase = mean_absolute_scaled_error(y_true, y_pred)\n",
        "\n",
        "# Account for different sized metrics (for longer horizons)\n",
        "  if mae.ndim > 0:\n",
        "    mae = tf.reduce_mean(mae)\n",
        "    mse = tf.reduce_mean(mse)\n",
        "    rmse = tf.reduce_mean(rmse)\n",
        "    mase = tf.reduce_mean(mase)\n",
        "    mape = tf.reduce_mean(mape)\n",
        "\n",
        "\n",
        "\n",
        "  return {\"mae\": mae.numpy(),\n",
        "          \"mse\": mse.numpy(),\n",
        "          \"rmse\": rmse.numpy(),\n",
        "          \"mape\": mape.numpy(),\n",
        "          \"mase\": mase.numpy()}"
      ],
      "execution_count": 81,
      "outputs": []
    },
    {
      "cell_type": "code",
      "metadata": {
        "colab": {
          "base_uri": "https://localhost:8080/"
        },
        "id": "vq-BH7AO3Xq8",
        "outputId": "c476d4d7-9497-4788-a528-ae2e3e4e56e6"
      },
      "source": [
        "# Get model 3 results aggregated to a single value\n",
        "model_3_results = evaluate_preds(y_true=tf.squeeze(test_labels_30_7),\n",
        "                                y_pred=model_3_preds)\n",
        "model_3_results"
      ],
      "execution_count": 82,
      "outputs": [
        {
          "output_type": "execute_result",
          "data": {
            "text/plain": [
              "{'mae': 1842.0382,\n",
              " 'mape': 5.581948,\n",
              " 'mase': 2.174101,\n",
              " 'mse': 8812744.0,\n",
              " 'rmse': 2099.4746}"
            ]
          },
          "metadata": {},
          "execution_count": 82
        }
      ]
    },
    {
      "cell_type": "code",
      "metadata": {
        "colab": {
          "base_uri": "https://localhost:8080/",
          "height": 0
        },
        "id": "G3ctXs1i3wgl",
        "outputId": "15516f2b-e3a6-4df2-b977-eae29471e118"
      },
      "source": [
        "import pandas as pd\n",
        "res = pd.DataFrame({\"naive\": pd.Series(naive_results), \n",
        "                    \"model_1\":pd.Series(model_1_results),\n",
        "                    \"model_2\":pd.Series(model_2_results),\n",
        "                    \"model_3\":pd.Series(model_3_results)\n",
        "                    })\n",
        "res"
      ],
      "execution_count": 83,
      "outputs": [
        {
          "output_type": "execute_result",
          "data": {
            "text/html": [
              "<div>\n",
              "<style scoped>\n",
              "    .dataframe tbody tr th:only-of-type {\n",
              "        vertical-align: middle;\n",
              "    }\n",
              "\n",
              "    .dataframe tbody tr th {\n",
              "        vertical-align: top;\n",
              "    }\n",
              "\n",
              "    .dataframe thead th {\n",
              "        text-align: right;\n",
              "    }\n",
              "</style>\n",
              "<table border=\"1\" class=\"dataframe\">\n",
              "  <thead>\n",
              "    <tr style=\"text-align: right;\">\n",
              "      <th></th>\n",
              "      <th>naive</th>\n",
              "      <th>model_1</th>\n",
              "      <th>model_2</th>\n",
              "      <th>model_3</th>\n",
              "    </tr>\n",
              "  </thead>\n",
              "  <tbody>\n",
              "    <tr>\n",
              "      <th>mae</th>\n",
              "      <td>8.397061e+02</td>\n",
              "      <td>8.477500e+02</td>\n",
              "      <td>9.287479e+02</td>\n",
              "      <td>1.842038e+03</td>\n",
              "    </tr>\n",
              "    <tr>\n",
              "      <th>mse</th>\n",
              "      <td>1.825811e+06</td>\n",
              "      <td>1.866274e+06</td>\n",
              "      <td>2.106734e+06</td>\n",
              "      <td>8.812744e+06</td>\n",
              "    </tr>\n",
              "    <tr>\n",
              "      <th>rmse</th>\n",
              "      <td>1.351226e+03</td>\n",
              "      <td>1.366117e+03</td>\n",
              "      <td>1.451459e+03</td>\n",
              "      <td>2.099475e+03</td>\n",
              "    </tr>\n",
              "    <tr>\n",
              "      <th>mape</th>\n",
              "      <td>2.601296e+00</td>\n",
              "      <td>2.625790e+00</td>\n",
              "      <td>2.866443e+00</td>\n",
              "      <td>5.581948e+00</td>\n",
              "    </tr>\n",
              "    <tr>\n",
              "      <th>mase</th>\n",
              "      <td>9.982083e-01</td>\n",
              "      <td>1.006016e+00</td>\n",
              "      <td>1.094758e+00</td>\n",
              "      <td>2.174101e+00</td>\n",
              "    </tr>\n",
              "  </tbody>\n",
              "</table>\n",
              "</div>"
            ],
            "text/plain": [
              "             naive       model_1       model_2       model_3\n",
              "mae   8.397061e+02  8.477500e+02  9.287479e+02  1.842038e+03\n",
              "mse   1.825811e+06  1.866274e+06  2.106734e+06  8.812744e+06\n",
              "rmse  1.351226e+03  1.366117e+03  1.451459e+03  2.099475e+03\n",
              "mape  2.601296e+00  2.625790e+00  2.866443e+00  5.581948e+00\n",
              "mase  9.982083e-01  1.006016e+00  1.094758e+00  2.174101e+00"
            ]
          },
          "metadata": {},
          "execution_count": 83
        }
      ]
    },
    {
      "cell_type": "markdown",
      "metadata": {
        "id": "m6H0lCjw4h_L"
      },
      "source": [
        "### Visualize model 3 preds\n"
      ]
    },
    {
      "cell_type": "code",
      "metadata": {
        "colab": {
          "base_uri": "https://localhost:8080/"
        },
        "id": "xbXytCER60R_",
        "outputId": "cca7feae-ee60-4ae4-ae8d-e410890be720"
      },
      "source": [
        "model_3_predictions = tf.squeeze(model_3_preds)\n",
        "model_3_predictions"
      ],
      "execution_count": 84,
      "outputs": [
        {
          "output_type": "execute_result",
          "data": {
            "text/plain": [
              "<tf.Tensor: shape=(495, 7), dtype=float32, numpy=\n",
              "array([[ 8783.843 ,  8634.9795,  8662.284 , ...,  8889.498 ,  8913.577 ,\n",
              "         8709.874 ],\n",
              "       [ 8885.151 ,  8930.371 ,  8816.978 , ...,  9116.969 ,  8947.747 ,\n",
              "         8956.968 ],\n",
              "       [ 9144.671 ,  9125.226 ,  9052.337 , ...,  9189.991 ,  9101.253 ,\n",
              "         9287.626 ],\n",
              "       ...,\n",
              "       [50796.49  , 50201.17  , 49541.414 , ..., 50931.914 , 50698.3   ,\n",
              "        50635.39  ],\n",
              "       [51963.047 , 51652.23  , 50256.812 , ..., 52389.227 , 51250.78  ,\n",
              "        51532.836 ],\n",
              "       [52240.633 , 52246.117 , 51316.266 , ..., 53056.867 , 52737.617 ,\n",
              "        51882.746 ]], dtype=float32)>"
            ]
          },
          "metadata": {},
          "execution_count": 84
        }
      ]
    },
    {
      "cell_type": "code",
      "metadata": {
        "colab": {
          "base_uri": "https://localhost:8080/",
          "height": 0
        },
        "id": "0AIts6J352b2",
        "outputId": "da498aa5-e29f-4db6-f1b6-637f82ec53d4"
      },
      "source": [
        "offset = 300\n",
        "plt.figure(figsize=(10,7))\n",
        "plot_time_series(timesteps=X_test[-len(test_windows_30_7):], values=test_labels_30_7[:, 0], start=offset, label=\"Test data\", format='-')\n",
        "plot_time_series(timesteps=X_test[-len(test_windows_30_7):], values=model_3_preds[:,0], start=offset, label='model_3_preds')"
      ],
      "execution_count": 85,
      "outputs": [
        {
          "output_type": "display_data",
          "data": {
            "image/png": "[encoded data removed]",
            "text/plain": [
              "<Figure size 720x504 with 1 Axes>"
            ]
          },
          "metadata": {
            "needs_background": "light"
          }
        }
      ]
    },
    {
      "cell_type": "code",
      "metadata": {
        "colab": {
          "base_uri": "https://localhost:8080/",
          "height": 0
        },
        "id": "AUCcfL9E6azl",
        "outputId": "0386cc87-89b8-4088-bfae-57192916a421"
      },
      "source": [
        "offset = 300\n",
        "plt.figure(figsize=(10,7))\n",
        "plot_time_series(timesteps=X_test[-len(test_windows_30_7):], values=test_labels_30_7[:, 0], start=offset, label=\"Test data\")\n",
        "plot_time_series(timesteps=X_test[-len(test_windows_30_7):], \n",
        "                 values=tf.reduce_mean(model_3_preds, axis=1), \n",
        "                 start=offset, \n",
        "                 label='model_3_preds',\n",
        "                 format='-')"
      ],
      "execution_count": 86,
      "outputs": [
        {
          "output_type": "display_data",
          "data": {
            "image/png": "[encoded data removed]",
            "text/plain": [
              "<Figure size 720x504 with 1 Axes>"
            ]
          },
          "metadata": {
            "needs_background": "light"
          }
        }
      ]
    },
    {
      "cell_type": "markdown",
      "metadata": {
        "id": "28QZiX3a9pHg"
      },
      "source": [
        "### Comparing the models' performance\n",
        "\n"
      ]
    },
    {
      "cell_type": "code",
      "metadata": {
        "colab": {
          "base_uri": "https://localhost:8080/",
          "height": 0
        },
        "id": "vmBRO5PAWGqK",
        "outputId": "f33cb3f7-dac4-4dda-b3b3-3e8fadd9023b"
      },
      "source": [
        "pd.DataFrame({\"naive\":naive_results['mae'],\n",
        "              \"horizon_1_window_7\": model_1_results['mae'],\n",
        "              \"horizon_1_window_30\": model_2_results['mae'],\n",
        "              \"horizon_7_window_30\": model_3_results['mae']}, index=['mae']).plot(figsize=(10,7), kind='bar')"
      ],
      "execution_count": 87,
      "outputs": [
        {
          "output_type": "execute_result",
          "data": {
            "text/plain": [
              "<matplotlib.axes._subplots.AxesSubplot at 0x7fc4d8a55a90>"
            ]
          },
          "metadata": {},
          "execution_count": 87
        },
        {
          "output_type": "display_data",
          "data": {
            "image/png": "[encoded data removed]",
            "text/plain": [
              "<Figure size 720x504 with 1 Axes>"
            ]
          },
          "metadata": {
            "needs_background": "light"
          }
        }
      ]
    },
    {
      "cell_type": "markdown",
      "metadata": {
        "id": "vJpJSOIoW_0Q"
      },
      "source": [
        "## Model 4: Conv1D"
      ]
    },
    {
      "cell_type": "code",
      "metadata": {
        "id": "yWn2GSb3bIjl"
      },
      "source": [
        "HORIZON = 1\n",
        "WINDOW_SIZE = 7"
      ],
      "execution_count": 88,
      "outputs": []
    },
    {
      "cell_type": "code",
      "metadata": {
        "id": "aWJI6RM7bT3e"
      },
      "source": [
        "# Create a windowed dataset\n",
        "full_windows, full_labels = make_windows(prices, window_size=WINDOW_SIZE, horizon=HORIZON)"
      ],
      "execution_count": 89,
      "outputs": []
    },
    {
      "cell_type": "code",
      "metadata": {
        "colab": {
          "base_uri": "https://localhost:8080/"
        },
        "id": "QeFs8TxsbkZW",
        "outputId": "9819a1a1-119b-4733-ef1a-11df2e73a747"
      },
      "source": [
        "len(full_windows), len(full_labels)"
      ],
      "execution_count": 90,
      "outputs": [
        {
          "output_type": "execute_result",
          "data": {
            "text/plain": [
              "(2500, 2500)"
            ]
          },
          "metadata": {},
          "execution_count": 90
        }
      ]
    },
    {
      "cell_type": "code",
      "metadata": {
        "colab": {
          "base_uri": "https://localhost:8080/"
        },
        "id": "mDY6bHuMboHJ",
        "outputId": "a5a9460d-00bb-4dea-b65c-8a8166ecd2a9"
      },
      "source": [
        "# Create train and test sets\n",
        "train_windows, test_windows, train_labels, test_labels = make_train_test_splits(full_windows, full_labels)\n",
        "len(train_windows), len(train_labels), len(test_windows), len(test_labels)"
      ],
      "execution_count": 91,
      "outputs": [
        {
          "output_type": "execute_result",
          "data": {
            "text/plain": [
              "(2000, 2000, 500, 500)"
            ]
          },
          "metadata": {},
          "execution_count": 91
        }
      ]
    },
    {
      "cell_type": "markdown",
      "metadata": {
        "id": "3afPemiZcDip"
      },
      "source": [
        "To use Con1D we need an input shape of: `(batch_size, timesteps, input_dim)`"
      ]
    },
    {
      "cell_type": "code",
      "metadata": {
        "colab": {
          "base_uri": "https://localhost:8080/"
        },
        "id": "zCxzgsCFcslJ",
        "outputId": "22e2c1da-0072-4e0b-cc60-97f3aee13c0e"
      },
      "source": [
        "train_windows[0].shape # returns (WINDOW_SIZE)"
      ],
      "execution_count": 92,
      "outputs": [
        {
          "output_type": "execute_result",
          "data": {
            "text/plain": [
              "(7,)"
            ]
          },
          "metadata": {},
          "execution_count": 92
        }
      ]
    },
    {
      "cell_type": "markdown",
      "metadata": {
        "id": "grg-P7cocutw"
      },
      "source": [
        "### Reshape the data before we pass it to Conv1D"
      ]
    },
    {
      "cell_type": "code",
      "metadata": {
        "colab": {
          "base_uri": "https://localhost:8080/"
        },
        "id": "iQuApWzcdDkX",
        "outputId": "e9f1d8a2-d8ce-410d-8cfb-534c06f89b0a"
      },
      "source": [
        "x = tf.constant(train_windows[0])\n",
        "x"
      ],
      "execution_count": 93,
      "outputs": [
        {
          "output_type": "execute_result",
          "data": {
            "text/plain": [
              "<tf.Tensor: shape=(7,), dtype=float64, numpy=\n",
              "array([324.71833, 332.45666, 336.585  , 346.775  , 344.81166, 343.065  ,\n",
              "       358.50166])>"
            ]
          },
          "metadata": {},
          "execution_count": 93
        }
      ]
    },
    {
      "cell_type": "code",
      "metadata": {
        "id": "J7RTg0k2dVCj"
      },
      "source": [
        "expand_dims_layer = tf.keras.layers.Lambda(lambda x: tf.expand_dims(x, axis=1))#add extra dimension for input"
      ],
      "execution_count": 94,
      "outputs": []
    },
    {
      "cell_type": "code",
      "metadata": {
        "colab": {
          "base_uri": "https://localhost:8080/"
        },
        "id": "A_Ov28eadqtW",
        "outputId": "9e0e89cd-a2b0-4357-b5ec-d81f09b58018"
      },
      "source": [
        "# Test out our lambda layer\n",
        "print(f\"Original shape: {x.shape}\") #WINDOW_SIZE\n",
        "print(f\"Expanded shape: {expand_dims_layer(x).shape}\")\n",
        "print(f\"Original values with expanded shape: \\n{expand_dims_layer(x)}\")"
      ],
      "execution_count": 95,
      "outputs": [
        {
          "output_type": "stream",
          "name": "stdout",
          "text": [
            "Original shape: (7,)\n",
            "Expanded shape: (7, 1)\n",
            "Original values with expanded shape: \n",
            "[[324.71832]\n",
            " [332.45667]\n",
            " [336.585  ]\n",
            " [346.775  ]\n",
            " [344.81165]\n",
            " [343.065  ]\n",
            " [358.50165]]\n"
          ]
        }
      ]
    },
    {
      "cell_type": "markdown",
      "metadata": {
        "id": "L5Lx13CFeUab"
      },
      "source": [
        "### Build the model"
      ]
    },
    {
      "cell_type": "code",
      "metadata": {
        "id": "5GAQQPZ6fJ6M"
      },
      "source": [
        "tf.random.set_seed(42)\n",
        "\n",
        "\n",
        "model_4 = tf.keras.Sequential([\n",
        "      tf.keras.layers.Lambda(lambda x: tf.expand_dims(x, axis=1)),\n",
        "      tf.keras.layers.Conv1D(filters=128, kernel_size=5, strides=1, padding='causal', activation='relu'),\n",
        "      tf.keras.layers.Dense(HORIZON)\n",
        "], name='model_4_conv1d')\n",
        "\n",
        "# Compile the model\n",
        "model_4.compile(loss='mae',\n",
        "                optimizer=tf.keras.optimizers.Adam())"
      ],
      "execution_count": 96,
      "outputs": []
    },
    {
      "cell_type": "code",
      "metadata": {
        "colab": {
          "base_uri": "https://localhost:8080/"
        },
        "id": "p2tetpdjgp8Z",
        "outputId": "2ad8ac1f-41d0-4721-e8a4-badfec90d631"
      },
      "source": [
        "# Fit the model\n",
        "model_4.fit(train_windows,\n",
        "            train_labels,\n",
        "            batch_size=128,\n",
        "            epochs=100,\n",
        "            verbose=0,\n",
        "            validation_data=(test_windows, test_labels),\n",
        "            callbacks=[create_model_checkpoint(model_name=model_4.name)])"
      ],
      "execution_count": 97,
      "outputs": [
        {
          "output_type": "stream",
          "name": "stdout",
          "text": [
            "INFO:tensorflow:Assets written to: model_experiments/model_4_conv1d/assets\n",
            "INFO:tensorflow:Assets written to: model_experiments/model_4_conv1d/assets\n",
            "INFO:tensorflow:Assets written to: model_experiments/model_4_conv1d/assets\n",
            "INFO:tensorflow:Assets written to: model_experiments/model_4_conv1d/assets\n",
            "INFO:tensorflow:Assets written to: model_experiments/model_4_conv1d/assets\n",
            "INFO:tensorflow:Assets written to: model_experiments/model_4_conv1d/assets\n",
            "INFO:tensorflow:Assets written to: model_experiments/model_4_conv1d/assets\n",
            "INFO:tensorflow:Assets written to: model_experiments/model_4_conv1d/assets\n",
            "INFO:tensorflow:Assets written to: model_experiments/model_4_conv1d/assets\n",
            "INFO:tensorflow:Assets written to: model_experiments/model_4_conv1d/assets\n",
            "INFO:tensorflow:Assets written to: model_experiments/model_4_conv1d/assets\n",
            "INFO:tensorflow:Assets written to: model_experiments/model_4_conv1d/assets\n",
            "INFO:tensorflow:Assets written to: model_experiments/model_4_conv1d/assets\n",
            "INFO:tensorflow:Assets written to: model_experiments/model_4_conv1d/assets\n",
            "INFO:tensorflow:Assets written to: model_experiments/model_4_conv1d/assets\n",
            "INFO:tensorflow:Assets written to: model_experiments/model_4_conv1d/assets\n",
            "INFO:tensorflow:Assets written to: model_experiments/model_4_conv1d/assets\n",
            "INFO:tensorflow:Assets written to: model_experiments/model_4_conv1d/assets\n",
            "INFO:tensorflow:Assets written to: model_experiments/model_4_conv1d/assets\n",
            "INFO:tensorflow:Assets written to: model_experiments/model_4_conv1d/assets\n",
            "INFO:tensorflow:Assets written to: model_experiments/model_4_conv1d/assets\n",
            "INFO:tensorflow:Assets written to: model_experiments/model_4_conv1d/assets\n",
            "INFO:tensorflow:Assets written to: model_experiments/model_4_conv1d/assets\n",
            "INFO:tensorflow:Assets written to: model_experiments/model_4_conv1d/assets\n",
            "INFO:tensorflow:Assets written to: model_experiments/model_4_conv1d/assets\n",
            "INFO:tensorflow:Assets written to: model_experiments/model_4_conv1d/assets\n",
            "INFO:tensorflow:Assets written to: model_experiments/model_4_conv1d/assets\n",
            "INFO:tensorflow:Assets written to: model_experiments/model_4_conv1d/assets\n",
            "INFO:tensorflow:Assets written to: model_experiments/model_4_conv1d/assets\n",
            "INFO:tensorflow:Assets written to: model_experiments/model_4_conv1d/assets\n",
            "INFO:tensorflow:Assets written to: model_experiments/model_4_conv1d/assets\n",
            "INFO:tensorflow:Assets written to: model_experiments/model_4_conv1d/assets\n",
            "INFO:tensorflow:Assets written to: model_experiments/model_4_conv1d/assets\n",
            "INFO:tensorflow:Assets written to: model_experiments/model_4_conv1d/assets\n",
            "INFO:tensorflow:Assets written to: model_experiments/model_4_conv1d/assets\n",
            "INFO:tensorflow:Assets written to: model_experiments/model_4_conv1d/assets\n",
            "INFO:tensorflow:Assets written to: model_experiments/model_4_conv1d/assets\n",
            "INFO:tensorflow:Assets written to: model_experiments/model_4_conv1d/assets\n",
            "INFO:tensorflow:Assets written to: model_experiments/model_4_conv1d/assets\n",
            "INFO:tensorflow:Assets written to: model_experiments/model_4_conv1d/assets\n",
            "INFO:tensorflow:Assets written to: model_experiments/model_4_conv1d/assets\n",
            "INFO:tensorflow:Assets written to: model_experiments/model_4_conv1d/assets\n",
            "INFO:tensorflow:Assets written to: model_experiments/model_4_conv1d/assets\n",
            "INFO:tensorflow:Assets written to: model_experiments/model_4_conv1d/assets\n"
          ]
        },
        {
          "output_type": "execute_result",
          "data": {
            "text/plain": [
              "<keras.callbacks.History at 0x7fc4d5317bd0>"
            ]
          },
          "metadata": {},
          "execution_count": 97
        }
      ]
    },
    {
      "cell_type": "markdown",
      "metadata": {
        "id": "8e4Vwf1ohHDm"
      },
      "source": [
        "### Evaluate the model"
      ]
    },
    {
      "cell_type": "code",
      "metadata": {
        "colab": {
          "base_uri": "https://localhost:8080/"
        },
        "id": "VGG7FdyCjP0h",
        "outputId": "c06b26ec-6d39-4ba7-fb59-4eb2a6df84eb"
      },
      "source": [
        "model_4.evaluate(test_windows, test_labels)"
      ],
      "execution_count": 98,
      "outputs": [
        {
          "output_type": "stream",
          "name": "stdout",
          "text": [
            "16/16 [==============================] - 0s 4ms/step - loss: 848.6688\n"
          ]
        },
        {
          "output_type": "execute_result",
          "data": {
            "text/plain": [
              "848.6687622070312"
            ]
          },
          "metadata": {},
          "execution_count": 98
        }
      ]
    },
    {
      "cell_type": "markdown",
      "metadata": {
        "id": "MrKjqaWhjKn-"
      },
      "source": [
        "### Load back the best-performing model and rre-evaluate"
      ]
    },
    {
      "cell_type": "code",
      "metadata": {
        "id": "zpcTD3PvjmZo"
      },
      "source": [
        "model_4 = tf.keras.models.load_model(\"/content/model_experiments/model_4_conv1d\")"
      ],
      "execution_count": 99,
      "outputs": []
    },
    {
      "cell_type": "code",
      "metadata": {
        "colab": {
          "base_uri": "https://localhost:8080/"
        },
        "id": "lqvEgz9ljwYi",
        "outputId": "c4fe4d6f-ef17-4161-9749-ee1b0494e6b8"
      },
      "source": [
        "model_4.evaluate(test_windows, test_labels)"
      ],
      "execution_count": 100,
      "outputs": [
        {
          "output_type": "stream",
          "name": "stdout",
          "text": [
            "16/16 [==============================] - 0s 3ms/step - loss: 848.6688\n"
          ]
        },
        {
          "output_type": "execute_result",
          "data": {
            "text/plain": [
              "848.6687622070312"
            ]
          },
          "metadata": {},
          "execution_count": 100
        }
      ]
    },
    {
      "cell_type": "markdown",
      "metadata": {
        "id": "g7esrcpjjy00"
      },
      "source": [
        "### Make predictions"
      ]
    },
    {
      "cell_type": "code",
      "metadata": {
        "colab": {
          "base_uri": "https://localhost:8080/"
        },
        "id": "ZFD8BnwQkBRl",
        "outputId": "e2bb44a5-b5a8-4bc8-9149-11d53da2df6e"
      },
      "source": [
        "model_4_preds = make_preds(model_4, test_windows)\n",
        "model_4_preds[:10]"
      ],
      "execution_count": 101,
      "outputs": [
        {
          "output_type": "execute_result",
          "data": {
            "text/plain": [
              "<tf.Tensor: shape=(10,), dtype=float32, numpy=\n",
              "array([8919.175, 9008.879, 8974.324, 8938.402, 8990.306, 9335.402,\n",
              "       9861.107, 9992.955, 9740.981, 8972.969], dtype=float32)>"
            ]
          },
          "metadata": {},
          "execution_count": 101
        }
      ]
    },
    {
      "cell_type": "markdown",
      "metadata": {
        "id": "RCDGMqwDkKj_"
      },
      "source": [
        "### Evaluate predictions"
      ]
    },
    {
      "cell_type": "code",
      "metadata": {
        "colab": {
          "base_uri": "https://localhost:8080/"
        },
        "id": "oep1dakpkSoD",
        "outputId": "e0adf4b3-d92d-420b-b4ab-02cb1e221ba9"
      },
      "source": [
        "model_4_results = evaluate_preds(y_true=tf.squeeze(test_labels),\n",
        "                                 y_pred=model_4_preds)\n",
        "model_4_results"
      ],
      "execution_count": 102,
      "outputs": [
        {
          "output_type": "execute_result",
          "data": {
            "text/plain": [
              "{'mae': 848.6688,\n",
              " 'mape': 2.632747,\n",
              " 'mase': 1.0071067,\n",
              " 'mse': 1866928.0,\n",
              " 'rmse': 1366.3558}"
            ]
          },
          "metadata": {},
          "execution_count": 102
        }
      ]
    },
    {
      "cell_type": "code",
      "metadata": {
        "colab": {
          "base_uri": "https://localhost:8080/"
        },
        "id": "Ozj_Rd_dkeAa",
        "outputId": "1b5fa2ff-08e3-49a6-d01b-25460f5b267a"
      },
      "source": [
        "model_1_results"
      ],
      "execution_count": 103,
      "outputs": [
        {
          "output_type": "execute_result",
          "data": {
            "text/plain": [
              "{'mae': 847.75,\n",
              " 'mape': 2.6257904,\n",
              " 'mase': 1.0060163,\n",
              " 'mse': 1866274.5,\n",
              " 'rmse': 1366.1166}"
            ]
          },
          "metadata": {},
          "execution_count": 103
        }
      ]
    },
    {
      "cell_type": "markdown",
      "metadata": {
        "id": "72b3tjbXkkKB"
      },
      "source": [
        "## Model 5 : RNN (LSTM)"
      ]
    },
    {
      "cell_type": "code",
      "metadata": {
        "colab": {
          "base_uri": "https://localhost:8080/"
        },
        "id": "gcKHnmQGiOiL",
        "outputId": "77d08ece-67a6-4cbc-a2de-28f88e857d73"
      },
      "source": [
        "tf.random.set_seed(42)\n",
        "\n",
        "# Use functional API\n",
        "inputs = tf.keras.layers.Input(shape=(WINDOW_SIZE))\n",
        "x = tf.keras.layers.Lambda(lambda x: tf.expand_dims(x, axis=1))(inputs)\n",
        "#x = tf.keras.layers.LSTM(128, return_sequences=True)(x)\n",
        "x = tf.keras.layers.LSTM(128, activation='relu')(x)\n",
        "#x = tf.keras.layers.Dense(32, activation=\"relu\")(x)\n",
        "output = tf.keras.layers.Dense(HORIZON)(x)\n",
        "\n",
        "model_5 = tf.keras.Model(inputs=inputs, outputs=output, name='model_5_LSTM')\n",
        "\n",
        "#Compile \n",
        "model_5.compile(loss='mae', optimizer=tf.keras.optimizers.Adam())\n",
        "\n",
        "# Fit \n",
        "model_5.fit(train_windows, \n",
        "            train_labels, \n",
        "            epochs=100, \n",
        "            verbose=1,\n",
        "            batch_size=128,\n",
        "            validation_data=(test_windows, test_labels),\n",
        "            callbacks=[create_model_checkpoint(model_name=model_5.name)])"
      ],
      "execution_count": 104,
      "outputs": [
        {
          "output_type": "stream",
          "name": "stdout",
          "text": [
            "WARNING:tensorflow:Layer lstm will not use cuDNN kernels since it doesn't meet the criteria. It will use a generic GPU kernel as fallback when running on GPU.\n",
            "Epoch 1/100\n",
            "16/16 [==============================] - 2s 28ms/step - loss: 3129.5757 - val_loss: 15526.2256\n",
            "INFO:tensorflow:Assets written to: model_experiments/model_5_LSTM/assets\n",
            "Epoch 2/100\n",
            "16/16 [==============================] - 0s 8ms/step - loss: 1411.1974 - val_loss: 3577.2175\n",
            "INFO:tensorflow:Assets written to: model_experiments/model_5_LSTM/assets\n",
            "Epoch 3/100\n",
            "16/16 [==============================] - 0s 10ms/step - loss: 345.9297 - val_loss: 1838.9829\n",
            "INFO:tensorflow:Assets written to: model_experiments/model_5_LSTM/assets\n",
            "Epoch 4/100\n",
            "16/16 [==============================] - 0s 9ms/step - loss: 256.2029 - val_loss: 1531.9590\n",
            "INFO:tensorflow:Assets written to: model_experiments/model_5_LSTM/assets\n",
            "Epoch 5/100\n",
            "16/16 [==============================] - 0s 10ms/step - loss: 231.0992 - val_loss: 1505.6658\n",
            "INFO:tensorflow:Assets written to: model_experiments/model_5_LSTM/assets\n",
            "Epoch 6/100\n",
            "16/16 [==============================] - 0s 9ms/step - loss: 223.2248 - val_loss: 1436.8992\n",
            "INFO:tensorflow:Assets written to: model_experiments/model_5_LSTM/assets\n",
            "Epoch 7/100\n",
            "16/16 [==============================] - 0s 9ms/step - loss: 220.4788 - val_loss: 1447.4144\n",
            "Epoch 8/100\n",
            "16/16 [==============================] - 0s 11ms/step - loss: 219.1811 - val_loss: 1445.2784\n",
            "Epoch 9/100\n",
            "16/16 [==============================] - 0s 10ms/step - loss: 217.8411 - val_loss: 1417.8745\n",
            "INFO:tensorflow:Assets written to: model_experiments/model_5_LSTM/assets\n",
            "Epoch 10/100\n",
            "16/16 [==============================] - 0s 10ms/step - loss: 216.5499 - val_loss: 1458.4445\n",
            "Epoch 11/100\n",
            "16/16 [==============================] - 0s 9ms/step - loss: 215.9875 - val_loss: 1402.7131\n",
            "INFO:tensorflow:Assets written to: model_experiments/model_5_LSTM/assets\n",
            "Epoch 12/100\n",
            "16/16 [==============================] - 0s 9ms/step - loss: 213.6317 - val_loss: 1387.8572\n",
            "INFO:tensorflow:Assets written to: model_experiments/model_5_LSTM/assets\n",
            "Epoch 13/100\n",
            "16/16 [==============================] - 0s 10ms/step - loss: 214.2999 - val_loss: 1409.6653\n",
            "Epoch 14/100\n",
            "16/16 [==============================] - 0s 11ms/step - loss: 211.8204 - val_loss: 1374.4944\n",
            "INFO:tensorflow:Assets written to: model_experiments/model_5_LSTM/assets\n",
            "Epoch 15/100\n",
            "16/16 [==============================] - 0s 10ms/step - loss: 209.2174 - val_loss: 1406.5074\n",
            "Epoch 16/100\n",
            "16/16 [==============================] - 0s 9ms/step - loss: 208.6890 - val_loss: 1382.9906\n",
            "Epoch 17/100\n",
            "16/16 [==============================] - 0s 11ms/step - loss: 208.0515 - val_loss: 1364.4692\n",
            "INFO:tensorflow:Assets written to: model_experiments/model_5_LSTM/assets\n",
            "Epoch 18/100\n",
            "16/16 [==============================] - 0s 10ms/step - loss: 204.7502 - val_loss: 1329.0544\n",
            "INFO:tensorflow:Assets written to: model_experiments/model_5_LSTM/assets\n",
            "Epoch 19/100\n",
            "16/16 [==============================] - 0s 10ms/step - loss: 203.2662 - val_loss: 1353.1338\n",
            "Epoch 20/100\n",
            "16/16 [==============================] - 0s 9ms/step - loss: 201.8237 - val_loss: 1327.9205\n",
            "INFO:tensorflow:Assets written to: model_experiments/model_5_LSTM/assets\n",
            "Epoch 21/100\n",
            "16/16 [==============================] - 0s 10ms/step - loss: 200.6166 - val_loss: 1316.7058\n",
            "INFO:tensorflow:Assets written to: model_experiments/model_5_LSTM/assets\n",
            "Epoch 22/100\n",
            "16/16 [==============================] - 0s 10ms/step - loss: 197.7150 - val_loss: 1287.6930\n",
            "INFO:tensorflow:Assets written to: model_experiments/model_5_LSTM/assets\n",
            "Epoch 23/100\n",
            "16/16 [==============================] - 0s 8ms/step - loss: 196.9054 - val_loss: 1279.2449\n",
            "INFO:tensorflow:Assets written to: model_experiments/model_5_LSTM/assets\n",
            "Epoch 24/100\n",
            "16/16 [==============================] - 0s 10ms/step - loss: 195.6326 - val_loss: 1271.3595\n",
            "INFO:tensorflow:Assets written to: model_experiments/model_5_LSTM/assets\n",
            "Epoch 25/100\n",
            "16/16 [==============================] - 0s 10ms/step - loss: 194.9093 - val_loss: 1263.6365\n",
            "INFO:tensorflow:Assets written to: model_experiments/model_5_LSTM/assets\n",
            "Epoch 26/100\n",
            "16/16 [==============================] - 0s 8ms/step - loss: 194.9258 - val_loss: 1248.5784\n",
            "INFO:tensorflow:Assets written to: model_experiments/model_5_LSTM/assets\n",
            "Epoch 27/100\n",
            "16/16 [==============================] - 0s 9ms/step - loss: 191.3064 - val_loss: 1267.2075\n",
            "Epoch 28/100\n",
            "16/16 [==============================] - 0s 8ms/step - loss: 188.9418 - val_loss: 1250.5613\n",
            "Epoch 29/100\n",
            "16/16 [==============================] - 0s 10ms/step - loss: 186.0836 - val_loss: 1234.2616\n",
            "INFO:tensorflow:Assets written to: model_experiments/model_5_LSTM/assets\n",
            "Epoch 30/100\n",
            "16/16 [==============================] - 0s 10ms/step - loss: 184.6521 - val_loss: 1226.0249\n",
            "INFO:tensorflow:Assets written to: model_experiments/model_5_LSTM/assets\n",
            "Epoch 31/100\n",
            "16/16 [==============================] - 0s 8ms/step - loss: 182.9422 - val_loss: 1227.9353\n",
            "Epoch 32/100\n",
            "16/16 [==============================] - 0s 10ms/step - loss: 181.8825 - val_loss: 1212.5612\n",
            "INFO:tensorflow:Assets written to: model_experiments/model_5_LSTM/assets\n",
            "Epoch 33/100\n",
            "16/16 [==============================] - 0s 9ms/step - loss: 179.4955 - val_loss: 1205.9117\n",
            "INFO:tensorflow:Assets written to: model_experiments/model_5_LSTM/assets\n",
            "Epoch 34/100\n",
            "16/16 [==============================] - 0s 10ms/step - loss: 177.8523 - val_loss: 1168.2755\n",
            "INFO:tensorflow:Assets written to: model_experiments/model_5_LSTM/assets\n",
            "Epoch 35/100\n",
            "16/16 [==============================] - 0s 9ms/step - loss: 178.8391 - val_loss: 1159.8230\n",
            "INFO:tensorflow:Assets written to: model_experiments/model_5_LSTM/assets\n",
            "Epoch 36/100\n",
            "16/16 [==============================] - 0s 9ms/step - loss: 175.0645 - val_loss: 1190.4943\n",
            "Epoch 37/100\n",
            "16/16 [==============================] - 0s 10ms/step - loss: 174.6131 - val_loss: 1174.8643\n",
            "Epoch 38/100\n",
            "16/16 [==============================] - 0s 11ms/step - loss: 173.6122 - val_loss: 1155.3433\n",
            "INFO:tensorflow:Assets written to: model_experiments/model_5_LSTM/assets\n",
            "Epoch 39/100\n",
            "16/16 [==============================] - 0s 9ms/step - loss: 169.9755 - val_loss: 1125.0210\n",
            "INFO:tensorflow:Assets written to: model_experiments/model_5_LSTM/assets\n",
            "Epoch 40/100\n",
            "16/16 [==============================] - 0s 8ms/step - loss: 169.7444 - val_loss: 1140.8960\n",
            "Epoch 41/100\n",
            "16/16 [==============================] - 0s 10ms/step - loss: 168.8099 - val_loss: 1160.4017\n",
            "Epoch 42/100\n",
            "16/16 [==============================] - 0s 9ms/step - loss: 168.2912 - val_loss: 1108.3181\n",
            "INFO:tensorflow:Assets written to: model_experiments/model_5_LSTM/assets\n",
            "Epoch 43/100\n",
            "16/16 [==============================] - 0s 8ms/step - loss: 165.3499 - val_loss: 1099.4255\n",
            "INFO:tensorflow:Assets written to: model_experiments/model_5_LSTM/assets\n",
            "Epoch 44/100\n",
            "16/16 [==============================] - 0s 10ms/step - loss: 164.7924 - val_loss: 1100.0989\n",
            "Epoch 45/100\n",
            "16/16 [==============================] - 0s 11ms/step - loss: 164.8779 - val_loss: 1074.5889\n",
            "INFO:tensorflow:Assets written to: model_experiments/model_5_LSTM/assets\n",
            "Epoch 46/100\n",
            "16/16 [==============================] - 0s 11ms/step - loss: 161.7790 - val_loss: 1088.5326\n",
            "Epoch 47/100\n",
            "16/16 [==============================] - 0s 10ms/step - loss: 160.3185 - val_loss: 1069.9069\n",
            "INFO:tensorflow:Assets written to: model_experiments/model_5_LSTM/assets\n",
            "Epoch 48/100\n",
            "16/16 [==============================] - 0s 9ms/step - loss: 162.1056 - val_loss: 1062.7291\n",
            "INFO:tensorflow:Assets written to: model_experiments/model_5_LSTM/assets\n",
            "Epoch 49/100\n",
            "16/16 [==============================] - 0s 8ms/step - loss: 158.4736 - val_loss: 1048.2679\n",
            "INFO:tensorflow:Assets written to: model_experiments/model_5_LSTM/assets\n",
            "Epoch 50/100\n",
            "16/16 [==============================] - 0s 10ms/step - loss: 158.7122 - val_loss: 1038.1615\n",
            "INFO:tensorflow:Assets written to: model_experiments/model_5_LSTM/assets\n",
            "Epoch 51/100\n",
            "16/16 [==============================] - 0s 10ms/step - loss: 159.7721 - val_loss: 1076.7307\n",
            "Epoch 52/100\n",
            "16/16 [==============================] - 0s 11ms/step - loss: 158.1888 - val_loss: 1047.5983\n",
            "Epoch 53/100\n",
            "16/16 [==============================] - 0s 9ms/step - loss: 156.7089 - val_loss: 1079.9528\n",
            "Epoch 54/100\n",
            "16/16 [==============================] - 0s 10ms/step - loss: 156.2413 - val_loss: 1014.4244\n",
            "INFO:tensorflow:Assets written to: model_experiments/model_5_LSTM/assets\n",
            "Epoch 55/100\n",
            "16/16 [==============================] - 0s 10ms/step - loss: 153.7517 - val_loss: 1050.3982\n",
            "Epoch 56/100\n",
            "16/16 [==============================] - 0s 10ms/step - loss: 155.6051 - val_loss: 1009.3691\n",
            "INFO:tensorflow:Assets written to: model_experiments/model_5_LSTM/assets\n",
            "Epoch 57/100\n",
            "16/16 [==============================] - 0s 9ms/step - loss: 152.8724 - val_loss: 1035.3546\n",
            "Epoch 58/100\n",
            "16/16 [==============================] - 0s 12ms/step - loss: 151.6008 - val_loss: 1006.7756\n",
            "INFO:tensorflow:Assets written to: model_experiments/model_5_LSTM/assets\n",
            "Epoch 59/100\n",
            "16/16 [==============================] - 0s 10ms/step - loss: 150.6594 - val_loss: 1005.5555\n",
            "INFO:tensorflow:Assets written to: model_experiments/model_5_LSTM/assets\n",
            "Epoch 60/100\n",
            "16/16 [==============================] - 0s 10ms/step - loss: 150.2203 - val_loss: 990.7507\n",
            "INFO:tensorflow:Assets written to: model_experiments/model_5_LSTM/assets\n",
            "Epoch 61/100\n",
            "16/16 [==============================] - 0s 9ms/step - loss: 150.1535 - val_loss: 1048.1874\n",
            "Epoch 62/100\n",
            "16/16 [==============================] - 0s 10ms/step - loss: 152.1498 - val_loss: 1014.2019\n",
            "Epoch 63/100\n",
            "16/16 [==============================] - 0s 9ms/step - loss: 151.5304 - val_loss: 1021.8748\n",
            "Epoch 64/100\n",
            "16/16 [==============================] - 0s 10ms/step - loss: 149.6545 - val_loss: 977.3951\n",
            "INFO:tensorflow:Assets written to: model_experiments/model_5_LSTM/assets\n",
            "Epoch 65/100\n",
            "16/16 [==============================] - 0s 12ms/step - loss: 150.4472 - val_loss: 976.7083\n",
            "INFO:tensorflow:Assets written to: model_experiments/model_5_LSTM/assets\n",
            "Epoch 66/100\n",
            "16/16 [==============================] - 0s 10ms/step - loss: 152.2547 - val_loss: 969.0303\n",
            "INFO:tensorflow:Assets written to: model_experiments/model_5_LSTM/assets\n",
            "Epoch 67/100\n",
            "16/16 [==============================] - 0s 9ms/step - loss: 151.4965 - val_loss: 964.3442\n",
            "INFO:tensorflow:Assets written to: model_experiments/model_5_LSTM/assets\n",
            "Epoch 68/100\n",
            "16/16 [==============================] - 0s 10ms/step - loss: 148.0737 - val_loss: 1006.8794\n",
            "Epoch 69/100\n",
            "16/16 [==============================] - 0s 11ms/step - loss: 147.9580 - val_loss: 957.3071\n",
            "INFO:tensorflow:Assets written to: model_experiments/model_5_LSTM/assets\n",
            "Epoch 70/100\n",
            "16/16 [==============================] - 0s 10ms/step - loss: 146.1921 - val_loss: 998.0282\n",
            "Epoch 71/100\n",
            "16/16 [==============================] - 0s 11ms/step - loss: 146.4138 - val_loss: 952.1146\n",
            "INFO:tensorflow:Assets written to: model_experiments/model_5_LSTM/assets\n",
            "Epoch 72/100\n",
            "16/16 [==============================] - 0s 11ms/step - loss: 145.1563 - val_loss: 950.1532\n",
            "INFO:tensorflow:Assets written to: model_experiments/model_5_LSTM/assets\n",
            "Epoch 73/100\n",
            "16/16 [==============================] - 0s 11ms/step - loss: 144.7632 - val_loss: 953.9218\n",
            "Epoch 74/100\n",
            "16/16 [==============================] - 0s 10ms/step - loss: 145.0887 - val_loss: 948.2607\n",
            "INFO:tensorflow:Assets written to: model_experiments/model_5_LSTM/assets\n",
            "Epoch 75/100\n",
            "16/16 [==============================] - 0s 10ms/step - loss: 146.1590 - val_loss: 942.7367\n",
            "INFO:tensorflow:Assets written to: model_experiments/model_5_LSTM/assets\n",
            "Epoch 76/100\n",
            "16/16 [==============================] - 0s 9ms/step - loss: 144.5582 - val_loss: 948.3347\n",
            "Epoch 77/100\n",
            "16/16 [==============================] - 0s 10ms/step - loss: 146.7838 - val_loss: 1002.7557\n",
            "Epoch 78/100\n",
            "16/16 [==============================] - 0s 11ms/step - loss: 145.7322 - val_loss: 936.9626\n",
            "INFO:tensorflow:Assets written to: model_experiments/model_5_LSTM/assets\n",
            "Epoch 79/100\n",
            "16/16 [==============================] - 0s 11ms/step - loss: 144.5618 - val_loss: 934.6343\n",
            "INFO:tensorflow:Assets written to: model_experiments/model_5_LSTM/assets\n",
            "Epoch 80/100\n",
            "16/16 [==============================] - 0s 9ms/step - loss: 143.9914 - val_loss: 935.9121\n",
            "Epoch 81/100\n",
            "16/16 [==============================] - 0s 10ms/step - loss: 142.8642 - val_loss: 942.7049\n",
            "Epoch 82/100\n",
            "16/16 [==============================] - 0s 10ms/step - loss: 143.8931 - val_loss: 958.1902\n",
            "Epoch 83/100\n",
            "16/16 [==============================] - 0s 11ms/step - loss: 141.9445 - val_loss: 936.9260\n",
            "Epoch 84/100\n",
            "16/16 [==============================] - 0s 9ms/step - loss: 144.6999 - val_loss: 944.7318\n",
            "Epoch 85/100\n",
            "16/16 [==============================] - 0s 12ms/step - loss: 142.0028 - val_loss: 947.3414\n",
            "Epoch 86/100\n",
            "16/16 [==============================] - 0s 10ms/step - loss: 142.8921 - val_loss: 931.9287\n",
            "INFO:tensorflow:Assets written to: model_experiments/model_5_LSTM/assets\n",
            "Epoch 87/100\n",
            "16/16 [==============================] - 0s 9ms/step - loss: 141.1684 - val_loss: 986.6919\n",
            "Epoch 88/100\n",
            "16/16 [==============================] - 0s 11ms/step - loss: 145.9882 - val_loss: 919.7834\n",
            "INFO:tensorflow:Assets written to: model_experiments/model_5_LSTM/assets\n",
            "Epoch 89/100\n",
            "16/16 [==============================] - 0s 10ms/step - loss: 142.6877 - val_loss: 936.6459\n",
            "Epoch 90/100\n",
            "16/16 [==============================] - 0s 10ms/step - loss: 140.6220 - val_loss: 920.6297\n",
            "Epoch 91/100\n",
            "16/16 [==============================] - 0s 10ms/step - loss: 141.4843 - val_loss: 927.4912\n",
            "Epoch 92/100\n",
            "16/16 [==============================] - 0s 10ms/step - loss: 141.3948 - val_loss: 914.9686\n",
            "INFO:tensorflow:Assets written to: model_experiments/model_5_LSTM/assets\n",
            "Epoch 93/100\n",
            "16/16 [==============================] - 0s 10ms/step - loss: 140.5593 - val_loss: 916.5975\n",
            "Epoch 94/100\n",
            "16/16 [==============================] - 0s 10ms/step - loss: 140.9079 - val_loss: 933.2858\n",
            "Epoch 95/100\n",
            "16/16 [==============================] - 0s 11ms/step - loss: 140.8254 - val_loss: 910.4922\n",
            "INFO:tensorflow:Assets written to: model_experiments/model_5_LSTM/assets\n",
            "Epoch 96/100\n",
            "16/16 [==============================] - 0s 10ms/step - loss: 140.1483 - val_loss: 915.3090\n",
            "Epoch 97/100\n",
            "16/16 [==============================] - 0s 10ms/step - loss: 140.0187 - val_loss: 908.4055\n",
            "INFO:tensorflow:Assets written to: model_experiments/model_5_LSTM/assets\n",
            "Epoch 98/100\n",
            "16/16 [==============================] - 0s 11ms/step - loss: 140.4062 - val_loss: 909.3794\n",
            "Epoch 99/100\n",
            "16/16 [==============================] - 0s 9ms/step - loss: 139.1139 - val_loss: 919.5883\n",
            "Epoch 100/100\n",
            "16/16 [==============================] - 0s 11ms/step - loss: 139.9526 - val_loss: 905.4435\n",
            "INFO:tensorflow:Assets written to: model_experiments/model_5_LSTM/assets\n"
          ]
        },
        {
          "output_type": "execute_result",
          "data": {
            "text/plain": [
              "<keras.callbacks.History at 0x7fc4d4b76c90>"
            ]
          },
          "metadata": {},
          "execution_count": 104
        }
      ]
    },
    {
      "cell_type": "code",
      "metadata": {
        "colab": {
          "base_uri": "https://localhost:8080/"
        },
        "id": "cTxucuumkZ2A",
        "outputId": "9a855045-a100-4ca3-b047-1c13f43732e8"
      },
      "source": [
        "# Load in best version of model 5 and evaluate on test data\n",
        "model_5 = tf.keras.models.load_model(\"/content/model_experiments/model_5_LSTM\")\n",
        "model_5.evaluate(test_windows, test_labels)"
      ],
      "execution_count": 105,
      "outputs": [
        {
          "output_type": "stream",
          "name": "stdout",
          "text": [
            "WARNING:tensorflow:Layer lstm will not use cuDNN kernels since it doesn't meet the criteria. It will use a generic GPU kernel as fallback when running on GPU.\n",
            "16/16 [==============================] - 0s 2ms/step - loss: 905.4435\n"
          ]
        },
        {
          "output_type": "execute_result",
          "data": {
            "text/plain": [
              "905.4434814453125"
            ]
          },
          "metadata": {},
          "execution_count": 105
        }
      ]
    },
    {
      "cell_type": "code",
      "metadata": {
        "colab": {
          "base_uri": "https://localhost:8080/"
        },
        "id": "Ebim2eywmJlO",
        "outputId": "fe73f1f9-4e7d-4928-9765-d745b80d7adc"
      },
      "source": [
        "# Make predictions\n",
        "model_5_preds = make_preds(model_5, test_windows)\n",
        "model_5_preds[:5]"
      ],
      "execution_count": 106,
      "outputs": [
        {
          "output_type": "execute_result",
          "data": {
            "text/plain": [
              "<tf.Tensor: shape=(5,), dtype=float32, numpy=array([8912.739, 9008.537, 9054.261, 8931.109, 8972.682], dtype=float32)>"
            ]
          },
          "metadata": {},
          "execution_count": 106
        }
      ]
    },
    {
      "cell_type": "code",
      "metadata": {
        "colab": {
          "base_uri": "https://localhost:8080/"
        },
        "id": "hfoIzB0dmY5l",
        "outputId": "cc3aaed9-0429-4b85-ee56-286cc20b227b"
      },
      "source": [
        "model_5_results = evaluate_preds(y_true=tf.squeeze(test_labels),\n",
        "                                 y_pred=model_5_preds)\n",
        "model_5_results"
      ],
      "execution_count": 107,
      "outputs": [
        {
          "output_type": "execute_result",
          "data": {
            "text/plain": [
              "{'mae': 905.44354,\n",
              " 'mape': 2.8083773,\n",
              " 'mase': 1.0744807,\n",
              " 'mse': 2031132.8,\n",
              " 'rmse': 1425.1782}"
            ]
          },
          "metadata": {},
          "execution_count": 107
        }
      ]
    },
    {
      "cell_type": "code",
      "metadata": {
        "colab": {
          "base_uri": "https://localhost:8080/"
        },
        "id": "VNilntlEmoyR",
        "outputId": "50c342dc-0553-4757-9fe6-781fc9945f19"
      },
      "source": [
        "model_1_results"
      ],
      "execution_count": 108,
      "outputs": [
        {
          "output_type": "execute_result",
          "data": {
            "text/plain": [
              "{'mae': 847.75,\n",
              " 'mape': 2.6257904,\n",
              " 'mase': 1.0060163,\n",
              " 'mse': 1866274.5,\n",
              " 'rmse': 1366.1166}"
            ]
          },
          "metadata": {},
          "execution_count": 108
        }
      ]
    },
    {
      "cell_type": "markdown",
      "metadata": {
        "id": "HLcCiYjKmsKI"
      },
      "source": [
        "## Make a multivariate dataset"
      ]
    },
    {
      "cell_type": "code",
      "metadata": {
        "colab": {
          "base_uri": "https://localhost:8080/",
          "height": 235
        },
        "id": "pLs9zhoKpcAS",
        "outputId": "36b7f41a-4254-4f1b-bda2-399d95d40265"
      },
      "source": [
        "btc_df.head()"
      ],
      "execution_count": 109,
      "outputs": [
        {
          "output_type": "execute_result",
          "data": {
            "text/html": [
              "<div>\n",
              "<style scoped>\n",
              "    .dataframe tbody tr th:only-of-type {\n",
              "        vertical-align: middle;\n",
              "    }\n",
              "\n",
              "    .dataframe tbody tr th {\n",
              "        vertical-align: top;\n",
              "    }\n",
              "\n",
              "    .dataframe thead th {\n",
              "        text-align: right;\n",
              "    }\n",
              "</style>\n",
              "<table border=\"1\" class=\"dataframe\">\n",
              "  <thead>\n",
              "    <tr style=\"text-align: right;\">\n",
              "      <th></th>\n",
              "      <th>Price</th>\n",
              "    </tr>\n",
              "    <tr>\n",
              "      <th>Date</th>\n",
              "      <th></th>\n",
              "    </tr>\n",
              "  </thead>\n",
              "  <tbody>\n",
              "    <tr>\n",
              "      <th>2014-11-04</th>\n",
              "      <td>324.71833</td>\n",
              "    </tr>\n",
              "    <tr>\n",
              "      <th>2014-11-05</th>\n",
              "      <td>332.45666</td>\n",
              "    </tr>\n",
              "    <tr>\n",
              "      <th>2014-11-06</th>\n",
              "      <td>336.58500</td>\n",
              "    </tr>\n",
              "    <tr>\n",
              "      <th>2014-11-07</th>\n",
              "      <td>346.77500</td>\n",
              "    </tr>\n",
              "    <tr>\n",
              "      <th>2014-11-08</th>\n",
              "      <td>344.81166</td>\n",
              "    </tr>\n",
              "  </tbody>\n",
              "</table>\n",
              "</div>"
            ],
            "text/plain": [
              "                Price\n",
              "Date                 \n",
              "2014-11-04  324.71833\n",
              "2014-11-05  332.45666\n",
              "2014-11-06  336.58500\n",
              "2014-11-07  346.77500\n",
              "2014-11-08  344.81166"
            ]
          },
          "metadata": {},
          "execution_count": 109
        }
      ]
    },
    {
      "cell_type": "code",
      "metadata": {
        "id": "UNUMNHHDrkT3"
      },
      "source": [
        "# Add halving events as a feature\n",
        "block_reward_1 = 50 # Jan 3, 2009 - (won't be included, too early\n",
        "block_reward_2 = 25 # Nov 8, 2012\n",
        "block_reward_3 = 12.5 #Jul 9, 2016\n",
        "block_reward_4 = 6.25 #May 18, 2020\n",
        "\n",
        "# Bloack reward dates\n",
        "block_reward_2_datetime = np.datetime64(\"2012-11-28\")\n",
        "block_reward_3_datetime = np.datetime64(\"2016-07-09\")\n",
        "block_reward_4_datetime = np.datetime64(\"2020-05-18\")\n"
      ],
      "execution_count": 110,
      "outputs": []
    },
    {
      "cell_type": "code",
      "metadata": {
        "colab": {
          "base_uri": "https://localhost:8080/"
        },
        "id": "x0CKHwyRs8gV",
        "outputId": "a96e78e1-9a02-45cc-c95b-9259190ca74f"
      },
      "source": [
        "# Create data ranges of where specific block reward values should be\n",
        "block_reward_2_days = (block_reward_3_datetime - btc_df.index[0]).days\n",
        "block_reward_3_days = (block_reward_4_datetime - btc_df.index[0]).days\n",
        "\n",
        "print(block_reward_2_days, block_reward_3_days)"
      ],
      "execution_count": 111,
      "outputs": [
        {
          "output_type": "stream",
          "name": "stdout",
          "text": [
            "613 2022\n"
          ]
        }
      ]
    },
    {
      "cell_type": "code",
      "metadata": {
        "id": "BTvDYg0Yt-ai"
      },
      "source": [
        "# Add in a block_reward column\n",
        "bitcoin_prices_block = btc_df.copy()\n",
        "bitcoin_prices_block['block_reward'] = None\n",
        "\n",
        "# Add in block_reward\n",
        "bitcoin_prices_block.iloc[:block_reward_2_days, -1] = block_reward_2\n",
        "bitcoin_prices_block.iloc[block_reward_2_days:block_reward_3_days, -1] = block_reward_3\n",
        "bitcoin_prices_block.iloc[block_reward_3_days:, -1] = block_reward_4"
      ],
      "execution_count": 112,
      "outputs": []
    },
    {
      "cell_type": "code",
      "metadata": {
        "id": "ZSTKjIqvx_0Z",
        "colab": {
          "base_uri": "https://localhost:8080/",
          "height": 235
        },
        "outputId": "ec9af95b-347b-4704-a5e8-859d5ed1e008"
      },
      "source": [
        "bitcoin_prices_block.head()"
      ],
      "execution_count": 113,
      "outputs": [
        {
          "output_type": "execute_result",
          "data": {
            "text/html": [
              "<div>\n",
              "<style scoped>\n",
              "    .dataframe tbody tr th:only-of-type {\n",
              "        vertical-align: middle;\n",
              "    }\n",
              "\n",
              "    .dataframe tbody tr th {\n",
              "        vertical-align: top;\n",
              "    }\n",
              "\n",
              "    .dataframe thead th {\n",
              "        text-align: right;\n",
              "    }\n",
              "</style>\n",
              "<table border=\"1\" class=\"dataframe\">\n",
              "  <thead>\n",
              "    <tr style=\"text-align: right;\">\n",
              "      <th></th>\n",
              "      <th>Price</th>\n",
              "      <th>block_reward</th>\n",
              "    </tr>\n",
              "    <tr>\n",
              "      <th>Date</th>\n",
              "      <th></th>\n",
              "      <th></th>\n",
              "    </tr>\n",
              "  </thead>\n",
              "  <tbody>\n",
              "    <tr>\n",
              "      <th>2014-11-04</th>\n",
              "      <td>324.71833</td>\n",
              "      <td>25</td>\n",
              "    </tr>\n",
              "    <tr>\n",
              "      <th>2014-11-05</th>\n",
              "      <td>332.45666</td>\n",
              "      <td>25</td>\n",
              "    </tr>\n",
              "    <tr>\n",
              "      <th>2014-11-06</th>\n",
              "      <td>336.58500</td>\n",
              "      <td>25</td>\n",
              "    </tr>\n",
              "    <tr>\n",
              "      <th>2014-11-07</th>\n",
              "      <td>346.77500</td>\n",
              "      <td>25</td>\n",
              "    </tr>\n",
              "    <tr>\n",
              "      <th>2014-11-08</th>\n",
              "      <td>344.81166</td>\n",
              "      <td>25</td>\n",
              "    </tr>\n",
              "  </tbody>\n",
              "</table>\n",
              "</div>"
            ],
            "text/plain": [
              "                Price block_reward\n",
              "Date                              \n",
              "2014-11-04  324.71833           25\n",
              "2014-11-05  332.45666           25\n",
              "2014-11-06  336.58500           25\n",
              "2014-11-07  346.77500           25\n",
              "2014-11-08  344.81166           25"
            ]
          },
          "metadata": {},
          "execution_count": 113
        }
      ]
    },
    {
      "cell_type": "code",
      "metadata": {
        "id": "yZT74fjmyDzy",
        "colab": {
          "base_uri": "https://localhost:8080/",
          "height": 235
        },
        "outputId": "24b7d661-e447-42de-a99f-3c3c44d2274d"
      },
      "source": [
        "bitcoin_prices_block.tail()"
      ],
      "execution_count": 114,
      "outputs": [
        {
          "output_type": "execute_result",
          "data": {
            "text/html": [
              "<div>\n",
              "<style scoped>\n",
              "    .dataframe tbody tr th:only-of-type {\n",
              "        vertical-align: middle;\n",
              "    }\n",
              "\n",
              "    .dataframe tbody tr th {\n",
              "        vertical-align: top;\n",
              "    }\n",
              "\n",
              "    .dataframe thead th {\n",
              "        text-align: right;\n",
              "    }\n",
              "</style>\n",
              "<table border=\"1\" class=\"dataframe\">\n",
              "  <thead>\n",
              "    <tr style=\"text-align: right;\">\n",
              "      <th></th>\n",
              "      <th>Price</th>\n",
              "      <th>block_reward</th>\n",
              "    </tr>\n",
              "    <tr>\n",
              "      <th>Date</th>\n",
              "      <th></th>\n",
              "      <th></th>\n",
              "    </tr>\n",
              "  </thead>\n",
              "  <tbody>\n",
              "    <tr>\n",
              "      <th>2021-09-10</th>\n",
              "      <td>46404.364481</td>\n",
              "      <td>6.25</td>\n",
              "    </tr>\n",
              "    <tr>\n",
              "      <th>2021-09-11</th>\n",
              "      <td>44720.755550</td>\n",
              "      <td>6.25</td>\n",
              "    </tr>\n",
              "    <tr>\n",
              "      <th>2021-09-12</th>\n",
              "      <td>45253.130625</td>\n",
              "      <td>6.25</td>\n",
              "    </tr>\n",
              "    <tr>\n",
              "      <th>2021-09-13</th>\n",
              "      <td>45510.563249</td>\n",
              "      <td>6.25</td>\n",
              "    </tr>\n",
              "    <tr>\n",
              "      <th>2021-09-14</th>\n",
              "      <td>45097.797218</td>\n",
              "      <td>6.25</td>\n",
              "    </tr>\n",
              "  </tbody>\n",
              "</table>\n",
              "</div>"
            ],
            "text/plain": [
              "                   Price block_reward\n",
              "Date                                 \n",
              "2021-09-10  46404.364481         6.25\n",
              "2021-09-11  44720.755550         6.25\n",
              "2021-09-12  45253.130625         6.25\n",
              "2021-09-13  45510.563249         6.25\n",
              "2021-09-14  45097.797218         6.25"
            ]
          },
          "metadata": {},
          "execution_count": 114
        }
      ]
    },
    {
      "cell_type": "code",
      "metadata": {
        "id": "Mm38vAY9yX0s",
        "colab": {
          "base_uri": "https://localhost:8080/",
          "height": 459
        },
        "outputId": "dfc997e2-9065-4dbe-d779-2532a4f00d02"
      },
      "source": [
        "# Plot the block rreward vs price over time\n",
        "from sklearn.preprocessing import minmax_scale\n",
        "scaled_price_block_df = pd.DataFrame(minmax_scale(bitcoin_prices_block[[\"Price\", \"block_reward\"]]),\n",
        "                                     columns=bitcoin_prices_block.columns,\n",
        "                                     index=bitcoin_prices_block.index)\n",
        "scaled_price_block_df.plot(figsize=(10,7))"
      ],
      "execution_count": 115,
      "outputs": [
        {
          "output_type": "execute_result",
          "data": {
            "text/plain": [
              "<matplotlib.axes._subplots.AxesSubplot at 0x7fc4d440d190>"
            ]
          },
          "metadata": {},
          "execution_count": 115
        },
        {
          "output_type": "display_data",
          "data": {
            "image/png": "[encoded data removed]",
            "text/plain": [
              "<Figure size 720x504 with 1 Axes>"
            ]
          },
          "metadata": {
            "needs_background": "light"
          }
        }
      ]
    },
    {
      "cell_type": "markdown",
      "metadata": {
        "id": "CDE5gcIwyt2y"
      },
      "source": [
        "## Making a windowed dataset with pandas"
      ]
    },
    {
      "cell_type": "code",
      "metadata": {
        "id": "1MfLTxKgsonw"
      },
      "source": [
        "# Setup dataset hyperparameters\n",
        "HORIZON = 1\n",
        "WINDOW_SIZE = 7"
      ],
      "execution_count": 116,
      "outputs": []
    },
    {
      "cell_type": "code",
      "metadata": {
        "id": "i_Dh8qm-sv14"
      },
      "source": [
        "# Make a copy of bitcoin historical data with block reward feature\n",
        "bitcoin_prices_windowed = bitcoin_prices_block.copy()\n",
        "\n",
        "# Add windowed columns\n",
        "for i in range(WINDOW_SIZE):\n",
        "  bitcoin_prices_windowed[f\"Price+{i+1}\"] = bitcoin_prices_windowed[\"Price\"].shift(periods=i+1)\n"
      ],
      "execution_count": 120,
      "outputs": []
    },
    {
      "cell_type": "code",
      "metadata": {
        "id": "cybQLonytIZd",
        "outputId": "74c537a6-6954-4010-ceee-be726ff24ab3",
        "colab": {
          "base_uri": "https://localhost:8080/",
          "height": 340
        }
      },
      "source": [
        "bitcoin_prices_windowed.head()"
      ],
      "execution_count": 121,
      "outputs": [
        {
          "output_type": "execute_result",
          "data": {
            "text/html": [
              "<div>\n",
              "<style scoped>\n",
              "    .dataframe tbody tr th:only-of-type {\n",
              "        vertical-align: middle;\n",
              "    }\n",
              "\n",
              "    .dataframe tbody tr th {\n",
              "        vertical-align: top;\n",
              "    }\n",
              "\n",
              "    .dataframe thead th {\n",
              "        text-align: right;\n",
              "    }\n",
              "</style>\n",
              "<table border=\"1\" class=\"dataframe\">\n",
              "  <thead>\n",
              "    <tr style=\"text-align: right;\">\n",
              "      <th></th>\n",
              "      <th>Price</th>\n",
              "      <th>block_reward</th>\n",
              "      <th>Price+1</th>\n",
              "      <th>Price+2</th>\n",
              "      <th>Price+3</th>\n",
              "      <th>Price+4</th>\n",
              "      <th>Price+5</th>\n",
              "      <th>Price+6</th>\n",
              "      <th>Price+7</th>\n",
              "    </tr>\n",
              "    <tr>\n",
              "      <th>Date</th>\n",
              "      <th></th>\n",
              "      <th></th>\n",
              "      <th></th>\n",
              "      <th></th>\n",
              "      <th></th>\n",
              "      <th></th>\n",
              "      <th></th>\n",
              "      <th></th>\n",
              "      <th></th>\n",
              "    </tr>\n",
              "  </thead>\n",
              "  <tbody>\n",
              "    <tr>\n",
              "      <th>2014-11-04</th>\n",
              "      <td>324.71833</td>\n",
              "      <td>25</td>\n",
              "      <td>NaN</td>\n",
              "      <td>NaN</td>\n",
              "      <td>NaN</td>\n",
              "      <td>NaN</td>\n",
              "      <td>NaN</td>\n",
              "      <td>NaN</td>\n",
              "      <td>NaN</td>\n",
              "    </tr>\n",
              "    <tr>\n",
              "      <th>2014-11-05</th>\n",
              "      <td>332.45666</td>\n",
              "      <td>25</td>\n",
              "      <td>324.71833</td>\n",
              "      <td>NaN</td>\n",
              "      <td>NaN</td>\n",
              "      <td>NaN</td>\n",
              "      <td>NaN</td>\n",
              "      <td>NaN</td>\n",
              "      <td>NaN</td>\n",
              "    </tr>\n",
              "    <tr>\n",
              "      <th>2014-11-06</th>\n",
              "      <td>336.58500</td>\n",
              "      <td>25</td>\n",
              "      <td>332.45666</td>\n",
              "      <td>324.71833</td>\n",
              "      <td>NaN</td>\n",
              "      <td>NaN</td>\n",
              "      <td>NaN</td>\n",
              "      <td>NaN</td>\n",
              "      <td>NaN</td>\n",
              "    </tr>\n",
              "    <tr>\n",
              "      <th>2014-11-07</th>\n",
              "      <td>346.77500</td>\n",
              "      <td>25</td>\n",
              "      <td>336.58500</td>\n",
              "      <td>332.45666</td>\n",
              "      <td>324.71833</td>\n",
              "      <td>NaN</td>\n",
              "      <td>NaN</td>\n",
              "      <td>NaN</td>\n",
              "      <td>NaN</td>\n",
              "    </tr>\n",
              "    <tr>\n",
              "      <th>2014-11-08</th>\n",
              "      <td>344.81166</td>\n",
              "      <td>25</td>\n",
              "      <td>346.77500</td>\n",
              "      <td>336.58500</td>\n",
              "      <td>332.45666</td>\n",
              "      <td>324.71833</td>\n",
              "      <td>NaN</td>\n",
              "      <td>NaN</td>\n",
              "      <td>NaN</td>\n",
              "    </tr>\n",
              "  </tbody>\n",
              "</table>\n",
              "</div>"
            ],
            "text/plain": [
              "                Price block_reward    Price+1  ...  Price+5  Price+6  Price+7\n",
              "Date                                           ...                           \n",
              "2014-11-04  324.71833           25        NaN  ...      NaN      NaN      NaN\n",
              "2014-11-05  332.45666           25  324.71833  ...      NaN      NaN      NaN\n",
              "2014-11-06  336.58500           25  332.45666  ...      NaN      NaN      NaN\n",
              "2014-11-07  346.77500           25  336.58500  ...      NaN      NaN      NaN\n",
              "2014-11-08  344.81166           25  346.77500  ...      NaN      NaN      NaN\n",
              "\n",
              "[5 rows x 9 columns]"
            ]
          },
          "metadata": {},
          "execution_count": 121
        }
      ]
    },
    {
      "cell_type": "code",
      "metadata": {
        "id": "moJorQ0ntLZR",
        "outputId": "ac626f26-8557-432b-c979-8dbbccbbef10",
        "colab": {
          "base_uri": "https://localhost:8080/",
          "height": 340
        }
      },
      "source": [
        "# Create X (windows) and y(horizons) features\n",
        "X = bitcoin_prices_windowed.dropna().drop(\"Price\", axis=1).astype(np.float32)\n",
        "y = bitcoin_prices_windowed.dropna()['Price'].astype(np.float32)\n",
        "X.head()"
      ],
      "execution_count": 122,
      "outputs": [
        {
          "output_type": "execute_result",
          "data": {
            "text/html": [
              "<div>\n",
              "<style scoped>\n",
              "    .dataframe tbody tr th:only-of-type {\n",
              "        vertical-align: middle;\n",
              "    }\n",
              "\n",
              "    .dataframe tbody tr th {\n",
              "        vertical-align: top;\n",
              "    }\n",
              "\n",
              "    .dataframe thead th {\n",
              "        text-align: right;\n",
              "    }\n",
              "</style>\n",
              "<table border=\"1\" class=\"dataframe\">\n",
              "  <thead>\n",
              "    <tr style=\"text-align: right;\">\n",
              "      <th></th>\n",
              "      <th>block_reward</th>\n",
              "      <th>Price+1</th>\n",
              "      <th>Price+2</th>\n",
              "      <th>Price+3</th>\n",
              "      <th>Price+4</th>\n",
              "      <th>Price+5</th>\n",
              "      <th>Price+6</th>\n",
              "      <th>Price+7</th>\n",
              "    </tr>\n",
              "    <tr>\n",
              "      <th>Date</th>\n",
              "      <th></th>\n",
              "      <th></th>\n",
              "      <th></th>\n",
              "      <th></th>\n",
              "      <th></th>\n",
              "      <th></th>\n",
              "      <th></th>\n",
              "      <th></th>\n",
              "    </tr>\n",
              "  </thead>\n",
              "  <tbody>\n",
              "    <tr>\n",
              "      <th>2014-11-11</th>\n",
              "      <td>25.0</td>\n",
              "      <td>358.501648</td>\n",
              "      <td>343.065002</td>\n",
              "      <td>344.811646</td>\n",
              "      <td>346.774994</td>\n",
              "      <td>336.584991</td>\n",
              "      <td>332.456665</td>\n",
              "      <td>324.718323</td>\n",
              "    </tr>\n",
              "    <tr>\n",
              "      <th>2014-11-12</th>\n",
              "      <td>25.0</td>\n",
              "      <td>368.076660</td>\n",
              "      <td>358.501648</td>\n",
              "      <td>343.065002</td>\n",
              "      <td>344.811646</td>\n",
              "      <td>346.774994</td>\n",
              "      <td>336.584991</td>\n",
              "      <td>332.456665</td>\n",
              "    </tr>\n",
              "    <tr>\n",
              "      <th>2014-11-13</th>\n",
              "      <td>25.0</td>\n",
              "      <td>376.996674</td>\n",
              "      <td>368.076660</td>\n",
              "      <td>358.501648</td>\n",
              "      <td>343.065002</td>\n",
              "      <td>344.811646</td>\n",
              "      <td>346.774994</td>\n",
              "      <td>336.584991</td>\n",
              "    </tr>\n",
              "    <tr>\n",
              "      <th>2014-11-14</th>\n",
              "      <td>25.0</td>\n",
              "      <td>442.106659</td>\n",
              "      <td>376.996674</td>\n",
              "      <td>368.076660</td>\n",
              "      <td>358.501648</td>\n",
              "      <td>343.065002</td>\n",
              "      <td>344.811646</td>\n",
              "      <td>346.774994</td>\n",
              "    </tr>\n",
              "    <tr>\n",
              "      <th>2014-11-15</th>\n",
              "      <td>25.0</td>\n",
              "      <td>389.003326</td>\n",
              "      <td>442.106659</td>\n",
              "      <td>376.996674</td>\n",
              "      <td>368.076660</td>\n",
              "      <td>358.501648</td>\n",
              "      <td>343.065002</td>\n",
              "      <td>344.811646</td>\n",
              "    </tr>\n",
              "  </tbody>\n",
              "</table>\n",
              "</div>"
            ],
            "text/plain": [
              "            block_reward     Price+1  ...     Price+6     Price+7\n",
              "Date                                  ...                        \n",
              "2014-11-11          25.0  358.501648  ...  332.456665  324.718323\n",
              "2014-11-12          25.0  368.076660  ...  336.584991  332.456665\n",
              "2014-11-13          25.0  376.996674  ...  346.774994  336.584991\n",
              "2014-11-14          25.0  442.106659  ...  344.811646  346.774994\n",
              "2014-11-15          25.0  389.003326  ...  343.065002  344.811646\n",
              "\n",
              "[5 rows x 8 columns]"
            ]
          },
          "metadata": {},
          "execution_count": 122
        }
      ]
    },
    {
      "cell_type": "code",
      "metadata": {
        "id": "_182bACpu8o7",
        "outputId": "94fae580-f14f-42d7-cd86-f472227ccc19",
        "colab": {
          "base_uri": "https://localhost:8080/"
        }
      },
      "source": [
        "# Make train and test sets using indexing\n",
        "split_size = int(len(X) * 0.8)\n",
        "X_train, y_train = X[:split_size], y[:split_size]\n",
        "X_test, y_test = X[split_size:], y[split_size:]\n",
        "len(X_train), len(y_train), len(X_test), len(y_test)"
      ],
      "execution_count": 123,
      "outputs": [
        {
          "output_type": "execute_result",
          "data": {
            "text/plain": [
              "(2000, 2000, 500, 500)"
            ]
          },
          "metadata": {},
          "execution_count": 123
        }
      ]
    },
    {
      "cell_type": "markdown",
      "metadata": {
        "id": "yjNyZvC5vleX"
      },
      "source": [
        "## Model 6: Dense (multivariate timeseries)"
      ]
    },
    {
      "cell_type": "code",
      "metadata": {
        "id": "yqfzRC92wAEx",
        "outputId": "0d159328-ba94-425b-c6a5-5db44926701d",
        "colab": {
          "base_uri": "https://localhost:8080/"
        }
      },
      "source": [
        "tf.random.set_seed(42)\n",
        "\n",
        "model_6 = tf.keras.Sequential([\n",
        "      tf.keras.layers.Dense(128, activation=\"relu\"),\n",
        "      tf.keras.layers.Dense(HORIZON)\n",
        "], name=\"model_6_dense_multivariate\")\n",
        "\n",
        "# Commpile\n",
        "model_6.compile(loss=\"mae\",\n",
        "                optimizer=tf.keras.optimizers.Adam())\n",
        "\n",
        "# Fit the model\n",
        "model_6.fit(X_train, \n",
        "            y_train,\n",
        "            epochs=100,\n",
        "            verbose=1,\n",
        "            validation_data=(X_test, y_test),\n",
        "            callbacks=[create_model_checkpoint(model_name=model_6.name)])"
      ],
      "execution_count": 124,
      "outputs": [
        {
          "output_type": "stream",
          "name": "stdout",
          "text": [
            "Epoch 1/100\n",
            "63/63 [==============================] - 1s 6ms/step - loss: 684.9988 - val_loss: 1624.3022\n",
            "INFO:tensorflow:Assets written to: model_experiments/model_6_dense_multivariate/assets\n",
            "Epoch 2/100\n",
            "63/63 [==============================] - 0s 4ms/step - loss: 248.3023 - val_loss: 1615.2324\n",
            "INFO:tensorflow:Assets written to: model_experiments/model_6_dense_multivariate/assets\n",
            "Epoch 3/100\n",
            "63/63 [==============================] - 0s 3ms/step - loss: 225.7503 - val_loss: 1389.4645\n",
            "INFO:tensorflow:Assets written to: model_experiments/model_6_dense_multivariate/assets\n",
            "Epoch 4/100\n",
            "63/63 [==============================] - 0s 4ms/step - loss: 211.0452 - val_loss: 1373.9481\n",
            "INFO:tensorflow:Assets written to: model_experiments/model_6_dense_multivariate/assets\n",
            "Epoch 5/100\n",
            "63/63 [==============================] - 0s 4ms/step - loss: 195.3727 - val_loss: 1349.8660\n",
            "INFO:tensorflow:Assets written to: model_experiments/model_6_dense_multivariate/assets\n",
            "Epoch 6/100\n",
            "63/63 [==============================] - 0s 4ms/step - loss: 185.9839 - val_loss: 1373.0746\n",
            "Epoch 7/100\n",
            "63/63 [==============================] - 0s 4ms/step - loss: 186.1155 - val_loss: 1153.2391\n",
            "INFO:tensorflow:Assets written to: model_experiments/model_6_dense_multivariate/assets\n",
            "Epoch 8/100\n",
            "63/63 [==============================] - 0s 4ms/step - loss: 167.4104 - val_loss: 1131.4030\n",
            "INFO:tensorflow:Assets written to: model_experiments/model_6_dense_multivariate/assets\n",
            "Epoch 9/100\n",
            "63/63 [==============================] - 0s 4ms/step - loss: 158.9080 - val_loss: 1000.3484\n",
            "INFO:tensorflow:Assets written to: model_experiments/model_6_dense_multivariate/assets\n",
            "Epoch 10/100\n",
            "63/63 [==============================] - 0s 3ms/step - loss: 157.2686 - val_loss: 997.8793\n",
            "INFO:tensorflow:Assets written to: model_experiments/model_6_dense_multivariate/assets\n",
            "Epoch 11/100\n",
            "63/63 [==============================] - 0s 4ms/step - loss: 154.4160 - val_loss: 963.8535\n",
            "INFO:tensorflow:Assets written to: model_experiments/model_6_dense_multivariate/assets\n",
            "Epoch 12/100\n",
            "63/63 [==============================] - 0s 3ms/step - loss: 150.2854 - val_loss: 1007.8409\n",
            "Epoch 13/100\n",
            "63/63 [==============================] - 0s 4ms/step - loss: 155.3005 - val_loss: 1066.4089\n",
            "Epoch 14/100\n",
            "63/63 [==============================] - 0s 4ms/step - loss: 146.9332 - val_loss: 985.5558\n",
            "Epoch 15/100\n",
            "63/63 [==============================] - 0s 4ms/step - loss: 145.8294 - val_loss: 898.4013\n",
            "INFO:tensorflow:Assets written to: model_experiments/model_6_dense_multivariate/assets\n",
            "Epoch 16/100\n",
            "63/63 [==============================] - 0s 4ms/step - loss: 151.9236 - val_loss: 994.0859\n",
            "Epoch 17/100\n",
            "63/63 [==============================] - 0s 3ms/step - loss: 145.2506 - val_loss: 936.0098\n",
            "Epoch 18/100\n",
            "63/63 [==============================] - 0s 4ms/step - loss: 151.8409 - val_loss: 1107.8662\n",
            "Epoch 19/100\n",
            "63/63 [==============================] - 0s 4ms/step - loss: 142.6948 - val_loss: 1031.3097\n",
            "Epoch 20/100\n",
            "63/63 [==============================] - 0s 4ms/step - loss: 143.1612 - val_loss: 916.6236\n",
            "Epoch 21/100\n",
            "63/63 [==============================] - 0s 4ms/step - loss: 145.4745 - val_loss: 913.7032\n",
            "Epoch 22/100\n",
            "63/63 [==============================] - 0s 4ms/step - loss: 142.3055 - val_loss: 861.6063\n",
            "INFO:tensorflow:Assets written to: model_experiments/model_6_dense_multivariate/assets\n",
            "Epoch 23/100\n",
            "63/63 [==============================] - 0s 4ms/step - loss: 138.8710 - val_loss: 975.0069\n",
            "Epoch 24/100\n",
            "63/63 [==============================] - 0s 4ms/step - loss: 138.6835 - val_loss: 922.3541\n",
            "Epoch 25/100\n",
            "63/63 [==============================] - 0s 4ms/step - loss: 137.7204 - val_loss: 994.8338\n",
            "Epoch 26/100\n",
            "63/63 [==============================] - 0s 4ms/step - loss: 138.8950 - val_loss: 882.5605\n",
            "Epoch 27/100\n",
            "63/63 [==============================] - 0s 4ms/step - loss: 140.0236 - val_loss: 925.4774\n",
            "Epoch 28/100\n",
            "63/63 [==============================] - 0s 4ms/step - loss: 139.0119 - val_loss: 1165.9756\n",
            "Epoch 29/100\n",
            "63/63 [==============================] - 0s 5ms/step - loss: 151.1548 - val_loss: 874.7670\n",
            "Epoch 30/100\n",
            "63/63 [==============================] - 0s 4ms/step - loss: 143.4574 - val_loss: 884.3740\n",
            "Epoch 31/100\n",
            "63/63 [==============================] - 0s 4ms/step - loss: 145.5563 - val_loss: 1027.3232\n",
            "Epoch 32/100\n",
            "63/63 [==============================] - 0s 3ms/step - loss: 137.6123 - val_loss: 879.2458\n",
            "Epoch 33/100\n",
            "63/63 [==============================] - 0s 3ms/step - loss: 134.6833 - val_loss: 872.8746\n",
            "Epoch 34/100\n",
            "63/63 [==============================] - 0s 4ms/step - loss: 141.0942 - val_loss: 917.6840\n",
            "Epoch 35/100\n",
            "63/63 [==============================] - 0s 4ms/step - loss: 138.6992 - val_loss: 945.8160\n",
            "Epoch 36/100\n",
            "63/63 [==============================] - 0s 4ms/step - loss: 152.4457 - val_loss: 1113.4706\n",
            "Epoch 37/100\n",
            "63/63 [==============================] - 0s 4ms/step - loss: 150.3758 - val_loss: 931.3478\n",
            "Epoch 38/100\n",
            "63/63 [==============================] - 0s 4ms/step - loss: 146.7085 - val_loss: 873.0242\n",
            "Epoch 39/100\n",
            "63/63 [==============================] - 0s 3ms/step - loss: 137.8645 - val_loss: 845.3779\n",
            "INFO:tensorflow:Assets written to: model_experiments/model_6_dense_multivariate/assets\n",
            "Epoch 40/100\n",
            "63/63 [==============================] - 0s 4ms/step - loss: 145.6158 - val_loss: 842.7596\n",
            "INFO:tensorflow:Assets written to: model_experiments/model_6_dense_multivariate/assets\n",
            "Epoch 41/100\n",
            "63/63 [==============================] - 0s 3ms/step - loss: 138.2303 - val_loss: 844.9513\n",
            "Epoch 42/100\n",
            "63/63 [==============================] - 0s 3ms/step - loss: 136.4785 - val_loss: 934.5319\n",
            "Epoch 43/100\n",
            "63/63 [==============================] - 0s 4ms/step - loss: 135.7638 - val_loss: 874.9921\n",
            "Epoch 44/100\n",
            "63/63 [==============================] - 0s 4ms/step - loss: 140.5292 - val_loss: 910.5734\n",
            "Epoch 45/100\n",
            "63/63 [==============================] - 0s 4ms/step - loss: 142.7224 - val_loss: 880.7615\n",
            "Epoch 46/100\n",
            "63/63 [==============================] - 0s 4ms/step - loss: 132.3845 - val_loss: 852.8727\n",
            "Epoch 47/100\n",
            "63/63 [==============================] - 0s 4ms/step - loss: 143.5050 - val_loss: 1119.7396\n",
            "Epoch 48/100\n",
            "63/63 [==============================] - 0s 4ms/step - loss: 155.7092 - val_loss: 842.5593\n",
            "INFO:tensorflow:Assets written to: model_experiments/model_6_dense_multivariate/assets\n",
            "Epoch 49/100\n",
            "63/63 [==============================] - 0s 4ms/step - loss: 137.1254 - val_loss: 845.4194\n",
            "Epoch 50/100\n",
            "63/63 [==============================] - 0s 3ms/step - loss: 137.7962 - val_loss: 1081.8882\n",
            "Epoch 51/100\n",
            "63/63 [==============================] - 0s 3ms/step - loss: 142.9451 - val_loss: 1026.5139\n",
            "Epoch 52/100\n",
            "63/63 [==============================] - 0s 4ms/step - loss: 143.6489 - val_loss: 890.1021\n",
            "Epoch 53/100\n",
            "63/63 [==============================] - 0s 3ms/step - loss: 139.0209 - val_loss: 951.4139\n",
            "Epoch 54/100\n",
            "63/63 [==============================] - 0s 3ms/step - loss: 134.2048 - val_loss: 878.9489\n",
            "Epoch 55/100\n",
            "63/63 [==============================] - 0s 4ms/step - loss: 132.8948 - val_loss: 947.5922\n",
            "Epoch 56/100\n",
            "63/63 [==============================] - 0s 3ms/step - loss: 147.4383 - val_loss: 842.0836\n",
            "INFO:tensorflow:Assets written to: model_experiments/model_6_dense_multivariate/assets\n",
            "Epoch 57/100\n",
            "63/63 [==============================] - 0s 4ms/step - loss: 141.8228 - val_loss: 1227.7684\n",
            "Epoch 58/100\n",
            "63/63 [==============================] - 0s 4ms/step - loss: 139.2343 - val_loss: 841.2781\n",
            "INFO:tensorflow:Assets written to: model_experiments/model_6_dense_multivariate/assets\n",
            "Epoch 59/100\n",
            "63/63 [==============================] - 0s 4ms/step - loss: 133.8976 - val_loss: 852.8776\n",
            "Epoch 60/100\n",
            "63/63 [==============================] - 0s 4ms/step - loss: 135.0349 - val_loss: 1136.9763\n",
            "Epoch 61/100\n",
            "63/63 [==============================] - 0s 4ms/step - loss: 140.5085 - val_loss: 841.3591\n",
            "Epoch 62/100\n",
            "63/63 [==============================] - 0s 4ms/step - loss: 148.6804 - val_loss: 842.6187\n",
            "Epoch 63/100\n",
            "63/63 [==============================] - 0s 4ms/step - loss: 136.1349 - val_loss: 974.7396\n",
            "Epoch 64/100\n",
            "63/63 [==============================] - 0s 4ms/step - loss: 137.5971 - val_loss: 875.3426\n",
            "Epoch 65/100\n",
            "63/63 [==============================] - 0s 4ms/step - loss: 132.1521 - val_loss: 845.4395\n",
            "Epoch 66/100\n",
            "63/63 [==============================] - 0s 4ms/step - loss: 142.1752 - val_loss: 938.4855\n",
            "Epoch 67/100\n",
            "63/63 [==============================] - 0s 3ms/step - loss: 144.8271 - val_loss: 1056.9402\n",
            "Epoch 68/100\n",
            "63/63 [==============================] - 0s 4ms/step - loss: 139.2190 - val_loss: 842.2739\n",
            "Epoch 69/100\n",
            "63/63 [==============================] - 0s 4ms/step - loss: 137.0463 - val_loss: 843.6656\n",
            "Epoch 70/100\n",
            "63/63 [==============================] - 0s 4ms/step - loss: 136.0364 - val_loss: 914.8226\n",
            "Epoch 71/100\n",
            "63/63 [==============================] - 0s 4ms/step - loss: 136.6528 - val_loss: 948.4050\n",
            "Epoch 72/100\n",
            "63/63 [==============================] - 0s 4ms/step - loss: 146.8833 - val_loss: 1134.9216\n",
            "Epoch 73/100\n",
            "63/63 [==============================] - 0s 4ms/step - loss: 143.5751 - val_loss: 981.1070\n",
            "Epoch 74/100\n",
            "63/63 [==============================] - 0s 4ms/step - loss: 135.2325 - val_loss: 898.4450\n",
            "Epoch 75/100\n",
            "63/63 [==============================] - 0s 4ms/step - loss: 143.9436 - val_loss: 898.7489\n",
            "Epoch 76/100\n",
            "63/63 [==============================] - 0s 5ms/step - loss: 137.4130 - val_loss: 873.4868\n",
            "Epoch 77/100\n",
            "63/63 [==============================] - 0s 4ms/step - loss: 134.3590 - val_loss: 839.9553\n",
            "INFO:tensorflow:Assets written to: model_experiments/model_6_dense_multivariate/assets\n",
            "Epoch 78/100\n",
            "63/63 [==============================] - 0s 3ms/step - loss: 137.1729 - val_loss: 859.1024\n",
            "Epoch 79/100\n",
            "63/63 [==============================] - 0s 3ms/step - loss: 139.7462 - val_loss: 937.7020\n",
            "Epoch 80/100\n",
            "63/63 [==============================] - 0s 3ms/step - loss: 141.3228 - val_loss: 936.3228\n",
            "Epoch 81/100\n",
            "63/63 [==============================] - 0s 3ms/step - loss: 133.5313 - val_loss: 922.1069\n",
            "Epoch 82/100\n",
            "63/63 [==============================] - 0s 4ms/step - loss: 140.1947 - val_loss: 858.4403\n",
            "Epoch 83/100\n",
            "63/63 [==============================] - 0s 4ms/step - loss: 132.8830 - val_loss: 1012.3895\n",
            "Epoch 84/100\n",
            "63/63 [==============================] - 0s 4ms/step - loss: 138.5855 - val_loss: 917.8516\n",
            "Epoch 85/100\n",
            "63/63 [==============================] - 0s 4ms/step - loss: 133.2586 - val_loss: 946.0139\n",
            "Epoch 86/100\n",
            "63/63 [==============================] - 0s 4ms/step - loss: 144.5270 - val_loss: 892.5766\n",
            "Epoch 87/100\n",
            "63/63 [==============================] - 0s 4ms/step - loss: 133.3157 - val_loss: 840.1008\n",
            "Epoch 88/100\n",
            "63/63 [==============================] - 0s 4ms/step - loss: 137.1083 - val_loss: 837.9968\n",
            "INFO:tensorflow:Assets written to: model_experiments/model_6_dense_multivariate/assets\n",
            "Epoch 89/100\n",
            "63/63 [==============================] - 0s 4ms/step - loss: 135.9368 - val_loss: 851.8045\n",
            "Epoch 90/100\n",
            "63/63 [==============================] - 0s 4ms/step - loss: 133.6045 - val_loss: 883.1962\n",
            "Epoch 91/100\n",
            "63/63 [==============================] - 0s 4ms/step - loss: 133.2126 - val_loss: 846.2983\n",
            "Epoch 92/100\n",
            "63/63 [==============================] - 0s 4ms/step - loss: 133.4162 - val_loss: 836.8784\n",
            "INFO:tensorflow:Assets written to: model_experiments/model_6_dense_multivariate/assets\n",
            "Epoch 93/100\n",
            "63/63 [==============================] - 0s 4ms/step - loss: 136.3951 - val_loss: 838.9313\n",
            "Epoch 94/100\n",
            "63/63 [==============================] - 0s 4ms/step - loss: 148.9546 - val_loss: 837.3704\n",
            "Epoch 95/100\n",
            "63/63 [==============================] - 0s 4ms/step - loss: 133.0469 - val_loss: 935.8431\n",
            "Epoch 96/100\n",
            "63/63 [==============================] - 0s 3ms/step - loss: 134.2208 - val_loss: 876.3090\n",
            "Epoch 97/100\n",
            "63/63 [==============================] - 0s 3ms/step - loss: 134.9370 - val_loss: 888.6306\n",
            "Epoch 98/100\n",
            "63/63 [==============================] - 0s 4ms/step - loss: 138.8230 - val_loss: 922.1833\n",
            "Epoch 99/100\n",
            "63/63 [==============================] - 0s 4ms/step - loss: 135.2316 - val_loss: 911.1046\n",
            "Epoch 100/100\n",
            "63/63 [==============================] - 0s 4ms/step - loss: 140.8597 - val_loss: 852.0735\n"
          ]
        },
        {
          "output_type": "execute_result",
          "data": {
            "text/plain": [
              "<keras.callbacks.History at 0x7fc4d7562650>"
            ]
          },
          "metadata": {},
          "execution_count": 124
        }
      ]
    },
    {
      "cell_type": "code",
      "metadata": {
        "id": "o0HXKu5rw_PZ",
        "outputId": "fe4eb02d-e5ef-457a-aa4b-4a2d8116ccad",
        "colab": {
          "base_uri": "https://localhost:8080/"
        }
      },
      "source": [
        "# Evaluate\n",
        "model_6.evaluate(X_test, y_test)"
      ],
      "execution_count": 125,
      "outputs": [
        {
          "output_type": "stream",
          "name": "stdout",
          "text": [
            "16/16 [==============================] - 0s 3ms/step - loss: 852.0735\n"
          ]
        },
        {
          "output_type": "execute_result",
          "data": {
            "text/plain": [
              "852.073486328125"
            ]
          },
          "metadata": {},
          "execution_count": 125
        }
      ]
    },
    {
      "cell_type": "code",
      "metadata": {
        "id": "k3b29YFtxKEt"
      },
      "source": [
        "# Load in and evaluate the best performing parameters\n",
        "model_6 = tf.keras.models.load_model(\"/content/model_experiments/model_6_dense_multivariate\")"
      ],
      "execution_count": 126,
      "outputs": []
    },
    {
      "cell_type": "code",
      "metadata": {
        "id": "46FkAf-VxddI",
        "outputId": "a79c18f5-e38b-45b1-9488-12ec8c0ce4df",
        "colab": {
          "base_uri": "https://localhost:8080/"
        }
      },
      "source": [
        "model_6.evaluate(X_test, y_test)"
      ],
      "execution_count": 127,
      "outputs": [
        {
          "output_type": "stream",
          "name": "stdout",
          "text": [
            "16/16 [==============================] - 0s 2ms/step - loss: 836.8784\n"
          ]
        },
        {
          "output_type": "execute_result",
          "data": {
            "text/plain": [
              "836.8783569335938"
            ]
          },
          "metadata": {},
          "execution_count": 127
        }
      ]
    },
    {
      "cell_type": "code",
      "metadata": {
        "id": "t4CqLuaTxqnU"
      },
      "source": [
        "# Make predictions with multivariate model\n",
        "model_6_predictions = tf.squeeze(model_6.predict(X_test))"
      ],
      "execution_count": 129,
      "outputs": []
    },
    {
      "cell_type": "code",
      "metadata": {
        "id": "wi3T9GTQx4EI"
      },
      "source": [
        "model_6_results = evaluate_preds(y_true=y_test,\n",
        "                                 y_pred=model_6_predictions)"
      ],
      "execution_count": 130,
      "outputs": []
    },
    {
      "cell_type": "code",
      "metadata": {
        "id": "nHyOWqc0yOMs",
        "outputId": "616cc22b-0270-4c8f-f324-6c65af2ee911",
        "colab": {
          "base_uri": "https://localhost:8080/"
        }
      },
      "source": [
        "model_6_results"
      ],
      "execution_count": 131,
      "outputs": [
        {
          "output_type": "execute_result",
          "data": {
            "text/plain": [
              "{'mae': 836.87836,\n",
              " 'mape': 2.5949144,\n",
              " 'mase': 0.99311507,\n",
              " 'mse': 1829586.1,\n",
              " 'rmse': 1352.622}"
            ]
          },
          "metadata": {},
          "execution_count": 131
        }
      ]
    },
    {
      "cell_type": "code",
      "metadata": {
        "id": "RPfcX_DiyP8x",
        "outputId": "4b24f7d9-ab5c-4c08-b4df-c912b7d1ccd3",
        "colab": {
          "base_uri": "https://localhost:8080/"
        }
      },
      "source": [
        "model_1_results"
      ],
      "execution_count": 132,
      "outputs": [
        {
          "output_type": "execute_result",
          "data": {
            "text/plain": [
              "{'mae': 847.75,\n",
              " 'mape': 2.6257904,\n",
              " 'mase': 1.0060163,\n",
              " 'mse': 1866274.5,\n",
              " 'rmse': 1366.1166}"
            ]
          },
          "metadata": {},
          "execution_count": 132
        }
      ]
    },
    {
      "cell_type": "code",
      "metadata": {
        "id": "1enKdLIuyRj1",
        "outputId": "79da711c-40a0-460c-a1a8-44f02c469de6",
        "colab": {
          "base_uri": "https://localhost:8080/"
        }
      },
      "source": [
        "naive_results"
      ],
      "execution_count": 133,
      "outputs": [
        {
          "output_type": "execute_result",
          "data": {
            "text/plain": [
              "{'mae': 839.7061,\n",
              " 'mape': 2.6012962,\n",
              " 'mase': 0.9982083,\n",
              " 'mse': 1825811.4,\n",
              " 'rmse': 1351.2258}"
            ]
          },
          "metadata": {},
          "execution_count": 133
        }
      ]
    },
    {
      "cell_type": "code",
      "metadata": {
        "id": "FmszLMibyejT"
      },
      "source": [
        ""
      ],
      "execution_count": null,
      "outputs": []
    }
  ]
}