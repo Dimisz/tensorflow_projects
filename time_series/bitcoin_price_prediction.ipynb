{
  "nbformat": 4,
  "nbformat_minor": 0,
  "metadata": {
    "colab": {
      "name": "bitcoin_price_prediction.ipynb",
      "provenance": [],
      "authorship_tag": "ABX9TyPwevxEpFitFeWPBJZBZM7D",
      "include_colab_link": true
    },
    "kernelspec": {
      "name": "python3",
      "display_name": "Python 3"
    },
    "language_info": {
      "name": "python"
    },
    "accelerator": "GPU"
  },
  "cells": [
    {
      "cell_type": "markdown",
      "metadata": {
        "id": "view-in-github",
        "colab_type": "text"
      },
      "source": [
        "<a href=\"https://colab.research.google.com/github/Dimisz/tensorflow_projects/blob/main/time_series/bitcoin_price_prediction.ipynb\" target=\"_parent\"><img src=\"https://colab.research.google.com/assets/colab-badge.svg\" alt=\"Open In Colab\"/></a>"
      ]
    },
    {
      "cell_type": "markdown",
      "metadata": {
        "id": "THwoZgzThzfb"
      },
      "source": [
        "## 1. Data\n",
        "\n",
        "Data downloaded from https://www.coindesk.com/price/bitcoin/ on September 14, 2021\n",
        "\n",
        "For the CSV file used in the project, [see the GitHub repo](https://raw.githubusercontent.com/Dimisz/tensorflow_projects/main/time_series/BTC_USD_2014-11-04_2021-09-14-CoinDesk.csv)."
      ]
    },
    {
      "cell_type": "code",
      "metadata": {
        "colab": {
          "base_uri": "https://localhost:8080/"
        },
        "id": "bV-FBnB7iHQp",
        "outputId": "c0f9ffa3-e585-4b73-f536-b4bddc444311"
      },
      "source": [
        "!wget https://raw.githubusercontent.com/Dimisz/tensorflow_projects/main/time_series/BTC_USD_2014-11-04_2021-09-14-CoinDesk.csv"
      ],
      "execution_count": 2,
      "outputs": [
        {
          "output_type": "stream",
          "name": "stdout",
          "text": [
            "--2021-10-12 02:31:29--  https://raw.githubusercontent.com/Dimisz/tensorflow_projects/main/time_series/BTC_USD_2014-11-04_2021-09-14-CoinDesk.csv\n",
            "Resolving raw.githubusercontent.com (raw.githubusercontent.com)... 185.199.110.133, 185.199.109.133, 185.199.111.133, ...\n",
            "Connecting to raw.githubusercontent.com (raw.githubusercontent.com)|185.199.110.133|:443... connected.\n",
            "HTTP request sent, awaiting response... 200 OK\n",
            "Length: 167143 (163K) [text/plain]\n",
            "Saving to: ‘BTC_USD_2014-11-04_2021-09-14-CoinDesk.csv’\n",
            "\n",
            "BTC_USD_2014-11-04_ 100%[===================>] 163.23K  --.-KB/s    in 0.009s  \n",
            "\n",
            "2021-10-12 02:31:29 (17.2 MB/s) - ‘BTC_USD_2014-11-04_2021-09-14-CoinDesk.csv’ saved [167143/167143]\n",
            "\n"
          ]
        }
      ]
    },
    {
      "cell_type": "markdown",
      "metadata": {
        "id": "duzYV9XJjCWa"
      },
      "source": [
        "### Read the data to a DataFrame using pandas"
      ]
    },
    {
      "cell_type": "code",
      "metadata": {
        "id": "3ZeuYQ0kjI1C"
      },
      "source": [
        "import pandas as pd\n",
        "\n",
        "#Read the data, parse the date column and assign it to be the index\n",
        "df = pd.read_csv(\"/content/BTC_USD_2014-11-04_2021-09-14-CoinDesk.csv\",\n",
        "                 parse_dates=['Date'],\n",
        "                 index_col=['Date'])"
      ],
      "execution_count": 3,
      "outputs": []
    },
    {
      "cell_type": "code",
      "metadata": {
        "colab": {
          "base_uri": "https://localhost:8080/"
        },
        "id": "giYk2djfjgRH",
        "outputId": "98d8d86e-78bd-4721-d5b8-5eee335225b2"
      },
      "source": [
        "df.head(), len(df)"
      ],
      "execution_count": 4,
      "outputs": [
        {
          "output_type": "execute_result",
          "data": {
            "text/plain": [
              "(           Currency  Closing Price (USD)  ...  24h High (USD)  24h Low (USD)\n",
              " Date                                      ...                               \n",
              " 2014-11-04      BTC            324.71833  ...       332.75133      323.06333\n",
              " 2014-11-05      BTC            332.45666  ...       335.81166      320.93333\n",
              " 2014-11-06      BTC            336.58500  ...       341.49000      328.56166\n",
              " 2014-11-07      BTC            346.77500  ...       351.57500      336.02833\n",
              " 2014-11-08      BTC            344.81166  ...       351.29500      339.86000\n",
              " \n",
              " [5 rows x 5 columns], 2507)"
            ]
          },
          "metadata": {},
          "execution_count": 4
        }
      ]
    },
    {
      "cell_type": "code",
      "metadata": {
        "colab": {
          "base_uri": "https://localhost:8080/"
        },
        "id": "kdpvQI3Ejvao",
        "outputId": "bddbf64f-c713-43dc-bb6b-a1fe34a83e29"
      },
      "source": [
        "# Check if there are any missing values\n",
        "df.isna().sum()"
      ],
      "execution_count": 5,
      "outputs": [
        {
          "output_type": "execute_result",
          "data": {
            "text/plain": [
              "Currency               0\n",
              "Closing Price (USD)    0\n",
              "24h Open (USD)         0\n",
              "24h High (USD)         0\n",
              "24h Low (USD)          0\n",
              "dtype: int64"
            ]
          },
          "metadata": {},
          "execution_count": 5
        }
      ]
    },
    {
      "cell_type": "markdown",
      "metadata": {
        "id": "_-LNghkLp-_7"
      },
      "source": [
        "### Create a new dataframe we'll be working with.\n",
        "* We'll just keep the closing price (and data as an index column).\n",
        "* `Closing Price (USD)` column willl be renamed to `Price`"
      ]
    },
    {
      "cell_type": "code",
      "metadata": {
        "id": "qm60xL6pj6bW",
        "colab": {
          "base_uri": "https://localhost:8080/",
          "height": 235
        },
        "outputId": "0f129d19-093a-4fe6-890a-93ee8d209a22"
      },
      "source": [
        "btc_df = pd.DataFrame(df['Closing Price (USD)']).rename(columns={\"Closing Price (USD)\": \"Price\"})\n",
        "btc_df.head()"
      ],
      "execution_count": 6,
      "outputs": [
        {
          "output_type": "execute_result",
          "data": {
            "text/html": [
              "<div>\n",
              "<style scoped>\n",
              "    .dataframe tbody tr th:only-of-type {\n",
              "        vertical-align: middle;\n",
              "    }\n",
              "\n",
              "    .dataframe tbody tr th {\n",
              "        vertical-align: top;\n",
              "    }\n",
              "\n",
              "    .dataframe thead th {\n",
              "        text-align: right;\n",
              "    }\n",
              "</style>\n",
              "<table border=\"1\" class=\"dataframe\">\n",
              "  <thead>\n",
              "    <tr style=\"text-align: right;\">\n",
              "      <th></th>\n",
              "      <th>Price</th>\n",
              "    </tr>\n",
              "    <tr>\n",
              "      <th>Date</th>\n",
              "      <th></th>\n",
              "    </tr>\n",
              "  </thead>\n",
              "  <tbody>\n",
              "    <tr>\n",
              "      <th>2014-11-04</th>\n",
              "      <td>324.71833</td>\n",
              "    </tr>\n",
              "    <tr>\n",
              "      <th>2014-11-05</th>\n",
              "      <td>332.45666</td>\n",
              "    </tr>\n",
              "    <tr>\n",
              "      <th>2014-11-06</th>\n",
              "      <td>336.58500</td>\n",
              "    </tr>\n",
              "    <tr>\n",
              "      <th>2014-11-07</th>\n",
              "      <td>346.77500</td>\n",
              "    </tr>\n",
              "    <tr>\n",
              "      <th>2014-11-08</th>\n",
              "      <td>344.81166</td>\n",
              "    </tr>\n",
              "  </tbody>\n",
              "</table>\n",
              "</div>"
            ],
            "text/plain": [
              "                Price\n",
              "Date                 \n",
              "2014-11-04  324.71833\n",
              "2014-11-05  332.45666\n",
              "2014-11-06  336.58500\n",
              "2014-11-07  346.77500\n",
              "2014-11-08  344.81166"
            ]
          },
          "metadata": {},
          "execution_count": 6
        }
      ]
    },
    {
      "cell_type": "markdown",
      "metadata": {
        "id": "iJ5tu_Ycpp3G"
      },
      "source": [
        "### Visualize the bitcoin prices."
      ]
    },
    {
      "cell_type": "code",
      "metadata": {
        "id": "nkHQi9H9qpvI",
        "colab": {
          "base_uri": "https://localhost:8080/",
          "height": 406
        },
        "outputId": "be528985-aee7-4976-f35f-e34f109fd699"
      },
      "source": [
        "import matplotlib.pyplot as plt\n",
        "btc_df.plot(figsize=(9,6))\n",
        "plt.ylabel(\"Bitcoin Price\")\n",
        "plt.title(\"Price of Bitcoin from Nov 04, 2014 to Sept 14, 2021\", fontsize=16);"
      ],
      "execution_count": 7,
      "outputs": [
        {
          "output_type": "display_data",
          "data": {
            "image/png": "[encoded data removed]",
            "text/plain": [
              "<Figure size 648x432 with 1 Axes>"
            ]
          },
          "metadata": {
            "needs_background": "light"
          }
        }
      ]
    },
    {
      "cell_type": "markdown",
      "metadata": {
        "id": "kjoXmWX3qu8g"
      },
      "source": [
        "### Read in the data with python's CSV module"
      ]
    },
    {
      "cell_type": "code",
      "metadata": {
        "id": "K_6vbrgXr6X6"
      },
      "source": [
        "import csv\n",
        "from datetime import datetime\n",
        "\n",
        "timesteps = []\n",
        "btc_price= []\n",
        "\n",
        "with open(\"/content/BTC_USD_2014-11-04_2021-09-14-CoinDesk.csv\", \"r\") as f:\n",
        "  csv_reader = csv.reader(f, delimiter=\",\")\n",
        "  next(csv_reader) #skip the first line (column titles)\n",
        "  for line in csv_reader:\n",
        "    #get the dates in date format (convert from string to date)\n",
        "    timesteps.append(datetime.strptime(line[1], \"%Y-%m-%d\")) \n",
        "    #get the closing price as float\n",
        "    btc_price.append(float(line[2]))\n"
      ],
      "execution_count": 8,
      "outputs": []
    },
    {
      "cell_type": "code",
      "metadata": {
        "id": "eNYugd56Cnha",
        "colab": {
          "base_uri": "https://localhost:8080/"
        },
        "outputId": "b63cefaa-66ca-4363-c62a-e2af0e84a8b3"
      },
      "source": [
        "timesteps[:10], btc_price[:10]"
      ],
      "execution_count": 9,
      "outputs": [
        {
          "output_type": "execute_result",
          "data": {
            "text/plain": [
              "([datetime.datetime(2014, 11, 4, 0, 0),\n",
              "  datetime.datetime(2014, 11, 5, 0, 0),\n",
              "  datetime.datetime(2014, 11, 6, 0, 0),\n",
              "  datetime.datetime(2014, 11, 7, 0, 0),\n",
              "  datetime.datetime(2014, 11, 8, 0, 0),\n",
              "  datetime.datetime(2014, 11, 9, 0, 0),\n",
              "  datetime.datetime(2014, 11, 10, 0, 0),\n",
              "  datetime.datetime(2014, 11, 11, 0, 0),\n",
              "  datetime.datetime(2014, 11, 12, 0, 0),\n",
              "  datetime.datetime(2014, 11, 13, 0, 0)],\n",
              " [324.71833,\n",
              "  332.45666,\n",
              "  336.585,\n",
              "  346.775,\n",
              "  344.81166,\n",
              "  343.065,\n",
              "  358.50166,\n",
              "  368.07666,\n",
              "  376.99666,\n",
              "  442.10666])"
            ]
          },
          "metadata": {},
          "execution_count": 9
        }
      ]
    },
    {
      "cell_type": "markdown",
      "metadata": {
        "id": "2NLbFPG5Cpjq"
      },
      "source": [
        "### Plot from CSV"
      ]
    },
    {
      "cell_type": "code",
      "metadata": {
        "id": "YyNBVqQ0Nx-D",
        "colab": {
          "base_uri": "https://localhost:8080/",
          "height": 460
        },
        "outputId": "94354180-1f4a-41f7-fd59-ea67d7a2c21b"
      },
      "source": [
        "import matplotlib.pyplot as plt\n",
        "import numpy as np\n",
        "plt.figure(figsize=(10,7))\n",
        "plt.plot(timesteps, btc_price)\n",
        "plt.ylabel(\"BTC Price\")\n",
        "plt.title(\"Price of Bitcoin from Nov 4, 2014 to Sept 14, 2021\", fontsize=16)\n",
        "plt.xlabel(\"Date\");"
      ],
      "execution_count": 10,
      "outputs": [
        {
          "output_type": "display_data",
          "data": {
            "image/png": "[encoded data removed]",
            "text/plain": [
              "<Figure size 720x504 with 1 Axes>"
            ]
          },
          "metadata": {
            "needs_background": "light"
          }
        }
      ]
    },
    {
      "cell_type": "markdown",
      "metadata": {
        "id": "tQGZpCx1ir1M"
      },
      "source": [
        "## Format Data, Part 1"
      ]
    },
    {
      "cell_type": "markdown",
      "metadata": {
        "id": "UtBHNgZEjPa3"
      },
      "source": [
        "### Create, Train and Test sets of our Time Series Data"
      ]
    },
    {
      "cell_type": "markdown",
      "metadata": {
        "id": "2Rr260DJqys6"
      },
      "source": [
        "#### Creating train and test sets with time series data (the wrong way)"
      ]
    },
    {
      "cell_type": "code",
      "metadata": {
        "id": "hD9g0hkIrL-w",
        "colab": {
          "base_uri": "https://localhost:8080/",
          "height": 0
        },
        "outputId": "31049c61-8453-4476-fc61-4f085f10f70c"
      },
      "source": [
        "btc_df.head()"
      ],
      "execution_count": 11,
      "outputs": [
        {
          "output_type": "execute_result",
          "data": {
            "text/html": [
              "<div>\n",
              "<style scoped>\n",
              "    .dataframe tbody tr th:only-of-type {\n",
              "        vertical-align: middle;\n",
              "    }\n",
              "\n",
              "    .dataframe tbody tr th {\n",
              "        vertical-align: top;\n",
              "    }\n",
              "\n",
              "    .dataframe thead th {\n",
              "        text-align: right;\n",
              "    }\n",
              "</style>\n",
              "<table border=\"1\" class=\"dataframe\">\n",
              "  <thead>\n",
              "    <tr style=\"text-align: right;\">\n",
              "      <th></th>\n",
              "      <th>Price</th>\n",
              "    </tr>\n",
              "    <tr>\n",
              "      <th>Date</th>\n",
              "      <th></th>\n",
              "    </tr>\n",
              "  </thead>\n",
              "  <tbody>\n",
              "    <tr>\n",
              "      <th>2014-11-04</th>\n",
              "      <td>324.71833</td>\n",
              "    </tr>\n",
              "    <tr>\n",
              "      <th>2014-11-05</th>\n",
              "      <td>332.45666</td>\n",
              "    </tr>\n",
              "    <tr>\n",
              "      <th>2014-11-06</th>\n",
              "      <td>336.58500</td>\n",
              "    </tr>\n",
              "    <tr>\n",
              "      <th>2014-11-07</th>\n",
              "      <td>346.77500</td>\n",
              "    </tr>\n",
              "    <tr>\n",
              "      <th>2014-11-08</th>\n",
              "      <td>344.81166</td>\n",
              "    </tr>\n",
              "  </tbody>\n",
              "</table>\n",
              "</div>"
            ],
            "text/plain": [
              "                Price\n",
              "Date                 \n",
              "2014-11-04  324.71833\n",
              "2014-11-05  332.45666\n",
              "2014-11-06  336.58500\n",
              "2014-11-07  346.77500\n",
              "2014-11-08  344.81166"
            ]
          },
          "metadata": {},
          "execution_count": 11
        }
      ]
    },
    {
      "cell_type": "code",
      "metadata": {
        "id": "FOdT9oNcq9u-"
      },
      "source": [
        "# Get bitcoin date array\n",
        "timesteps = btc_df.index.to_numpy()\n",
        "prices = btc_df['Price'].to_numpy()"
      ],
      "execution_count": 12,
      "outputs": []
    },
    {
      "cell_type": "code",
      "metadata": {
        "id": "7uwgQZrXrj4H",
        "colab": {
          "base_uri": "https://localhost:8080/"
        },
        "outputId": "05800879-2d89-4a49-f9ae-5a5b12376720"
      },
      "source": [
        "timesteps[:10], prices[:10]"
      ],
      "execution_count": 13,
      "outputs": [
        {
          "output_type": "execute_result",
          "data": {
            "text/plain": [
              "(array(['2014-11-04T00:00:00.000000000', '2014-11-05T00:00:00.000000000',\n",
              "        '2014-11-06T00:00:00.000000000', '2014-11-07T00:00:00.000000000',\n",
              "        '2014-11-08T00:00:00.000000000', '2014-11-09T00:00:00.000000000',\n",
              "        '2014-11-10T00:00:00.000000000', '2014-11-11T00:00:00.000000000',\n",
              "        '2014-11-12T00:00:00.000000000', '2014-11-13T00:00:00.000000000'],\n",
              "       dtype='datetime64[ns]'),\n",
              " array([324.71833, 332.45666, 336.585  , 346.775  , 344.81166, 343.065  ,\n",
              "        358.50166, 368.07666, 376.99666, 442.10666]))"
            ]
          },
          "metadata": {},
          "execution_count": 13
        }
      ]
    },
    {
      "cell_type": "code",
      "metadata": {
        "id": "3ug8kXf6rnxR",
        "colab": {
          "base_uri": "https://localhost:8080/"
        },
        "outputId": "412f3e96-2601-43e4-8726-c66bf1019e6c"
      },
      "source": [
        "# The wrong way to make train/test sets for time series\n",
        "from sklearn.model_selection import train_test_split\n",
        "\n",
        "X_train, X_test, y_train, y_test = train_test_split(timesteps,\n",
        "                                                    prices,\n",
        "                                                    test_size=0.2,\n",
        "                                                    random_state=42)\n",
        "X_train.shape, X_test.shape, y_train.shape, y_test.shape"
      ],
      "execution_count": 14,
      "outputs": [
        {
          "output_type": "execute_result",
          "data": {
            "text/plain": [
              "((2005,), (502,), (2005,), (502,))"
            ]
          },
          "metadata": {},
          "execution_count": 14
        }
      ]
    },
    {
      "cell_type": "code",
      "metadata": {
        "id": "O-XLjIJIsVw0",
        "colab": {
          "base_uri": "https://localhost:8080/",
          "height": 0
        },
        "outputId": "a6cd2a50-2550-478f-939d-4f6968b13073"
      },
      "source": [
        "# Let's plot wrong train and test splits\n",
        "plt.figure(figsize=(10,7))\n",
        "plt.scatter(X_train, y_train, s=5, label=\"Train data\")\n",
        "plt.scatter(X_test, y_test, s=5, label=\"Test data\")\n",
        "plt.xlabel(\"Date\")\n",
        "plt.ylabel(\"BTC Price\")\n",
        "plt.legend(fontsize=14)\n",
        "plt.show();"
      ],
      "execution_count": 15,
      "outputs": [
        {
          "output_type": "display_data",
          "data": {
            "image/png": "[encoded data removed]",
            "text/plain": [
              "<Figure size 720x504 with 1 Axes>"
            ]
          },
          "metadata": {
            "needs_background": "light"
          }
        }
      ]
    },
    {
      "cell_type": "markdown",
      "metadata": {
        "id": "MQagcRd3tA__"
      },
      "source": [
        "#### Creating train and test sets with time series data (the right way)"
      ]
    },
    {
      "cell_type": "code",
      "metadata": {
        "id": "VX10dI-Ftg2d"
      },
      "source": [
        "split_size = int(0.8 * len(prices)) # 80% training / 20% test"
      ],
      "execution_count": 16,
      "outputs": []
    },
    {
      "cell_type": "code",
      "metadata": {
        "id": "pEynUiO0uX8U",
        "colab": {
          "base_uri": "https://localhost:8080/"
        },
        "outputId": "715a786e-c052-4f9e-9824-de313f697fd1"
      },
      "source": [
        "# Create train dataset\n",
        "X_train, y_train = timesteps[:split_size], prices[:split_size]\n",
        "\n",
        "#Create test dataset\n",
        "X_test, y_test = timesteps[split_size:], prices[split_size:]\n",
        "\n",
        "len(X_train), len(X_test), len(y_train), len(y_test)\n"
      ],
      "execution_count": 17,
      "outputs": [
        {
          "output_type": "execute_result",
          "data": {
            "text/plain": [
              "(2005, 502, 2005, 502)"
            ]
          },
          "metadata": {},
          "execution_count": 17
        }
      ]
    },
    {
      "cell_type": "code",
      "metadata": {
        "id": "Rjh8CXo8u4bH",
        "colab": {
          "base_uri": "https://localhost:8080/",
          "height": 0
        },
        "outputId": "af3d1c1f-3bed-4d5e-99ef-7caf57536bc6"
      },
      "source": [
        "# Let's plot the train and test splits\n",
        "plt.figure(figsize=(10,7))\n",
        "plt.scatter(X_train, y_train, s=5, label=\"Train data\")\n",
        "plt.scatter(X_test, y_test, s=5, label=\"Test data\")\n",
        "plt.xlabel(\"Date\")\n",
        "plt.ylabel(\"BTC Price\")\n",
        "plt.legend(fontsize=14)\n",
        "plt.show();"
      ],
      "execution_count": 18,
      "outputs": [
        {
          "output_type": "display_data",
          "data": {
            "image/png": "[encoded data removed]",
            "text/plain": [
              "<Figure size 720x504 with 1 Axes>"
            ]
          },
          "metadata": {
            "needs_background": "light"
          }
        }
      ]
    },
    {
      "cell_type": "markdown",
      "metadata": {
        "id": "QX_sp4TovBmt"
      },
      "source": [
        "#### Create a plotting function"
      ]
    },
    {
      "cell_type": "code",
      "metadata": {
        "id": "sHb4TBnFvvkh"
      },
      "source": [
        "def plot_time_series(timesteps, values, format=\".\", start=0, end=None, label=None):\n",
        "  \"\"\"\n",
        "  Plots timesteps (a series of points in time) \n",
        "  against values (a series of values across time)\n",
        "\n",
        "  Parameters\n",
        "  ----------------\n",
        "  timesteps : array of timestep values\n",
        "  values : array of values across time\n",
        "  format : style of plot, default \".\"\n",
        "  start : where to start the plot (setting a value will index from start of timesteps & values)\n",
        "  end : where to end the plot (similar to start but for the end)\n",
        "  label : label to show on plot about values, default : None\n",
        "\n",
        "  \"\"\"\n",
        "  \n",
        "  plt.plot(timesteps[start:end], values[start:end], format, label=label)\n",
        "  plt.xlabel(\"Time\")\n",
        "  plt.ylabel(\"BTC Price\")\n",
        "  if label:\n",
        "    plt.legend(fontsize=14) # make label bigger\n",
        "  \n",
        "  plt.grid(True)"
      ],
      "execution_count": 19,
      "outputs": []
    },
    {
      "cell_type": "code",
      "metadata": {
        "id": "LKLUdzWKxiCs",
        "colab": {
          "base_uri": "https://localhost:8080/",
          "height": 442
        },
        "outputId": "325de236-00ef-4277-e16b-135f78d13c8c"
      },
      "source": [
        "plt.figure(figsize=(10,7))\n",
        "plot_time_series(timesteps=X_train, values=y_train, label=\"Train data\")\n",
        "plot_time_series(timesteps=X_test, values=y_test, label=\"Test data\")"
      ],
      "execution_count": 20,
      "outputs": [
        {
          "output_type": "display_data",
          "data": {
            "image/png": "[encoded data removed]",
            "text/plain": [
              "<Figure size 720x504 with 1 Axes>"
            ]
          },
          "metadata": {
            "needs_background": "light"
          }
        }
      ]
    },
    {
      "cell_type": "markdown",
      "metadata": {
        "id": "zbz73mHGx5hZ"
      },
      "source": [
        "## Modelling experiments"
      ]
    },
    {
      "cell_type": "markdown",
      "metadata": {
        "id": "G9EXSxKw1qfd"
      },
      "source": [
        "Terms to be familiar with:\n",
        "* **`Horizon`** - number of steps into the future we are going to predicct.\n",
        "\n",
        "* **`Window size`** - number of timesteps we're going to use to predict horizon"
      ]
    },
    {
      "cell_type": "markdown",
      "metadata": {
        "id": "fUPXf3Fs2xzy"
      },
      "source": [
        "### Model 0. Naive Forecast (Baseline)\n",
        "\n",
        "The formula:\n",
        "\n",
        "$$\\hat{y}_{t} = y_{t-1}$$\n",
        "\n",
        "In English:\n",
        "> The prediction at timestep t (y-hat) is equal to the value at timestep t-1 (previous timestep) - this is for a horizon of 1"
      ]
    },
    {
      "cell_type": "code",
      "metadata": {
        "id": "-EbnoUGz3X2v",
        "colab": {
          "base_uri": "https://localhost:8080/"
        },
        "outputId": "331cb488-d76b-4732-9586-7d24c0b10831"
      },
      "source": [
        "naive_forecast = y_test[:-1]\n",
        "\n",
        "naive_forecast[:10], naive_forecast[-10:]"
      ],
      "execution_count": 21,
      "outputs": [
        {
          "output_type": "execute_result",
          "data": {
            "text/plain": [
              "(array([8767.67262337, 8853.77448401, 8963.0575578 , 8904.71381654,\n",
              "        8887.50589259, 8978.28358712, 9371.68427279, 9900.67886662,\n",
              "        9917.24841434, 9617.51819493]),\n",
              " array([49709.61199434, 49999.55557859, 51693.80939808, 52506.68564748,\n",
              "        46897.60147675, 46769.31439122, 46404.36448102, 44720.75555014,\n",
              "        45253.13062479, 45510.56324938]))"
            ]
          },
          "metadata": {},
          "execution_count": 21
        }
      ]
    },
    {
      "cell_type": "code",
      "metadata": {
        "id": "j6GomxPw4ejc",
        "colab": {
          "base_uri": "https://localhost:8080/"
        },
        "outputId": "42bafd89-4d11-4d97-d8b5-08551d8a62d0"
      },
      "source": [
        "y_test[-10:]"
      ],
      "execution_count": 22,
      "outputs": [
        {
          "output_type": "execute_result",
          "data": {
            "text/plain": [
              "array([49999.55557859, 51693.80939808, 52506.68564748, 46897.60147675,\n",
              "       46769.31439122, 46404.36448102, 44720.75555014, 45253.13062479,\n",
              "       45510.56324938, 45097.79721752])"
            ]
          },
          "metadata": {},
          "execution_count": 22
        }
      ]
    },
    {
      "cell_type": "code",
      "metadata": {
        "id": "h9YjNlJQ4od8",
        "colab": {
          "base_uri": "https://localhost:8080/",
          "height": 446
        },
        "outputId": "bc209b14-b0f1-4e0e-a54d-f34c931f5054"
      },
      "source": [
        "# Plot naive forecast\n",
        "plt.figure(figsize=(10,7))\n",
        "#plot_time_series(timesteps=X_train, values=y_train, label=\"Train data\", start=200)\n",
        "plot_time_series(timesteps=X_test, values=y_test, label=\"Test data\", format='-', start=350)\n",
        "plot_time_series(timesteps=X_test[1:], values=naive_forecast, format='-', label=\"Naive Forecast\", start=350)"
      ],
      "execution_count": 23,
      "outputs": [
        {
          "output_type": "display_data",
          "data": {
            "image/png": "[encoded data removed]",
            "text/plain": [
              "<Figure size 720x504 with 1 Axes>"
            ]
          },
          "metadata": {
            "needs_background": "light"
          }
        }
      ]
    },
    {
      "cell_type": "markdown",
      "metadata": {
        "id": "SrpKL65V9Rvc"
      },
      "source": [
        "#### Reference book: 'Forecasting: Principles in Practice'"
      ]
    },
    {
      "cell_type": "markdown",
      "metadata": {
        "id": "yeMp8btr-baP"
      },
      "source": [
        "### Evaluating a TimeSeries model"
      ]
    },
    {
      "cell_type": "markdown",
      "metadata": {
        "id": "-5LRJVc3-2uR"
      },
      "source": [
        "We're predicting a number, i.e. it's a form of regression problem.\n",
        "\n",
        "Because we're working on a regression problem, we need regression metrics:\n",
        "\n",
        "* MAE - mean absolute error\n",
        "* MSE - mean squared error\n",
        "* RMSE - root mean square error\n",
        "* MAPE/sMAPE - (symmetric) mean absolute percentage error\n",
        "\n",
        "We're evaluating **how does our model forecast compared to the actual values?**\n",
        "\n",
        "Reference: Forecasting: Principles and Practice, chapter 5.8"
      ]
    },
    {
      "cell_type": "code",
      "metadata": {
        "id": "zZYRuf4eB95k"
      },
      "source": [
        "import tensorflow as tf"
      ],
      "execution_count": 24,
      "outputs": []
    },
    {
      "cell_type": "code",
      "metadata": {
        "id": "vsQlDLFxCGV5"
      },
      "source": [
        "# MASE implementation (since there's no appropriate function in tensorflow)\n",
        "def mean_absolute_scaled_error(y_true, y_pred):\n",
        "  \"\"\"\n",
        "  Implementing MASE (assuming no seasonality of data, i.e. data is not influenced by season of the year).\n",
        "\n",
        "  \"\"\"\n",
        "  mae = tf.reduce_mean(tf.abs(y_true-y_pred))\n",
        "  # Find MAE of naive forecast / seasonality (data published daily) is 1 days, hence shift 1 \n",
        "  mae_naive_no_season = tf.reduce_mean(tf.abs(y_true[1:] - y_true[:-1]))\n",
        "\n",
        "  return mae / mae_naive_no_season\n",
        "\n"
      ],
      "execution_count": 25,
      "outputs": []
    },
    {
      "cell_type": "code",
      "metadata": {
        "id": "N6ZEgkkYDxFW",
        "colab": {
          "base_uri": "https://localhost:8080/"
        },
        "outputId": "c6ea6e77-e022-4163-b6d6-325f74f5701f"
      },
      "source": [
        "mean_absolute_scaled_error(y_true=y_test[1:], y_pred=naive_forecast).numpy()"
      ],
      "execution_count": 26,
      "outputs": [
        {
          "output_type": "execute_result",
          "data": {
            "text/plain": [
              "0.9982082921428421"
            ]
          },
          "metadata": {},
          "execution_count": 26
        }
      ]
    },
    {
      "cell_type": "markdown",
      "metadata": {
        "id": "WmnuQ_0SD8Be"
      },
      "source": [
        "#### Custom Evaluation Function"
      ]
    },
    {
      "cell_type": "code",
      "metadata": {
        "id": "P5VBo_0rG0kO"
      },
      "source": [
        "def evaluate_preds(y_true, y_pred):\n",
        "  # Make sure float32 dtype (for metric calculations)\n",
        "  y_true = tf.cast(y_true, dtype=tf.float32)\n",
        "  y_pred = tf.cast(y_pred, dtype=tf.float32)\n",
        "\n",
        "  # Calculate various evaluation metrics\n",
        "  mae = tf.keras.metrics.mean_absolute_error(y_true, y_pred)\n",
        "  mse = tf.keras.metrics.mean_squared_error(y_true, y_pred)\n",
        "  rmse = tf.sqrt(mse)\n",
        "  mape = tf.keras.metrics.mean_absolute_percentage_error(y_true, y_pred)\n",
        "  mase = mean_absolute_scaled_error(y_true, y_pred)\n",
        "\n",
        "  return {\"mae\": mae.numpy(),\n",
        "          \"mse\": mse.numpy(),\n",
        "          \"rmse\": rmse.numpy(),\n",
        "          \"mape\": mape.numpy(),\n",
        "          \"mase\": mase.numpy()}"
      ],
      "execution_count": 27,
      "outputs": []
    },
    {
      "cell_type": "code",
      "metadata": {
        "id": "5F1FtYrjIdto",
        "colab": {
          "base_uri": "https://localhost:8080/"
        },
        "outputId": "be76858b-8043-4022-c088-253aed954333"
      },
      "source": [
        "naive_results = evaluate_preds(y_true=y_test[1:], \n",
        "                               y_pred=naive_forecast)\n",
        "naive_results"
      ],
      "execution_count": 28,
      "outputs": [
        {
          "output_type": "execute_result",
          "data": {
            "text/plain": [
              "{'mae': 839.7061,\n",
              " 'mape': 2.6012962,\n",
              " 'mase': 0.9982083,\n",
              " 'mse': 1825811.4,\n",
              " 'rmse': 1351.2258}"
            ]
          },
          "metadata": {},
          "execution_count": 28
        }
      ]
    },
    {
      "cell_type": "code",
      "metadata": {
        "id": "SG6eVvahIrzh",
        "colab": {
          "base_uri": "https://localhost:8080/"
        },
        "outputId": "bc450c12-84e0-4e53-9367-13b57da770ca"
      },
      "source": [
        "# average price\n",
        "tf.reduce_mean(y_test)"
      ],
      "execution_count": 29,
      "outputs": [
        {
          "output_type": "execute_result",
          "data": {
            "text/plain": [
              "<tf.Tensor: shape=(), dtype=float64, numpy=28914.9042404809>"
            ]
          },
          "metadata": {},
          "execution_count": 29
        }
      ]
    },
    {
      "cell_type": "code",
      "metadata": {
        "id": "An0tyGLlJH_S",
        "colab": {
          "base_uri": "https://localhost:8080/"
        },
        "outputId": "ed041838-9729-41f3-9450-a9207d509ba6"
      },
      "source": [
        "# max / min prices\n",
        "tf.reduce_min(y_test), tf.reduce_max(y_test)"
      ],
      "execution_count": 30,
      "outputs": [
        {
          "output_type": "execute_result",
          "data": {
            "text/plain": [
              "(<tf.Tensor: shape=(), dtype=float64, numpy=8608.125245038>,\n",
              " <tf.Tensor: shape=(), dtype=float64, numpy=63346.7890351052>)"
            ]
          },
          "metadata": {},
          "execution_count": 30
        }
      ]
    },
    {
      "cell_type": "markdown",
      "metadata": {
        "id": "WUL6_qOjnTn8"
      },
      "source": [
        "## Formatting Data Part 2 : Windowing the Dataset"
      ]
    },
    {
      "cell_type": "markdown",
      "metadata": {
        "id": "431__YBVofYd"
      },
      "source": [
        "```\n",
        "Windowing for one week\n",
        "[0,1,2,3,4,5,6] --> [7]\n",
        "[1,2,3,4,5,6,7] --> [8]\n",
        "[2,3,4,5,6,7,8] --> [9]\n",
        "window = 7 --> horizon = 1\n",
        "```"
      ]
    },
    {
      "cell_type": "code",
      "metadata": {
        "colab": {
          "base_uri": "https://localhost:8080/"
        },
        "id": "BJ4U2crYpIiB",
        "outputId": "e4d9fb0a-fb2a-495e-b247-e1d01e9665e9"
      },
      "source": [
        "len(y_train)"
      ],
      "execution_count": 31,
      "outputs": [
        {
          "output_type": "execute_result",
          "data": {
            "text/plain": [
              "2005"
            ]
          },
          "metadata": {},
          "execution_count": 31
        }
      ]
    },
    {
      "cell_type": "code",
      "metadata": {
        "colab": {
          "base_uri": "https://localhost:8080/"
        },
        "id": "vZQciqTcpNZm",
        "outputId": "ed5e6660-c204-475d-ccc9-d1a565693b27"
      },
      "source": [
        "print(f\"We want to use {btc_price[:7]} to predict {btc_price[7]}\")"
      ],
      "execution_count": 32,
      "outputs": [
        {
          "output_type": "stream",
          "name": "stdout",
          "text": [
            "We want to use [324.71833, 332.45666, 336.585, 346.775, 344.81166, 343.065, 358.50166] to predict 368.07666\n"
          ]
        }
      ]
    },
    {
      "cell_type": "code",
      "metadata": {
        "id": "-QWrlJOxpR7M"
      },
      "source": [
        "# Set global variables for window and horizon\n",
        "HORIZON = 1 #predict next 1 day\n",
        "WINDOW_SIZE = 7 # use the past week of data"
      ],
      "execution_count": 33,
      "outputs": []
    },
    {
      "cell_type": "markdown",
      "metadata": {
        "id": "Mb4U3ppop0vC"
      },
      "source": [
        "### Create function to label windowed data"
      ]
    },
    {
      "cell_type": "code",
      "metadata": {
        "id": "ArQBY5b7qDWV"
      },
      "source": [
        "def get_labelled_windows(x, horizon=HORIZON):\n",
        "  \"\"\"\n",
        "  Creates labels for windowed dataset.\n",
        "\n",
        "  E.g. if horizon = 1\n",
        "  Input: [0,1,2,3,4,5,6,7] -> Output: ([0,1,2,3,4,5,6], [7])\n",
        "  \"\"\"\n",
        "  return x[:, :-horizon], x[:, -horizon:]"
      ],
      "execution_count": 34,
      "outputs": []
    },
    {
      "cell_type": "code",
      "metadata": {
        "colab": {
          "base_uri": "https://localhost:8080/"
        },
        "id": "HIfRb7R4yXif",
        "outputId": "a9560b29-f97b-41b5-f2f0-cb7f4d90c222"
      },
      "source": [
        "# Test the window labelling function\n",
        "test_window, test_label = get_labelled_windows(tf.expand_dims(tf.range(8)+1, axis=0))\n",
        "print(f\"Window: {tf.squeeze(test_window).numpy()} -> Label: {tf.squeeze(test_label).numpy()}\")"
      ],
      "execution_count": 35,
      "outputs": [
        {
          "output_type": "stream",
          "name": "stdout",
          "text": [
            "Window: [1 2 3 4 5 6 7] -> Label: 8\n"
          ]
        }
      ]
    },
    {
      "cell_type": "markdown",
      "metadata": {
        "id": "YfZwOJixynGO"
      },
      "source": [
        "### Apply the windowing function for the entire timeseries\n"
      ]
    },
    {
      "cell_type": "markdown",
      "metadata": {
        "id": "ABNFNtX81nxV"
      },
      "source": [
        "We'll use numpy array indexing since using python for loops is time costly."
      ]
    },
    {
      "cell_type": "markdown",
      "metadata": {
        "id": "aAX1kCcw4Iu2"
      },
      "source": [
        "The function will:\n",
        "* Create a window step of a specific window size (e.g. [0,1,2,3,4,5,6])\n",
        "* Use numpy indexing to create a 2D array of multiple window steps, e.g.:\n",
        "```\n",
        "[[0,1,2,3,4,5,6],\n",
        " [1,2,3,4,5,6,7],\n",
        " [2,3,4,5,6,7,8]]\n",
        "```\n",
        "* Use the 2D array of multiple window steps (from 2.) to index on a target series (e.g. historical price of bitcoin).\n",
        "* Use the `get_labelled_windows()` function to turn the window steps into windows with a specified horizon."
      ]
    },
    {
      "cell_type": "code",
      "metadata": {
        "id": "aMi8vVPA5nXh"
      },
      "source": [
        "# Create the function\n",
        "def make_windows(x, window_size=7, horizon=1):\n",
        "  \"\"\"\n",
        "  Turns a 1D array into a 2D array of sequential labelled windows of window_size with horizon size labels.\n",
        "  \"\"\"\n",
        "  # 1. Create a window of specific window_size (add the horizon on the end for labelling later)\n",
        "  window_step = np.expand_dims(np.arange(window_size+horizon), axis=0)\n",
        "  \n",
        "  # 2. Use numpy indexing to create a 2D array of multiple window steps (minus 1 to account for 0 indexing)\n",
        "  window_indeces = window_step + np.expand_dims(np.arange(len(x)-(window_size+horizon-1)), axis=0).T #create 2D array of windows of windows_size\n",
        "\n",
        "  #print(f\"Window indeces:\\n {window_indeces}{window_indeces.shape}\")\n",
        "\n",
        "  # 3. Index on the target array (a timeseries) with 2D array of multiple window steps\n",
        "  windowed_array = x[window_indeces]\n",
        "  #print(windowed_array)\n",
        "\n",
        "  # 4. Get the labelled windows\n",
        "  windows, labels = get_labelled_windows(windowed_array, horizon=horizon)\n",
        "  return windows, labels"
      ],
      "execution_count": 36,
      "outputs": []
    },
    {
      "cell_type": "code",
      "metadata": {
        "colab": {
          "base_uri": "https://localhost:8080/"
        },
        "id": "EH7KO-wP7x_m",
        "outputId": "29cfcb63-7f17-4d2a-c1f2-fe96f44fc6e7"
      },
      "source": [
        "full_windows, full_labels = make_windows(prices, window_size=WINDOW_SIZE, horizon=HORIZON)\n",
        "len(full_windows), len(full_labels)"
      ],
      "execution_count": 37,
      "outputs": [
        {
          "output_type": "execute_result",
          "data": {
            "text/plain": [
              "(2500, 2500)"
            ]
          },
          "metadata": {},
          "execution_count": 37
        }
      ]
    },
    {
      "cell_type": "code",
      "metadata": {
        "colab": {
          "base_uri": "https://localhost:8080/"
        },
        "id": "AjPaFamE8CDR",
        "outputId": "b789693d-81e7-430a-9a9f-ddf88b397104"
      },
      "source": [
        "len(prices)"
      ],
      "execution_count": 38,
      "outputs": [
        {
          "output_type": "execute_result",
          "data": {
            "text/plain": [
              "2507"
            ]
          },
          "metadata": {},
          "execution_count": 38
        }
      ]
    },
    {
      "cell_type": "code",
      "metadata": {
        "colab": {
          "base_uri": "https://localhost:8080/"
        },
        "id": "a_olEHch9Xzb",
        "outputId": "84909c53-67d2-4ce3-8940-e383582249ff"
      },
      "source": [
        "# Check the first 3 windows and labels\n",
        "for i in range(3):\n",
        "  print(f\"Window: {full_windows[i-3]} -> Label: {full_labels[i-3]}\")"
      ],
      "execution_count": 39,
      "outputs": [
        {
          "output_type": "stream",
          "name": "stdout",
          "text": [
            "Window: [49999.55557859 51693.80939808 52506.68564748 46897.60147675\n",
            " 46769.31439122 46404.36448102 44720.75555014] -> Label: [45253.13062479]\n",
            "Window: [51693.80939808 52506.68564748 46897.60147675 46769.31439122\n",
            " 46404.36448102 44720.75555014 45253.13062479] -> Label: [45510.56324938]\n",
            "Window: [52506.68564748 46897.60147675 46769.31439122 46404.36448102\n",
            " 44720.75555014 45253.13062479 45510.56324938] -> Label: [45097.79721752]\n"
          ]
        }
      ]
    },
    {
      "cell_type": "code",
      "metadata": {
        "colab": {
          "base_uri": "https://localhost:8080/"
        },
        "id": "3yYG7Mqr9o72",
        "outputId": "b566d4a6-d24b-4b3e-de8e-e6919328ddd2"
      },
      "source": [
        "prices[-1]"
      ],
      "execution_count": 40,
      "outputs": [
        {
          "output_type": "execute_result",
          "data": {
            "text/plain": [
              "45097.7972175205"
            ]
          },
          "metadata": {},
          "execution_count": 40
        }
      ]
    },
    {
      "cell_type": "markdown",
      "metadata": {
        "id": "PDishcs1-F9M"
      },
      "source": [
        "#### similar: tf.keras.preprocessing.timeseries_dataset_from_array"
      ]
    },
    {
      "cell_type": "markdown",
      "metadata": {
        "id": "DPZc67m7Bo5w"
      },
      "source": [
        "## Create train & train sets for windowed dataset"
      ]
    },
    {
      "cell_type": "code",
      "metadata": {
        "id": "Mu6lXfBTB3fz"
      },
      "source": [
        "# Make the train/test splits\n",
        "def make_train_test_splits(windows, labels, test_split=0.2):\n",
        "  \"\"\"\n",
        "  Splits matching pairs of windows and pairs into train and test split\n",
        "  \"\"\"\n",
        "  split_size = int(len(windows) * (1-test_split))\n",
        "  train_windows = windows[:split_size]\n",
        "  train_labels = labels[:split_size]\n",
        "  test_windows = windows[split_size:]\n",
        "  test_labels = labels[split_size:]\n",
        "  return train_windows, test_windows, train_labels, test_labels\n"
      ],
      "execution_count": 41,
      "outputs": []
    },
    {
      "cell_type": "code",
      "metadata": {
        "id": "kRus4DehDVzF"
      },
      "source": [
        "# Create train and test windows\n",
        "train_windows, test_windows, train_labels, test_labels = make_train_test_splits(windows=full_windows, labels=full_labels)"
      ],
      "execution_count": 42,
      "outputs": []
    },
    {
      "cell_type": "code",
      "metadata": {
        "id": "oXTlGODkDhp0",
        "colab": {
          "base_uri": "https://localhost:8080/"
        },
        "outputId": "a111dc4f-7927-402c-ab02-35cc760d4c38"
      },
      "source": [
        "len(train_windows), len(test_windows), len(train_labels), len(test_labels)"
      ],
      "execution_count": 43,
      "outputs": [
        {
          "output_type": "execute_result",
          "data": {
            "text/plain": [
              "(2000, 500, 2000, 500)"
            ]
          },
          "metadata": {},
          "execution_count": 43
        }
      ]
    },
    {
      "cell_type": "code",
      "metadata": {
        "id": "HwwY8FO1DxVi",
        "colab": {
          "base_uri": "https://localhost:8080/"
        },
        "outputId": "f9198540-3ab4-4b09-a979-570550fba717"
      },
      "source": [
        "len(full_windows) * 0.8"
      ],
      "execution_count": 44,
      "outputs": [
        {
          "output_type": "execute_result",
          "data": {
            "text/plain": [
              "2000.0"
            ]
          },
          "metadata": {},
          "execution_count": 44
        }
      ]
    },
    {
      "cell_type": "code",
      "metadata": {
        "id": "6O7b8RzZD3m6",
        "colab": {
          "base_uri": "https://localhost:8080/"
        },
        "outputId": "4b35b595-33f2-45a3-bb2c-a8091aa781ad"
      },
      "source": [
        "train_windows[:5], train_labels[:5]"
      ],
      "execution_count": 45,
      "outputs": [
        {
          "output_type": "execute_result",
          "data": {
            "text/plain": [
              "(array([[324.71833, 332.45666, 336.585  , 346.775  , 344.81166, 343.065  ,\n",
              "         358.50166],\n",
              "        [332.45666, 336.585  , 346.775  , 344.81166, 343.065  , 358.50166,\n",
              "         368.07666],\n",
              "        [336.585  , 346.775  , 344.81166, 343.065  , 358.50166, 368.07666,\n",
              "         376.99666],\n",
              "        [346.775  , 344.81166, 343.065  , 358.50166, 368.07666, 376.99666,\n",
              "         442.10666],\n",
              "        [344.81166, 343.065  , 358.50166, 368.07666, 376.99666, 442.10666,\n",
              "         389.00333]]), array([[368.07666],\n",
              "        [376.99666],\n",
              "        [442.10666],\n",
              "        [389.00333],\n",
              "        [394.92666]]))"
            ]
          },
          "metadata": {},
          "execution_count": 45
        }
      ]
    },
    {
      "cell_type": "code",
      "metadata": {
        "id": "mgWwslnzD_hk",
        "colab": {
          "base_uri": "https://localhost:8080/"
        },
        "outputId": "63b1af4d-bc5a-43ed-a94c-3ddb4f910590"
      },
      "source": [
        "test_windows[:5], test_labels[:5]"
      ],
      "execution_count": 46,
      "outputs": [
        {
          "output_type": "execute_result",
          "data": {
            "text/plain": [
              "(array([[7542.3034007 , 7624.85378592, 7776.50754257, 7761.75878408,\n",
              "         8773.10648796, 8767.67262337, 8853.77448401],\n",
              "        [7624.85378592, 7776.50754257, 7761.75878408, 8773.10648796,\n",
              "         8767.67262337, 8853.77448401, 8963.0575578 ],\n",
              "        [7776.50754257, 7761.75878408, 8773.10648796, 8767.67262337,\n",
              "         8853.77448401, 8963.0575578 , 8904.71381654],\n",
              "        [7761.75878408, 8773.10648796, 8767.67262337, 8853.77448401,\n",
              "         8963.0575578 , 8904.71381654, 8887.50589259],\n",
              "        [8773.10648796, 8767.67262337, 8853.77448401, 8963.0575578 ,\n",
              "         8904.71381654, 8887.50589259, 8978.28358712]]),\n",
              " array([[8963.0575578 ],\n",
              "        [8904.71381654],\n",
              "        [8887.50589259],\n",
              "        [8978.28358712],\n",
              "        [9371.68427279]]))"
            ]
          },
          "metadata": {},
          "execution_count": 46
        }
      ]
    },
    {
      "cell_type": "code",
      "metadata": {
        "id": "a7Gl1ymMEFmt",
        "colab": {
          "base_uri": "https://localhost:8080/"
        },
        "outputId": "affc3953-8050-4dba-9f31-cfc796b4aa6c"
      },
      "source": [
        "# Check if train labels are the same before and after window split\n",
        "np.array_equal(np.squeeze(train_labels[:-HORIZON-1]), y_train[WINDOW_SIZE:])"
      ],
      "execution_count": 47,
      "outputs": [
        {
          "output_type": "execute_result",
          "data": {
            "text/plain": [
              "True"
            ]
          },
          "metadata": {},
          "execution_count": 47
        }
      ]
    },
    {
      "cell_type": "markdown",
      "metadata": {
        "id": "iWAKJR84GA6o"
      },
      "source": [
        "## Make a modelling checkpoint"
      ]
    },
    {
      "cell_type": "markdown",
      "metadata": {
        "id": "pxPzkwIRJqhk"
      },
      "source": [
        "Since our model's performance will fluctuate from experiment to experiment, we're going to make a checkpoint.\n",
        "\n",
        "So that we can compare each of our model's best performances to the other model's best performances."
      ]
    },
    {
      "cell_type": "code",
      "metadata": {
        "id": "uOFc9tV6KZTN"
      },
      "source": [
        "import os\n",
        "\n",
        "# Create a function to implement a ModelCheckpoint callback with a specific filename\n",
        "def create_model_checkpoint(model_name, save_path='model_experiments'):\n",
        "  return tf.keras.callbacks.ModelCheckpoint(filepath=os.path.join(save_path, model_name),\n",
        "                                            verbose=0,\n",
        "                                            save_best_only=True)"
      ],
      "execution_count": 48,
      "outputs": []
    },
    {
      "cell_type": "markdown",
      "metadata": {
        "id": "ySZlcMFqLW16"
      },
      "source": [
        "## Model 1: Dense model (window = 7, horizon = 1)\n",
        "\n",
        "* Single Dense with 128 hidden units and relu activation.\n",
        "* An output layer with linear activation.\n",
        "* Adam optimizer and MAE loss function.\n",
        "* Batch size of 128"
      ]
    },
    {
      "cell_type": "code",
      "metadata": {
        "id": "_fpdZZinpCyZ"
      },
      "source": [
        "import tensorflow as tf\n",
        "from tensorflow.keras.layers import Dense\n",
        "\n",
        "# Set the random seed\n",
        "tf.random.set_seed(42)\n",
        "\n",
        "# Construct a model\n",
        "model_1 = tf.keras.Sequential([\n",
        "    Dense(128, activation=\"relu\"),\n",
        "    Dense(HORIZON, activation=\"linear\")\n",
        "], name=\"model_1_dense\" #will be used for model checkpoints\n",
        ")\n",
        "\n",
        "# Compile the model\n",
        "model_1.compile(loss='mae',\n",
        "                optimizer='adam',\n",
        "                metrics=['mae', 'mse'])"
      ],
      "execution_count": 49,
      "outputs": []
    },
    {
      "cell_type": "code",
      "metadata": {
        "colab": {
          "base_uri": "https://localhost:8080/"
        },
        "id": "sZFNoCtFrRev",
        "outputId": "b3e44d2b-84ec-4b40-ae6e-d9edcddf7e75"
      },
      "source": [
        "# Fit the model\n",
        "model_1.fit(x=train_windows,\n",
        "            y=train_labels,\n",
        "            epochs=100,\n",
        "            verbose=1,\n",
        "            batch_size=128,\n",
        "            validation_data=(test_windows, test_labels),\n",
        "            callbacks=[create_model_checkpoint(model_name=model_1.name)])"
      ],
      "execution_count": 50,
      "outputs": [
        {
          "output_type": "stream",
          "name": "stdout",
          "text": [
            "Epoch 1/100\n",
            "16/16 [==============================] - 3s 16ms/step - loss: 1047.5120 - mae: 1047.5120 - mse: 3409459.2500 - val_loss: 3525.5415 - val_mae: 3525.5415 - val_mse: 23111334.0000\n",
            "INFO:tensorflow:Assets written to: model_experiments/model_1_dense/assets\n",
            "Epoch 2/100\n",
            "16/16 [==============================] - 0s 5ms/step - loss: 338.9567 - mae: 338.9567 - mse: 383550.2188 - val_loss: 1931.8485 - val_mae: 1931.8485 - val_mse: 7414475.0000\n",
            "INFO:tensorflow:Assets written to: model_experiments/model_1_dense/assets\n",
            "Epoch 3/100\n",
            "16/16 [==============================] - 0s 6ms/step - loss: 249.2299 - mae: 249.2299 - mse: 251716.7656 - val_loss: 1740.0020 - val_mae: 1740.0020 - val_mse: 6257059.0000\n",
            "INFO:tensorflow:Assets written to: model_experiments/model_1_dense/assets\n",
            "Epoch 4/100\n",
            "16/16 [==============================] - 0s 6ms/step - loss: 228.1319 - mae: 228.1319 - mse: 215178.4219 - val_loss: 1477.6558 - val_mae: 1477.6558 - val_mse: 5067503.0000\n",
            "INFO:tensorflow:Assets written to: model_experiments/model_1_dense/assets\n",
            "Epoch 5/100\n",
            "16/16 [==============================] - 0s 6ms/step - loss: 218.9443 - mae: 218.9443 - mse: 203000.4375 - val_loss: 1420.9664 - val_mae: 1420.9664 - val_mse: 4793184.5000\n",
            "INFO:tensorflow:Assets written to: model_experiments/model_1_dense/assets\n",
            "Epoch 6/100\n",
            "16/16 [==============================] - 0s 6ms/step - loss: 214.4099 - mae: 214.4099 - mse: 194836.3125 - val_loss: 1382.1442 - val_mae: 1382.1442 - val_mse: 4565384.0000\n",
            "INFO:tensorflow:Assets written to: model_experiments/model_1_dense/assets\n",
            "Epoch 7/100\n",
            "16/16 [==============================] - 0s 5ms/step - loss: 209.6269 - mae: 209.6269 - mse: 186065.4531 - val_loss: 1369.8766 - val_mae: 1369.8766 - val_mse: 4374163.5000\n",
            "INFO:tensorflow:Assets written to: model_experiments/model_1_dense/assets\n",
            "Epoch 8/100\n",
            "16/16 [==============================] - 0s 5ms/step - loss: 202.6774 - mae: 202.6774 - mse: 176602.2969 - val_loss: 1290.3752 - val_mae: 1290.3752 - val_mse: 4006593.0000\n",
            "INFO:tensorflow:Assets written to: model_experiments/model_1_dense/assets\n",
            "Epoch 9/100\n",
            "16/16 [==============================] - 0s 5ms/step - loss: 193.7747 - mae: 193.7747 - mse: 162371.9844 - val_loss: 1255.0120 - val_mae: 1255.0120 - val_mse: 3655924.7500\n",
            "INFO:tensorflow:Assets written to: model_experiments/model_1_dense/assets\n",
            "Epoch 10/100\n",
            "16/16 [==============================] - 0s 6ms/step - loss: 186.7886 - mae: 186.7886 - mse: 151650.8438 - val_loss: 1210.2740 - val_mae: 1210.2740 - val_mse: 3438023.5000\n",
            "INFO:tensorflow:Assets written to: model_experiments/model_1_dense/assets\n",
            "Epoch 11/100\n",
            "16/16 [==============================] - 0s 6ms/step - loss: 183.5520 - mae: 183.5520 - mse: 147452.4219 - val_loss: 1222.1472 - val_mae: 1222.1472 - val_mse: 3345378.2500\n",
            "Epoch 12/100\n",
            "16/16 [==============================] - 0s 5ms/step - loss: 176.9352 - mae: 176.9352 - mse: 137535.1250 - val_loss: 1147.2618 - val_mae: 1147.2618 - val_mse: 3102102.5000\n",
            "INFO:tensorflow:Assets written to: model_experiments/model_1_dense/assets\n",
            "Epoch 13/100\n",
            "16/16 [==============================] - 0s 5ms/step - loss: 173.8545 - mae: 173.8545 - mse: 134446.4219 - val_loss: 1156.8104 - val_mae: 1156.8104 - val_mse: 3007368.7500\n",
            "Epoch 14/100\n",
            "16/16 [==============================] - 0s 6ms/step - loss: 170.4911 - mae: 170.4911 - mse: 128324.7344 - val_loss: 1109.3815 - val_mae: 1109.3815 - val_mse: 2842743.0000\n",
            "INFO:tensorflow:Assets written to: model_experiments/model_1_dense/assets\n",
            "Epoch 15/100\n",
            "16/16 [==============================] - 0s 5ms/step - loss: 165.8959 - mae: 165.8959 - mse: 123648.4922 - val_loss: 1179.0895 - val_mae: 1179.0895 - val_mse: 2988246.5000\n",
            "Epoch 16/100\n",
            "16/16 [==============================] - 0s 5ms/step - loss: 169.3748 - mae: 169.3748 - mse: 123606.9141 - val_loss: 1064.1345 - val_mae: 1064.1345 - val_mse: 2652800.5000\n",
            "INFO:tensorflow:Assets written to: model_experiments/model_1_dense/assets\n",
            "Epoch 17/100\n",
            "16/16 [==============================] - 0s 6ms/step - loss: 165.2428 - mae: 165.2428 - mse: 117528.8984 - val_loss: 1213.9053 - val_mae: 1213.9053 - val_mse: 3499789.5000\n",
            "Epoch 18/100\n",
            "16/16 [==============================] - 0s 6ms/step - loss: 174.0647 - mae: 174.0647 - mse: 127771.9688 - val_loss: 1129.8250 - val_mae: 1129.8250 - val_mse: 2754895.2500\n",
            "Epoch 19/100\n",
            "16/16 [==============================] - 0s 5ms/step - loss: 158.2135 - mae: 158.2135 - mse: 111596.3203 - val_loss: 1033.6514 - val_mae: 1033.6514 - val_mse: 2458278.0000\n",
            "INFO:tensorflow:Assets written to: model_experiments/model_1_dense/assets\n",
            "Epoch 20/100\n",
            "16/16 [==============================] - 0s 5ms/step - loss: 153.4600 - mae: 153.4600 - mse: 109390.4219 - val_loss: 1020.0229 - val_mae: 1020.0229 - val_mse: 2406228.0000\n",
            "INFO:tensorflow:Assets written to: model_experiments/model_1_dense/assets\n",
            "Epoch 21/100\n",
            "16/16 [==============================] - 0s 5ms/step - loss: 153.6606 - mae: 153.6606 - mse: 108762.6562 - val_loss: 1034.9652 - val_mae: 1034.9652 - val_mse: 2416503.2500\n",
            "Epoch 22/100\n",
            "16/16 [==============================] - 0s 5ms/step - loss: 152.2677 - mae: 152.2677 - mse: 107387.3594 - val_loss: 992.4891 - val_mae: 992.4891 - val_mse: 2314787.7500\n",
            "INFO:tensorflow:Assets written to: model_experiments/model_1_dense/assets\n",
            "Epoch 23/100\n",
            "16/16 [==============================] - 0s 5ms/step - loss: 149.9186 - mae: 149.9186 - mse: 105584.0234 - val_loss: 981.5775 - val_mae: 981.5775 - val_mse: 2352741.5000\n",
            "INFO:tensorflow:Assets written to: model_experiments/model_1_dense/assets\n",
            "Epoch 24/100\n",
            "16/16 [==============================] - 0s 6ms/step - loss: 152.1157 - mae: 152.1157 - mse: 106460.4844 - val_loss: 968.8282 - val_mae: 968.8282 - val_mse: 2259230.7500\n",
            "INFO:tensorflow:Assets written to: model_experiments/model_1_dense/assets\n",
            "Epoch 25/100\n",
            "16/16 [==============================] - 0s 4ms/step - loss: 149.5451 - mae: 149.5451 - mse: 102305.8672 - val_loss: 1012.4886 - val_mae: 1012.4886 - val_mse: 2318461.5000\n",
            "Epoch 26/100\n",
            "16/16 [==============================] - 0s 6ms/step - loss: 147.2980 - mae: 147.2980 - mse: 102071.1875 - val_loss: 1032.5480 - val_mae: 1032.5480 - val_mse: 2372231.7500\n",
            "Epoch 27/100\n",
            "16/16 [==============================] - 0s 5ms/step - loss: 149.3386 - mae: 149.3386 - mse: 101538.1172 - val_loss: 1002.1015 - val_mae: 1002.1015 - val_mse: 2280642.2500\n",
            "Epoch 28/100\n",
            "16/16 [==============================] - 0s 5ms/step - loss: 148.8131 - mae: 148.8131 - mse: 99328.1250 - val_loss: 964.2377 - val_mae: 964.2377 - val_mse: 2184178.7500\n",
            "INFO:tensorflow:Assets written to: model_experiments/model_1_dense/assets\n",
            "Epoch 29/100\n",
            "16/16 [==============================] - 0s 6ms/step - loss: 144.7094 - mae: 144.7094 - mse: 97539.9375 - val_loss: 947.4733 - val_mae: 947.4733 - val_mse: 2202661.5000\n",
            "INFO:tensorflow:Assets written to: model_experiments/model_1_dense/assets\n",
            "Epoch 30/100\n",
            "16/16 [==============================] - 0s 6ms/step - loss: 145.4816 - mae: 145.4816 - mse: 100353.8203 - val_loss: 935.3501 - val_mae: 935.3501 - val_mse: 2138093.2500\n",
            "INFO:tensorflow:Assets written to: model_experiments/model_1_dense/assets\n",
            "Epoch 31/100\n",
            "16/16 [==============================] - 0s 5ms/step - loss: 144.0113 - mae: 144.0113 - mse: 98884.2266 - val_loss: 932.3628 - val_mae: 932.3628 - val_mse: 2110236.7500\n",
            "INFO:tensorflow:Assets written to: model_experiments/model_1_dense/assets\n",
            "Epoch 32/100\n",
            "16/16 [==============================] - 0s 6ms/step - loss: 142.4327 - mae: 142.4327 - mse: 96796.3672 - val_loss: 925.5210 - val_mae: 925.5210 - val_mse: 2095560.2500\n",
            "INFO:tensorflow:Assets written to: model_experiments/model_1_dense/assets\n",
            "Epoch 33/100\n",
            "16/16 [==============================] - 0s 6ms/step - loss: 142.0787 - mae: 142.0787 - mse: 96078.6562 - val_loss: 960.2065 - val_mae: 960.2065 - val_mse: 2252265.7500\n",
            "Epoch 34/100\n",
            "16/16 [==============================] - 0s 4ms/step - loss: 148.7866 - mae: 148.7866 - mse: 102326.6719 - val_loss: 919.8037 - val_mae: 919.8037 - val_mse: 2069318.6250\n",
            "INFO:tensorflow:Assets written to: model_experiments/model_1_dense/assets\n",
            "Epoch 35/100\n",
            "16/16 [==============================] - 0s 5ms/step - loss: 151.8562 - mae: 151.8562 - mse: 97659.1562 - val_loss: 1053.1949 - val_mae: 1053.1949 - val_mse: 2617522.0000\n",
            "Epoch 36/100\n",
            "16/16 [==============================] - 0s 5ms/step - loss: 151.9763 - mae: 151.9763 - mse: 104752.4844 - val_loss: 993.8375 - val_mae: 993.8375 - val_mse: 2231855.2500\n",
            "Epoch 37/100\n",
            "16/16 [==============================] - 0s 5ms/step - loss: 146.5336 - mae: 146.5336 - mse: 97540.0234 - val_loss: 995.1348 - val_mae: 995.1348 - val_mse: 2234888.0000\n",
            "Epoch 38/100\n",
            "16/16 [==============================] - 0s 5ms/step - loss: 141.1755 - mae: 141.1755 - mse: 96650.1484 - val_loss: 913.7336 - val_mae: 913.7336 - val_mse: 2040268.1250\n",
            "INFO:tensorflow:Assets written to: model_experiments/model_1_dense/assets\n",
            "Epoch 39/100\n",
            "16/16 [==============================] - 0s 5ms/step - loss: 143.5390 - mae: 143.5390 - mse: 97282.2031 - val_loss: 924.7060 - val_mae: 924.7060 - val_mse: 2116452.0000\n",
            "Epoch 40/100\n",
            "16/16 [==============================] - 0s 6ms/step - loss: 144.6298 - mae: 144.6298 - mse: 95800.2734 - val_loss: 975.1306 - val_mae: 975.1306 - val_mse: 2288420.7500\n",
            "Epoch 41/100\n",
            "16/16 [==============================] - 0s 5ms/step - loss: 142.0907 - mae: 142.0907 - mse: 96727.8047 - val_loss: 908.7249 - val_mae: 908.7249 - val_mse: 2061029.3750\n",
            "INFO:tensorflow:Assets written to: model_experiments/model_1_dense/assets\n",
            "Epoch 42/100\n",
            "16/16 [==============================] - 0s 5ms/step - loss: 138.2717 - mae: 138.2717 - mse: 93002.5938 - val_loss: 924.6873 - val_mae: 924.6873 - val_mse: 2113912.5000\n",
            "Epoch 43/100\n",
            "16/16 [==============================] - 0s 6ms/step - loss: 140.3646 - mae: 140.3646 - mse: 93825.4844 - val_loss: 921.8914 - val_mae: 921.8914 - val_mse: 2038413.0000\n",
            "Epoch 44/100\n",
            "16/16 [==============================] - 0s 5ms/step - loss: 143.7956 - mae: 143.7956 - mse: 97135.7266 - val_loss: 980.9376 - val_mae: 980.9376 - val_mse: 2184675.7500\n",
            "Epoch 45/100\n",
            "16/16 [==============================] - 0s 5ms/step - loss: 139.4167 - mae: 139.4167 - mse: 91630.6797 - val_loss: 894.5773 - val_mae: 894.5773 - val_mse: 1988633.2500\n",
            "INFO:tensorflow:Assets written to: model_experiments/model_1_dense/assets\n",
            "Epoch 46/100\n",
            "16/16 [==============================] - 0s 5ms/step - loss: 138.4161 - mae: 138.4161 - mse: 93052.4844 - val_loss: 929.7859 - val_mae: 929.7859 - val_mse: 2050577.3750\n",
            "Epoch 47/100\n",
            "16/16 [==============================] - 0s 4ms/step - loss: 140.3335 - mae: 140.3335 - mse: 93292.4766 - val_loss: 938.0748 - val_mae: 938.0748 - val_mse: 2148009.0000\n",
            "Epoch 48/100\n",
            "16/16 [==============================] - 0s 6ms/step - loss: 149.0768 - mae: 149.0768 - mse: 98471.8906 - val_loss: 885.1285 - val_mae: 885.1285 - val_mse: 1973776.8750\n",
            "INFO:tensorflow:Assets written to: model_experiments/model_1_dense/assets\n",
            "Epoch 49/100\n",
            "16/16 [==============================] - 0s 5ms/step - loss: 142.8813 - mae: 142.8813 - mse: 96221.3516 - val_loss: 883.0703 - val_mae: 883.0703 - val_mse: 1974888.3750\n",
            "INFO:tensorflow:Assets written to: model_experiments/model_1_dense/assets\n",
            "Epoch 50/100\n",
            "16/16 [==============================] - 0s 6ms/step - loss: 138.6747 - mae: 138.6747 - mse: 90966.3828 - val_loss: 884.7238 - val_mae: 884.7238 - val_mse: 1984301.7500\n",
            "Epoch 51/100\n",
            "16/16 [==============================] - 0s 6ms/step - loss: 136.9525 - mae: 136.9525 - mse: 91135.7266 - val_loss: 933.7803 - val_mae: 933.7803 - val_mse: 2055603.5000\n",
            "Epoch 52/100\n",
            "16/16 [==============================] - 0s 5ms/step - loss: 138.9931 - mae: 138.9931 - mse: 92203.0781 - val_loss: 878.7300 - val_mae: 878.7300 - val_mse: 1952806.0000\n",
            "INFO:tensorflow:Assets written to: model_experiments/model_1_dense/assets\n",
            "Epoch 53/100\n",
            "16/16 [==============================] - 0s 5ms/step - loss: 137.6216 - mae: 137.6216 - mse: 89802.5234 - val_loss: 878.1853 - val_mae: 878.1853 - val_mse: 1964612.3750\n",
            "INFO:tensorflow:Assets written to: model_experiments/model_1_dense/assets\n",
            "Epoch 54/100\n",
            "16/16 [==============================] - 0s 7ms/step - loss: 135.6882 - mae: 135.6882 - mse: 90063.5156 - val_loss: 886.8719 - val_mae: 886.8719 - val_mse: 1953433.7500\n",
            "Epoch 55/100\n",
            "16/16 [==============================] - 0s 5ms/step - loss: 138.3298 - mae: 138.3298 - mse: 90480.5703 - val_loss: 1126.9738 - val_mae: 1126.9738 - val_mse: 2668515.0000\n",
            "Epoch 56/100\n",
            "16/16 [==============================] - 0s 5ms/step - loss: 144.8073 - mae: 144.8073 - mse: 93769.5703 - val_loss: 916.4370 - val_mae: 916.4370 - val_mse: 2009728.2500\n",
            "Epoch 57/100\n",
            "16/16 [==============================] - 0s 5ms/step - loss: 137.1639 - mae: 137.1639 - mse: 89960.7344 - val_loss: 883.2782 - val_mae: 883.2782 - val_mse: 1944277.5000\n",
            "Epoch 58/100\n",
            "16/16 [==============================] - 0s 5ms/step - loss: 140.1385 - mae: 140.1385 - mse: 91407.7734 - val_loss: 873.2204 - val_mae: 873.2204 - val_mse: 1931885.1250\n",
            "INFO:tensorflow:Assets written to: model_experiments/model_1_dense/assets\n",
            "Epoch 59/100\n",
            "16/16 [==============================] - 0s 5ms/step - loss: 136.1710 - mae: 136.1710 - mse: 90045.3672 - val_loss: 880.6594 - val_mae: 880.6594 - val_mse: 1972806.6250\n",
            "Epoch 60/100\n",
            "16/16 [==============================] - 0s 4ms/step - loss: 146.4173 - mae: 146.4173 - mse: 95462.0234 - val_loss: 969.5463 - val_mae: 969.5463 - val_mse: 2236881.2500\n",
            "Epoch 61/100\n",
            "16/16 [==============================] - 0s 5ms/step - loss: 145.6072 - mae: 145.6072 - mse: 96991.8516 - val_loss: 879.9645 - val_mae: 879.9645 - val_mse: 1933495.2500\n",
            "Epoch 62/100\n",
            "16/16 [==============================] - 0s 4ms/step - loss: 137.0659 - mae: 137.0659 - mse: 89928.6406 - val_loss: 877.5238 - val_mae: 877.5238 - val_mse: 1963696.5000\n",
            "Epoch 63/100\n",
            "16/16 [==============================] - 0s 5ms/step - loss: 136.3708 - mae: 136.3708 - mse: 90193.6172 - val_loss: 872.9694 - val_mae: 872.9694 - val_mse: 1951140.6250\n",
            "INFO:tensorflow:Assets written to: model_experiments/model_1_dense/assets\n",
            "Epoch 64/100\n",
            "16/16 [==============================] - 0s 5ms/step - loss: 134.2446 - mae: 134.2446 - mse: 88912.2812 - val_loss: 870.2569 - val_mae: 870.2569 - val_mse: 1917855.5000\n",
            "INFO:tensorflow:Assets written to: model_experiments/model_1_dense/assets\n",
            "Epoch 65/100\n",
            "16/16 [==============================] - 0s 6ms/step - loss: 136.3862 - mae: 136.3862 - mse: 88752.8438 - val_loss: 865.2192 - val_mae: 865.2192 - val_mse: 1924754.3750\n",
            "INFO:tensorflow:Assets written to: model_experiments/model_1_dense/assets\n",
            "Epoch 66/100\n",
            "16/16 [==============================] - 0s 5ms/step - loss: 140.0727 - mae: 140.0727 - mse: 88661.7656 - val_loss: 911.9992 - val_mae: 911.9992 - val_mse: 1993843.3750\n",
            "Epoch 67/100\n",
            "16/16 [==============================] - 0s 4ms/step - loss: 135.6003 - mae: 135.6003 - mse: 90399.8594 - val_loss: 873.0355 - val_mae: 873.0355 - val_mse: 1950019.6250\n",
            "Epoch 68/100\n",
            "16/16 [==============================] - 0s 5ms/step - loss: 133.5684 - mae: 133.5684 - mse: 88312.9453 - val_loss: 862.0178 - val_mae: 862.0178 - val_mse: 1910322.8750\n",
            "INFO:tensorflow:Assets written to: model_experiments/model_1_dense/assets\n",
            "Epoch 69/100\n",
            "16/16 [==============================] - 0s 5ms/step - loss: 133.6847 - mae: 133.6847 - mse: 87497.5703 - val_loss: 868.3458 - val_mae: 868.3458 - val_mse: 1937150.3750\n",
            "Epoch 70/100\n",
            "16/16 [==============================] - 0s 6ms/step - loss: 133.1421 - mae: 133.1421 - mse: 87458.1328 - val_loss: 860.4119 - val_mae: 860.4119 - val_mse: 1902094.3750\n",
            "INFO:tensorflow:Assets written to: model_experiments/model_1_dense/assets\n",
            "Epoch 71/100\n",
            "16/16 [==============================] - 0s 6ms/step - loss: 133.2474 - mae: 133.2474 - mse: 87029.8438 - val_loss: 884.0014 - val_mae: 884.0014 - val_mse: 1976998.3750\n",
            "Epoch 72/100\n",
            "16/16 [==============================] - 0s 5ms/step - loss: 137.5852 - mae: 137.5852 - mse: 88948.6719 - val_loss: 918.2342 - val_mae: 918.2342 - val_mse: 2006597.8750\n",
            "Epoch 73/100\n",
            "16/16 [==============================] - 0s 6ms/step - loss: 135.1031 - mae: 135.1031 - mse: 88466.6953 - val_loss: 906.4487 - val_mae: 906.4487 - val_mse: 1978470.1250\n",
            "Epoch 74/100\n",
            "16/16 [==============================] - 0s 5ms/step - loss: 137.9419 - mae: 137.9419 - mse: 90083.2266 - val_loss: 869.1929 - val_mae: 869.1929 - val_mse: 1937344.6250\n",
            "Epoch 75/100\n",
            "16/16 [==============================] - 0s 4ms/step - loss: 136.8669 - mae: 136.8669 - mse: 89489.6641 - val_loss: 871.1802 - val_mae: 871.1802 - val_mse: 1904958.5000\n",
            "Epoch 76/100\n",
            "16/16 [==============================] - 0s 6ms/step - loss: 133.0502 - mae: 133.0502 - mse: 86788.4141 - val_loss: 920.9956 - val_mae: 920.9956 - val_mse: 2078822.0000\n",
            "Epoch 77/100\n",
            "16/16 [==============================] - 0s 6ms/step - loss: 136.2055 - mae: 136.2055 - mse: 87164.8594 - val_loss: 858.0196 - val_mae: 858.0196 - val_mse: 1888859.3750\n",
            "INFO:tensorflow:Assets written to: model_experiments/model_1_dense/assets\n",
            "Epoch 78/100\n",
            "16/16 [==============================] - 0s 5ms/step - loss: 133.0286 - mae: 133.0286 - mse: 87133.3203 - val_loss: 927.1888 - val_mae: 927.1888 - val_mse: 2027350.3750\n",
            "Epoch 79/100\n",
            "16/16 [==============================] - 0s 5ms/step - loss: 136.4341 - mae: 136.4341 - mse: 88293.6719 - val_loss: 865.7190 - val_mae: 865.7190 - val_mse: 1893882.0000\n",
            "Epoch 80/100\n",
            "16/16 [==============================] - 0s 5ms/step - loss: 132.5829 - mae: 132.5829 - mse: 86858.6016 - val_loss: 856.3971 - val_mae: 856.3971 - val_mse: 1895733.6250\n",
            "INFO:tensorflow:Assets written to: model_experiments/model_1_dense/assets\n",
            "Epoch 81/100\n",
            "16/16 [==============================] - 0s 6ms/step - loss: 133.1305 - mae: 133.1305 - mse: 86409.8125 - val_loss: 903.2314 - val_mae: 903.2314 - val_mse: 2026711.7500\n",
            "Epoch 82/100\n",
            "16/16 [==============================] - 0s 6ms/step - loss: 134.6053 - mae: 134.6053 - mse: 88661.9922 - val_loss: 872.6580 - val_mae: 872.6580 - val_mse: 1903753.7500\n",
            "Epoch 83/100\n",
            "16/16 [==============================] - 0s 5ms/step - loss: 132.7115 - mae: 132.7115 - mse: 86370.7969 - val_loss: 926.8002 - val_mae: 926.8002 - val_mse: 2096133.6250\n",
            "Epoch 84/100\n",
            "16/16 [==============================] - 0s 6ms/step - loss: 140.2395 - mae: 140.2395 - mse: 93169.6328 - val_loss: 856.8499 - val_mae: 856.8499 - val_mse: 1897925.1250\n",
            "Epoch 85/100\n",
            "16/16 [==============================] - 0s 6ms/step - loss: 136.1331 - mae: 136.1331 - mse: 88218.4219 - val_loss: 861.9918 - val_mae: 861.9918 - val_mse: 1915179.0000\n",
            "Epoch 86/100\n",
            "16/16 [==============================] - 0s 7ms/step - loss: 139.2697 - mae: 139.2697 - mse: 91361.7266 - val_loss: 990.2527 - val_mae: 990.2527 - val_mse: 2193443.7500\n",
            "Epoch 87/100\n",
            "16/16 [==============================] - 0s 6ms/step - loss: 140.4183 - mae: 140.4183 - mse: 92808.7266 - val_loss: 854.9507 - val_mae: 854.9507 - val_mse: 1876625.8750\n",
            "INFO:tensorflow:Assets written to: model_experiments/model_1_dense/assets\n",
            "Epoch 88/100\n",
            "16/16 [==============================] - 0s 5ms/step - loss: 131.5412 - mae: 131.5412 - mse: 86686.2188 - val_loss: 853.6553 - val_mae: 853.6553 - val_mse: 1874582.5000\n",
            "INFO:tensorflow:Assets written to: model_experiments/model_1_dense/assets\n",
            "Epoch 89/100\n",
            "16/16 [==============================] - 0s 6ms/step - loss: 133.3101 - mae: 133.3101 - mse: 86460.1016 - val_loss: 859.0031 - val_mae: 859.0031 - val_mse: 1878285.6250\n",
            "Epoch 90/100\n",
            "16/16 [==============================] - 0s 5ms/step - loss: 132.0482 - mae: 132.0482 - mse: 85826.3984 - val_loss: 874.2397 - val_mae: 874.2397 - val_mse: 1902939.8750\n",
            "Epoch 91/100\n",
            "16/16 [==============================] - 0s 5ms/step - loss: 137.8584 - mae: 137.8584 - mse: 90643.4922 - val_loss: 853.8415 - val_mae: 853.8415 - val_mse: 1871183.3750\n",
            "Epoch 92/100\n",
            "16/16 [==============================] - 0s 6ms/step - loss: 134.7087 - mae: 134.7087 - mse: 87113.2109 - val_loss: 848.9885 - val_mae: 848.9885 - val_mse: 1872265.7500\n",
            "INFO:tensorflow:Assets written to: model_experiments/model_1_dense/assets\n",
            "Epoch 93/100\n",
            "16/16 [==============================] - 0s 5ms/step - loss: 138.8362 - mae: 138.8362 - mse: 90354.9766 - val_loss: 877.1144 - val_mae: 877.1144 - val_mse: 1907769.8750\n",
            "Epoch 94/100\n",
            "16/16 [==============================] - 0s 7ms/step - loss: 139.1847 - mae: 139.1847 - mse: 91310.5781 - val_loss: 850.6907 - val_mae: 850.6907 - val_mse: 1878282.7500\n",
            "Epoch 95/100\n",
            "16/16 [==============================] - 0s 5ms/step - loss: 131.4577 - mae: 131.4577 - mse: 85224.3516 - val_loss: 847.7500 - val_mae: 847.7500 - val_mse: 1866274.3750\n",
            "INFO:tensorflow:Assets written to: model_experiments/model_1_dense/assets\n",
            "Epoch 96/100\n",
            "16/16 [==============================] - 0s 7ms/step - loss: 133.6723 - mae: 133.6723 - mse: 87067.4141 - val_loss: 872.4835 - val_mae: 872.4835 - val_mse: 1944142.6250\n",
            "Epoch 97/100\n",
            "16/16 [==============================] - 0s 5ms/step - loss: 132.0073 - mae: 132.0073 - mse: 85531.9141 - val_loss: 860.0851 - val_mae: 860.0851 - val_mse: 1877136.6250\n",
            "Epoch 98/100\n",
            "16/16 [==============================] - 0s 5ms/step - loss: 132.3239 - mae: 132.3239 - mse: 85851.0859 - val_loss: 872.9306 - val_mae: 872.9306 - val_mse: 1944833.6250\n",
            "Epoch 99/100\n",
            "16/16 [==============================] - 0s 6ms/step - loss: 131.5289 - mae: 131.5289 - mse: 85440.4375 - val_loss: 893.6835 - val_mae: 893.6835 - val_mse: 1945145.6250\n",
            "Epoch 100/100\n",
            "16/16 [==============================] - 0s 6ms/step - loss: 135.8485 - mae: 135.8485 - mse: 87341.9922 - val_loss: 862.6014 - val_mae: 862.6014 - val_mse: 1915765.8750\n"
          ]
        },
        {
          "output_type": "execute_result",
          "data": {
            "text/plain": [
              "<keras.callbacks.History at 0x7fed4b550f50>"
            ]
          },
          "metadata": {},
          "execution_count": 50
        }
      ]
    },
    {
      "cell_type": "code",
      "metadata": {
        "colab": {
          "base_uri": "https://localhost:8080/"
        },
        "id": "VZxXVN6Jr6EE",
        "outputId": "ade39520-f8ef-40bc-cec2-6bb51960285b"
      },
      "source": [
        "naive_results\n"
      ],
      "execution_count": 51,
      "outputs": [
        {
          "output_type": "execute_result",
          "data": {
            "text/plain": [
              "{'mae': 839.7061,\n",
              " 'mape': 2.6012962,\n",
              " 'mase': 0.9982083,\n",
              " 'mse': 1825811.4,\n",
              " 'rmse': 1351.2258}"
            ]
          },
          "metadata": {},
          "execution_count": 51
        }
      ]
    },
    {
      "cell_type": "code",
      "metadata": {
        "colab": {
          "base_uri": "https://localhost:8080/"
        },
        "id": "UY60ZDz1sNWx",
        "outputId": "83fa9c7d-8cd1-4e13-f8ab-25ebd04313b0"
      },
      "source": [
        "# Evaluate model on test_data\n",
        "model_1.evaluate(test_windows, test_labels)"
      ],
      "execution_count": 52,
      "outputs": [
        {
          "output_type": "stream",
          "name": "stdout",
          "text": [
            "16/16 [==============================] - 0s 2ms/step - loss: 862.6014 - mae: 862.6014 - mse: 1915766.1250\n"
          ]
        },
        {
          "output_type": "execute_result",
          "data": {
            "text/plain": [
              "[862.6014404296875, 862.6014404296875, 1915766.125]"
            ]
          },
          "metadata": {},
          "execution_count": 52
        }
      ]
    },
    {
      "cell_type": "code",
      "metadata": {
        "colab": {
          "base_uri": "https://localhost:8080/"
        },
        "id": "7rv8iWzKssjI",
        "outputId": "7275959c-6004-4113-8463-008ab6a4fa44"
      },
      "source": [
        "# Load in saved best performing model_1 and evaluate it on test data\n",
        "model_1 = tf.keras.models.load_model(\"/content/model_experiments/model_1_dense\")\n",
        "model_1.evaluate(test_windows, test_labels)"
      ],
      "execution_count": 53,
      "outputs": [
        {
          "output_type": "stream",
          "name": "stdout",
          "text": [
            "16/16 [==============================] - 0s 2ms/step - loss: 847.7500 - mae: 847.7500 - mse: 1866274.5000\n"
          ]
        },
        {
          "output_type": "execute_result",
          "data": {
            "text/plain": [
              "[847.75, 847.75, 1866274.5]"
            ]
          },
          "metadata": {},
          "execution_count": 53
        }
      ]
    },
    {
      "cell_type": "markdown",
      "metadata": {
        "id": "pGV94gevtis_"
      },
      "source": [
        "## Making predictions with a model (on the test dataset)"
      ]
    },
    {
      "cell_type": "markdown",
      "metadata": {
        "id": "_aPllnRZuUGL"
      },
      "source": [
        "The function will:\n",
        "* Take in a train model\n",
        "* Take in some input data (same kind of data the model was trained on)\n",
        "* Pass the input data to the model's predict method\n",
        "* Return the predictions"
      ]
    },
    {
      "cell_type": "code",
      "metadata": {
        "id": "r_xktEsZuq8f"
      },
      "source": [
        "def make_preds(model, input_data):\n",
        "  \"\"\"\n",
        "  Uses model to make predictions on input_data\n",
        "  \"\"\"\n",
        "\n",
        "  preds = model.predict(input_data)\n",
        "  return tf.squeeze(preds) # return 1D array of preds"
      ],
      "execution_count": 54,
      "outputs": []
    },
    {
      "cell_type": "code",
      "metadata": {
        "colab": {
          "base_uri": "https://localhost:8080/"
        },
        "id": "bz6Vl4djvF4-",
        "outputId": "c3b3a8d9-1a6c-452d-df0a-a9d4d74db20f"
      },
      "source": [
        "# Make predictions using model_1 on the test dataset and view results\n",
        "model_1_preds = make_preds(model_1, test_windows)\n",
        "len(model_1_preds), model_1_preds[:10]"
      ],
      "execution_count": 55,
      "outputs": [
        {
          "output_type": "execute_result",
          "data": {
            "text/plain": [
              "(500, <tf.Tensor: shape=(10,), dtype=float32, numpy=\n",
              " array([8913.862, 8970.304, 8997.087, 8924.036, 8981.586, 9336.464,\n",
              "        9857.246, 9979.47 , 9716.319, 8954.357], dtype=float32)>)"
            ]
          },
          "metadata": {},
          "execution_count": 55
        }
      ]
    },
    {
      "cell_type": "code",
      "metadata": {
        "colab": {
          "base_uri": "https://localhost:8080/"
        },
        "id": "uFtEGGAOwM8E",
        "outputId": "fc538fe5-b988-4d0d-8167-bc36388c750b"
      },
      "source": [
        "tf.squeeze(test_labels).shape, model_1_preds.shape"
      ],
      "execution_count": 56,
      "outputs": [
        {
          "output_type": "execute_result",
          "data": {
            "text/plain": [
              "(TensorShape([500]), TensorShape([500]))"
            ]
          },
          "metadata": {},
          "execution_count": 56
        }
      ]
    },
    {
      "cell_type": "code",
      "metadata": {
        "id": "JZAjkOZvvx-w"
      },
      "source": [
        "# Evaluate preds\n",
        "model_1_results = evaluate_preds(y_true=tf.squeeze(test_labels),\n",
        "                                 y_pred=model_1_preds)"
      ],
      "execution_count": 57,
      "outputs": []
    },
    {
      "cell_type": "code",
      "metadata": {
        "colab": {
          "base_uri": "https://localhost:8080/"
        },
        "id": "f3GuycxQv4Dn",
        "outputId": "17fb9aca-183f-4c1f-8f91-d12416ab3032"
      },
      "source": [
        "model_1_results"
      ],
      "execution_count": 58,
      "outputs": [
        {
          "output_type": "execute_result",
          "data": {
            "text/plain": [
              "{'mae': 847.75,\n",
              " 'mape': 2.6257904,\n",
              " 'mase': 1.0060163,\n",
              " 'mse': 1866274.5,\n",
              " 'rmse': 1366.1166}"
            ]
          },
          "metadata": {},
          "execution_count": 58
        }
      ]
    },
    {
      "cell_type": "code",
      "metadata": {
        "colab": {
          "base_uri": "https://localhost:8080/"
        },
        "id": "UUGR1EIzwier",
        "outputId": "b656e31a-59f7-4344-f61d-1738025f88af"
      },
      "source": [
        "naive_results"
      ],
      "execution_count": 59,
      "outputs": [
        {
          "output_type": "execute_result",
          "data": {
            "text/plain": [
              "{'mae': 839.7061,\n",
              " 'mape': 2.6012962,\n",
              " 'mase': 0.9982083,\n",
              " 'mse': 1825811.4,\n",
              " 'rmse': 1351.2258}"
            ]
          },
          "metadata": {},
          "execution_count": 59
        }
      ]
    },
    {
      "cell_type": "code",
      "metadata": {
        "colab": {
          "base_uri": "https://localhost:8080/",
          "height": 435
        },
        "id": "kx0aERVkwmAv",
        "outputId": "6d1133e7-4d70-4a78-e85c-5f0c531e3964"
      },
      "source": [
        "# Let's plot our model 1 predictions\n",
        "offset = 450\n",
        "plt.figure(figsize=(10,7))\n",
        "# Account for test_window offfset and index into test_labels\n",
        "plot_time_series(timesteps=X_test[-len(test_windows):],\n",
        "                 values=test_labels[:,0],\n",
        "                 start=offset,\n",
        "                 label=\"Test Data\")\n",
        "\n",
        "plot_time_series(timesteps=X_test[-len(test_windows):],\n",
        "                 values=model_1_preds,\n",
        "                 start=offset,\n",
        "                 format='-',\n",
        "                 label=\"Model_1_preds\")"
      ],
      "execution_count": 60,
      "outputs": [
        {
          "output_type": "display_data",
          "data": {
            "image/png": "[encoded data removed]",
            "text/plain": [
              "<Figure size 720x504 with 1 Axes>"
            ]
          },
          "metadata": {
            "needs_background": "light"
          }
        }
      ]
    },
    {
      "cell_type": "markdown",
      "metadata": {
        "id": "5ylxffwAxiMr"
      },
      "source": [
        "## Model 2: Dense, window size=30, horizon=1"
      ]
    },
    {
      "cell_type": "code",
      "metadata": {
        "id": "jiCdTKoy9YmC"
      },
      "source": [
        "HORIZON=1\n",
        "WINDOW_SIZE=30"
      ],
      "execution_count": 61,
      "outputs": []
    },
    {
      "cell_type": "code",
      "metadata": {
        "colab": {
          "base_uri": "https://localhost:8080/"
        },
        "id": "hL8ZGjDr5n_X",
        "outputId": "7d802673-d227-4fb9-a26b-a8cb5b958cda"
      },
      "source": [
        "full_windows_30, full_labels_30 = make_windows(prices, window_size=WINDOW_SIZE, horizon=HORIZON)\n",
        "len(full_windows_30), len(full_labels_30)"
      ],
      "execution_count": 62,
      "outputs": [
        {
          "output_type": "execute_result",
          "data": {
            "text/plain": [
              "(2477, 2477)"
            ]
          },
          "metadata": {},
          "execution_count": 62
        }
      ]
    },
    {
      "cell_type": "code",
      "metadata": {
        "id": "s4k5YO_T6CEl"
      },
      "source": [
        "train_windows_30, test_windows_30, train_labels_30, test_labels_30 = make_train_test_splits(windows=full_windows_30, labels=full_labels_30)"
      ],
      "execution_count": 63,
      "outputs": []
    },
    {
      "cell_type": "code",
      "metadata": {
        "id": "T80rk5l75DSD"
      },
      "source": [
        "import tensorflow as tf\n",
        "from tensorflow.keras.layers import Dense\n",
        "\n",
        "# Set the random seed\n",
        "tf.random.set_seed(42)\n",
        "\n",
        "# Construct a model\n",
        "model_2 = tf.keras.Sequential([\n",
        "    Dense(128, activation=\"relu\"),\n",
        "    Dense(HORIZON, activation=\"linear\")\n",
        "], name=\"model_2_dense\" #will be used for model checkpoints\n",
        ")\n",
        "\n",
        "# Compile the model\n",
        "model_2.compile(loss='mae',\n",
        "                optimizer='adam',\n",
        "                metrics=['mae', 'mse'])"
      ],
      "execution_count": 64,
      "outputs": []
    },
    {
      "cell_type": "code",
      "metadata": {
        "colab": {
          "base_uri": "https://localhost:8080/"
        },
        "id": "OOVtFVjT5LQR",
        "outputId": "7839f1e3-1c20-44c5-f3e5-2fd3202f266e"
      },
      "source": [
        "# Fit the model\n",
        "model_2.fit(x=train_windows_30,\n",
        "            y=train_labels_30,\n",
        "            epochs=100,\n",
        "            verbose=1,\n",
        "            batch_size=128,\n",
        "            validation_data=(test_windows_30, test_labels_30),\n",
        "            callbacks=[create_model_checkpoint(model_name=model_2.name)])"
      ],
      "execution_count": 65,
      "outputs": [
        {
          "output_type": "stream",
          "name": "stdout",
          "text": [
            "Epoch 1/100\n",
            "16/16 [==============================] - 1s 26ms/step - loss: 1459.1575 - mae: 1459.1575 - mse: 6641819.0000 - val_loss: 6880.5132 - val_mae: 6880.5132 - val_mse: 75246192.0000\n",
            "INFO:tensorflow:Assets written to: model_experiments/model_2_dense/assets\n",
            "Epoch 2/100\n",
            "16/16 [==============================] - 0s 5ms/step - loss: 612.3636 - mae: 612.3636 - mse: 1293884.6250 - val_loss: 3214.6589 - val_mae: 3214.6589 - val_mse: 21816172.0000\n",
            "INFO:tensorflow:Assets written to: model_experiments/model_2_dense/assets\n",
            "Epoch 3/100\n",
            "16/16 [==============================] - 0s 6ms/step - loss: 405.6820 - mae: 405.6820 - mse: 623086.7500 - val_loss: 2198.3123 - val_mae: 2198.3123 - val_mse: 11344255.0000\n",
            "INFO:tensorflow:Assets written to: model_experiments/model_2_dense/assets\n",
            "Epoch 4/100\n",
            "16/16 [==============================] - 0s 6ms/step - loss: 313.1482 - mae: 313.1482 - mse: 386443.9062 - val_loss: 1926.0211 - val_mae: 1926.0211 - val_mse: 9024215.0000\n",
            "INFO:tensorflow:Assets written to: model_experiments/model_2_dense/assets\n",
            "Epoch 5/100\n",
            "16/16 [==============================] - 0s 5ms/step - loss: 276.7021 - mae: 276.7021 - mse: 299480.7500 - val_loss: 1812.4976 - val_mae: 1812.4976 - val_mse: 7179236.5000\n",
            "INFO:tensorflow:Assets written to: model_experiments/model_2_dense/assets\n",
            "Epoch 6/100\n",
            "16/16 [==============================] - 0s 5ms/step - loss: 261.3856 - mae: 261.3856 - mse: 255993.3594 - val_loss: 2077.5024 - val_mae: 2077.5024 - val_mse: 8331406.0000\n",
            "Epoch 7/100\n",
            "16/16 [==============================] - 0s 6ms/step - loss: 262.0554 - mae: 262.0554 - mse: 256977.2031 - val_loss: 1567.1091 - val_mae: 1567.1091 - val_mse: 6071563.5000\n",
            "INFO:tensorflow:Assets written to: model_experiments/model_2_dense/assets\n",
            "Epoch 8/100\n",
            "16/16 [==============================] - 0s 5ms/step - loss: 235.8726 - mae: 235.8726 - mse: 220001.5625 - val_loss: 1584.7485 - val_mae: 1584.7485 - val_mse: 5504028.0000\n",
            "Epoch 9/100\n",
            "16/16 [==============================] - 0s 5ms/step - loss: 223.8460 - mae: 223.8460 - mse: 205266.5781 - val_loss: 1482.6295 - val_mae: 1482.6295 - val_mse: 5111388.5000\n",
            "INFO:tensorflow:Assets written to: model_experiments/model_2_dense/assets\n",
            "Epoch 10/100\n",
            "16/16 [==============================] - 0s 6ms/step - loss: 215.3170 - mae: 215.3170 - mse: 190021.1250 - val_loss: 1618.3451 - val_mae: 1618.3451 - val_mse: 6361648.5000\n",
            "Epoch 11/100\n",
            "16/16 [==============================] - 0s 6ms/step - loss: 240.0824 - mae: 240.0824 - mse: 214570.3750 - val_loss: 1655.7087 - val_mae: 1655.7087 - val_mse: 5597155.5000\n",
            "Epoch 12/100\n",
            "16/16 [==============================] - 0s 5ms/step - loss: 224.1823 - mae: 224.1823 - mse: 191087.4844 - val_loss: 1656.1650 - val_mae: 1656.1650 - val_mse: 5596749.0000\n",
            "Epoch 13/100\n",
            "16/16 [==============================] - 0s 5ms/step - loss: 230.7803 - mae: 230.7803 - mse: 196105.3906 - val_loss: 1393.9548 - val_mae: 1393.9548 - val_mse: 4561849.0000\n",
            "INFO:tensorflow:Assets written to: model_experiments/model_2_dense/assets\n",
            "Epoch 14/100\n",
            "16/16 [==============================] - 0s 5ms/step - loss: 198.6091 - mae: 198.6091 - mse: 167263.2344 - val_loss: 1367.2191 - val_mae: 1367.2191 - val_mse: 4339835.5000\n",
            "INFO:tensorflow:Assets written to: model_experiments/model_2_dense/assets\n",
            "Epoch 15/100\n",
            "16/16 [==============================] - 0s 5ms/step - loss: 200.2864 - mae: 200.2864 - mse: 169247.4219 - val_loss: 1490.8689 - val_mae: 1490.8689 - val_mse: 5318055.0000\n",
            "Epoch 16/100\n",
            "16/16 [==============================] - 0s 5ms/step - loss: 213.2279 - mae: 213.2279 - mse: 176308.5625 - val_loss: 1489.5323 - val_mae: 1489.5323 - val_mse: 5302354.5000\n",
            "Epoch 17/100\n",
            "16/16 [==============================] - 0s 5ms/step - loss: 202.8423 - mae: 202.8423 - mse: 168105.9375 - val_loss: 1357.7438 - val_mae: 1357.7438 - val_mse: 4346927.5000\n",
            "INFO:tensorflow:Assets written to: model_experiments/model_2_dense/assets\n",
            "Epoch 18/100\n",
            "16/16 [==============================] - 0s 6ms/step - loss: 211.7081 - mae: 211.7081 - mse: 172280.4844 - val_loss: 1334.3903 - val_mae: 1334.3903 - val_mse: 4191520.0000\n",
            "INFO:tensorflow:Assets written to: model_experiments/model_2_dense/assets\n",
            "Epoch 19/100\n",
            "16/16 [==============================] - 0s 5ms/step - loss: 200.6462 - mae: 200.6462 - mse: 165299.5625 - val_loss: 1778.6913 - val_mae: 1778.6913 - val_mse: 6232372.5000\n",
            "Epoch 20/100\n",
            "16/16 [==============================] - 0s 5ms/step - loss: 232.7328 - mae: 232.7328 - mse: 189966.7969 - val_loss: 1390.5520 - val_mae: 1390.5520 - val_mse: 4593120.0000\n",
            "Epoch 21/100\n",
            "16/16 [==============================] - 0s 4ms/step - loss: 197.5859 - mae: 197.5859 - mse: 157802.5312 - val_loss: 1268.4438 - val_mae: 1268.4438 - val_mse: 3709134.0000\n",
            "INFO:tensorflow:Assets written to: model_experiments/model_2_dense/assets\n",
            "Epoch 22/100\n",
            "16/16 [==============================] - 0s 6ms/step - loss: 184.1444 - mae: 184.1444 - mse: 145351.7344 - val_loss: 1472.3790 - val_mae: 1472.3790 - val_mse: 4590213.0000\n",
            "Epoch 23/100\n",
            "16/16 [==============================] - 0s 5ms/step - loss: 192.8347 - mae: 192.8347 - mse: 150934.5938 - val_loss: 1254.1151 - val_mae: 1254.1151 - val_mse: 3588808.7500\n",
            "INFO:tensorflow:Assets written to: model_experiments/model_2_dense/assets\n",
            "Epoch 24/100\n",
            "16/16 [==============================] - 0s 5ms/step - loss: 184.7412 - mae: 184.7412 - mse: 144869.3125 - val_loss: 1345.5535 - val_mae: 1345.5535 - val_mse: 4326085.5000\n",
            "Epoch 25/100\n",
            "16/16 [==============================] - 0s 5ms/step - loss: 193.4797 - mae: 193.4797 - mse: 149136.0156 - val_loss: 1340.9131 - val_mae: 1340.9131 - val_mse: 4294369.0000\n",
            "Epoch 26/100\n",
            "16/16 [==============================] - 0s 4ms/step - loss: 201.9198 - mae: 201.9198 - mse: 161100.6875 - val_loss: 1206.0135 - val_mae: 1206.0135 - val_mse: 3387726.5000\n",
            "INFO:tensorflow:Assets written to: model_experiments/model_2_dense/assets\n",
            "Epoch 27/100\n",
            "16/16 [==============================] - 0s 5ms/step - loss: 192.8943 - mae: 192.8943 - mse: 149609.9375 - val_loss: 1390.6835 - val_mae: 1390.6835 - val_mse: 4103833.2500\n",
            "Epoch 28/100\n",
            "16/16 [==============================] - 0s 5ms/step - loss: 212.7328 - mae: 212.7328 - mse: 165104.7344 - val_loss: 1190.5690 - val_mae: 1190.5690 - val_mse: 3313595.7500\n",
            "INFO:tensorflow:Assets written to: model_experiments/model_2_dense/assets\n",
            "Epoch 29/100\n",
            "16/16 [==============================] - 0s 5ms/step - loss: 180.8418 - mae: 180.8418 - mse: 136549.7188 - val_loss: 1350.8369 - val_mae: 1350.8369 - val_mse: 3903788.5000\n",
            "Epoch 30/100\n",
            "16/16 [==============================] - 0s 6ms/step - loss: 203.1804 - mae: 203.1804 - mse: 159253.2188 - val_loss: 1423.5977 - val_mae: 1423.5977 - val_mse: 4215567.5000\n",
            "Epoch 31/100\n",
            "16/16 [==============================] - 0s 6ms/step - loss: 192.0403 - mae: 192.0403 - mse: 141968.9219 - val_loss: 1206.3665 - val_mae: 1206.3665 - val_mse: 3494967.2500\n",
            "Epoch 32/100\n",
            "16/16 [==============================] - 0s 6ms/step - loss: 189.9214 - mae: 189.9214 - mse: 145099.0000 - val_loss: 1582.1757 - val_mae: 1582.1757 - val_mse: 5607655.0000\n",
            "Epoch 33/100\n",
            "16/16 [==============================] - 0s 6ms/step - loss: 199.7742 - mae: 199.7742 - mse: 148795.3281 - val_loss: 1183.3054 - val_mae: 1183.3054 - val_mse: 3351800.5000\n",
            "INFO:tensorflow:Assets written to: model_experiments/model_2_dense/assets\n",
            "Epoch 34/100\n",
            "16/16 [==============================] - 0s 6ms/step - loss: 184.1295 - mae: 184.1295 - mse: 137852.6562 - val_loss: 1338.1764 - val_mae: 1338.1764 - val_mse: 4229265.5000\n",
            "Epoch 35/100\n",
            "16/16 [==============================] - 0s 5ms/step - loss: 200.8165 - mae: 200.8165 - mse: 147276.4062 - val_loss: 1235.1086 - val_mae: 1235.1086 - val_mse: 3358612.5000\n",
            "Epoch 36/100\n",
            "16/16 [==============================] - 0s 5ms/step - loss: 195.6018 - mae: 195.6018 - mse: 142532.7969 - val_loss: 1151.8757 - val_mae: 1151.8757 - val_mse: 3053446.2500\n",
            "INFO:tensorflow:Assets written to: model_experiments/model_2_dense/assets\n",
            "Epoch 37/100\n",
            "16/16 [==============================] - 0s 5ms/step - loss: 169.6768 - mae: 169.6768 - mse: 122969.2344 - val_loss: 1148.4167 - val_mae: 1148.4167 - val_mse: 3167448.2500\n",
            "INFO:tensorflow:Assets written to: model_experiments/model_2_dense/assets\n",
            "Epoch 38/100\n",
            "16/16 [==============================] - 0s 5ms/step - loss: 171.6894 - mae: 171.6894 - mse: 125588.5000 - val_loss: 1113.2810 - val_mae: 1113.2810 - val_mse: 2918269.0000\n",
            "INFO:tensorflow:Assets written to: model_experiments/model_2_dense/assets\n",
            "Epoch 39/100\n",
            "16/16 [==============================] - 0s 5ms/step - loss: 178.7732 - mae: 178.7732 - mse: 133928.0312 - val_loss: 1257.1932 - val_mae: 1257.1932 - val_mse: 3420900.7500\n",
            "Epoch 40/100\n",
            "16/16 [==============================] - 0s 5ms/step - loss: 199.8029 - mae: 199.8029 - mse: 151329.1406 - val_loss: 1098.8361 - val_mae: 1098.8361 - val_mse: 2866183.2500\n",
            "INFO:tensorflow:Assets written to: model_experiments/model_2_dense/assets\n",
            "Epoch 41/100\n",
            "16/16 [==============================] - 0s 5ms/step - loss: 176.0262 - mae: 176.0262 - mse: 124413.5938 - val_loss: 1113.6510 - val_mae: 1113.6510 - val_mse: 2873622.2500\n",
            "Epoch 42/100\n",
            "16/16 [==============================] - 0s 6ms/step - loss: 169.3430 - mae: 169.3430 - mse: 120665.1406 - val_loss: 1292.9259 - val_mae: 1292.9259 - val_mse: 3549371.2500\n",
            "Epoch 43/100\n",
            "16/16 [==============================] - 0s 4ms/step - loss: 185.2141 - mae: 185.2141 - mse: 136799.7344 - val_loss: 1148.5496 - val_mae: 1148.5496 - val_mse: 2968186.7500\n",
            "Epoch 44/100\n",
            "16/16 [==============================] - 0s 5ms/step - loss: 169.1900 - mae: 169.1900 - mse: 119608.0234 - val_loss: 1114.9014 - val_mae: 1114.9014 - val_mse: 2994792.5000\n",
            "Epoch 45/100\n",
            "16/16 [==============================] - 0s 5ms/step - loss: 169.9308 - mae: 169.9308 - mse: 119012.3906 - val_loss: 1099.5935 - val_mae: 1099.5935 - val_mse: 2913465.2500\n",
            "Epoch 46/100\n",
            "16/16 [==============================] - 0s 5ms/step - loss: 167.2469 - mae: 167.2469 - mse: 119441.0859 - val_loss: 1080.6217 - val_mae: 1080.6217 - val_mse: 2720787.2500\n",
            "INFO:tensorflow:Assets written to: model_experiments/model_2_dense/assets\n",
            "Epoch 47/100\n",
            "16/16 [==============================] - 0s 5ms/step - loss: 164.6838 - mae: 164.6838 - mse: 117827.1797 - val_loss: 1054.9310 - val_mae: 1054.9310 - val_mse: 2654384.0000\n",
            "INFO:tensorflow:Assets written to: model_experiments/model_2_dense/assets\n",
            "Epoch 48/100\n",
            "16/16 [==============================] - 0s 5ms/step - loss: 162.2783 - mae: 162.2783 - mse: 112612.0000 - val_loss: 1082.9463 - val_mae: 1082.9463 - val_mse: 2710602.0000\n",
            "Epoch 49/100\n",
            "16/16 [==============================] - 0s 6ms/step - loss: 182.3449 - mae: 182.3449 - mse: 129559.5156 - val_loss: 1241.0544 - val_mae: 1241.0544 - val_mse: 3308462.7500\n",
            "Epoch 50/100\n",
            "16/16 [==============================] - 0s 6ms/step - loss: 194.4820 - mae: 194.4820 - mse: 141510.5156 - val_loss: 1127.8806 - val_mae: 1127.8806 - val_mse: 2855911.5000\n",
            "Epoch 51/100\n",
            "16/16 [==============================] - 0s 6ms/step - loss: 172.9099 - mae: 172.9099 - mse: 121669.3359 - val_loss: 1119.0396 - val_mae: 1119.0396 - val_mse: 2824463.7500\n",
            "Epoch 52/100\n",
            "16/16 [==============================] - 0s 5ms/step - loss: 182.9540 - mae: 182.9540 - mse: 127147.7891 - val_loss: 1033.4973 - val_mae: 1033.4973 - val_mse: 2549621.7500\n",
            "INFO:tensorflow:Assets written to: model_experiments/model_2_dense/assets\n",
            "Epoch 53/100\n",
            "16/16 [==============================] - 0s 5ms/step - loss: 170.7756 - mae: 170.7756 - mse: 121292.1016 - val_loss: 1119.8551 - val_mae: 1119.8551 - val_mse: 3012828.7500\n",
            "Epoch 54/100\n",
            "16/16 [==============================] - 0s 6ms/step - loss: 161.5477 - mae: 161.5477 - mse: 112419.4141 - val_loss: 1118.6390 - val_mae: 1118.6390 - val_mse: 2799312.5000\n",
            "Epoch 55/100\n",
            "16/16 [==============================] - 0s 5ms/step - loss: 171.5653 - mae: 171.5653 - mse: 120382.1172 - val_loss: 1111.1086 - val_mae: 1111.1086 - val_mse: 2772039.2500\n",
            "Epoch 56/100\n",
            "16/16 [==============================] - 0s 6ms/step - loss: 160.9386 - mae: 160.9386 - mse: 108779.5391 - val_loss: 1128.5267 - val_mae: 1128.5267 - val_mse: 3038599.2500\n",
            "Epoch 57/100\n",
            "16/16 [==============================] - 0s 5ms/step - loss: 161.2644 - mae: 161.2644 - mse: 111416.4688 - val_loss: 1040.5491 - val_mae: 1040.5491 - val_mse: 2622665.0000\n",
            "Epoch 58/100\n",
            "16/16 [==============================] - 0s 5ms/step - loss: 165.6863 - mae: 165.6863 - mse: 115005.7188 - val_loss: 1033.2220 - val_mae: 1033.2220 - val_mse: 2585404.7500\n",
            "INFO:tensorflow:Assets written to: model_experiments/model_2_dense/assets\n",
            "Epoch 59/100\n",
            "16/16 [==============================] - 0s 7ms/step - loss: 155.7299 - mae: 155.7299 - mse: 105234.8594 - val_loss: 1000.7358 - val_mae: 1000.7358 - val_mse: 2403291.2500\n",
            "INFO:tensorflow:Assets written to: model_experiments/model_2_dense/assets\n",
            "Epoch 60/100\n",
            "16/16 [==============================] - 0s 5ms/step - loss: 158.3308 - mae: 158.3308 - mse: 106167.0234 - val_loss: 1426.3312 - val_mae: 1426.3312 - val_mse: 4420107.5000\n",
            "Epoch 61/100\n",
            "16/16 [==============================] - 0s 5ms/step - loss: 200.8891 - mae: 200.8891 - mse: 146983.0469 - val_loss: 1111.9113 - val_mae: 1111.9113 - val_mse: 2941591.5000\n",
            "Epoch 62/100\n",
            "16/16 [==============================] - 0s 6ms/step - loss: 158.0897 - mae: 158.0897 - mse: 107577.9453 - val_loss: 990.7377 - val_mae: 990.7377 - val_mse: 2371154.0000\n",
            "INFO:tensorflow:Assets written to: model_experiments/model_2_dense/assets\n",
            "Epoch 63/100\n",
            "16/16 [==============================] - 0s 6ms/step - loss: 157.7154 - mae: 157.7154 - mse: 108655.3828 - val_loss: 1020.5182 - val_mae: 1020.5182 - val_mse: 2438024.0000\n",
            "Epoch 64/100\n",
            "16/16 [==============================] - 0s 5ms/step - loss: 163.1909 - mae: 163.1909 - mse: 113115.5703 - val_loss: 1079.5604 - val_mae: 1079.5604 - val_mse: 2615875.5000\n",
            "Epoch 65/100\n",
            "16/16 [==============================] - 0s 7ms/step - loss: 185.0617 - mae: 185.0617 - mse: 126493.2656 - val_loss: 1008.9039 - val_mae: 1008.9039 - val_mse: 2477869.5000\n",
            "Epoch 66/100\n",
            "16/16 [==============================] - 0s 7ms/step - loss: 172.9186 - mae: 172.9186 - mse: 115742.8828 - val_loss: 986.5880 - val_mae: 986.5880 - val_mse: 2376348.5000\n",
            "INFO:tensorflow:Assets written to: model_experiments/model_2_dense/assets\n",
            "Epoch 67/100\n",
            "16/16 [==============================] - 0s 6ms/step - loss: 156.9268 - mae: 156.9268 - mse: 105599.0391 - val_loss: 1024.1476 - val_mae: 1024.1476 - val_mse: 2442741.7500\n",
            "Epoch 68/100\n",
            "16/16 [==============================] - 0s 5ms/step - loss: 156.3391 - mae: 156.3391 - mse: 101832.5547 - val_loss: 999.1226 - val_mae: 999.1226 - val_mse: 2445554.0000\n",
            "Epoch 69/100\n",
            "16/16 [==============================] - 0s 5ms/step - loss: 156.4677 - mae: 156.4677 - mse: 101448.6172 - val_loss: 988.4636 - val_mae: 988.4636 - val_mse: 2327173.2500\n",
            "Epoch 70/100\n",
            "16/16 [==============================] - 0s 5ms/step - loss: 157.6081 - mae: 157.6081 - mse: 106815.5156 - val_loss: 1002.2239 - val_mae: 1002.2239 - val_mse: 2364297.7500\n",
            "Epoch 71/100\n",
            "16/16 [==============================] - 0s 6ms/step - loss: 152.1535 - mae: 152.1535 - mse: 101674.3672 - val_loss: 1264.3226 - val_mae: 1264.3226 - val_mse: 3315160.0000\n",
            "Epoch 72/100\n",
            "16/16 [==============================] - 0s 6ms/step - loss: 162.3752 - mae: 162.3752 - mse: 110694.1484 - val_loss: 1081.6564 - val_mae: 1081.6564 - val_mse: 2758880.5000\n",
            "Epoch 73/100\n",
            "16/16 [==============================] - 0s 6ms/step - loss: 158.9935 - mae: 158.9935 - mse: 104637.4062 - val_loss: 1078.0253 - val_mae: 1078.0253 - val_mse: 2739798.2500\n",
            "Epoch 74/100\n",
            "16/16 [==============================] - 0s 5ms/step - loss: 154.7079 - mae: 154.7079 - mse: 104657.1016 - val_loss: 967.8602 - val_mae: 967.8602 - val_mse: 2236937.7500\n",
            "INFO:tensorflow:Assets written to: model_experiments/model_2_dense/assets\n",
            "Epoch 75/100\n",
            "16/16 [==============================] - 0s 4ms/step - loss: 148.7581 - mae: 148.7581 - mse: 98520.7344 - val_loss: 954.7681 - val_mae: 954.7681 - val_mse: 2201634.5000\n",
            "INFO:tensorflow:Assets written to: model_experiments/model_2_dense/assets\n",
            "Epoch 76/100\n",
            "16/16 [==============================] - 0s 5ms/step - loss: 157.4927 - mae: 157.4927 - mse: 106783.7109 - val_loss: 980.1168 - val_mae: 980.1168 - val_mse: 2269700.7500\n",
            "Epoch 77/100\n",
            "16/16 [==============================] - 0s 5ms/step - loss: 158.9381 - mae: 158.9381 - mse: 105400.9062 - val_loss: 945.5197 - val_mae: 945.5197 - val_mse: 2180694.5000\n",
            "INFO:tensorflow:Assets written to: model_experiments/model_2_dense/assets\n",
            "Epoch 78/100\n",
            "16/16 [==============================] - 0s 5ms/step - loss: 152.5051 - mae: 152.5051 - mse: 100440.1172 - val_loss: 953.2138 - val_mae: 953.2138 - val_mse: 2187292.7500\n",
            "Epoch 79/100\n",
            "16/16 [==============================] - 0s 5ms/step - loss: 151.9279 - mae: 151.9279 - mse: 98759.6328 - val_loss: 982.3591 - val_mae: 982.3591 - val_mse: 2272148.5000\n",
            "Epoch 80/100\n",
            "16/16 [==============================] - 0s 5ms/step - loss: 158.2468 - mae: 158.2468 - mse: 105556.5781 - val_loss: 979.7012 - val_mae: 979.7012 - val_mse: 2268332.5000\n",
            "Epoch 81/100\n",
            "16/16 [==============================] - 0s 5ms/step - loss: 151.3645 - mae: 151.3645 - mse: 100232.1719 - val_loss: 959.5226 - val_mae: 959.5226 - val_mse: 2262205.0000\n",
            "Epoch 82/100\n",
            "16/16 [==============================] - 0s 5ms/step - loss: 165.9024 - mae: 165.9024 - mse: 108035.8984 - val_loss: 1249.9518 - val_mae: 1249.9518 - val_mse: 3251709.0000\n",
            "Epoch 83/100\n",
            "16/16 [==============================] - 0s 5ms/step - loss: 167.7249 - mae: 167.7249 - mse: 113250.3047 - val_loss: 1030.7020 - val_mae: 1030.7020 - val_mse: 2407990.2500\n",
            "Epoch 84/100\n",
            "16/16 [==============================] - 0s 5ms/step - loss: 157.8965 - mae: 157.8965 - mse: 105135.7266 - val_loss: 953.4175 - val_mae: 953.4175 - val_mse: 2174074.2500\n",
            "Epoch 85/100\n",
            "16/16 [==============================] - 0s 5ms/step - loss: 147.0436 - mae: 147.0436 - mse: 96758.8750 - val_loss: 1087.0653 - val_mae: 1087.0653 - val_mse: 2741481.2500\n",
            "Epoch 86/100\n",
            "16/16 [==============================] - 0s 6ms/step - loss: 149.7007 - mae: 149.7007 - mse: 97517.1562 - val_loss: 945.1252 - val_mae: 945.1252 - val_mse: 2202035.0000\n",
            "INFO:tensorflow:Assets written to: model_experiments/model_2_dense/assets\n",
            "Epoch 87/100\n",
            "16/16 [==============================] - 0s 5ms/step - loss: 147.4271 - mae: 147.4271 - mse: 97255.8047 - val_loss: 1119.8309 - val_mae: 1119.8309 - val_mse: 2731765.2500\n",
            "Epoch 88/100\n",
            "16/16 [==============================] - 0s 6ms/step - loss: 163.3068 - mae: 163.3068 - mse: 105260.6406 - val_loss: 935.3835 - val_mae: 935.3835 - val_mse: 2157449.7500\n",
            "INFO:tensorflow:Assets written to: model_experiments/model_2_dense/assets\n",
            "Epoch 89/100\n",
            "16/16 [==============================] - 0s 5ms/step - loss: 150.1112 - mae: 150.1112 - mse: 99023.8359 - val_loss: 1065.3204 - val_mae: 1065.3204 - val_mse: 2533023.0000\n",
            "Epoch 90/100\n",
            "16/16 [==============================] - 0s 5ms/step - loss: 154.5958 - mae: 154.5958 - mse: 101773.0781 - val_loss: 933.6094 - val_mae: 933.6094 - val_mse: 2150318.5000\n",
            "INFO:tensorflow:Assets written to: model_experiments/model_2_dense/assets\n",
            "Epoch 91/100\n",
            "16/16 [==============================] - 0s 5ms/step - loss: 156.3164 - mae: 156.3164 - mse: 104728.8750 - val_loss: 928.7480 - val_mae: 928.7480 - val_mse: 2106734.0000\n",
            "INFO:tensorflow:Assets written to: model_experiments/model_2_dense/assets\n",
            "Epoch 92/100\n",
            "16/16 [==============================] - 0s 5ms/step - loss: 149.7363 - mae: 149.7363 - mse: 97609.1172 - val_loss: 1080.5793 - val_mae: 1080.5793 - val_mse: 2575722.2500\n",
            "Epoch 93/100\n",
            "16/16 [==============================] - 0s 5ms/step - loss: 152.5900 - mae: 152.5900 - mse: 98757.4453 - val_loss: 1035.5254 - val_mae: 1035.5254 - val_mse: 2526535.5000\n",
            "Epoch 94/100\n",
            "16/16 [==============================] - 0s 6ms/step - loss: 147.8696 - mae: 147.8696 - mse: 97561.2812 - val_loss: 944.5265 - val_mae: 944.5265 - val_mse: 2198095.5000\n",
            "Epoch 95/100\n",
            "16/16 [==============================] - 0s 6ms/step - loss: 160.9173 - mae: 160.9173 - mse: 103442.3203 - val_loss: 1106.2369 - val_mae: 1106.2369 - val_mse: 2800879.0000\n",
            "Epoch 96/100\n",
            "16/16 [==============================] - 0s 6ms/step - loss: 185.5568 - mae: 185.5568 - mse: 126104.0078 - val_loss: 1118.5100 - val_mae: 1118.5100 - val_mse: 2850467.5000\n",
            "Epoch 97/100\n",
            "16/16 [==============================] - 0s 7ms/step - loss: 177.0078 - mae: 177.0078 - mse: 110688.0078 - val_loss: 1031.5177 - val_mae: 1031.5177 - val_mse: 2509842.5000\n",
            "Epoch 98/100\n",
            "16/16 [==============================] - 0s 5ms/step - loss: 162.1115 - mae: 162.1115 - mse: 109235.7812 - val_loss: 1092.7521 - val_mae: 1092.7521 - val_mse: 2602683.0000\n",
            "Epoch 99/100\n",
            "16/16 [==============================] - 0s 5ms/step - loss: 149.3263 - mae: 149.3263 - mse: 96352.0391 - val_loss: 952.2960 - val_mae: 952.2960 - val_mse: 2158859.0000\n",
            "Epoch 100/100\n",
            "16/16 [==============================] - 0s 5ms/step - loss: 150.0075 - mae: 150.0075 - mse: 95062.1562 - val_loss: 1199.9861 - val_mae: 1199.9861 - val_mse: 3037500.2500\n"
          ]
        },
        {
          "output_type": "execute_result",
          "data": {
            "text/plain": [
              "<keras.callbacks.History at 0x7fed47bed310>"
            ]
          },
          "metadata": {},
          "execution_count": 65
        }
      ]
    },
    {
      "cell_type": "code",
      "metadata": {
        "colab": {
          "base_uri": "https://localhost:8080/"
        },
        "id": "F2llSikV63UY",
        "outputId": "9b994c36-da34-463a-948e-74c023ceac9c"
      },
      "source": [
        "# Load in saved best performing model_1 and evaluate it on test data\n",
        "model_2 = tf.keras.models.load_model(\"/content/model_experiments/model_2_dense\")\n",
        "model_2.evaluate(test_windows_30, test_labels_30)"
      ],
      "execution_count": 66,
      "outputs": [
        {
          "output_type": "stream",
          "name": "stdout",
          "text": [
            "16/16 [==============================] - 0s 3ms/step - loss: 928.7479 - mae: 928.7479 - mse: 2106734.0000\n"
          ]
        },
        {
          "output_type": "execute_result",
          "data": {
            "text/plain": [
              "[928.7478637695312, 928.7478637695312, 2106734.0]"
            ]
          },
          "metadata": {},
          "execution_count": 66
        }
      ]
    },
    {
      "cell_type": "code",
      "metadata": {
        "colab": {
          "base_uri": "https://localhost:8080/"
        },
        "id": "g2QMv7ud6VC2",
        "outputId": "6dbb21fa-c233-4633-8bfb-3340bdd39a51"
      },
      "source": [
        "# Make predictions using model_1 on the test dataset and view results\n",
        "model_2_preds = make_preds(model_2, test_windows_30)\n",
        "len(model_2_preds), model_2_preds[:10]"
      ],
      "execution_count": 67,
      "outputs": [
        {
          "output_type": "execute_result",
          "data": {
            "text/plain": [
              "(496, <tf.Tensor: shape=(10,), dtype=float32, numpy=\n",
              " array([ 8996.616 ,  9224.706 ,  9754.137 , 10061.2705,  9754.518 ,\n",
              "         9178.939 ,  8793.649 ,  8646.161 ,  9164.616 ,  9480.706 ],\n",
              "       dtype=float32)>)"
            ]
          },
          "metadata": {},
          "execution_count": 67
        }
      ]
    },
    {
      "cell_type": "code",
      "metadata": {
        "id": "46d9zRmT6hQb"
      },
      "source": [
        "# Evaluate preds\n",
        "model_2_results = evaluate_preds(y_true=tf.squeeze(test_labels_30),\n",
        "                                 y_pred=model_2_preds)"
      ],
      "execution_count": 68,
      "outputs": []
    },
    {
      "cell_type": "code",
      "metadata": {
        "colab": {
          "base_uri": "https://localhost:8080/"
        },
        "id": "iYmY6wRX6rsc",
        "outputId": "6b420b67-78c8-4d1f-dbe8-8ccd7fcc95bf"
      },
      "source": [
        "model_2_results"
      ],
      "execution_count": 69,
      "outputs": [
        {
          "output_type": "execute_result",
          "data": {
            "text/plain": [
              "{'mae': 928.74786,\n",
              " 'mape': 2.866443,\n",
              " 'mase': 1.0947583,\n",
              " 'mse': 2106734.0,\n",
              " 'rmse': 1451.4592}"
            ]
          },
          "metadata": {},
          "execution_count": 69
        }
      ]
    },
    {
      "cell_type": "code",
      "metadata": {
        "colab": {
          "base_uri": "https://localhost:8080/"
        },
        "id": "uFeoK2Tb6xjs",
        "outputId": "d74b6cfe-0692-4ee8-842b-095b9b512f0a"
      },
      "source": [
        "naive_results"
      ],
      "execution_count": 70,
      "outputs": [
        {
          "output_type": "execute_result",
          "data": {
            "text/plain": [
              "{'mae': 839.7061,\n",
              " 'mape': 2.6012962,\n",
              " 'mase': 0.9982083,\n",
              " 'mse': 1825811.4,\n",
              " 'rmse': 1351.2258}"
            ]
          },
          "metadata": {},
          "execution_count": 70
        }
      ]
    },
    {
      "cell_type": "code",
      "metadata": {
        "colab": {
          "base_uri": "https://localhost:8080/"
        },
        "id": "IVsqxShK_DxR",
        "outputId": "f1903730-1b5a-4767-cb07-d74af57584a6"
      },
      "source": [
        "model_1_results"
      ],
      "execution_count": 71,
      "outputs": [
        {
          "output_type": "execute_result",
          "data": {
            "text/plain": [
              "{'mae': 847.75,\n",
              " 'mape': 2.6257904,\n",
              " 'mase': 1.0060163,\n",
              " 'mse': 1866274.5,\n",
              " 'rmse': 1366.1166}"
            ]
          },
          "metadata": {},
          "execution_count": 71
        }
      ]
    },
    {
      "cell_type": "code",
      "metadata": {
        "colab": {
          "base_uri": "https://localhost:8080/",
          "height": 446
        },
        "id": "zPGYNkTD7B2y",
        "outputId": "4fde7436-6edf-4540-ab69-5b470a8707ba"
      },
      "source": [
        "# Let's plot our model 1 predictions\n",
        "offset = 300\n",
        "plt.figure(figsize=(10,7))\n",
        "# Account for test_window offfset and index into test_labels\n",
        "plot_time_series(timesteps=X_test[-len(test_windows_30):],\n",
        "                 values=test_labels_30[:,0],\n",
        "                 start=offset,\n",
        "                 label=\"Test Data\")\n",
        "\n",
        "plot_time_series(timesteps=X_test[-len(test_windows_30):],\n",
        "                 values=model_2_preds,\n",
        "                 start=offset,\n",
        "                 format='-',\n",
        "                 label=\"Model_2_preds\")"
      ],
      "execution_count": 72,
      "outputs": [
        {
          "output_type": "display_data",
          "data": {
            "image/png": "[encoded data removed]",
            "text/plain": [
              "<Figure size 720x504 with 1 Axes>"
            ]
          },
          "metadata": {
            "needs_background": "light"
          }
        }
      ]
    },
    {
      "cell_type": "markdown",
      "metadata": {
        "id": "z36hZgPy7QhV"
      },
      "source": [
        "## Model 3: Dense, window_size=30, horizon=7"
      ]
    },
    {
      "cell_type": "code",
      "metadata": {
        "id": "NLKnNlx1AGJP"
      },
      "source": [
        "HORIZON=7\n",
        "WINDOW_SIZE=30"
      ],
      "execution_count": 73,
      "outputs": []
    },
    {
      "cell_type": "code",
      "metadata": {
        "colab": {
          "base_uri": "https://localhost:8080/"
        },
        "id": "Yv-_MZvTAHnu",
        "outputId": "729a5e8e-82e5-47d3-d1e4-05f8fe5dbcd5"
      },
      "source": [
        "full_windows_30_7, full_labels_30_7 = make_windows(prices, window_size=WINDOW_SIZE, horizon=HORIZON)\n",
        "len(full_windows_30_7), len(full_labels_30_7)"
      ],
      "execution_count": 74,
      "outputs": [
        {
          "output_type": "execute_result",
          "data": {
            "text/plain": [
              "(2471, 2471)"
            ]
          },
          "metadata": {},
          "execution_count": 74
        }
      ]
    },
    {
      "cell_type": "code",
      "metadata": {
        "id": "vb0bziZFAP7i"
      },
      "source": [
        "train_windows_30_7, test_windows_30_7, train_labels_30_7, test_labels_30_7 = make_train_test_splits(windows=full_windows_30_7, labels=full_labels_30_7)"
      ],
      "execution_count": 75,
      "outputs": []
    },
    {
      "cell_type": "code",
      "metadata": {
        "id": "EfRWH_jmAZ_1"
      },
      "source": [
        "import tensorflow as tf\n",
        "from tensorflow.keras.layers import Dense\n",
        "\n",
        "# Set the random seed\n",
        "tf.random.set_seed(42)\n",
        "\n",
        "# Construct a model\n",
        "model_3 = tf.keras.Sequential([\n",
        "    Dense(128, activation=\"relu\"),\n",
        "    Dense(HORIZON, activation=\"linear\")\n",
        "], name=\"model_3_dense\" #will be used for model checkpoints\n",
        ")\n",
        "\n",
        "# Compile the model\n",
        "model_3.compile(loss='mae',\n",
        "                optimizer='adam',\n",
        "                metrics=['mae', 'mse'])"
      ],
      "execution_count": 76,
      "outputs": []
    },
    {
      "cell_type": "code",
      "metadata": {
        "colab": {
          "base_uri": "https://localhost:8080/"
        },
        "id": "P04NBxVyAgo8",
        "outputId": "4c955b3d-202f-4ee8-bed0-39b85db3873e"
      },
      "source": [
        "# Fit the model\n",
        "model_3.fit(x=train_windows_30_7,\n",
        "            y=train_labels_30_7,\n",
        "            epochs=100,\n",
        "            verbose=0,\n",
        "            batch_size=128,\n",
        "            validation_data=(test_windows_30_7, test_labels_30_7),\n",
        "            callbacks=[create_model_checkpoint(model_name=model_3.name)])"
      ],
      "execution_count": 77,
      "outputs": [
        {
          "output_type": "stream",
          "name": "stdout",
          "text": [
            "INFO:tensorflow:Assets written to: model_experiments/model_3_dense/assets\n",
            "INFO:tensorflow:Assets written to: model_experiments/model_3_dense/assets\n",
            "INFO:tensorflow:Assets written to: model_experiments/model_3_dense/assets\n",
            "INFO:tensorflow:Assets written to: model_experiments/model_3_dense/assets\n",
            "INFO:tensorflow:Assets written to: model_experiments/model_3_dense/assets\n",
            "INFO:tensorflow:Assets written to: model_experiments/model_3_dense/assets\n",
            "INFO:tensorflow:Assets written to: model_experiments/model_3_dense/assets\n",
            "INFO:tensorflow:Assets written to: model_experiments/model_3_dense/assets\n",
            "INFO:tensorflow:Assets written to: model_experiments/model_3_dense/assets\n",
            "INFO:tensorflow:Assets written to: model_experiments/model_3_dense/assets\n",
            "INFO:tensorflow:Assets written to: model_experiments/model_3_dense/assets\n",
            "INFO:tensorflow:Assets written to: model_experiments/model_3_dense/assets\n",
            "INFO:tensorflow:Assets written to: model_experiments/model_3_dense/assets\n",
            "INFO:tensorflow:Assets written to: model_experiments/model_3_dense/assets\n",
            "INFO:tensorflow:Assets written to: model_experiments/model_3_dense/assets\n",
            "INFO:tensorflow:Assets written to: model_experiments/model_3_dense/assets\n",
            "INFO:tensorflow:Assets written to: model_experiments/model_3_dense/assets\n",
            "INFO:tensorflow:Assets written to: model_experiments/model_3_dense/assets\n",
            "INFO:tensorflow:Assets written to: model_experiments/model_3_dense/assets\n",
            "INFO:tensorflow:Assets written to: model_experiments/model_3_dense/assets\n",
            "INFO:tensorflow:Assets written to: model_experiments/model_3_dense/assets\n",
            "INFO:tensorflow:Assets written to: model_experiments/model_3_dense/assets\n",
            "INFO:tensorflow:Assets written to: model_experiments/model_3_dense/assets\n",
            "INFO:tensorflow:Assets written to: model_experiments/model_3_dense/assets\n",
            "INFO:tensorflow:Assets written to: model_experiments/model_3_dense/assets\n",
            "INFO:tensorflow:Assets written to: model_experiments/model_3_dense/assets\n",
            "INFO:tensorflow:Assets written to: model_experiments/model_3_dense/assets\n",
            "INFO:tensorflow:Assets written to: model_experiments/model_3_dense/assets\n",
            "INFO:tensorflow:Assets written to: model_experiments/model_3_dense/assets\n",
            "INFO:tensorflow:Assets written to: model_experiments/model_3_dense/assets\n"
          ]
        },
        {
          "output_type": "execute_result",
          "data": {
            "text/plain": [
              "<keras.callbacks.History at 0x7fed49b5ad90>"
            ]
          },
          "metadata": {},
          "execution_count": 77
        }
      ]
    },
    {
      "cell_type": "code",
      "metadata": {
        "colab": {
          "base_uri": "https://localhost:8080/"
        },
        "id": "sbqZWnWIAsr5",
        "outputId": "8072a5aa-7b35-4881-cec7-1196a17244e7"
      },
      "source": [
        "# Load in saved best performing model_3 and evaluate it on test data\n",
        "model_3 = tf.keras.models.load_model(\"/content/model_experiments/model_3_dense\")\n",
        "model_3.evaluate(test_windows_30_7, test_labels_30_7)"
      ],
      "execution_count": 78,
      "outputs": [
        {
          "output_type": "stream",
          "name": "stdout",
          "text": [
            "16/16 [==============================] - 0s 2ms/step - loss: 1842.0382 - mae: 1842.0382 - mse: 8812745.0000\n"
          ]
        },
        {
          "output_type": "execute_result",
          "data": {
            "text/plain": [
              "[1842.0382080078125, 1842.0382080078125, 8812745.0]"
            ]
          },
          "metadata": {},
          "execution_count": 78
        }
      ]
    },
    {
      "cell_type": "code",
      "metadata": {
        "colab": {
          "base_uri": "https://localhost:8080/"
        },
        "id": "USrqb5MeA2ih",
        "outputId": "e17ffad2-7a9b-4c15-f8bd-9957a491697e"
      },
      "source": [
        "# Make predictions using model_3 on the test dataset and view results\n",
        "model_3_preds = make_preds(model_3, test_windows_30_7)\n",
        "len(model_3_preds), model_3_preds[:5]"
      ],
      "execution_count": 79,
      "outputs": [
        {
          "output_type": "execute_result",
          "data": {
            "text/plain": [
              "(495, <tf.Tensor: shape=(5, 7), dtype=float32, numpy=\n",
              " array([[8783.843 , 8634.9795, 8662.284 , 8795.562 , 8889.498 , 8913.577 ,\n",
              "         8709.874 ],\n",
              "        [8885.152 , 8930.371 , 8816.978 , 8933.819 , 9116.969 , 8947.747 ,\n",
              "         8956.968 ],\n",
              "        [9144.671 , 9125.226 , 9052.337 , 9303.367 , 9189.991 , 9101.253 ,\n",
              "         9287.626 ],\n",
              "        [9012.313 , 9141.584 , 8988.527 , 9240.48  , 9150.039 , 9063.12  ,\n",
              "         9191.006 ],\n",
              "        [9072.184 , 9125.698 , 9022.705 , 9231.741 , 9411.4   , 9131.012 ,\n",
              "         9207.432 ]], dtype=float32)>)"
            ]
          },
          "metadata": {},
          "execution_count": 79
        }
      ]
    },
    {
      "cell_type": "code",
      "metadata": {
        "id": "VI-E_7P2A_Nk"
      },
      "source": [
        "# Evaluate preds\n",
        "model_3_results = evaluate_preds(y_true=tf.squeeze(test_labels_30_7),\n",
        "                                 y_pred=model_3_preds)"
      ],
      "execution_count": 80,
      "outputs": []
    },
    {
      "cell_type": "code",
      "metadata": {
        "id": "I0wLh6Y1IP-M",
        "colab": {
          "base_uri": "https://localhost:8080/"
        },
        "outputId": "f2c139a3-15f7-48dc-ea78-b832a61845a8"
      },
      "source": [
        "model_3_preds.shape, model_2_preds.shape"
      ],
      "execution_count": 81,
      "outputs": [
        {
          "output_type": "execute_result",
          "data": {
            "text/plain": [
              "(TensorShape([495, 7]), TensorShape([496]))"
            ]
          },
          "metadata": {},
          "execution_count": 81
        }
      ]
    },
    {
      "cell_type": "markdown",
      "metadata": {
        "id": "cGa99fmK1lDc"
      },
      "source": [
        "## Make evaluation function work for larger horizons"
      ]
    },
    {
      "cell_type": "code",
      "metadata": {
        "id": "hiWyKgOY2Fnq"
      },
      "source": [
        "def evaluate_preds(y_true, y_pred):\n",
        "  # Make sure float32 dtype (for metric calculations)\n",
        "  y_true = tf.cast(y_true, dtype=tf.float32)\n",
        "  y_pred = tf.cast(y_pred, dtype=tf.float32)\n",
        "\n",
        "  # Calculate various evaluation metrics\n",
        "  mae = tf.keras.metrics.mean_absolute_error(y_true, y_pred)\n",
        "  mse = tf.keras.metrics.mean_squared_error(y_true, y_pred)\n",
        "  rmse = tf.sqrt(mse)\n",
        "  mape = tf.keras.metrics.mean_absolute_percentage_error(y_true, y_pred)\n",
        "  mase = mean_absolute_scaled_error(y_true, y_pred)\n",
        "\n",
        "# Account for different sized metrics (for longer horizons)\n",
        "  if mae.ndim > 0:\n",
        "    mae = tf.reduce_mean(mae)\n",
        "    mse = tf.reduce_mean(mse)\n",
        "    rmse = tf.reduce_mean(rmse)\n",
        "    mase = tf.reduce_mean(mase)\n",
        "    mape = tf.reduce_mean(mape)\n",
        "\n",
        "\n",
        "\n",
        "  return {\"mae\": mae.numpy(),\n",
        "          \"mse\": mse.numpy(),\n",
        "          \"rmse\": rmse.numpy(),\n",
        "          \"mape\": mape.numpy(),\n",
        "          \"mase\": mase.numpy()}"
      ],
      "execution_count": 82,
      "outputs": []
    },
    {
      "cell_type": "code",
      "metadata": {
        "colab": {
          "base_uri": "https://localhost:8080/"
        },
        "id": "vq-BH7AO3Xq8",
        "outputId": "3f8f6f59-1ff6-4712-9ee7-b9e2bc871a6d"
      },
      "source": [
        "# Get model 3 results aggregated to a single value\n",
        "model_3_results = evaluate_preds(y_true=tf.squeeze(test_labels_30_7),\n",
        "                                y_pred=model_3_preds)\n",
        "model_3_results"
      ],
      "execution_count": 83,
      "outputs": [
        {
          "output_type": "execute_result",
          "data": {
            "text/plain": [
              "{'mae': 1842.0382,\n",
              " 'mape': 5.581948,\n",
              " 'mase': 2.1741009,\n",
              " 'mse': 8812745.0,\n",
              " 'rmse': 2099.4746}"
            ]
          },
          "metadata": {},
          "execution_count": 83
        }
      ]
    },
    {
      "cell_type": "code",
      "metadata": {
        "colab": {
          "base_uri": "https://localhost:8080/",
          "height": 204
        },
        "id": "G3ctXs1i3wgl",
        "outputId": "c1ca6e2c-f502-4609-8ab8-14a488f40d40"
      },
      "source": [
        "import pandas as pd\n",
        "res = pd.DataFrame({\"naive\": pd.Series(naive_results), \n",
        "                    \"model_1\":pd.Series(model_1_results),\n",
        "                    \"model_2\":pd.Series(model_2_results),\n",
        "                    \"model_3\":pd.Series(model_3_results)\n",
        "                    })\n",
        "res"
      ],
      "execution_count": 84,
      "outputs": [
        {
          "output_type": "execute_result",
          "data": {
            "text/html": [
              "<div>\n",
              "<style scoped>\n",
              "    .dataframe tbody tr th:only-of-type {\n",
              "        vertical-align: middle;\n",
              "    }\n",
              "\n",
              "    .dataframe tbody tr th {\n",
              "        vertical-align: top;\n",
              "    }\n",
              "\n",
              "    .dataframe thead th {\n",
              "        text-align: right;\n",
              "    }\n",
              "</style>\n",
              "<table border=\"1\" class=\"dataframe\">\n",
              "  <thead>\n",
              "    <tr style=\"text-align: right;\">\n",
              "      <th></th>\n",
              "      <th>naive</th>\n",
              "      <th>model_1</th>\n",
              "      <th>model_2</th>\n",
              "      <th>model_3</th>\n",
              "    </tr>\n",
              "  </thead>\n",
              "  <tbody>\n",
              "    <tr>\n",
              "      <th>mae</th>\n",
              "      <td>8.397061e+02</td>\n",
              "      <td>8.477500e+02</td>\n",
              "      <td>9.287479e+02</td>\n",
              "      <td>1.842038e+03</td>\n",
              "    </tr>\n",
              "    <tr>\n",
              "      <th>mse</th>\n",
              "      <td>1.825811e+06</td>\n",
              "      <td>1.866274e+06</td>\n",
              "      <td>2.106734e+06</td>\n",
              "      <td>8.812745e+06</td>\n",
              "    </tr>\n",
              "    <tr>\n",
              "      <th>rmse</th>\n",
              "      <td>1.351226e+03</td>\n",
              "      <td>1.366117e+03</td>\n",
              "      <td>1.451459e+03</td>\n",
              "      <td>2.099475e+03</td>\n",
              "    </tr>\n",
              "    <tr>\n",
              "      <th>mape</th>\n",
              "      <td>2.601296e+00</td>\n",
              "      <td>2.625790e+00</td>\n",
              "      <td>2.866443e+00</td>\n",
              "      <td>5.581948e+00</td>\n",
              "    </tr>\n",
              "    <tr>\n",
              "      <th>mase</th>\n",
              "      <td>9.982083e-01</td>\n",
              "      <td>1.006016e+00</td>\n",
              "      <td>1.094758e+00</td>\n",
              "      <td>2.174101e+00</td>\n",
              "    </tr>\n",
              "  </tbody>\n",
              "</table>\n",
              "</div>"
            ],
            "text/plain": [
              "             naive       model_1       model_2       model_3\n",
              "mae   8.397061e+02  8.477500e+02  9.287479e+02  1.842038e+03\n",
              "mse   1.825811e+06  1.866274e+06  2.106734e+06  8.812745e+06\n",
              "rmse  1.351226e+03  1.366117e+03  1.451459e+03  2.099475e+03\n",
              "mape  2.601296e+00  2.625790e+00  2.866443e+00  5.581948e+00\n",
              "mase  9.982083e-01  1.006016e+00  1.094758e+00  2.174101e+00"
            ]
          },
          "metadata": {},
          "execution_count": 84
        }
      ]
    },
    {
      "cell_type": "markdown",
      "metadata": {
        "id": "m6H0lCjw4h_L"
      },
      "source": [
        "### Visualize model 3 preds\n"
      ]
    },
    {
      "cell_type": "code",
      "metadata": {
        "colab": {
          "base_uri": "https://localhost:8080/"
        },
        "id": "xbXytCER60R_",
        "outputId": "91222303-23fe-4971-8ce3-08d6dc74c875"
      },
      "source": [
        "model_3_predictions = tf.squeeze(model_3_preds)\n",
        "model_3_predictions"
      ],
      "execution_count": 85,
      "outputs": [
        {
          "output_type": "execute_result",
          "data": {
            "text/plain": [
              "<tf.Tensor: shape=(495, 7), dtype=float32, numpy=\n",
              "array([[ 8783.843 ,  8634.9795,  8662.284 , ...,  8889.498 ,  8913.577 ,\n",
              "         8709.874 ],\n",
              "       [ 8885.152 ,  8930.371 ,  8816.978 , ...,  9116.969 ,  8947.747 ,\n",
              "         8956.968 ],\n",
              "       [ 9144.671 ,  9125.226 ,  9052.337 , ...,  9189.991 ,  9101.253 ,\n",
              "         9287.626 ],\n",
              "       ...,\n",
              "       [50796.49  , 50201.176 , 49541.414 , ..., 50931.914 , 50698.305 ,\n",
              "        50635.39  ],\n",
              "       [51963.047 , 51652.234 , 50256.812 , ..., 52389.227 , 51250.78  ,\n",
              "        51532.836 ],\n",
              "       [52240.633 , 52246.117 , 51316.266 , ..., 53056.867 , 52737.617 ,\n",
              "        51882.75  ]], dtype=float32)>"
            ]
          },
          "metadata": {},
          "execution_count": 85
        }
      ]
    },
    {
      "cell_type": "code",
      "metadata": {
        "colab": {
          "base_uri": "https://localhost:8080/",
          "height": 444
        },
        "id": "0AIts6J352b2",
        "outputId": "9ca1d6e0-1dc2-46c5-b3d6-f274b531439c"
      },
      "source": [
        "offset = 300\n",
        "plt.figure(figsize=(10,7))\n",
        "plot_time_series(timesteps=X_test[-len(test_windows_30_7):], values=test_labels_30_7[:, 0], start=offset, label=\"Test data\", format='-')\n",
        "plot_time_series(timesteps=X_test[-len(test_windows_30_7):], values=model_3_preds[:,0], start=offset, label='model_3_preds')"
      ],
      "execution_count": 86,
      "outputs": [
        {
          "output_type": "display_data",
          "data": {
            "image/png": "[encoded data removed]",
            "text/plain": [
              "<Figure size 720x504 with 1 Axes>"
            ]
          },
          "metadata": {
            "needs_background": "light"
          }
        }
      ]
    },
    {
      "cell_type": "code",
      "metadata": {
        "colab": {
          "base_uri": "https://localhost:8080/",
          "height": 443
        },
        "id": "AUCcfL9E6azl",
        "outputId": "482377bd-d490-4a8a-e2a1-4c9b2c848884"
      },
      "source": [
        "offset = 300\n",
        "plt.figure(figsize=(10,7))\n",
        "plot_time_series(timesteps=X_test[-len(test_windows_30_7):], values=test_labels_30_7[:, 0], start=offset, label=\"Test data\")\n",
        "plot_time_series(timesteps=X_test[-len(test_windows_30_7):], \n",
        "                 values=tf.reduce_mean(model_3_preds, axis=1), \n",
        "                 start=offset, \n",
        "                 label='model_3_preds',\n",
        "                 format='-')"
      ],
      "execution_count": 87,
      "outputs": [
        {
          "output_type": "display_data",
          "data": {
            "image/png": "[encoded data removed]",
            "text/plain": [
              "<Figure size 720x504 with 1 Axes>"
            ]
          },
          "metadata": {
            "needs_background": "light"
          }
        }
      ]
    },
    {
      "cell_type": "markdown",
      "metadata": {
        "id": "28QZiX3a9pHg"
      },
      "source": [
        "### Comparing the models' performance\n",
        "\n"
      ]
    },
    {
      "cell_type": "code",
      "metadata": {
        "id": "vmBRO5PAWGqK",
        "outputId": "81c4305a-de21-46b4-b15c-74767f2369d2",
        "colab": {
          "base_uri": "https://localhost:8080/",
          "height": 457
        }
      },
      "source": [
        "pd.DataFrame({\"naive\":naive_results['mae'],\n",
        "              \"horizon_1_window_7\": model_1_results['mae'],\n",
        "              \"horizon_1_window_30\": model_2_results['mae'],\n",
        "              \"horizon_7_window_30\": model_3_results['mae']}, index=['mae']).plot(figsize=(10,7), kind='bar')"
      ],
      "execution_count": 89,
      "outputs": [
        {
          "output_type": "execute_result",
          "data": {
            "text/plain": [
              "<matplotlib.axes._subplots.AxesSubplot at 0x7fed4a8b1050>"
            ]
          },
          "metadata": {},
          "execution_count": 89
        },
        {
          "output_type": "display_data",
          "data": {
            "image/png": "[encoded data removed]",
            "text/plain": [
              "<Figure size 720x504 with 1 Axes>"
            ]
          },
          "metadata": {
            "needs_background": "light"
          }
        }
      ]
    },
    {
      "cell_type": "code",
      "metadata": {
        "id": "vJpJSOIoW_0Q"
      },
      "source": [
        ""
      ],
      "execution_count": null,
      "outputs": []
    }
  ]
}