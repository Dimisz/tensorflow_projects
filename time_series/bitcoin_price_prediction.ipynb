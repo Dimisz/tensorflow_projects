{
  "nbformat": 4,
  "nbformat_minor": 0,
  "metadata": {
    "colab": {
      "name": "bitcoin_price_prediction.ipynb",
      "provenance": [],
      "authorship_tag": "ABX9TyNfaXX3ju/tXC7Mu+OOZqke",
      "include_colab_link": true
    },
    "kernelspec": {
      "name": "python3",
      "display_name": "Python 3"
    },
    "language_info": {
      "name": "python"
    }
  },
  "cells": [
    {
      "cell_type": "markdown",
      "metadata": {
        "id": "view-in-github",
        "colab_type": "text"
      },
      "source": [
        "<a href=\"https://colab.research.google.com/github/Dimisz/tensorflow_projects/blob/main/time_series/bitcoin_price_prediction.ipynb\" target=\"_parent\"><img src=\"https://colab.research.google.com/assets/colab-badge.svg\" alt=\"Open In Colab\"/></a>"
      ]
    },
    {
      "cell_type": "markdown",
      "metadata": {
        "id": "THwoZgzThzfb"
      },
      "source": [
        "## 1. Data\n",
        "\n",
        "Data downloaded from https://www.coindesk.com/price/bitcoin/ on September 14, 2021\n",
        "\n",
        "For the CSV file used in the project, [see the GitHub repo](https://raw.githubusercontent.com/Dimisz/tensorflow_projects/main/time_series/BTC_USD_2014-11-04_2021-09-14-CoinDesk.csv)."
      ]
    },
    {
      "cell_type": "code",
      "metadata": {
        "colab": {
          "base_uri": "https://localhost:8080/"
        },
        "id": "bV-FBnB7iHQp",
        "outputId": "8ffbf4fb-edf4-4ecc-dfae-72390a889273"
      },
      "source": [
        "!wget https://raw.githubusercontent.com/Dimisz/tensorflow_projects/main/time_series/BTC_USD_2014-11-04_2021-09-14-CoinDesk.csv"
      ],
      "execution_count": 2,
      "outputs": [
        {
          "output_type": "stream",
          "name": "stdout",
          "text": [
            "--2021-09-14 09:03:35--  https://raw.githubusercontent.com/Dimisz/tensorflow_projects/main/time_series/BTC_USD_2014-11-04_2021-09-14-CoinDesk.csv\n",
            "Resolving raw.githubusercontent.com (raw.githubusercontent.com)... 185.199.110.133, 185.199.108.133, 185.199.111.133, ...\n",
            "Connecting to raw.githubusercontent.com (raw.githubusercontent.com)|185.199.110.133|:443... connected.\n",
            "HTTP request sent, awaiting response... 200 OK\n",
            "Length: 167143 (163K) [text/plain]\n",
            "Saving to: ‘BTC_USD_2014-11-04_2021-09-14-CoinDesk.csv’\n",
            "\n",
            "BTC_USD_2014-11-04_ 100%[===================>] 163.23K  --.-KB/s    in 0.03s   \n",
            "\n",
            "2021-09-14 09:03:35 (5.65 MB/s) - ‘BTC_USD_2014-11-04_2021-09-14-CoinDesk.csv’ saved [167143/167143]\n",
            "\n"
          ]
        }
      ]
    },
    {
      "cell_type": "markdown",
      "metadata": {
        "id": "duzYV9XJjCWa"
      },
      "source": [
        "### Read the data to a DataFrame using pandas"
      ]
    },
    {
      "cell_type": "code",
      "metadata": {
        "id": "3ZeuYQ0kjI1C"
      },
      "source": [
        "import pandas as pd\n",
        "\n",
        "#Read the data, parse the date column and assign it to be the index\n",
        "df = pd.read_csv(\"/content/BTC_USD_2014-11-04_2021-09-14-CoinDesk.csv\",\n",
        "                 parse_dates=['Date'],\n",
        "                 index_col=['Date'])"
      ],
      "execution_count": 4,
      "outputs": []
    },
    {
      "cell_type": "code",
      "metadata": {
        "colab": {
          "base_uri": "https://localhost:8080/"
        },
        "id": "giYk2djfjgRH",
        "outputId": "0aadf269-0ce8-47c2-d70a-e10ea9a2bbb0"
      },
      "source": [
        "df.head(), len(df)"
      ],
      "execution_count": 6,
      "outputs": [
        {
          "output_type": "execute_result",
          "data": {
            "text/plain": [
              "(           Currency  Closing Price (USD)  ...  24h High (USD)  24h Low (USD)\n",
              " Date                                      ...                               \n",
              " 2014-11-04      BTC            324.71833  ...       332.75133      323.06333\n",
              " 2014-11-05      BTC            332.45666  ...       335.81166      320.93333\n",
              " 2014-11-06      BTC            336.58500  ...       341.49000      328.56166\n",
              " 2014-11-07      BTC            346.77500  ...       351.57500      336.02833\n",
              " 2014-11-08      BTC            344.81166  ...       351.29500      339.86000\n",
              " \n",
              " [5 rows x 5 columns], 2507)"
            ]
          },
          "metadata": {},
          "execution_count": 6
        }
      ]
    },
    {
      "cell_type": "code",
      "metadata": {
        "colab": {
          "base_uri": "https://localhost:8080/"
        },
        "id": "kdpvQI3Ejvao",
        "outputId": "e6fdb702-a4cd-4802-d3eb-69f518ae2e82"
      },
      "source": [
        "# Check if there are any missing values\n",
        "df.isna().sum()"
      ],
      "execution_count": 7,
      "outputs": [
        {
          "output_type": "execute_result",
          "data": {
            "text/plain": [
              "Currency               0\n",
              "Closing Price (USD)    0\n",
              "24h Open (USD)         0\n",
              "24h High (USD)         0\n",
              "24h Low (USD)          0\n",
              "dtype: int64"
            ]
          },
          "metadata": {},
          "execution_count": 7
        }
      ]
    },
    {
      "cell_type": "code",
      "metadata": {
        "id": "qm60xL6pj6bW"
      },
      "source": [
        ""
      ],
      "execution_count": null,
      "outputs": []
    }
  ]
}